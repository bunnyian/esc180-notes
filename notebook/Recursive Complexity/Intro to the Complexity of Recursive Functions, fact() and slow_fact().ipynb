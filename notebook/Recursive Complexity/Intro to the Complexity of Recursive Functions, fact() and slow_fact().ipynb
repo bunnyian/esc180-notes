{
 "cells": [
  {
   "cell_type": "markdown",
   "metadata": {},
   "source": [
    "### The runtime complexity of recursive functions\n",
    "\n",
    "Let's consider the complexity of `fact(n)`"
   ]
  },
  {
   "cell_type": "code",
   "execution_count": 1,
   "metadata": {
    "collapsed": true
   },
   "outputs": [],
   "source": [
    "def fact(n):\n",
    "    if n == 0:\n",
    "        return 1\n",
    "    return n*fact(n-1)"
   ]
  },
  {
   "cell_type": "markdown",
   "metadata": {},
   "source": [
    "Excluding the times the recursive calls take, each call to `fact(n)` takes the same amount of time, assuming that `n` is a `float`.\n",
    "\n",
    "(Note: that's because multiplication of `float`s is a constant-time operation, regardless of the magnitude of the `float`, since `float`s each have the same number of digits. This is not the case with Python 3 `int`s)\n",
    "\n",
    "For `fact(n)`, we can simply count the number of calls we need to complete the computation of `fact(n)`:\n",
    "\n",
    "\n",
    "        0\n",
    "        |\n",
    "        1\n",
    "        .\n",
    "        .\n",
    "        .\n",
    "        |\n",
    "       n-2\n",
    "        | \n",
    "       n-1\n",
    "        | \n",
    "        n\n",
    "\n",
    "\n",
    "As is apparent from the call tree, we need $n+1$ calls in total to compute `fact(n)`, so that the runtime of `fact(n)` is proportional to `n+1`. That means the runtime complexity of `fact(n)` is $`\\mathcal{O}(n)`$. (If `n` is a `float`, again.)\n",
    "\n",
    "We could easily make `fact(n)` slower:"
   ]
  },
  {
   "cell_type": "code",
   "execution_count": 2,
   "metadata": {
    "collapsed": false
   },
   "outputs": [],
   "source": [
    "def slow_mult(n, m):\n",
    "    '''Return n*m\n",
    "    \n",
    "    Arugments:\n",
    "    n, m - floats that are non-negative whole numbers\n",
    "    '''\n",
    "    s = 0\n",
    "    for i in range(int(n)):\n",
    "        s += m\n",
    "        \n",
    "    return s                   \n",
    "                   \n",
    "def fact_slow(n):\n",
    "    if n == 0:\n",
    "        return 1\n",
    "    \n",
    "    return slow_mult(n, fact_slow(n-1))"
   ]
  },
  {
   "cell_type": "markdown",
   "metadata": {},
   "source": [
    "`slow_mult(n, m)` runs in time proportional to `n` -- it takes approximate `k\\times n` time, where `k` is the amount of time it takes to perform one iteration of the loop in `slow_mult()`.\n",
    "\n",
    "We can now figure out the total number of time that `fact_slow()` takes by summing up how much each call takes:\n",
    "\n",
    "\n",
    "     call           time needed\n",
    "    \n",
    "        0           0 \n",
    "        |\n",
    "        1           k*1\n",
    "        .\n",
    "        .\n",
    "        .\n",
    "        |\n",
    "       n-2          k*(n-2)\n",
    "        | \n",
    "       n-1          k*(n-1)\n",
    "        | \n",
    "        n           k*n\n",
    "        \n",
    "        \n",
    "The total amount of time needed is \n",
    "\n",
    "$k(1+2+3+4+5+....+n) = k\\sum_{i=1}^n i = k n(n+1)/2$, which is $\\mathcal{O}(n^2)$"
   ]
  },
  {
   "cell_type": "markdown",
   "metadata": {},
   "source": [
    "### Summary\n",
    "\n",
    "In simple cases, it's enough to count the number of recrusive calls to figure out the complexity. But that only works if each call takes the same amount of time (not counting recursive calls). If different calls take different amounts of time, this are more complicated."
   ]
  }
 ],
 "metadata": {
  "kernelspec": {
   "display_name": "Python 3",
   "language": "python",
   "name": "python3"
  },
  "language_info": {
   "codemirror_mode": {
    "name": "ipython",
    "version": 3
   },
   "file_extension": ".py",
   "mimetype": "text/x-python",
   "name": "python",
   "nbconvert_exporter": "python",
   "pygments_lexer": "ipython3",
   "version": "3.4.3"
  }
 },
 "nbformat": 4,
 "nbformat_minor": 0
}
