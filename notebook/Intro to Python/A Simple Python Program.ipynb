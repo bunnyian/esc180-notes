{
 "cells": [
  {
   "cell_type": "markdown",
   "metadata": {},
   "source": [
    "# A simple Python program\n",
    "\n",
    "We will now write a program -- a series of instructions that Python will execute sequentially."
   ]
  },
  {
   "cell_type": "code",
   "execution_count": 1,
   "metadata": {
    "collapsed": false
   },
   "outputs": [
    {
     "name": "stdout",
     "output_type": "stream",
     "text": [
      "78\n"
     ]
    }
   ],
   "source": [
    "exam_grade = 98\n",
    "engsci_adjustment = 20\n",
    "exam_grade = exam_grade - engsci_adjustment\n",
    "print(exam_grade)"
   ]
  },
  {
   "cell_type": "markdown",
   "metadata": {},
   "source": [
    "First we assign 98 to `exam_grade` and 20 to `engsci_adjustment`. Then we compute `(exam_grade - engsci_adjustment)`, and assign *that* to `exam_grade`. Fianlly, we print `exam_grade`.\n",
    "\n",
    "Note the difference from math. The following:\n",
    "```\n",
    "exam_grade = exam_grade - engsci_adjustment\n",
    "```\n",
    "\n",
    "is not an equation (i.e., we can't conclude that `engsci_adjustment` is 0 or anything like that). Rather, it's an instruction: evaluate `(exam_grade - engsci_adjustment)`, and put whatever value you get into the variable `exam_grade`, forgetting what `exam_grade` was before.\n",
    "\n",
    "The result is that `exam_grade` becomes 78, and then that value gets printed."
   ]
  }
 ],
 "metadata": {
  "kernelspec": {
   "display_name": "Python 3",
   "language": "python",
   "name": "python3"
  },
  "language_info": {
   "codemirror_mode": {
    "name": "ipython",
    "version": 3
   },
   "file_extension": ".py",
   "mimetype": "text/x-python",
   "name": "python",
   "nbconvert_exporter": "python",
   "pygments_lexer": "ipython3",
   "version": "3.4.3"
  }
 },
 "nbformat": 4,
 "nbformat_minor": 0
}
