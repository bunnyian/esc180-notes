{
 "cells": [
  {
   "cell_type": "markdown",
   "metadata": {
    "collapsed": true
   },
   "source": [
    "## Writing Conditional Statements\n",
    "\n",
    "Here is the scenario from the *Pirates of the Caribbean*:\n",
    "\n"
   ]
  },
  {
   "cell_type": "code",
   "execution_count": 1,
   "metadata": {
    "collapsed": false
   },
   "outputs": [
    {
     "data": {
      "image/jpeg": "[encoded data removed]",
      "text/html": [
       "\n",
       "        <iframe\n",
       "            width=\"400\"\n",
       "            height=\"300\"\n",
       "            src=\"https://www.youtube.com/embed/DvzOjZu0NqI\"\n",
       "            frameborder=\"0\"\n",
       "            allowfullscreen\n",
       "        ></iframe>\n",
       "        "
      ],
      "text/plain": [
       "<IPython.lib.display.YouTubeVideo at 0x7fc0251484e0>"
      ]
     },
     "execution_count": 1,
     "metadata": {},
     "output_type": "execute_result"
    }
   ],
   "source": [
    "from IPython.display import YouTubeVideo\n",
    "YouTubeVideo(\"DvzOjZu0NqI\")"
   ]
  },
  {
   "cell_type": "markdown",
   "metadata": {},
   "source": [
    "It costs 1 shilling to tie up the boat at the dock, and 3 shillings to do so under a pseudonym (say Mr. Smith). Here is one possible way of writing this"
   ]
  },
  {
   "cell_type": "code",
   "execution_count": 2,
   "metadata": {
    "collapsed": false
   },
   "outputs": [
    {
     "name": "stdout",
     "output_type": "stream",
     "text": [
      "Welcome to Port Royal, Jack Sparrow\n"
     ]
    }
   ],
   "source": [
    "shillings = 2\n",
    "name = \"Jack Sparrow\"\n",
    "\n",
    "if shillings >= 3:\n",
    "    print(\"Welcome to Port Royal, Mr. Smith\")\n",
    "elif shillings >= 1:\n",
    "    print(\"Welcome to Port Royal, \" + name)\n",
    "else:\n",
    "    print(\"Go away please\")\n",
    "    "
   ]
  },
  {
   "cell_type": "markdown",
   "metadata": {},
   "source": [
    "### Conditionals: possible bugs\n",
    "\n",
    "Here is an *incorrect* way of writing this:"
   ]
  },
  {
   "cell_type": "code",
   "execution_count": 3,
   "metadata": {
    "collapsed": false
   },
   "outputs": [
    {
     "name": "stdout",
     "output_type": "stream",
     "text": [
      "Welcome to Port Royal, Jack Sparrow\n",
      "It was a pleasure serving you\n"
     ]
    }
   ],
   "source": [
    "shillings = 3\n",
    "name = \"Jack Sparrow\"\n",
    "\n",
    "if shillings >= 1:\n",
    "    print(\"Welcome to Port Royal, \" + name)\n",
    "elif shillings >= 3:\n",
    "    print(\"Welcome to Port Royal, Mr. Smith\")\n",
    "else:\n",
    "    print(\"Go away please\")\n",
    "print(\"It was a pleasure serving you\")\n"
   ]
  },
  {
   "cell_type": "markdown",
   "metadata": {},
   "source": [
    "The `if-elif-else` structure works as follows: each condition is evaluated in turn, top-to-bottom. When a condition that evaluates to `True` is encountered, the corresponding lines are executed, and no more conditions are evaluated.\n",
    "\n",
    "In the code above, since `3 >= 1`, we print `Welcome to Port Royal, Jack Sparrow`, even though `shillings == 3`, so that what we wanted to print is `Welcome to Port Royal, Mr. Smith`.\n",
    "\n",
    "Note that since the line `print(\"It was a pleasure serving you\")` is not indented, it is always executed. If it were indented, it would be part of the `else` caluse, and would be executed if none of the conditions held.\n",
    "\n",
    "The nice thing about the code in [2] is that the second condition really means `1 <= shillings < 3`, because by the time we are evaluating `shillings >= 1`, we already know that `shillings < 3`, since we first checked whether shillings was greater or equal to three, and if we are checking whether `shillings >= 1`, the first condition evaluated to `False`"
   ]
  },
  {
   "cell_type": "markdown",
   "metadata": {},
   "source": [
    "### Conditionals: multilpe elifs\n",
    "\n",
    "We can have multiple `elif`s. For example:"
   ]
  },
  {
   "cell_type": "code",
   "execution_count": 4,
   "metadata": {
    "collapsed": false
   },
   "outputs": [
    {
     "name": "stdout",
     "output_type": "stream",
     "text": [
      "Welcome to Port Royal, Mr. Smith. Here is your iron ring\n"
     ]
    }
   ],
   "source": [
    "shillings = 300000001\n",
    "name = \"Jack Sparrow\"\n",
    "\n",
    "if shillings >= 300000000:\n",
    "    print(\"Welcome to Port Royal, Mr. Smith. Here is your iron ring\")\n",
    "elif shillings >= 3:\n",
    "    print(\"Welcome to Port Royal, Mr. Smith\")\n",
    "elif shillings >= 1:\n",
    "    print(\"Welcome to Port Royal, \" + name)\n",
    "else:\n",
    "    print(\"Go away please\")"
   ]
  },
  {
   "cell_type": "markdown",
   "metadata": {},
   "source": [
    "Again, all the conditions are evaluated top-to-bottom, until we reach a true condition, which gets executed. If none of the conditions are executed, the `else` blog is executed. "
   ]
  },
  {
   "cell_type": "markdown",
   "metadata": {},
   "source": [
    "### Conditionals: multiple if statements and not using elifs/elses\n",
    "\n",
    "Consider the following:"
   ]
  },
  {
   "cell_type": "code",
   "execution_count": 5,
   "metadata": {
    "collapsed": false
   },
   "outputs": [
    {
     "name": "stdout",
     "output_type": "stream",
     "text": [
      "Welcome to Port Royal, Mr. Smith. Here is your iron ring\n",
      "Welcome to Port Royal, Mr. Smith\n"
     ]
    }
   ],
   "source": [
    "shillings = 300000001\n",
    "name = \"Jack Sparrow\"\n",
    "\n",
    "if shillings >= 300000000:\n",
    "    print(\"Welcome to Port Royal, Mr. Smith. Here is your iron ring\")\n",
    "if shillings >= 3:\n",
    "    print(\"Welcome to Port Royal, Mr. Smith\")"
   ]
  },
  {
   "cell_type": "markdown",
   "metadata": {},
   "source": [
    "Here, we switched the `elif` in the second clause to an `if`. The effect is that *every* conditon is evaluated, and more than one block can get executed.\n",
    "\n"
   ]
  },
  {
   "cell_type": "markdown",
   "metadata": {},
   "source": [
    "### Writing reusable code\n",
    "\n",
    "Above, we repeated the phrase \"Welcome to Port Royal\" multiple times. This is perhaps not ideal -- what if we wanted to change that message? We would have to change the welcome message multiple times. Here is another way of writing similar code to what we have been doing before"
   ]
  },
  {
   "cell_type": "code",
   "execution_count": 6,
   "metadata": {
    "collapsed": false
   },
   "outputs": [
    {
     "name": "stdout",
     "output_type": "stream",
     "text": [
      "Go away, Jack Sparrow\n"
     ]
    }
   ],
   "source": [
    "shillings = -.5\n",
    "name = \"Jack Sparrow\"\n",
    "welcome_message = \"Welcome to Port Royal\"\n",
    "if shillings >= 3:\n",
    "    name = \"Mr. Smith\"\n",
    "elif shillings < 1:             #Could say if shillings < 1 -- why?\n",
    "    welcome_message = \"Go away\"\n",
    "print(welcome_message + \", \" + name)"
   ]
  }
 ],
 "metadata": {
  "kernelspec": {
   "display_name": "Python 3",
   "language": "python",
   "name": "python3"
  },
  "language_info": {
   "codemirror_mode": {
    "name": "ipython",
    "version": 3
   },
   "file_extension": ".py",
   "mimetype": "text/x-python",
   "name": "python",
   "nbconvert_exporter": "python",
   "pygments_lexer": "ipython3",
   "version": "3.4.3"
  }
 },
 "nbformat": 4,
 "nbformat_minor": 0
}
