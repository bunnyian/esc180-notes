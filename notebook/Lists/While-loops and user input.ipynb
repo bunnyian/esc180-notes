{
 "cells": [
  {
   "cell_type": "markdown",
   "metadata": {},
   "source": [
    "## While-loops and user input\n",
    "\n",
    "A cursor that blinks in a text editor is an example of a (potentially) infinite loop: it will blink forever if the user doesn't enter input.\n",
    "\n",
    "Let's try to emulate that behaviour:"
   ]
  },
  {
   "cell_type": "code",
   "execution_count": 1,
   "metadata": {
    "collapsed": false
   },
   "outputs": [
    {
     "name": "stdout",
     "output_type": "stream",
     "text": [
      "Have you started Project 1 yet?hmm\n",
      "Have you started Project 1 yet?say what?\n",
      "Have you started Project 1 yet?no\n",
      "Have you started Project 1 yet?yes\n"
     ]
    }
   ],
   "source": [
    "user_input = None\n",
    "\n",
    "#keep asking a question until the user says yes\n",
    "while user_input != \"yes\":\n",
    "    user_input = input(\"Have you started Project 1 yet?\")"
   ]
  },
  {
   "cell_type": "markdown",
   "metadata": {},
   "source": [
    "While `user_input` hasn't been assigned the value `\"yes\"` (because that's what the user types in and the function `input()` returns, so that it's assigned to `user_input`), the line\n",
    "\n",
    "`user_input = input(\"Have you started Project 1 yet?\")`\n",
    "\n",
    "keeps running.\n",
    "\n",
    "The process is\n",
    "* Check whether `user_input` is equal to `\"yes\"`. If it is, stop the loop\n",
    "* `user_input = input(\"Have you started Project 1 yet?\")`\n",
    "* Check whether `user_input` is equal to `\"yes\"`. If it is, stop the loop\n",
    "* `user_input = input(\"Have you started Project 1 yet?\")`\n",
    "* Check whether `user_input` is equal to `\"yes\"`. If it is, stop the loop\n",
    "* `user_input = input(\"Have you started Project 1 yet?\")`\n",
    "* Check whether `user_input` is equal to `\"yes\"`. If it is, stop the loop\n",
    "* `user_input = input(\"Have you started Project 1 yet?\")`\n",
    "* ...\n",
    "\n",
    "Above, a sample run is shown. Since the loop stopped, it must be the case that `user_input` is not `\"yes\"`. Indeed, it is."
   ]
  },
  {
   "cell_type": "code",
   "execution_count": 2,
   "metadata": {
    "collapsed": false
   },
   "outputs": [
    {
     "data": {
      "text/plain": [
       "'yes'"
      ]
     },
     "execution_count": 2,
     "metadata": {},
     "output_type": "execute_result"
    }
   ],
   "source": [
    "user_input"
   ]
  },
  {
   "cell_type": "markdown",
   "metadata": {},
   "source": [
    "An alternative way to write the same loop is:\n",
    "\n",
    "    while input(\"Have you started P1?\") != \"yes\":\n",
    "        pass"
   ]
  }
 ],
 "metadata": {
  "kernelspec": {
   "display_name": "Python 3",
   "language": "python",
   "name": "python3"
  },
  "language_info": {
   "codemirror_mode": {
    "name": "ipython",
    "version": 3
   },
   "file_extension": ".py",
   "mimetype": "text/x-python",
   "name": "python",
   "nbconvert_exporter": "python",
   "pygments_lexer": "ipython3",
   "version": "3.4.3"
  }
 },
 "nbformat": 4,
 "nbformat_minor": 0
}
