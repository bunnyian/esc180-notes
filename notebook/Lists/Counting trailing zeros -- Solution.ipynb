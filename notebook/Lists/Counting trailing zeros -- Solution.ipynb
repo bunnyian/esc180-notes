{
 "cells": [
  {
   "cell_type": "markdown",
   "metadata": {},
   "source": [
    "### Counting trailing zeros in n!\n",
    "\n",
    "Recall that the problem that we're trying to solve is to count the number of *trailing zeros* in $n!$. Here is an example:"
   ]
  },
  {
   "cell_type": "code",
   "execution_count": 1,
   "metadata": {
    "collapsed": false
   },
   "outputs": [
    {
     "name": "stdout",
     "output_type": "stream",
     "text": [
      "2432902008176640000\n"
     ]
    }
   ],
   "source": [
    "def fact(n):\n",
    "    res = 1\n",
    "    for i in range(1, n+1):\n",
    "        res *= i\n",
    "    return res\n",
    "\n",
    "if __name__ == '__main__':\n",
    "    print(fact(20))"
   ]
  },
  {
   "cell_type": "markdown",
   "metadata": {},
   "source": [
    "$20!$ has 4 trailing zeros -- zeros at the end of the number.\n",
    "\n",
    "Here is the naive approach to the problem. First, compute $n!$, then, keep dividing the number by 10 (i.e., removing 0's), while that's possible; all the while, keep incrementing a counter that keeps track of how many times we divided by 10."
   ]
  },
  {
   "cell_type": "code",
   "execution_count": 2,
   "metadata": {
    "collapsed": false
   },
   "outputs": [
    {
     "name": "stdout",
     "output_type": "stream",
     "text": [
      "The number of trailing zeros in 20 factorial is 4\n"
     ]
    }
   ],
   "source": [
    "def trailing_zerosA(n):\n",
    "    '''Return the number of trailing zeros in n!\n",
    "    \n",
    "    Arguments:\n",
    "    n - a positive integer\n",
    "    \n",
    "    '''\n",
    "    n_fact = fact(n)\n",
    "    \n",
    "    res = 0  #number of times\n",
    "             #n_fact was divided by 10 \n",
    "             #so far.\n",
    "    \n",
    "    while n_fact % 10 == 0: \n",
    "        n_fact //= 10\n",
    "        res += 1\n",
    "        \n",
    "    return res\n",
    "\n",
    "if __name__ == '__main__':\n",
    "    n = 20\n",
    "    print(\"The number of trailing zeros in\", n, \"factorial is\", trailing_zerosA(n))"
   ]
  },
  {
   "cell_type": "markdown",
   "metadata": {},
   "source": [
    "Here is another approach. Observe that\n",
    "\n",
    "$n! = 1\\times 2\\times 3\\times ... \\times n = a\\times 10^k$. If $k$ is as large as it can be, then $k$ is the number of trailing zeros in $n!$.\n",
    "\n",
    "Now, we also have $n! = a\\times 2^k\\times 5^k$. So if we find out how many factors of $5$ there are in the product $n! = 1\\times 2\\times 3\\times ... \\times n$, we can find the number of trailing zeros. Let's do it factor-by-factor. \n",
    "\n",
    "First, let's write a function that finds how many factors of `factor` there are in an arbitrary number `m`."
   ]
  },
  {
   "cell_type": "code",
   "execution_count": 3,
   "metadata": {
    "collapsed": true
   },
   "outputs": [],
   "source": [
    "def count_factor(m, factor):\n",
    "    '''Return k s.t. k is the largest number s.t. m = factor^k * a\n",
    "    \n",
    "    Arguments\n",
    "    m, factor -- positive integers\n",
    "    '''        \n",
    "    \n",
    "    res = 0  #number of times\n",
    "             #m  was divided by factor \n",
    "             #so far.\n",
    "    while m % factor == 0: \n",
    "        m //= factor\n",
    "        res += 1\n",
    "    \n",
    "    return res"
   ]
  },
  {
   "cell_type": "markdown",
   "metadata": {},
   "source": [
    "The idea is to count up the number of factors of 5 in 1, 2, 3, 4, ...., n, and add them all up. Here is how this would go for $31!$:\n",
    "\n",
    "    1: 0 factors of 5\n",
    "    2: 0 factors of 5\n",
    "    3: 0 factors of 5\n",
    "    4: 0 factors of 5\n",
    "    5: 1 factors of 5\n",
    "    6: 0 factors of 5\n",
    "    7: 0 factors of 5\n",
    "    8: 0 factors of 5\n",
    "    9: 0 factors of 5\n",
    "    10: 1 factors of 5\n",
    "    11: 0 factors of 5\n",
    "    12: 0 factors of 5\n",
    "    13: 0 factors of 5\n",
    "    14: 0 factors of 5\n",
    "    15: 1 factors of 5\n",
    "    16: 0 factors of 5\n",
    "    17: 0 factors of 5\n",
    "    18: 0 factors of 5\n",
    "    19: 0 factors of 5\n",
    "    20: 1 factors of 5\n",
    "    21: 0 factors of 5\n",
    "    22: 0 factors of 5\n",
    "    23: 0 factors of 5\n",
    "    24: 0 factors of 5\n",
    "    25: 2 factors of 5\n",
    "    26: 0 factors of 5\n",
    "    27: 0 factors of 5\n",
    "    28: 0 factors of 5\n",
    "    29: 0 factors of 5\n",
    "    30: 1 factors of 5\n",
    "    31: 0 factors of 5\n",
    "\n",
    "In total, we have 1+1+1+1+2+1=7 factors of 5, which is also the number of 0's"
   ]
  },
  {
   "cell_type": "code",
   "execution_count": 4,
   "metadata": {
    "collapsed": false
   },
   "outputs": [
    {
     "name": "stdout",
     "output_type": "stream",
     "text": [
      "The number of trailing zeros in 20 factorial is 4\n",
      "The number of trailing zeros in 31 factorial is 7\n"
     ]
    }
   ],
   "source": [
    "def trailing_zerosB(n):\n",
    "    \n",
    "    res = 0\n",
    "    \n",
    "    #Compute the total number of factors of 5 in all of\n",
    "    #1, 2, 3, ..., n\n",
    "    for i in range(1, n+1):\n",
    "        res += count_factor(i, 5)\n",
    "        \n",
    "    return res\n",
    "\n",
    "if __name__ == '__main__':\n",
    "    n = 20\n",
    "    print(\"The number of trailing zeros in\", n, \"factorial is\", trailing_zerosA(n))\n",
    "    \n",
    "    n = 31\n",
    "    print(\"The number of trailing zeros in\", n, \"factorial is\", trailing_zerosA(n))"
   ]
  },
  {
   "cell_type": "markdown",
   "metadata": {},
   "source": [
    "Why bother with all this? Because, as we saw in class, computing $n!$ for large $n$ is very computationally expensive, since it involves multiplying huge numbers. The second method is much more efficient.\n",
    "\n",
    "### Refactoring `trailing_zerosA()`\n",
    "\n",
    "Note that we can now refactor `trailing_zerosA()`. That is, we can rewrite it to reuse a helper function:"
   ]
  },
  {
   "cell_type": "code",
   "execution_count": 5,
   "metadata": {
    "collapsed": false
   },
   "outputs": [
    {
     "name": "stdout",
     "output_type": "stream",
     "text": [
      "The number of trailing zeros in 20 factorial is 4\n"
     ]
    }
   ],
   "source": [
    "def trailing_zerosA(n):\n",
    "    '''Return the number of trailing zeros in n!\n",
    "    \n",
    "    Arguments:\n",
    "    n - a positive integer\n",
    "    \n",
    "    '''\n",
    "    n_fact = fact(n)\n",
    "    \n",
    "    return count_factor(n_fact, 10)\n",
    "\n",
    "if __name__ == '__main__':\n",
    "    n = 20\n",
    "    print(\"The number of trailing zeros in\", n, \"factorial is\", trailing_zerosA(n))"
   ]
  }
 ],
 "metadata": {
  "kernelspec": {
   "display_name": "Python 3",
   "language": "python",
   "name": "python3"
  },
  "language_info": {
   "codemirror_mode": {
    "name": "ipython",
    "version": 3
   },
   "file_extension": ".py",
   "mimetype": "text/x-python",
   "name": "python",
   "nbconvert_exporter": "python",
   "pygments_lexer": "ipython3",
   "version": "3.4.3"
  }
 },
 "nbformat": 4,
 "nbformat_minor": 0
}
