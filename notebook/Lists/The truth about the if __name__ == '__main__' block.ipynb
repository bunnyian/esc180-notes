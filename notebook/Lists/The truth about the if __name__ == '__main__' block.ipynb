{
 "cells": [
  {
   "cell_type": "markdown",
   "metadata": {},
   "source": [
    "## The if \\_\\_name\\_\\_ == '\\_\\_main\\_\\_' block\n",
    "\n",
    "The main block is only run when the file is run *directly* by Python. When the file is imported, the main block is not run.\n",
    "\n",
    "Here is one use: put the testing code in the main block, so that when you're importing the file (like you would `import math`) you can use the functions, but don't see the output of the testing\n",
    "\n",
    "An important consequence of this is that you must always initialize all global variables *outside* of the main block.\n",
    "\n",
    "Here is an example:\n",
    "\n",
    "# program.py"
   ]
  },
  {
   "cell_type": "code",
   "execution_count": 1,
   "metadata": {
    "collapsed": false
   },
   "outputs": [
    {
     "name": "stdout",
     "output_type": "stream",
     "text": [
      "0\n",
      "0\n"
     ]
    }
   ],
   "source": [
    "def print_b():\n",
    "    print(b)\n",
    "\n",
    "\n",
    "\n",
    "def initialize():\n",
    "    global a, b\n",
    "    a = 0\n",
    "    b = 0\n",
    "\n",
    "\n",
    "#if you have global variables, you must\n",
    "#initialize them outside the main block\n",
    "initialize()\n",
    "\n",
    "if __name__ == '__main__':\n",
    "    c = 0       #If you import program elsewhere, \n",
    "                #you will not be able to access\n",
    "                #program.c because the main block\n",
    "                #will not be executed!\n",
    "    print(a)\n",
    "    print(b)"
   ]
  },
  {
   "cell_type": "markdown",
   "metadata": {},
   "source": [
    "# test_program.py"
   ]
  },
  {
   "cell_type": "code",
   "execution_count": 2,
   "metadata": {
    "collapsed": false
   },
   "outputs": [
    {
     "name": "stdout",
     "output_type": "stream",
     "text": [
      "0\n",
      "0\n",
      "0\n"
     ]
    }
   ],
   "source": [
    "if __name__ == '__main__':\n",
    "    import program\n",
    "    program.print_b()\n",
    "    print(program.a)\n",
    "    print(program.b)"
   ]
  },
  {
   "cell_type": "markdown",
   "metadata": {},
   "source": [
    "`import program` allows us to use the function and global variables from `program.py`. Similarly to using `math.sqrt(9)` or `math.py`, we can use the function `program.print_b()` (the function `print_b()` defined in `program.py`) and refer to the variable `program.a` (the global variable `a` defined in `program.py`.)\n",
    "\n",
    "\n",
    "When we say `import program`, the `if __name__ == '__main__'` block in `program.py` is *not* run. That why only three zeros are printed above (instead of five.) \n",
    "\n",
    "The global variable `c` is only defined in the `if __name__ == '__main__'` block, which means that in `test_program.py`, we cannot refer to the variable `program.c`-- this will cause an error."
   ]
  },
  {
   "cell_type": "markdown",
   "metadata": {},
   "source": [
    "## Things to keep in mind\n",
    "\n",
    "* If we want to use a global variable from a file we are importing, that variable must be initialized outside the main block. In `program.py`, the variables `a` and `b` are initialized by called `initialize()` outside the `if __name__ == '__main__'` block. (But the variable `c` isn't.)\n",
    "\n",
    "* You can put whatever you want in the `if __name__ == '__main__'` in a file if you are only going to import it and not run it directly -- for example, you can put testing code which you do now want to run automatically."
   ]
  }
 ],
 "metadata": {
  "kernelspec": {
   "display_name": "Python 3",
   "language": "python",
   "name": "python3"
  },
  "language_info": {
   "codemirror_mode": {
    "name": "ipython",
    "version": 3
   },
   "file_extension": ".py",
   "mimetype": "text/x-python",
   "name": "python",
   "nbconvert_exporter": "python",
   "pygments_lexer": "ipython3",
   "version": "3.4.3"
  }
 },
 "nbformat": 4,
 "nbformat_minor": 0
}
