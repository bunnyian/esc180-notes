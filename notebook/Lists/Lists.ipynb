{
 "cells": [
  {
   "cell_type": "markdown",
   "metadata": {},
   "source": [
    "## Lists\n",
    "\n",
    "Lists are a way of storing several values in one variable. Here is an example, with data from [here](http://www.mtu.edu/engineering/outreach/welcome/salary/)"
   ]
  },
  {
   "cell_type": "code",
   "execution_count": 1,
   "metadata": {
    "collapsed": true
   },
   "outputs": [],
   "source": [
    "earnings = [91, 87, 115, 108]"
   ]
  },
  {
   "cell_type": "markdown",
   "metadata": {},
   "source": [
    "The values are separated by commas, and enclosed in square brackets. We can access the individual *elements* as follows:"
   ]
  },
  {
   "cell_type": "code",
   "execution_count": 2,
   "metadata": {
    "collapsed": false
   },
   "outputs": [
    {
     "data": {
      "text/plain": [
       "91"
      ]
     },
     "execution_count": 2,
     "metadata": {},
     "output_type": "execute_result"
    }
   ],
   "source": [
    "earnings[0]\n"
   ]
  },
  {
   "cell_type": "code",
   "execution_count": 3,
   "metadata": {
    "collapsed": false
   },
   "outputs": [
    {
     "data": {
      "text/plain": [
       "87"
      ]
     },
     "execution_count": 3,
     "metadata": {},
     "output_type": "execute_result"
    }
   ],
   "source": [
    "earnings[1]"
   ]
  },
  {
   "cell_type": "code",
   "execution_count": 4,
   "metadata": {
    "collapsed": false
   },
   "outputs": [
    {
     "data": {
      "text/plain": [
       "108"
      ]
     },
     "execution_count": 4,
     "metadata": {},
     "output_type": "execute_result"
    }
   ],
   "source": [
    "earnings[3]"
   ]
  },
  {
   "cell_type": "markdown",
   "metadata": {},
   "source": [
    "The numbers `0`, `1`, and `3` are called *indices* (the singular is `index`). Note that we start from `0`. The list `earnings` is of length 4 (since it has four elements), so the last possible index will be 3.\n",
    "\n",
    "We can get the *length* of a list using the `len()` function:"
   ]
  },
  {
   "cell_type": "code",
   "execution_count": 5,
   "metadata": {
    "collapsed": false
   },
   "outputs": [
    {
     "data": {
      "text/plain": [
       "4"
      ]
     },
     "execution_count": 5,
     "metadata": {},
     "output_type": "execute_result"
    }
   ],
   "source": [
    "len(earnings)"
   ]
  },
  {
   "cell_type": "markdown",
   "metadata": {},
   "source": [
    "## Looping over lists\n",
    "\n",
    "We have all the tools in order to print every element of a list in turn. For example, suppose we need to print, in turn, `earnings[0]`, `earnings[1]`, ... `earnings[3]`. In other words, suppose we need to print `earnings[i]` for every `i` between `0` and `3` inclusive. The way to do this is to use a for-loop:"
   ]
  },
  {
   "cell_type": "code",
   "execution_count": 6,
   "metadata": {
    "collapsed": false
   },
   "outputs": [
    {
     "name": "stdout",
     "output_type": "stream",
     "text": [
      "You make 91 thousand dollars a year!\n",
      "You make 87 thousand dollars a year!\n",
      "You make 115 thousand dollars a year!\n",
      "You make 108 thousand dollars a year!\n"
     ]
    }
   ],
   "source": [
    "for i in range(4):\n",
    "    print(\"You make\", earnings[i], \"thousand dollars a year!\")"
   ]
  },
  {
   "cell_type": "markdown",
   "metadata": {},
   "source": [
    "We can make this a little nicer. We used `for i in range(4)` because we know that we need the index `i` to range from `0` to `3` because we know that `earnings` contains 4 elements. But we can use `len(earnings)` instead of `4` to get the same results:"
   ]
  },
  {
   "cell_type": "code",
   "execution_count": 7,
   "metadata": {
    "collapsed": false
   },
   "outputs": [
    {
     "name": "stdout",
     "output_type": "stream",
     "text": [
      "91\n",
      "87\n",
      "115\n",
      "108\n"
     ]
    }
   ],
   "source": [
    "for i in range(len(earnings)):\n",
    "    print(earnings[i])"
   ]
  },
  {
   "cell_type": "markdown",
   "metadata": {},
   "source": [
    "If all we want to do is to print (or use somehow) the elements of the list `earnings`, there is a nicer way to do this using `for`. Note that the following is a new way of using `for`:"
   ]
  },
  {
   "cell_type": "code",
   "execution_count": 8,
   "metadata": {
    "collapsed": false
   },
   "outputs": [
    {
     "name": "stdout",
     "output_type": "stream",
     "text": [
      "91\n",
      "87\n",
      "115\n",
      "108\n"
     ]
    }
   ],
   "source": [
    "for amt in earnings:\n",
    "    print(amt)"
   ]
  },
  {
   "cell_type": "markdown",
   "metadata": {},
   "source": [
    "`for <elem> in <list>` puts the elements of `<list>` into the variable `<elem>`, in turn.\n",
    "\n",
    "## When using indices is necessary\n",
    "\n",
    "Suppose we want to convert the amounts from US dollars to Canadian dollars. Here is how you might try to do this:"
   ]
  },
  {
   "cell_type": "code",
   "execution_count": 9,
   "metadata": {
    "collapsed": false
   },
   "outputs": [
    {
     "name": "stdout",
     "output_type": "stream",
     "text": [
      "amt is now 118.3\n",
      "amt is now 113.10000000000001\n",
      "amt is now 149.5\n",
      "amt is now 140.4\n",
      "earnings is now [91, 87, 115, 108]\n"
     ]
    }
   ],
   "source": [
    "USD_TO_CAD = 1.3\n",
    "for amt in earnings:\n",
    "    amt *= USD_TO_CAD\n",
    "    print('amt is now', amt)\n",
    "print('earnings is now', earnings)"
   ]
  },
  {
   "cell_type": "markdown",
   "metadata": {},
   "source": [
    "The value of `amt` changed every time, but `earnings` never did! What happenned? You can think of `for amt in earnings` variant as:\n",
    "\n",
    "    for i in range(len(earnings)):\n",
    "        amt = earnings[i]\n",
    "        amt *= USD_TO_CAD\n",
    "\n",
    "It's clear why this wouldn't change `earnings`: what's changed is the variable `amt`, but not `earnings[i]`. It's the same situation as\n",
    "    a = 42\n",
    "    b = a\n",
    "    b = 43\n",
    "\n",
    "`b` changes, but `a` would still be `42`.\n",
    "\n",
    "How can we change `earnings`? Just loop over all the indices."
   ]
  },
  {
   "cell_type": "code",
   "execution_count": 10,
   "metadata": {
    "collapsed": false
   },
   "outputs": [
    {
     "name": "stdout",
     "output_type": "stream",
     "text": [
      "[118.3, 113.10000000000001, 149.5, 140.4]\n"
     ]
    }
   ],
   "source": [
    "USD_TO_CAD = 1.3\n",
    "for i in range(len(earnings)):\n",
    "    earnings[i] *= USD_TO_CAD\n",
    "    \n",
    "print(earnings)    "
   ]
  },
  {
   "cell_type": "markdown",
   "metadata": {},
   "source": [
    "## is_non_decreasing\n",
    "\n",
    "A list `L` is non-decreasing if for every `i`, $L[i] \\geq L[i-1]$. For example, `[1, 2, 3, 3, 5, 100, 200]` is non-decreasing, but `[1, 0, 5, 6]` is not, since its second element is smaller than its first element.\n",
    "\n",
    "Let's write the function `is_non_decreasing(L)` that returns `True` iff `L` is non-decreasing."
   ]
  },
  {
   "cell_type": "code",
   "execution_count": 11,
   "metadata": {
    "collapsed": true
   },
   "outputs": [],
   "source": [
    "def is_non_decreasing(L):\n",
    "    '''Return True iff L is non-decreasing\n",
    "    \n",
    "    Arguments:\n",
    "    L -- a list of integers\n",
    "    '''\n",
    "    \n",
    "    for i in range(1, len(L)): #start at i = 1, since it makes no sense to compare L[0] and L[-1]\n",
    "        if L[i] < L[i-1]:\n",
    "            return False #L is definitely not non-decreasing\n",
    "    \n",
    "    #Checked for every i, and didn't return False, so we can return True\n",
    "    return True  \n",
    "            "
   ]
  }
 ],
 "metadata": {
  "kernelspec": {
   "display_name": "Python 3",
   "language": "python",
   "name": "python3"
  },
  "language_info": {
   "codemirror_mode": {
    "name": "ipython",
    "version": 3
   },
   "file_extension": ".py",
   "mimetype": "text/x-python",
   "name": "python",
   "nbconvert_exporter": "python",
   "pygments_lexer": "ipython3",
   "version": "3.4.3"
  }
 },
 "nbformat": 4,
 "nbformat_minor": 0
}
