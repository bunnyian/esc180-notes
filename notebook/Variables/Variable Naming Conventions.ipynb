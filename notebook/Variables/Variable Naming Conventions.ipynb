{
 "cells": [
  {
   "cell_type": "markdown",
   "metadata": {},
   "source": [
    "## Variable Naming Conventions\n",
    "\n",
    "Anything (that isn't a Python keyword like `if`, `else`, `not`, or `def`) that starts with a letter or an underscore and contains only letters, numbers, and underscores is a legal variable name."
   ]
  },
  {
   "cell_type": "code",
   "execution_count": 6,
   "metadata": {
    "collapsed": true
   },
   "outputs": [],
   "source": [
    "asdfahsldkfjh = 5 #legal variable name"
   ]
  },
  {
   "cell_type": "markdown",
   "metadata": {},
   "source": [
    "You can always check if your variable name is legal by querying the `keyword` module:"
   ]
  },
  {
   "cell_type": "code",
   "execution_count": 9,
   "metadata": {},
   "outputs": [
    {
     "data": {
      "text/plain": [
       "False"
      ]
     },
     "execution_count": 9,
     "metadata": {},
     "output_type": "execute_result"
    }
   ],
   "source": [
    "import keyword\n",
    "keyword.iskeyword(\"range\")"
   ]
  },
  {
   "cell_type": "markdown",
   "metadata": {},
   "source": [
    "Guidelines: make the variable names comprehensible -- prefer using words to abbreviations and initialisms."
   ]
  },
  {
   "cell_type": "code",
   "execution_count": 7,
   "metadata": {
    "collapsed": true
   },
   "outputs": [],
   "source": [
    "num_coffee_cups = 2 #readable\n",
    "ncc = 2 #a future reader won't be able to figure it out easily (not moral, like jaywalking)\n",
    "x = 2   #very rarely justifibale (not really moral at all)"
   ]
  },
  {
   "cell_type": "markdown",
   "metadata": {},
   "source": [
    "### Naming style:\n",
    "\n",
    "We generally use pothole case (or [Snake Case](https://en.wikipedia.org/wiki/Snake_case)) in Python: `lowercase_words_separated_by_underscores`. Rarely, [CamelCase](https://en.wikipedia.org/wiki/CamelCase) is used.\n",
    "\n",
    "There is one exception: constants. One example of a constant is something like the mathematical constant $\\pi$. Constants are generally written in all-uppercase."
   ]
  },
  {
   "cell_type": "code",
   "execution_count": 3,
   "metadata": {
    "collapsed": true
   },
   "outputs": [],
   "source": [
    "PI = 3.14159265359"
   ]
  },
  {
   "cell_type": "markdown",
   "metadata": {},
   "source": [
    "Another example of a constant is a value that is not *supposed* to change. For example, in a program that has to do with EngSci courses, we might set"
   ]
  },
  {
   "cell_type": "code",
   "execution_count": 4,
   "metadata": {
    "collapsed": true
   },
   "outputs": [],
   "source": [
    "N_COURSES_ENGSCI = 6"
   ]
  },
  {
   "cell_type": "markdown",
   "metadata": {},
   "source": [
    "Python will not prohibit us from changing values defined in all-uppercase:"
   ]
  },
  {
   "cell_type": "code",
   "execution_count": 5,
   "metadata": {
    "collapsed": true
   },
   "outputs": [],
   "source": [
    "PI = PI*1.01  #perfectly legal"
   ]
  },
  {
   "cell_type": "markdown",
   "metadata": {},
   "source": [
    "However, a variable's name being all-uppercase suggests to the programmer that a line like the one above is likely a mistake."
   ]
  }
 ],
 "metadata": {
  "kernelspec": {
   "display_name": "Python 3",
   "language": "python",
   "name": "python3"
  },
  "language_info": {
   "codemirror_mode": {
    "name": "ipython",
    "version": 3
   },
   "file_extension": ".py",
   "mimetype": "text/x-python",
   "name": "python",
   "nbconvert_exporter": "python",
   "pygments_lexer": "ipython3",
   "version": "3.9.12"
  }
 },
 "nbformat": 4,
 "nbformat_minor": 0
}
