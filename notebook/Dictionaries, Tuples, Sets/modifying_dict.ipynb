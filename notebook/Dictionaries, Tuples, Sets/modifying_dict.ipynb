{
 "cells": [
  {
   "cell_type": "markdown",
   "metadata": {},
   "source": [
    "# Modifying dictionaries\n",
    "\n",
    "We can remove items from dictionaries using the `del` operator."
   ]
  },
  {
   "cell_type": "code",
   "execution_count": 1,
   "metadata": {
    "collapsed": true
   },
   "outputs": [],
   "source": [
    "grades = {\"PHY\": \"A+\", \"CIV\": \"A\", \"CSC\": \"A+\", \"ESC\":\"B+\"}"
   ]
  },
  {
   "cell_type": "markdown",
   "metadata": {},
   "source": [
    "Suppose we want to remove the entry with the key `\"PHY\"`. This is done similarly to removing elements from lists by specifying elements at what index we want to remove:"
   ]
  },
  {
   "cell_type": "code",
   "execution_count": 2,
   "metadata": {
    "collapsed": true
   },
   "outputs": [],
   "source": [
    "del grades[\"PHY\"]"
   ]
  },
  {
   "cell_type": "code",
   "execution_count": 3,
   "metadata": {
    "collapsed": false
   },
   "outputs": [
    {
     "data": {
      "text/plain": [
       "{'CIV': 'A', 'CSC': 'A+', 'ESC': 'B+'}"
      ]
     },
     "execution_count": 3,
     "metadata": {},
     "output_type": "execute_result"
    }
   ],
   "source": [
    "grades"
   ]
  },
  {
   "cell_type": "markdown",
   "metadata": {},
   "source": [
    "We can also remove all the entries at ones:"
   ]
  },
  {
   "cell_type": "code",
   "execution_count": 4,
   "metadata": {
    "collapsed": false
   },
   "outputs": [
    {
     "data": {
      "text/plain": [
       "{}"
      ]
     },
     "execution_count": 4,
     "metadata": {},
     "output_type": "execute_result"
    }
   ],
   "source": [
    "grades.clear()\n",
    "grades"
   ]
  },
  {
   "cell_type": "markdown",
   "metadata": {},
   "source": [
    "Let's restore the grades to what they were, and try to remove some of the entries according to their values (note that there's no easy way to do this -- `del` only removes entries using their *keys*."
   ]
  },
  {
   "cell_type": "code",
   "execution_count": 5,
   "metadata": {
    "collapsed": true
   },
   "outputs": [],
   "source": [
    "grades = {\"PHY\": \"A+\", \"CIV\": \"A\", \"CSC\": \"A+\", \"ESC\":\"B+\"}"
   ]
  },
  {
   "cell_type": "code",
   "execution_count": 6,
   "metadata": {
    "collapsed": true
   },
   "outputs": [],
   "source": [
    "def correct_transcript_bad(grades):\n",
    "    for course in grades:\n",
    "        #grades[course] is a grade, like \"B+\" or \"A\". We \n",
    "        #are checking whether grades[course] is \"A\" ор \"А+\"\n",
    "        if grades[course] not in [\"A\", \"A+\"]:\n",
    "            del grades[course]"
   ]
  },
  {
   "cell_type": "code",
   "execution_count": 7,
   "metadata": {
    "collapsed": false
   },
   "outputs": [
    {
     "ename": "RuntimeError",
     "evalue": "dictionary changed size during iteration",
     "output_type": "error",
     "traceback": [
      "\u001b[1;31m---------------------------------------------------------------------------\u001b[0m",
      "\u001b[1;31mRuntimeError\u001b[0m                              Traceback (most recent call last)",
      "\u001b[1;32m<ipython-input-7-8fe1c4df8eff>\u001b[0m in \u001b[0;36m<module>\u001b[1;34m()\u001b[0m\n\u001b[1;32m----> 1\u001b[1;33m \u001b[0mcorrect_transcript_bad\u001b[0m\u001b[1;33m(\u001b[0m\u001b[0mgrades\u001b[0m\u001b[1;33m)\u001b[0m\u001b[1;33m\u001b[0m\u001b[0m\n\u001b[0m",
      "\u001b[1;32m<ipython-input-6-89267391031e>\u001b[0m in \u001b[0;36mcorrect_transcript_bad\u001b[1;34m(grades)\u001b[0m\n\u001b[0;32m      1\u001b[0m \u001b[1;32mdef\u001b[0m \u001b[0mcorrect_transcript_bad\u001b[0m\u001b[1;33m(\u001b[0m\u001b[0mgrades\u001b[0m\u001b[1;33m)\u001b[0m\u001b[1;33m:\u001b[0m\u001b[1;33m\u001b[0m\u001b[0m\n\u001b[1;32m----> 2\u001b[1;33m     \u001b[1;32mfor\u001b[0m \u001b[0mcourse\u001b[0m \u001b[1;32min\u001b[0m \u001b[0mgrades\u001b[0m\u001b[1;33m:\u001b[0m\u001b[1;33m\u001b[0m\u001b[0m\n\u001b[0m\u001b[0;32m      3\u001b[0m         \u001b[1;31m#grades[course] is a grade, like \"B+\" or \"A\". We\u001b[0m\u001b[1;33m\u001b[0m\u001b[1;33m\u001b[0m\u001b[0m\n\u001b[0;32m      4\u001b[0m         \u001b[1;31m#are checking whether grades[course] is \"A\" ор \"А+\"\u001b[0m\u001b[1;33m\u001b[0m\u001b[1;33m\u001b[0m\u001b[0m\n\u001b[0;32m      5\u001b[0m         \u001b[1;32mif\u001b[0m \u001b[0mgrades\u001b[0m\u001b[1;33m[\u001b[0m\u001b[0mcourse\u001b[0m\u001b[1;33m]\u001b[0m \u001b[1;32mnot\u001b[0m \u001b[1;32min\u001b[0m \u001b[1;33m[\u001b[0m\u001b[1;34m\"A\"\u001b[0m\u001b[1;33m,\u001b[0m \u001b[1;34m\"A+\"\u001b[0m\u001b[1;33m]\u001b[0m\u001b[1;33m:\u001b[0m\u001b[1;33m\u001b[0m\u001b[0m\n",
      "\u001b[1;31mRuntimeError\u001b[0m: dictionary changed size during iteration"
     ]
    }
   ],
   "source": [
    "correct_transcript_bad(grades)"
   ]
  },
  {
   "cell_type": "markdown",
   "metadata": {},
   "source": [
    "This results in an error. The reason we get an error is that, just like with lists, **we cannot iterate over dictionaries while modifying their contents.**"
   ]
  },
  {
   "cell_type": "markdown",
   "metadata": {},
   "source": [
    "Here is how to avoid the error: create a list of all the keys in the dictionary (that will from there on be independent of the dictionary), and go over all the keys, deleting the entries corresponding to them one-by-one."
   ]
  },
  {
   "cell_type": "code",
   "execution_count": 9,
   "metadata": {
    "collapsed": true
   },
   "outputs": [],
   "source": [
    "def remove_bad_grades(grades):\n",
    "    #The following is fine, since list(grades.keys()), once created\n",
    "    #is not updated and is independent of the dictionary\n",
    "    for subj in list(grades.keys()): \n",
    "        if grades[subj] not in [\"A\", \"A+\"]:\n",
    "            del grades[subj]"
   ]
  },
  {
   "cell_type": "markdown",
   "metadata": {},
   "source": [
    "The function above is equivalent to doing something like:\n",
    "    \n",
    "    if grades[\"CIV\"] not in [\"A\", \"A+\"]:\n",
    "        del grades[\"CIV\"]\n",
    "    \n",
    "    if grades[\"CSC\"] not in [\"A\", \"A+\"]:\n",
    "        del grades[\"CSC\"]\n",
    "     \n",
    "    #... \n",
    "\n",
    "which is completely fine."
   ]
  },
  {
   "cell_type": "markdown",
   "metadata": {},
   "source": [
    "## A note on modifying dictionaries inside of functions\n",
    "\n",
    "Note that we can modify the contents of a dictionary. That means that what we've been doing above makes sense: you can write a function that modifies the contents of a dictionary, and it would make sense to call it in order to modify a dictionary"
   ]
  },
  {
   "cell_type": "code",
   "execution_count": 4,
   "metadata": {
    "tags": [
     "remove-input"
    ]
   },
   "outputs": [
    {
     "data": {
      "text/html": [
       "<button><a href=\"https://pythontutor.com/render.html#code=%0Agrades+%3D+%7B%22PHY%22%3A+%22A%2B%22%2C+%22CIV%22%3A+%22A%22%2C+%22CSC%22%3A+%22A%2B%22%2C+%22ESC%22%3A%22B%2B%22%7D%0A%0Adef+make_CSC_100%28grades%29%3A%0A++++grades%5B%22CSC%22%5D+%3D+100+%23has+an+effect+outside+the+function%2C%0A++++++++++++++++++++++++%23since+grades+is+an+alias+of+a+dictionary%0A++++++++++++++++++++++++%23that+exists+outside+the+function%0A%0Amake_CSC_100%28grades%29%0A&cumulative=false&heapPrimitives=nevernest&mode=edit&origin=opt-frontend.js&py=3&rawInputLstJSON=%5B%5D&textReferences=false\" target=\"_blank\">Run in Python Tutor</a></button>"
      ],
      "text/plain": [
       "<IPython.core.display.HTML object>"
      ]
     },
     "metadata": {},
     "output_type": "display_data"
    }
   ],
   "source": [
    "from IPython.display import display, HTML\n",
    "import urllib.parse\n",
    "\n",
    "def generate_python_tutor_button(code):\n",
    "    # Encode the code as a URL-safe string\n",
    "    encoded_code = urllib.parse.quote_plus(code)\n",
    "    \n",
    "    # Create the Python Tutor URL\n",
    "    python_tutor_url = f\"https://pythontutor.com/render.html#code={encoded_code}&cumulative=false&heapPrimitives=nevernest&mode=edit&origin=opt-frontend.js&py=3&rawInputLstJSON=%5B%5D&textReferences=false\"\n",
    "    \n",
    "    # Create the HTML button\n",
    "    button_html = f'<button><a href=\"{python_tutor_url}\" target=\"_blank\">Run in Python Tutor</a></button>'\n",
    "    \n",
    "    # Display the button\n",
    "    display(HTML(button_html))\n",
    "\n",
    "# Example usage:\n",
    "code_to_run = \"\"\"\n",
    "grades = {\"PHY\": \"A+\", \"CIV\": \"A\", \"CSC\": \"A+\", \"ESC\":\"B+\"}\n",
    "\n",
    "def make_CSC_100(grades):\n",
    "    grades[\"CSC\"] = 100 #has an effect outside the function,\n",
    "                        #since grades is an alias of a dictionary\n",
    "                        #that exists outside the function\n",
    "\n",
    "make_CSC_100(grades)\n",
    "\"\"\"\n",
    "\n",
    "generate_python_tutor_button(code_to_run)"
   ]
  },
  {
   "cell_type": "code",
   "execution_count": 10,
   "metadata": {
    "collapsed": true
   },
   "outputs": [],
   "source": [
    "def make_CSC_100(grades):\n",
    "    grades[\"CSC\"] = 100 #has an effect outside the function,\n",
    "                        #since grades is an alias of a dictionary\n",
    "                        #that exists outside the function"
   ]
  },
  {
   "cell_type": "markdown",
   "metadata": {},
   "source": [
    "## Clearing a dictionary\n",
    "\n",
    "The function below still doesn't make sense, since it doesn't modify the contents of the dictionary, but rather makes the local variable `grades` refer to a new dictionary:"
   ]
  },
  {
   "cell_type": "code",
   "execution_count": 7,
   "metadata": {
    "tags": [
     "remove-input"
    ]
   },
   "outputs": [
    {
     "data": {
      "text/html": [
       "<button><a href=\"https://pythontutor.com/render.html#code=%0Agrades+%3D+%7B%22PHY%22%3A+%22A%2B%22%2C+%22CIV%22%3A+%22A%22%2C+%22CSC%22%3A+%22A%2B%22%2C+%22ESC%22%3A%22B%2B%22%7D%0Adef+drop_everything%28grades%29%3A%0A++++grades+%3D+%7B%7D+%23doesn%27t+have+an+effect+outside+the+function%0A++++%0Adrop_everything%28grades%29%0A&cumulative=false&heapPrimitives=nevernest&mode=edit&origin=opt-frontend.js&py=3&rawInputLstJSON=%5B%5D&textReferences=false\" target=\"_blank\">Run in Python Tutor</a></button>"
      ],
      "text/plain": [
       "<IPython.core.display.HTML object>"
      ]
     },
     "metadata": {},
     "output_type": "display_data"
    }
   ],
   "source": [
    "from IPython.display import display, HTML\n",
    "import urllib.parse\n",
    "\n",
    "def generate_python_tutor_button(code):\n",
    "    # Encode the code as a URL-safe string\n",
    "    encoded_code = urllib.parse.quote_plus(code)\n",
    "    \n",
    "    # Create the Python Tutor URL\n",
    "    python_tutor_url = f\"https://pythontutor.com/render.html#code={encoded_code}&cumulative=false&heapPrimitives=nevernest&mode=edit&origin=opt-frontend.js&py=3&rawInputLstJSON=%5B%5D&textReferences=false\"\n",
    "    \n",
    "    # Create the HTML button\n",
    "    button_html = f'<button><a href=\"{python_tutor_url}\" target=\"_blank\">Run in Python Tutor</a></button>'\n",
    "    \n",
    "    # Display the button\n",
    "    display(HTML(button_html))\n",
    "\n",
    "# Example usage:\n",
    "code_to_run = \"\"\"\n",
    "grades = {\"PHY\": \"A+\", \"CIV\": \"A\", \"CSC\": \"A+\", \"ESC\":\"B+\"}\n",
    "def drop_everything(grades):\n",
    "    grades = {} #doesn't have an effect outside the function\n",
    "    \n",
    "drop_everything(grades)\n",
    "\"\"\"\n",
    "\n",
    "generate_python_tutor_button(code_to_run)"
   ]
  },
  {
   "cell_type": "code",
   "execution_count": 11,
   "metadata": {
    "collapsed": true
   },
   "outputs": [],
   "source": [
    "def drop_everything(grades):\n",
    "    grades = {} #doesn't have an effect outside the function"
   ]
  },
  {
   "cell_type": "markdown",
   "metadata": {},
   "source": [
    "But the following function does make sense:"
   ]
  },
  {
   "cell_type": "code",
   "execution_count": 8,
   "metadata": {
    "tags": [
     "remove-input"
    ]
   },
   "outputs": [
    {
     "data": {
      "text/html": [
       "<button><a href=\"https://pythontutor.com/render.html#code=%0Agrades+%3D+%7B%22PHY%22%3A+%22A%2B%22%2C+%22CIV%22%3A+%22A%22%2C+%22CSC%22%3A+%22A%2B%22%2C+%22ESC%22%3A%22B%2B%22%7D%0Adef+drop_everything%28grades%29%3A%0A++++grades.clear%28%29+%23.clear%28%29+changes+the+contents+of+grades%0A++++%0Adrop_everything%28grades%29%0A&cumulative=false&heapPrimitives=nevernest&mode=edit&origin=opt-frontend.js&py=3&rawInputLstJSON=%5B%5D&textReferences=false\" target=\"_blank\">Run in Python Tutor</a></button>"
      ],
      "text/plain": [
       "<IPython.core.display.HTML object>"
      ]
     },
     "metadata": {},
     "output_type": "display_data"
    }
   ],
   "source": [
    "from IPython.display import display, HTML\n",
    "import urllib.parse\n",
    "\n",
    "def generate_python_tutor_button(code):\n",
    "    encoded_code = urllib.parse.quote_plus(code)\n",
    "    # Encode the code as a URL-safe string\n",
    "    \n",
    "    # Create the Python Tutor URL\n",
    "    python_tutor_url = f\"https://pythontutor.com/render.html#code={encoded_code}&cumulative=false&heapPrimitives=nevernest&mode=edit&origin=opt-frontend.js&py=3&rawInputLstJSON=%5B%5D&textReferences=false\"\n",
    "    \n",
    "    # Create the HTML button\n",
    "    button_html = f'<button><a href=\"{python_tutor_url}\" target=\"_blank\">Run in Python Tutor</a></button>'\n",
    "    \n",
    "    # Display the button\n",
    "    display(HTML(button_html))\n",
    "\n",
    "# Example usage:\n",
    "code_to_run = \"\"\"\n",
    "grades = {\"PHY\": \"A+\", \"CIV\": \"A\", \"CSC\": \"A+\", \"ESC\":\"B+\"}\n",
    "def drop_everything(grades):\n",
    "    grades.clear() #.clear() changes the contents of grades\n",
    "    \n",
    "drop_everything(grades)\n",
    "\"\"\"\n",
    "\n",
    "generate_python_tutor_button(code_to_run)"
   ]
  },
  {
   "cell_type": "code",
   "execution_count": 12,
   "metadata": {
    "collapsed": true
   },
   "outputs": [],
   "source": [
    "def drop_everything(grades):\n",
    "    grades.clear() #.clear() changes the contents of grades"
   ]
  },
  {
   "cell_type": "markdown",
   "metadata": {},
   "source": [
    "Here is another function that makes sense:"
   ]
  },
  {
   "cell_type": "code",
   "execution_count": 1,
   "metadata": {
    "tags": [
     "remove-input"
    ]
   },
   "outputs": [
    {
     "data": {
      "text/html": [
       "<button><a href=\"https://pythontutor.com/render.html#code=%0Agrades+%3D+%7B%22PHY%22%3A+%22A%2B%22%2C+%22CIV%22%3A+%22A%22%2C+%22CSC%22%3A+%22A%2B%22%2C+%22ESC%22%3A%22B%2B%22%7D%0A%0Adef+drop_everything%28grades%29%3A%0A++++for+subj+in+list%28grades.keys%28%29%29%3A+%0A++++++++del+grades%5Bsubj%5D%0A++++++++++++%0Adrop_everything%28grades%29%0A&cumulative=false&heapPrimitives=nevernest&mode=edit&origin=opt-frontend.js&py=3&rawInputLstJSON=%5B%5D&textReferences=false\" target=\"_blank\">Run in Python Tutor</a></button>"
      ],
      "text/plain": [
       "<IPython.core.display.HTML object>"
      ]
     },
     "metadata": {},
     "output_type": "display_data"
    }
   ],
   "source": [
    "from IPython.display import display, HTML\n",
    "import urllib.parse\n",
    "\n",
    "def generate_python_tutor_button(code):\n",
    "    encoded_code = urllib.parse.quote_plus(code)\n",
    "    # Encode the code as a URL-safe string\n",
    "    \n",
    "    # Create the Python Tutor URL\n",
    "    python_tutor_url = f\"https://pythontutor.com/render.html#code={encoded_code}&cumulative=false&heapPrimitives=nevernest&mode=edit&origin=opt-frontend.js&py=3&rawInputLstJSON=%5B%5D&textReferences=false\"\n",
    "    \n",
    "    # Create the HTML button\n",
    "    button_html = f'<button><a href=\"{python_tutor_url}\" target=\"_blank\">Run in Python Tutor</a></button>'\n",
    "    \n",
    "    # Display the button\n",
    "    display(HTML(button_html))\n",
    "\n",
    "# Example usage:\n",
    "code_to_run = \"\"\"\n",
    "grades = {\"PHY\": \"A+\", \"CIV\": \"A\", \"CSC\": \"A+\", \"ESC\":\"B+\"}\n",
    "\n",
    "def drop_everything(grades):\n",
    "    for subj in list(grades.keys()): \n",
    "        del grades[subj]\n",
    "            \n",
    "drop_everything(grades)\n",
    "\"\"\"\n",
    "\n",
    "generate_python_tutor_button(code_to_run)"
   ]
  },
  {
   "cell_type": "code",
   "execution_count": 13,
   "metadata": {
    "collapsed": true
   },
   "outputs": [],
   "source": [
    "def drop_everything(grades):\n",
    "    for subj in list(grades.keys()): \n",
    "        del grades[subj]"
   ]
  },
  {
   "cell_type": "markdown",
   "metadata": {},
   "source": [
    "Finally, here's another idea. A way to get some key in the dictionary grades is to get a list of all the keys:"
   ]
  },
  {
   "cell_type": "code",
   "execution_count": 14,
   "metadata": {
    "collapsed": false
   },
   "outputs": [
    {
     "data": {
      "text/plain": [
       "['CIV', 'CSC', 'PHY']"
      ]
     },
     "execution_count": 14,
     "metadata": {},
     "output_type": "execute_result"
    }
   ],
   "source": [
    "list(grades.keys())"
   ]
  },
  {
   "cell_type": "markdown",
   "metadata": {},
   "source": [
    "We can get the first element of this list:"
   ]
  },
  {
   "cell_type": "code",
   "execution_count": 15,
   "metadata": {
    "collapsed": false
   },
   "outputs": [
    {
     "data": {
      "text/plain": [
       "'CIV'"
      ]
     },
     "execution_count": 15,
     "metadata": {},
     "output_type": "execute_result"
    }
   ],
   "source": [
    "list(grades.keys())[0]"
   ]
  },
  {
   "cell_type": "markdown",
   "metadata": {},
   "source": [
    "We could, if we wanted, delete the entry that corresponds to this key:"
   ]
  },
  {
   "cell_type": "code",
   "execution_count": 16,
   "metadata": {
    "collapsed": false
   },
   "outputs": [
    {
     "data": {
      "text/plain": [
       "{'CSC': 'A+', 'PHY': 'A+'}"
      ]
     },
     "execution_count": 16,
     "metadata": {},
     "output_type": "execute_result"
    }
   ],
   "source": [
    "del grades[list(grades.keys())[0]]\n",
    "grades"
   ]
  },
  {
   "cell_type": "markdown",
   "metadata": {},
   "source": [
    "Here is the final version of `drop_everything()` that uses this idea:"
   ]
  },
  {
   "cell_type": "code",
   "execution_count": 17,
   "metadata": {
    "collapsed": true
   },
   "outputs": [],
   "source": [
    "def drop_everything2(grades):\n",
    "    while len(grades) > 0:\n",
    "        del grades[list(grades.keys())[0]]"
   ]
  }
 ],
 "metadata": {
  "kernelspec": {
   "display_name": "Python 3",
   "language": "python",
   "name": "python3"
  },
  "language_info": {
   "codemirror_mode": {
    "name": "ipython",
    "version": 3
   },
   "file_extension": ".py",
   "mimetype": "text/x-python",
   "name": "python",
   "nbconvert_exporter": "python",
   "pygments_lexer": "ipython3",
   "version": "3.9.12"
  }
 },
 "nbformat": 4,
 "nbformat_minor": 0
}
