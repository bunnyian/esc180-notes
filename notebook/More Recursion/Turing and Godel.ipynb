{
 "cells": [
  {
   "cell_type": "markdown",
   "metadata": {},
   "source": [
    "# The Halting Problem\n",
    "\n",
    "Suppose we have a program.  We want to determine whether the program contains an infinite loop\n",
    "\n",
    "Turing's result: **it's impossible to write an algorithm to accomplish this.**\n",
    "\n",
    "Here are some examples: an input would for example be a string like:\n",
    "\n",
    "\n",
    "    '''def f():\n",
    "      while True:\n",
    "        pass'''\n",
    "        \n",
    "(Obviously, that's an infinite loop.)        \n",
    "\n",
    "Possibly, it would be a string like this:\n",
    "\n",
    "    '''def g():\n",
    "       n = 3\n",
    "       while True:\n",
    "         if n % 2 == 0 and is_prime(n):\n",
    "           return\n",
    "          n += 1'''\n",
    "         \n",
    "This is also an infinite loop, but we need some mathematical insight in order to figure it out: it's an infinite loop because there are no prime even numbers greater than 2.\n",
    "\n",
    "\n",
    "Finally, here's a function that we saw already. People took hundreds of years to finally prove Fermat's Last Theorem, which says that `fermat(3)` would produce an infinite loop for\n",
    "\n",
    "\n",
    "     '''def fermat(p):\n",
    "            n = 1\n",
    "            while True:\n",
    "                for i in range(1, n):\n",
    "                    for j in range(1, n):\n",
    "                        for k in range(1, n):\n",
    "                            if i**p + j**p == k**p:\n",
    "                                return i, j, k\n",
    "                n += 1'''\n",
    "                \n",
    "Here is a hypothetical function that we'd like to write:                "
   ]
  },
  {
   "cell_type": "code",
   "execution_count": 1,
   "metadata": {
    "collapsed": true
   },
   "outputs": [],
   "source": [
    "def halt(f, x):\n",
    "    '''return True if f halts (i.e., doesn't loop infintiely) if given\n",
    "    input x'''\n",
    "    #...."
   ]
  },
  {
   "cell_type": "markdown",
   "metadata": {},
   "source": [
    "Turing's result is that you *cannot* write a function like that. It just doesn't exist. \n",
    "\n",
    "Assume that we can write a function `halt()` as defined above. We'll get to a contradiction, which will mean that our\n",
    "assumption that it's possible to write `halt()` is false!\n",
    "\n",
    "Here is how we can arrive at a contradiction. Let's define the function `confused()`."
   ]
  },
  {
   "cell_type": "code",
   "execution_count": 2,
   "metadata": {
    "collapsed": true
   },
   "outputs": [],
   "source": [
    "def confused(f):\n",
    "    if halt(f, f):\n",
    "        while True:\n",
    "            pass\n",
    "    else:\n",
    "        return False"
   ]
  },
  {
   "cell_type": "markdown",
   "metadata": {},
   "source": [
    "Assume the function was called using confused(confused). Then:\n",
    "       f = confused\n",
    "inside the call to `confused()`.\n",
    "\n",
    "Now, suppose `confused(confused)` halts. Then `halt(confused, confused)` is `True`, which means that we'll enter the infinite loop! So it can't be that `confused(confused)` halts.\n",
    "\n",
    "Now, suppose that `confused(confused)` does not halt. Then Then `halt(confused, confused)` is `False`, which means we don't enter the infinite loop! So it can't be that `confused(confused)` doesn't halt.\n",
    "\n",
    "So `confused(confused)` doesn't halt, and also doesn't *not* halt. That's impossible.\n",
    "\n",
    "The problem is that we assumed that `halt(f, x)` can be written in the first place -- it can't, since assuming that it can leads to a contradiction.\n",
    "\n",
    "\n",
    "\n",
    "## Godel's Incompleteness Theorem\n",
    "\n",
    "Here's a simplified statement of the Theorem: \"There are true statements about arithmetic that cannot be proven.\"\n",
    "\n",
    "We'll show that if any statement true *can* be proven, we can write `halt(f, x)`. But we can't, which means that there are statements that cannot be proven.\n",
    "\n",
    "Claim: any proof can be checked (TRUE, trust me).\n",
    "\n",
    "Here's how we can write `halt(f, x)`:\n",
    "\n",
    "    Generate all strings s over the latin alphabet\n",
    "      For every s, check if it's a correct proof that f(x) halts\n",
    "                   check if it's a correct proof that f(x) doesn't halt\n",
    "                   \n",
    "Eventually, if we keep checking all the strings, we'll get to a proof that `f(x)` halts, or we'll reach a proof that `f(x)` doesn't halt. That way we can answer the question of whether `f(x)` halts or not!\n",
    "\n",
    "BUT HALT IS IMPOSSIBLE TO WRITE, so something went wrong. What went wrong is the assumption that any true statement has a proof.\n",
    "\n",
    "I can't give you an example of such a statement (because I can't prove that it's true, by design!) But this is a proof that those statements are out there.\n",
    "\n"
   ]
  }
 ],
 "metadata": {
  "kernelspec": {
   "display_name": "Python 3",
   "language": "python",
   "name": "python3"
  },
  "language_info": {
   "codemirror_mode": {
    "name": "ipython",
    "version": 2
   },
   "file_extension": ".py",
   "mimetype": "text/x-python",
   "name": "python",
   "nbconvert_exporter": "python",
   "pygments_lexer": "ipython2",
   "version": "2.7.12"
  }
 },
 "nbformat": 4,
 "nbformat_minor": 0
}
