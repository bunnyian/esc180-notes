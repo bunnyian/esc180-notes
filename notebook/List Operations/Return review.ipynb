{
 "cells": [
  {
   "cell_type": "markdown",
   "metadata": {},
   "source": [
    "# Review of `return`\n",
    "\n",
    "To review, here is what `return` does."
   ]
  },
  {
   "cell_type": "code",
   "execution_count": 1,
   "metadata": {
    "collapsed": false
   },
   "outputs": [
    {
     "name": "stdout",
     "output_type": "stream",
     "text": [
      "105\n"
     ]
    }
   ],
   "source": [
    "def f(n):\n",
    "    n = n * 2\n",
    "    return n + 5\n",
    "\n",
    "if __name__ == '__main__':\n",
    "    print(f(50))"
   ]
  },
  {
   "cell_type": "markdown",
   "metadata": {},
   "source": [
    "What is happenning here is that first, `n` gets assigned the value 50. Then, the computation happens inside the function `f()`. Finally, the value of `f(50)` becomes (`2*50+5`), i.e., `105`. That's what gets printed.\n",
    "\n",
    "# `return` stops the execution of a function\n",
    "\n",
    "Here is a simple function that returns the first even number in the list `L`. For example, if `L = [3, 5, 7, 1, 10, 3, 2, 8]`, we want to return `10`.\n"
   ]
  },
  {
   "cell_type": "code",
   "execution_count": 2,
   "metadata": {
    "collapsed": false
   },
   "outputs": [
    {
     "name": "stdout",
     "output_type": "stream",
     "text": [
      "10\n"
     ]
    }
   ],
   "source": [
    "def first_even(L):\n",
    "    for e in L:\n",
    "        if e % 2 == 0:\n",
    "            return e\n",
    "        \n",
    "if __name__ == '__main__'        :\n",
    "    print(first_even([3, 5, 7, 1, 10, 3, 2, 8]))"
   ]
  },
  {
   "cell_type": "markdown",
   "metadata": {},
   "source": [
    "Why is 10 returned, and not 2 or 8? Because once `e` becomes `10`, we execute the statement `return e`, which returns `10`, and no further computation is done in `first_even()`.\n",
    "\n",
    "What if we want the first *two* even numbers? What we can do is return a list that contains the first two even numbers."
   ]
  },
  {
   "cell_type": "code",
   "execution_count": 3,
   "metadata": {
    "collapsed": true
   },
   "outputs": [],
   "source": [
    "def first_two_evens(L):\n",
    "    res = []\n",
    "    for e in L:\n",
    "        if e % 2 == 0:\n",
    "            res.append(e)\n",
    "    \n",
    "    return res[:2]  #just return [res[0], res[1]]"
   ]
  },
  {
   "cell_type": "markdown",
   "metadata": {},
   "source": [
    "We can use `return` here, just to save some computation (but not alter the result.)"
   ]
  },
  {
   "cell_type": "code",
   "execution_count": null,
   "metadata": {
    "collapsed": true
   },
   "outputs": [],
   "source": [
    "def first_two_evens_B(L):\n",
    "    res = []\n",
    "    for e in L:\n",
    "        if e % 2 == 0:\n",
    "            res.append(r)\n",
    "    \n",
    "        if len(res) == 2:\n",
    "            return res #we built up res, no point going further\n",
    "                \n",
    "    \n",
    "    return res"
   ]
  }
 ],
 "metadata": {
  "kernelspec": {
   "display_name": "Python 3",
   "language": "python",
   "name": "python3"
  },
  "language_info": {
   "codemirror_mode": {
    "name": "ipython",
    "version": 3
   },
   "file_extension": ".py",
   "mimetype": "text/x-python",
   "name": "python",
   "nbconvert_exporter": "python",
   "pygments_lexer": "ipython3",
   "version": "3.4.3"
  }
 },
 "nbformat": 4,
 "nbformat_minor": 0
}
