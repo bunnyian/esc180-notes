{
 "cells": [
  {
   "cell_type": "markdown",
   "metadata": {},
   "source": [
    "# Iterating over lists while modifying them Pt. 2"
   ]
  },
  {
   "cell_type": "markdown",
   "metadata": {},
   "source": [
    "In the previous lecture, we saw that it's inadvisable to iterate through a list while modifying its contents by removing (or inserting) elements. What *should* be done?\n",
    "\n",
    "One possibility is to go through the list while creating a new list:"
   ]
  },
  {
   "cell_type": "code",
   "execution_count": 1,
   "metadata": {
    "collapsed": false
   },
   "outputs": [],
   "source": [
    "def remove_4pt0(L):\n",
    "    '''Remove all occurrences of 4.0 from the list L'''\n",
    "    L_new = []\n",
    "    for e in L:\n",
    "        if e != 4.0:\n",
    "            L_new.append(e)\n",
    "    L[:] = L_new #Assign L_new to the *contents*\n",
    "                 #of L -- has an effect outside\n",
    "                 #the function\n",
    "\n",
    "L = [3.2, 4.0, 4.0, 2.3, 1.5, 3.9, 4.0]        \n"
   ]
  },
  {
   "cell_type": "markdown",
   "metadata": {},
   "source": [
    "What are some other ways?"
   ]
  },
  {
   "cell_type": "markdown",
   "metadata": {},
   "source": [
    "You could, per se, use a while loop to iterate `len(L)` times using a counter, adjusting the index accordingly when elements are removed."
   ]
  },
  {
   "cell_type": "code",
   "execution_count": 1,
   "metadata": {},
   "outputs": [
    {
     "name": "stdout",
     "output_type": "stream",
     "text": [
      "[3.2, 2.3, 1.5, 3.9]\n"
     ]
    }
   ],
   "source": [
    "def remove_4pt0(L):\n",
    "    '''Remove all occurrences of 4.0 from the list L, using a while loop and adjusting index when removing, without copying the list'''\n",
    "    i = 0\n",
    "    while i < len(L):\n",
    "        if L[i] == 4.0:\n",
    "            del L[i]\n",
    "        else:\n",
    "            i += 1\n",
    "            \n",
    "\n",
    "L = [3.2, 4.0, 4.0, 2.3, 1.5, 3.9, 4.0]\n",
    "\n",
    "remove_4pt0(L)\n",
    "print(L)          "
   ]
  },
  {
   "cell_type": "markdown",
   "metadata": {},
   "source": [
    "```{Caution} While it is technically possible to iterate through a list while modifying it, it is not recommended.\n",
    "```"
   ]
  }
 ],
 "metadata": {
  "kernelspec": {
   "display_name": "Python 3",
   "language": "python",
   "name": "python3"
  },
  "language_info": {
   "codemirror_mode": {
    "name": "ipython",
    "version": 3
   },
   "file_extension": ".py",
   "mimetype": "text/x-python",
   "name": "python",
   "nbconvert_exporter": "python",
   "pygments_lexer": "ipython3",
   "version": "3.9.12"
  }
 },
 "nbformat": 4,
 "nbformat_minor": 0
}
