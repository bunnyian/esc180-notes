{
 "cells": [
  {
   "cell_type": "markdown",
   "metadata": {},
   "source": [
    "# Intro to Files"
   ]
  },
  {
   "cell_type": "markdown",
   "metadata": {},
   "source": [
    "Let's say that we want to read a file named `\"versedog.txt\"` from the current folder (Python always has a current folder -- it's the same story as when we had to `import` modules.) Here is how we can do it:"
   ]
  },
  {
   "cell_type": "code",
   "execution_count": 1,
   "metadata": {
    "collapsed": false
   },
   "outputs": [],
   "source": [
    "f = open(\"versedog.txt\", encoding=\"latin1\")"
   ]
  },
  {
   "cell_type": "markdown",
   "metadata": {},
   "source": [
    "(To make this work, place your `.py` file in the same folder as the file that you want to read, and use \"Run file as script\" in Pyzo)."
   ]
  },
  {
   "cell_type": "markdown",
   "metadata": {},
   "source": [
    "We specify `encoding=\"latin1\"` to make Python interpret all characters in `versedog.txt` as English letters. This will avoid all sorts of problems with file encodings. Of course, if the file is not actually written in the Lating alphabet, we'd be in big trouble!"
   ]
  },
  {
   "cell_type": "markdown",
   "metadata": {},
   "source": [
    "To get the text of the file, we can now use"
   ]
  },
  {
   "cell_type": "code",
   "execution_count": 2,
   "metadata": {
    "collapsed": true
   },
   "outputs": [],
   "source": [
    "s = f.read()"
   ]
  },
  {
   "cell_type": "markdown",
   "metadata": {},
   "source": [
    "`s` is now a string:"
   ]
  },
  {
   "cell_type": "code",
   "execution_count": 3,
   "metadata": {
    "collapsed": false
   },
   "outputs": [
    {
     "data": {
      "text/plain": [
       "'Verse For A Certain Dog, Dorothy Parker\\n\\nSuch glorious faith as fills your limpid eyes, \\nDear little friend of mine, I never knew. \\nAll-innocent are you, and yet all-wise. \\n(For Heaven\\'s sake, stop worrying that shoe!) \\nYou look about, and all you see is fair; \\nThis mighty globe was made for you alone. \\nOf all the thunderous ages, you\\'re the heir. \\n(Get off the pillow with that dirty bone!) \\n\\nA skeptic world you face with steady gaze; \\nHigh in young pride you hold your noble head, \\nGayly you meet the rush of roaring days. \\n(Must you eat puppy biscuit on the bed?) \\nLancelike your courage, gleaming swift and strong, \\nYours the white rapture of a winged soul, \\nYours is a spirit like a Mayday song. \\n(God help you, if you break the goldfish bowl!) \\n\\n\"Whatever is, is good\" - your gracious creed. \\nYou wear your joy of living like a crown. \\nLove lights your simplest act, your every deed. \\n(Drop it, I tell you- put that kitten down!) \\nYou are God\\'s kindliest gift of all - a friend. \\nYour shining loyalty unflecked by doubt, \\nYou ask but leave to follow to the end. \\n(Couldn\\'t you wait until I took you out?)\\n'"
      ]
     },
     "execution_count": 3,
     "metadata": {},
     "output_type": "execute_result"
    }
   ],
   "source": [
    "s"
   ]
  },
  {
   "cell_type": "markdown",
   "metadata": {},
   "source": [
    "We can print the string, and have all the `\"\\n\"` interepreted as newlines:"
   ]
  },
  {
   "cell_type": "code",
   "execution_count": 4,
   "metadata": {
    "collapsed": false
   },
   "outputs": [
    {
     "name": "stdout",
     "output_type": "stream",
     "text": [
      "Verse For A Certain Dog, Dorothy Parker\n",
      "\n",
      "Such glorious faith as fills your limpid eyes, \n",
      "Dear little friend of mine, I never knew. \n",
      "All-innocent are you, and yet all-wise. \n",
      "(For Heaven's sake, stop worrying that shoe!) \n",
      "You look about, and all you see is fair; \n",
      "This mighty globe was made for you alone. \n",
      "Of all the thunderous ages, you're the heir. \n",
      "(Get off the pillow with that dirty bone!) \n",
      "\n",
      "A skeptic world you face with steady gaze; \n",
      "High in young pride you hold your noble head, \n",
      "Gayly you meet the rush of roaring days. \n",
      "(Must you eat puppy biscuit on the bed?) \n",
      "Lancelike your courage, gleaming swift and strong, \n",
      "Yours the white rapture of a winged soul, \n",
      "Yours is a spirit like a Mayday song. \n",
      "(God help you, if you break the goldfish bowl!) \n",
      "\n",
      "\"Whatever is, is good\" - your gracious creed. \n",
      "You wear your joy of living like a crown. \n",
      "Love lights your simplest act, your every deed. \n",
      "(Drop it, I tell you- put that kitten down!) \n",
      "You are God's kindliest gift of all - a friend. \n",
      "Your shining loyalty unflecked by doubt, \n",
      "You ask but leave to follow to the end. \n",
      "(Couldn't you wait until I took you out?)\n",
      "\n"
     ]
    }
   ],
   "source": [
    "print(s)"
   ]
  },
  {
   "cell_type": "markdown",
   "metadata": {},
   "source": [
    "Finally, let's introduce Pythons `str.split()` function. `s.split(sep)` splits the string `s` into a list of strings which in `s` are separated by the string `sep`. For example:"
   ]
  },
  {
   "cell_type": "code",
   "execution_count": 5,
   "metadata": {
    "collapsed": false
   },
   "outputs": [
    {
     "data": {
      "text/plain": [
       "['Verse For A Certain Dog, Dorothy Parker',\n",
       " '',\n",
       " 'Such glorious faith as fills your limpid eyes, ',\n",
       " 'Dear little friend of mine, I never knew. ',\n",
       " 'All-innocent are you, and yet all-wise. ',\n",
       " \"(For Heaven's sake, stop worrying that shoe!) \",\n",
       " 'You look about, and all you see is fair; ',\n",
       " 'This mighty globe was made for you alone. ',\n",
       " \"Of all the thunderous ages, you're the heir. \",\n",
       " '(Get off the pillow with that dirty bone!) ',\n",
       " '',\n",
       " 'A skeptic world you face with steady gaze; ',\n",
       " 'High in young pride you hold your noble head, ',\n",
       " 'Gayly you meet the rush of roaring days. ',\n",
       " '(Must you eat puppy biscuit on the bed?) ',\n",
       " 'Lancelike your courage, gleaming swift and strong, ',\n",
       " 'Yours the white rapture of a winged soul, ',\n",
       " 'Yours is a spirit like a Mayday song. ',\n",
       " '(God help you, if you break the goldfish bowl!) ',\n",
       " '',\n",
       " '\"Whatever is, is good\" - your gracious creed. ',\n",
       " 'You wear your joy of living like a crown. ',\n",
       " 'Love lights your simplest act, your every deed. ',\n",
       " '(Drop it, I tell you- put that kitten down!) ',\n",
       " \"You are God's kindliest gift of all - a friend. \",\n",
       " 'Your shining loyalty unflecked by doubt, ',\n",
       " 'You ask but leave to follow to the end. ',\n",
       " \"(Couldn't you wait until I took you out?)\",\n",
       " '']"
      ]
     },
     "execution_count": 5,
     "metadata": {},
     "output_type": "execute_result"
    }
   ],
   "source": [
    "s.split(\"\\n\")"
   ]
  },
  {
   "cell_type": "markdown",
   "metadata": {},
   "source": [
    "We can get line 11 in the file using"
   ]
  },
  {
   "cell_type": "code",
   "execution_count": 6,
   "metadata": {
    "collapsed": false
   },
   "outputs": [
    {
     "data": {
      "text/plain": [
       "'A skeptic world you face with steady gaze; '"
      ]
     },
     "execution_count": 6,
     "metadata": {},
     "output_type": "execute_result"
    }
   ],
   "source": [
    "s.split(\"\\n\")[11]"
   ]
  }
 ],
 "metadata": {
  "kernelspec": {
   "display_name": "Python 3",
   "language": "python",
   "name": "python3"
  },
  "language_info": {
   "codemirror_mode": {
    "name": "ipython",
    "version": 3
   },
   "file_extension": ".py",
   "mimetype": "text/x-python",
   "name": "python",
   "nbconvert_exporter": "python",
   "pygments_lexer": "ipython3",
   "version": "3.9.12"
  }
 },
 "nbformat": 4,
 "nbformat_minor": 0
}
