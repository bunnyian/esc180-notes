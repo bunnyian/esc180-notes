{
 "cells": [
  {
   "cell_type": "markdown",
   "metadata": {},
   "source": [
    "# Generating Passwords of Fixed Length n"
   ]
  },
  {
   "cell_type": "markdown",
   "metadata": {},
   "source": [
    "Now, let's write Python code to generate all the passwords of length `n`."
   ]
  },
  {
   "cell_type": "markdown",
   "metadata": {},
   "source": [
    "```{admonition} Why use exec?\n",
    "While n itself is a fixed integer, n can be of any value. As you can imagine, to solve this problem with n = 1, you would need to loop 1 time through all characters. For n = 2, you would need a loop within an loop (nested).\n",
    "\n",
    "Since it isn't possible to write a loop for every possible value of n, we use exec. We are able to write a loop that runs n time, adding a new loop for every value of n to a *string*. From executing this string, we are now able to have a nested loop for every value of n.\n",
    "```"
   ]
  },
  {
   "cell_type": "code",
   "execution_count": null,
   "metadata": {
    "collapsed": true
   },
   "outputs": [],
   "source": [
    "def gen_nested_loop(n):\n",
    "    res = \"def gen_passwords():\\n\"\n",
    "    for i in range(n):\n",
    "        res += \"%sfor letter%d in alphabet:\\n\" % ((1+i)*\" \", i) # 1 space per level for indentation (nesting of the loops)\n",
    "                                                                # this results in a space of (1+i)*\" \" at the start of the line\n",
    "                                                                \n",
    "                                                                # cannot use letter as a variable name for every loop, or else it would\n",
    "                                                                # not distinguish between each index of the password, \n",
    "                                                                # so add a number to the end unique to each loop\n",
    "                                                                \n",
    "                                                                # \"\\n\" to start new line before next loop\n",
    "    \n",
    "    add_line = \"password = \" # add_line is the line that adds the letters together to form the password\n",
    "    for i in range(n-1):\n",
    "        add_line += \"letter%d + \" % (i) # add each letter to the str corresponding to the number of nested loops\n",
    "    add_line += \"letter%d\" % (n-1) # last character does not need a + after it\n",
    "                                   # eg. \"letter1 + letter2 +\"\" is wrong, need to not add the last +\n",
    "    \n",
    "    res += (n+1)*\" \" + add_line + \"\\n\"\n",
    "    res += (n+1)*\" \" + \"print(password)\\n\"\n",
    "    \n",
    "    return res"
   ]
  },
  {
   "cell_type": "markdown",
   "metadata": {},
   "source": [
    "Here's the string that `gen_nested_loop(5)` returns:"
   ]
  },
  {
   "cell_type": "code",
   "execution_count": 2,
   "metadata": {
    "collapsed": false
   },
   "outputs": [
    {
     "data": {
      "text/plain": [
       "'def gen_passwords():\\n for letter0 in alphabet:\\n  for letter1 in alphabet:\\n   for letter2 in alphabet:\\n    for letter3 in alphabet:\\n     for letter4 in alphabet:\\n      password = letter0 + letter1 + letter2 + letter3 + letter4\\n      print(password)\\n'"
      ]
     },
     "execution_count": 2,
     "metadata": {},
     "output_type": "execute_result"
    }
   ],
   "source": [
    "gen_nested_loop(5)"
   ]
  },
  {
   "cell_type": "markdown",
   "metadata": {},
   "source": [
    "Let's print it:"
   ]
  },
  {
   "cell_type": "code",
   "execution_count": 3,
   "metadata": {
    "collapsed": false,
    "scrolled": true
   },
   "outputs": [
    {
     "name": "stdout",
     "output_type": "stream",
     "text": [
      "def gen_passwords():\n",
      " for letter0 in alphabet:\n",
      "  for letter1 in alphabet:\n",
      "   for letter2 in alphabet:\n",
      "    for letter3 in alphabet:\n",
      "     for letter4 in alphabet:\n",
      "      password = letter0 + letter1 + letter2 + letter3 + letter4\n",
      "      print(password)\n",
      "\n"
     ]
    }
   ],
   "source": [
    "print(gen_nested_loop(5))"
   ]
  },
  {
   "cell_type": "markdown",
   "metadata": {},
   "source": [
    "We can now save the string, and then run it with `exec`. We'll then be able to call the function `gen_passwords()`."
   ]
  },
  {
   "cell_type": "code",
   "execution_count": 4,
   "metadata": {
    "collapsed": false
   },
   "outputs": [
    {
     "name": "stdout",
     "output_type": "stream",
     "text": [
      "def gen_passwords():\n",
      " for letter0 in alphabet:\n",
      "  for letter1 in alphabet:\n",
      "   password = letter0 + letter1\n",
      "   print(password)\n",
      "\n"
     ]
    }
   ],
   "source": [
    "alphabet = \"abc\"\n",
    "program_text = gen_nested_loop(2)\n",
    "print(program_text)"
   ]
  },
  {
   "cell_type": "code",
   "execution_count": 5,
   "metadata": {
    "collapsed": true
   },
   "outputs": [],
   "source": [
    "exec(program_text)"
   ]
  },
  {
   "cell_type": "code",
   "execution_count": 6,
   "metadata": {
    "collapsed": false
   },
   "outputs": [
    {
     "name": "stdout",
     "output_type": "stream",
     "text": [
      "aa\n",
      "ab\n",
      "ac\n",
      "ba\n",
      "bb\n",
      "bc\n",
      "ca\n",
      "cb\n",
      "cc\n"
     ]
    }
   ],
   "source": [
    "gen_passwords()"
   ]
  }
 ],
 "metadata": {
  "kernelspec": {
   "display_name": "Python 3",
   "language": "python",
   "name": "python3"
  },
  "language_info": {
   "codemirror_mode": {
    "name": "ipython",
    "version": 3
   },
   "file_extension": ".py",
   "mimetype": "text/x-python",
   "name": "python",
   "nbconvert_exporter": "python",
   "pygments_lexer": "ipython3",
   "version": "3.4.3"
  }
 },
 "nbformat": 4,
 "nbformat_minor": 0
}
