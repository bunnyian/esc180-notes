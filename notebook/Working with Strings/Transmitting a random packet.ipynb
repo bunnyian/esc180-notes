{
 "cells": [
  {
   "cell_type": "markdown",
   "metadata": {},
   "source": [
    "# Transmitting a random packet\n",
    "\n",
    "A question a friend of a friend got at a Google interview: a router needs to receive $N$ data packets (represent them as strings), and needs to transmit one of the $N$ packets, uniformly at random (i.e., each packet should have an equal probability of being transmitted.\n",
    "\n",
    "**Extra condition**: you cannot use more than five memory slots.\n",
    "\n",
    "Let's solve this problem without the extra condition:"
   ]
  },
  {
   "cell_type": "code",
   "execution_count": 1,
   "metadata": {
    "collapsed": false
   },
   "outputs": [
    {
     "name": "stdout",
     "output_type": "stream",
     "text": [
      "aeee\n"
     ]
    }
   ],
   "source": [
    "import random\n",
    "\n",
    "def receive_packet(packet):\n",
    "    global packets, N #Note that this is not strictly necessary\n",
    "                      #The only situation where this *is* necessary\n",
    "                      #is when we need to go\n",
    "                      #N = <something new> or\n",
    "                      #packets = <something new>\n",
    "                      \n",
    "                      \n",
    "    packets.append(packet)\n",
    "    \n",
    "    if len(packets) == N:\n",
    "        packets.append(packet)\n",
    "        ind = int(random.random()*N) #a random integer between\n",
    "                                     #0 and N-1\n",
    "        return packets[ind]          #A random packet\n",
    "    \n",
    "    \n",
    "    #else:\n",
    "    #   return None \n",
    "    #The above is optional -- None is returned by default\n",
    "    \n",
    "if __name__ == '__main__':\n",
    "    #Define global variables\n",
    "    packets = []\n",
    "    N = 6\n",
    "    #Now, send 6 packets. After the 6th packet is sent in, we\n",
    "    #expect receive_packet() to return a random packet from \n",
    "    #among the 6 packets\n",
    "    receive_packet(\"aeee\")\n",
    "    receive_packet(\"abcd\")\n",
    "    receive_packet(\"abcd\")\n",
    "    receive_packet(\"aeee\")\n",
    "    receive_packet(\"abcd\")\n",
    "    print(receive_packet(\"abcd\"))"
   ]
  }
 ],
 "metadata": {
  "kernelspec": {
   "display_name": "Python 3",
   "language": "python",
   "name": "python3"
  },
  "language_info": {
   "codemirror_mode": {
    "name": "ipython",
    "version": 3
   },
   "file_extension": ".py",
   "mimetype": "text/x-python",
   "name": "python",
   "nbconvert_exporter": "python",
   "pygments_lexer": "ipython3",
   "version": "3.4.3"
  }
 },
 "nbformat": 4,
 "nbformat_minor": 0
}
