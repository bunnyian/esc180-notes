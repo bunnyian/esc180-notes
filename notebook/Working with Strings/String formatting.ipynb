{
 "cells": [
  {
   "cell_type": "markdown",
   "metadata": {},
   "source": [
    "# String formatting\n",
    "\n",
    "We can create strings by putting placeholders in string templates, and then substituting values for those placeholders. Here is an example:"
   ]
  },
  {
   "cell_type": "code",
   "execution_count": 1,
   "metadata": {
    "collapsed": false
   },
   "outputs": [
    {
     "data": {
      "text/plain": [
       "'I got 95 in Linear Algebra. I feel great about that!'"
      ]
     },
     "execution_count": 1,
     "metadata": {},
     "output_type": "execute_result"
    }
   ],
   "source": [
    "\"I got %d in %s. I feel %s about that!\" % (95, \"Linear Algebra\", \"great\")"
   ]
  },
  {
   "cell_type": "markdown",
   "metadata": {},
   "source": [
    "95 got substituted for `%d`, `\"Linear Algebra\"` got substituted for the first `\"s\"`, and `\"great\"` got substituted for the second `%s`.\n",
    "\n",
    "`%d` stands for \"decimal.\" It must be substituted with an `int`.\n",
    "`%s` stands for \"string.\" It must be substituted with a `string`.\n",
    "`%f` stands for \"float.\" It must be substituted with a `float`.\n",
    "\n",
    "The placeholders get substituted by the arguments supplied to the right, in order"
   ]
  }
 ],
 "metadata": {
  "kernelspec": {
   "display_name": "Python 3",
   "language": "python",
   "name": "python3"
  },
  "language_info": {
   "codemirror_mode": {
    "name": "ipython",
    "version": 3
   },
   "file_extension": ".py",
   "mimetype": "text/x-python",
   "name": "python",
   "nbconvert_exporter": "python",
   "pygments_lexer": "ipython3",
   "version": "3.4.3"
  }
 },
 "nbformat": 4,
 "nbformat_minor": 0
}
