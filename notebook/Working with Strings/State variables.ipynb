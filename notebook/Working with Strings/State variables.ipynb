{
 "cells": [
  {
   "cell_type": "markdown",
   "metadata": {},
   "source": [
    "# State Variables"
   ]
  },
  {
   "cell_type": "markdown",
   "metadata": {},
   "source": [
    "Here's a the problem we want to solve: we want to find if the string `s` contains a string consisting of *exactly* $n$ `\"a\"`s followed by one `\"b\"`. ($n+1$ `\"a\"`s followed by one `\"b\"` would count, and $n$ `\"a\"`s followed by  `\"bb\"` won't count either.)\n",
    "\n",
    "The approach we'll take is defining the *state variable* `cur_run_a` (Note: it's just a regular integer. We just *call* it a state variable), and make sure that it's up-to-date at every iteration."
   ]
  },
  {
   "cell_type": "code",
   "execution_count": 1,
   "metadata": {
    "collapsed": true
   },
   "outputs": [],
   "source": [
    "def n_as_plus_b(s, n):\n",
    "    cur_run_a = 0 #the length of the current run of a's\n",
    "    \n",
    "    for i in range(len(s)):\n",
    "        if s[i] == \"a\":\n",
    "            cur_run_a += 1 # increment state variable when condition of run is met\n",
    "        elif s[i] == \"b\": # possible end of run due to 'b'\n",
    "            if cur_run_a == n: \n",
    "                if i == len(s)-1: # edge case: run ends at end of s\n",
    "                    return True\n",
    "                if s[i+1] != \"b\": # regular case: verify that char after s[i] is not 'b'\n",
    "                    return True\n",
    "            else:\n",
    "                cur_run_a = 0 # failed to meet condition, reset state variable\n",
    "        else:\n",
    "            cur_run_a = 0 # failed ... reset state variable\n",
    "    \n",
    "    return False"
   ]
  }
 ],
 "metadata": {
  "kernelspec": {
   "display_name": "Python 3",
   "language": "python",
   "name": "python3"
  },
  "language_info": {
   "codemirror_mode": {
    "name": "ipython",
    "version": 3
   },
   "file_extension": ".py",
   "mimetype": "text/x-python",
   "name": "python",
   "nbconvert_exporter": "python",
   "pygments_lexer": "ipython3",
   "version": "3.4.3"
  }
 },
 "nbformat": 4,
 "nbformat_minor": 0
}
