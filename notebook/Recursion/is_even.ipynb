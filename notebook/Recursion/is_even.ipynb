{
 "cells": [
  {
   "cell_type": "markdown",
   "metadata": {},
   "source": [
    "# Recursive `is_even(n)`"
   ]
  },
  {
   "cell_type": "markdown",
   "metadata": {},
   "source": [
    "Let's write a recursive function to determine whether the number is even. The idea is very simple: if `n-1` is not even, then `n` is even, and if `n-1` is even, then `n` is not even. `0` is, of course, even:"
   ]
  },
  {
   "cell_type": "code",
   "execution_count": 1,
   "metadata": {
    "collapsed": true
   },
   "outputs": [],
   "source": [
    "def is_even(n):\n",
    "    '''Return True iff n is even'''\n",
    "    \n",
    "    if n == 0:\n",
    "        return True\n",
    "    \n",
    "    return not is_even(n-1)"
   ]
  },
  {
   "cell_type": "markdown",
   "metadata": {},
   "source": [
    "Here is an even simpler idea: `n` is even iff `n-2` is even. To avoid infinite recursion, we'd have to now have two base cases:"
   ]
  },
  {
   "cell_type": "code",
   "execution_count": 2,
   "metadata": {
    "collapsed": true
   },
   "outputs": [],
   "source": [
    "def is_even2(n):\n",
    "    '''Return True iff n is even'''\n",
    "    \n",
    "    if n == 0:\n",
    "        return True\n",
    "    if n == 1:\n",
    "        return False\n",
    "    \n",
    "    return is_even2(n-2)"
   ]
  }
 ],
 "metadata": {
  "kernelspec": {
   "display_name": "Python 3",
   "language": "python",
   "name": "python3"
  },
  "language_info": {
   "codemirror_mode": {
    "name": "ipython",
    "version": 3
   },
   "file_extension": ".py",
   "mimetype": "text/x-python",
   "name": "python",
   "nbconvert_exporter": "python",
   "pygments_lexer": "ipython3",
   "version": "3.4.3"
  }
 },
 "nbformat": 4,
 "nbformat_minor": 0
}
