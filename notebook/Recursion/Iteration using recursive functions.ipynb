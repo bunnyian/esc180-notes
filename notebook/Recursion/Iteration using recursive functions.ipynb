{
 "cells": [
  {
   "cell_type": "markdown",
   "metadata": {},
   "source": [
    "# n! using a while loop\n",
    "\n",
    "Let's write a function that computes $n!$ using a while loop."
   ]
  },
  {
   "cell_type": "code",
   "execution_count": 1,
   "metadata": {
    "collapsed": true
   },
   "outputs": [],
   "source": [
    "def fact_while(n):\n",
    "    #Invariant (a fact that we make sure doesn't change):\n",
    "    #cur_prod == (i-1)!\n",
    "    \n",
    "    cur_prod, i = 1, 1\n",
    "    #Note: 1 = (1-1)!, so cur_prod == (i-1)!\n",
    "    \n",
    "    \n",
    "    while i != n+1: #Equivalently: if not (i == n+1)\n",
    "        cur_prod *= i\n",
    "        i += 1\n",
    "        #Invariant: cur_prod == (i-1)!\n",
    "        \n",
    "    \n",
    "    #Here, i == n+1, and since cur_prod = (i-1)!, we can return\n",
    "    #cur_prod == ((n+1)-1)! == n\n",
    "    return cur_prod  "
   ]
  },
  {
   "cell_type": "markdown",
   "metadata": {},
   "source": [
    "## Aside: default argument values\n",
    "(Also known as named arguments, found in the Functions section [here](<../Functions/Named arguments.ipynb>))\n",
    "\n",
    "We can supply *default* arguments to functions. Here is a simple example:"
   ]
  },
  {
   "cell_type": "code",
   "execution_count": 2,
   "metadata": {
    "collapsed": true
   },
   "outputs": [],
   "source": [
    "def f(a = 2, b = 3):\n",
    "    return a + b"
   ]
  },
  {
   "cell_type": "markdown",
   "metadata": {},
   "source": [
    "Here, the *default* value of `a` is 2, and the *default* value for `b` is 3. We can canll `f()` with no arguments at all, and get `2 + 3` back:"
   ]
  },
  {
   "cell_type": "code",
   "execution_count": 3,
   "metadata": {
    "collapsed": false
   },
   "outputs": [
    {
     "data": {
      "text/plain": [
       "5"
      ]
     },
     "execution_count": 3,
     "metadata": {},
     "output_type": "execute_result"
    }
   ],
   "source": [
    "f()"
   ]
  },
  {
   "cell_type": "markdown",
   "metadata": {},
   "source": [
    "The local variables got assigned their default values of `2` and `3` respectively. We can also supply `a` but not `b`:"
   ]
  },
  {
   "cell_type": "code",
   "execution_count": 4,
   "metadata": {
    "collapsed": false
   },
   "outputs": [
    {
     "data": {
      "text/plain": [
       "13"
      ]
     },
     "execution_count": 4,
     "metadata": {},
     "output_type": "execute_result"
    }
   ],
   "source": [
    "f(10)"
   ]
  },
  {
   "cell_type": "markdown",
   "metadata": {},
   "source": [
    "In order to be able to supply `b` but not `a`, we need *named* arguments (explained elsewhere.)\n",
    "\n",
    "\n",
    "## An implementation of the same algorithm without while-loops\n",
    "\n",
    "We are now ready to implement the same algorithm as above, but without any while- or for-loops:"
   ]
  },
  {
   "cell_type": "code",
   "execution_count": 5,
   "metadata": {
    "collapsed": true
   },
   "outputs": [],
   "source": [
    "def fact_iter(n, cur_prod = 1, i = 1):\n",
    "    '''Return n!\n",
    "    \n",
    "    Arguments:\n",
    "    n -- a non-negative int\n",
    "    cur_prod, i -- ints such that cur_prod = (i-1)!\n",
    "    '''\n",
    "    \n",
    "    if i == n + 1: #same as not (i != n+1)\n",
    "        return cur_prod\n",
    "    \n",
    "    \n",
    "    #cur_prod = (i-1)!\n",
    "    #cur_prod <- cur_prod*i, i <- i+1    \n",
    "    return fact_iter(n, cur_prod*i  ,i+1)"
   ]
  },
  {
   "cell_type": "markdown",
   "metadata": {},
   "source": [
    "The idea is almost all contained in the docstring: we specify that `cur_prod` and `i` must be such that \n",
    "\n",
    "`cur_prod = (i-1)!`\n",
    "\n",
    "By itself, this doesn't mean much -- the docstring is just text, not Python code. But it helps us write the function. If we *assume* that the function works as long as we call it with `cur_prod` and `i` such that `cur_prod = (i-1)!`, we can perform the recursive leap of faith.\n",
    "\n",
    "Let's start with the base case. If `i == n+1`, then out job is done, since `cur_prod` must equal `(i-1) != (n+1-1)!  = n!`, so we can just return `cur_prod`.\n",
    "\n",
    "Otherwise, we can call `fact_iter` again, and try to push `i` towards `n+1`. That's exactly what we do in the recursive call. (Note that we take care to make sure that it's still the case that in the new call, `cur_prod = (i-1)!`.\n",
    "\n",
    "Finally, we'd like to be able to call `fact_iter(n)`. We can do that, since we specify the default values of `cur_prod =  1` and `i = 1`. (Note that `1 = (1-0)!`.)\n",
    "\n",
    "**Everything from `fact_while()` has a direct equivalent in `fact_iter()` and vice-versa**. You can hopefully see that we can transform *any* while-loop into a function that uses recursion instead of while-loops.\n",
    "\n",
    "\n",
    "Here is what the call tree looks like:\n",
    "\n",
    "\n",
    "                   (n, 1*1*2*3*...*n, n+1)\n",
    "                   /      \\ \n",
    "                n! /      |\n",
    "                  |       | \n",
    "                   \\      | \n",
    "                    (n, 1*1*2*3, 4)\n",
    "                   /      | \n",
    "                n! /      |\n",
    "                  |       | \n",
    "                   \\      | \n",
    "                    (n, 1*1*2, 3)\n",
    "                   /      | \n",
    "                n! /      |\n",
    "                  |       | \n",
    "                   \\      | \n",
    "                    (n, 1*1, 2)\n",
    "                   /      | \n",
    "                n! /      |\n",
    "                  |       | \n",
    "                   \\      | \n",
    "                    (n, 1, 1)\n",
    "                       /   \n",
    "                      /\n",
    "                      n!\n",
    "\n",
    "\n",
    "\n",
    "Note that this is different from the call tree for the other recursive factorial function we wrote:"
   ]
  },
  {
   "cell_type": "code",
   "execution_count": 6,
   "metadata": {
    "collapsed": true
   },
   "outputs": [],
   "source": [
    "def fact(n):\n",
    "    if n == 0:\n",
    "        return 1\n",
    "    return n*fact(n-1)"
   ]
  },
  {
   "cell_type": "markdown",
   "metadata": {},
   "source": [
    "In `fact(n)`, computation was performed was going \"up\" the call tree and going \"down\" the call tree:"
   ]
  },
  {
   "cell_type": "markdown",
   "metadata": {},
   "source": [
    "                0\n",
    "               /|\n",
    "           1 |  |\n",
    "               \\|\n",
    "                1\n",
    "              / .\n",
    "           2/   .\n",
    "            \\   .\n",
    "                .\n",
    "              / .\n",
    "    (n-3)!  |   .\n",
    "             \\  |\n",
    "               n-2\n",
    "            /   |\n",
    "    (n-2)!  |   |\n",
    "             \\  |\n",
    "                |\n",
    "               n-1\n",
    "            /   |\n",
    "    (n-1)!  |   |\n",
    "             \\  |\n",
    "                |                \n",
    "                n\n",
    "               /\n",
    "              /\n",
    "              n!\n",
    "              \n",
    "We could express this computation as $n\\times(...\\times(2\\times(1\\times(1)))....)$"
   ]
  },
  {
   "cell_type": "markdown",
   "metadata": {},
   "source": [
    "On the other hand, the computation in `fact_iter` is still essentially a loop, since we are not decomposing the problem into \"smaller\" subproblems. It's best expressed as simply $1\\times 2\\times 3\\times ... \\times n$.\n",
    "\n",
    "Even though `fact_iter` is recursive in form, it really is still an iterative approach."
   ]
  }
 ],
 "metadata": {
  "kernelspec": {
   "display_name": "Python 3",
   "language": "python",
   "name": "python3"
  },
  "language_info": {
   "codemirror_mode": {
    "name": "ipython",
    "version": 3
   },
   "file_extension": ".py",
   "mimetype": "text/x-python",
   "name": "python",
   "nbconvert_exporter": "python",
   "pygments_lexer": "ipython3",
   "version": "3.4.3"
  }
 },
 "nbformat": 4,
 "nbformat_minor": 0
}
