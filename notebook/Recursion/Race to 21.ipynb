{
 "cells": [
  {
   "cell_type": "markdown",
   "metadata": {},
   "source": [
    "### Race to 21\n",
    "\n",
    "Race to 21 is a simplified version of the game of [Nim](https://en.wikipedia.org/wiki/Nim). The rules of the game are as follows.\n",
    "\n",
    "There are two players. The initial sum is 0. In turn, the players can add either 1 or 2 to the sum. The player who makes the sum be 21 wins.\n",
    "\n",
    "Here is an example of a game\n",
    "\n",
    "    SUM: 0\n",
    "    PLAYER 1: +2 (SUM is now 2)\n",
    "    PLAYER 2: +1 (SUM is now 3)\n",
    "    PLAYER 1: +2 (SUM is now 5)\n",
    "    PLAYER 2: +1 (SUM is now 6)\n",
    "    PLAYER 1: +1 (SUM is now 7)\n",
    "    PLAYER 2: +1 (SUM is now 8)\n",
    "    PLAYER 1: +2 (SUM is now 10)\n",
    "    PLAYER 2: +2 (SUM is now 12)\n",
    "    PLAYER 1: +2 (SUM is now 14)\n",
    "    PLAYER 2: +2 (SUM is now 16)\n",
    "    PLAYER 1: +2 (SUM is now 18)\n",
    "    PLAYER 2: +1 (SUM is now 19)\n",
    "    PLAYER 2: +2 (SUM is now 21)\n",
    "\n",
    "\n",
    "(It's worth thinking about a simplified version of the game, where the only move allowed is +1. In that case, it's clear that the player who starts will win, because they reach the odd sums and their opponent reacher the even sums. Refer back to `is_even()` and think about this after you've understood the code below.)\n",
    "\n",
    "We'd like to write a function that determines whether reaching a certain sum results in a win (assuming optimal play.) Obviously, the function should return `True` for `21` -- if you reach `21` first, you win. \n",
    "\n",
    "The function should return `False` for `19` and `20`, since if you reach `19` or `20` first, your opponent can make a move to get to `21`.\n",
    "\n",
    "The function should return `True` for `18`. That because if you reach `18` first, your opponent can only get to `19` or `20`. That means you win.\n",
    "\n",
    "Let's try to encode this logic in code"
   ]
  },
  {
   "cell_type": "code",
   "execution_count": 1,
   "metadata": {
    "collapsed": true
   },
   "outputs": [],
   "source": [
    "GOAL_SUM = 21\n",
    "MOVES = [1, 2]\n",
    "\n",
    "def is_winning_sum(s):\n",
    "    '''Return True if reaching the sum s leads to winning the game'''\n",
    "    if s == GOAL_SUM:\n",
    "        return True\n",
    "        \n",
    "    #Try every possibly move for your opponent. If any move by the\n",
    "    #opponent leads to a winning sum, return False. If NO moves\n",
    "    #by the opponent result in a winning sum, return True\n",
    "    for move in MOVES:\n",
    "        if is_winning_sum(s+move):\n",
    "            return False\n",
    "    return True"
   ]
  },
  {
   "cell_type": "markdown",
   "metadata": {},
   "source": [
    "This is the usual trick with recursion: we *assume* the function works, and then call it as a helper function. Because eventually the call tree will get to 21, and the return value for `is_winning_sum(21)` is the correct one, the function works."
   ]
  },
  {
   "cell_type": "code",
   "execution_count": 2,
   "metadata": {
    "collapsed": false
   },
   "outputs": [
    {
     "data": {
      "text/plain": [
       "True"
      ]
     },
     "execution_count": 2,
     "metadata": {},
     "output_type": "execute_result"
    }
   ],
   "source": [
    "is_winning_sum(21)"
   ]
  },
  {
   "cell_type": "code",
   "execution_count": 3,
   "metadata": {
    "collapsed": false
   },
   "outputs": [
    {
     "data": {
      "text/plain": [
       "False"
      ]
     },
     "execution_count": 3,
     "metadata": {},
     "output_type": "execute_result"
    }
   ],
   "source": [
    "is_winning_sum(20)"
   ]
  },
  {
   "cell_type": "code",
   "execution_count": 4,
   "metadata": {
    "collapsed": false
   },
   "outputs": [
    {
     "data": {
      "text/plain": [
       "False"
      ]
     },
     "execution_count": 4,
     "metadata": {},
     "output_type": "execute_result"
    }
   ],
   "source": [
    "is_winning_sum(19)"
   ]
  },
  {
   "cell_type": "code",
   "execution_count": 5,
   "metadata": {
    "collapsed": false
   },
   "outputs": [
    {
     "data": {
      "text/plain": [
       "True"
      ]
     },
     "execution_count": 5,
     "metadata": {},
     "output_type": "execute_result"
    }
   ],
   "source": [
    "is_winning_sum(18)"
   ]
  },
  {
   "cell_type": "code",
   "execution_count": 6,
   "metadata": {
    "collapsed": false
   },
   "outputs": [
    {
     "data": {
      "text/plain": [
       "False"
      ]
     },
     "execution_count": 6,
     "metadata": {},
     "output_type": "execute_result"
    }
   ],
   "source": [
    "is_winning_sum(17)"
   ]
  },
  {
   "cell_type": "code",
   "execution_count": 7,
   "metadata": {
    "collapsed": false
   },
   "outputs": [
    {
     "data": {
      "text/plain": [
       "False"
      ]
     },
     "execution_count": 7,
     "metadata": {},
     "output_type": "execute_result"
    }
   ],
   "source": [
    "is_winning_sum(16)"
   ]
  },
  {
   "cell_type": "code",
   "execution_count": 8,
   "metadata": {
    "collapsed": false
   },
   "outputs": [
    {
     "data": {
      "text/plain": [
       "True"
      ]
     },
     "execution_count": 8,
     "metadata": {},
     "output_type": "execute_result"
    }
   ],
   "source": [
    "is_winning_sum(15)"
   ]
  },
  {
   "cell_type": "markdown",
   "metadata": {},
   "source": [
    "Does the first player win with optimal play? We can find out by checking whether getting to `0` mean you win or lose (the *second* player can be taken to reach `0` first.)"
   ]
  },
  {
   "cell_type": "code",
   "execution_count": 9,
   "metadata": {
    "collapsed": false
   },
   "outputs": [
    {
     "data": {
      "text/plain": [
       "True"
      ]
     },
     "execution_count": 9,
     "metadata": {},
     "output_type": "execute_result"
    }
   ],
   "source": [
    "is_winning_sum(0)"
   ]
  },
  {
   "cell_type": "markdown",
   "metadata": {},
   "source": [
    "The *second player* wins with optimal play. (A bit of thought will reveal that here, sums divisible by 3 lead to a guranteed win with optimal play.)\n",
    "\n",
    "\n",
    "Let's now write a function to return the best computer move:"
   ]
  },
  {
   "cell_type": "code",
   "execution_count": 10,
   "metadata": {
    "collapsed": true
   },
   "outputs": [],
   "source": [
    "def computer_move(cur_sum):\n",
    "    for move in MOVES:\n",
    "        if is_winning_sum(cur_sum+move):\n",
    "            return move\n",
    "    return MOVES[int(random.random()*len(MOVES))]"
   ]
  },
  {
   "cell_type": "markdown",
   "metadata": {},
   "source": [
    "Here, the last line returns a random move (since `int(random.random()*len(MOVES))` is either `0` or `1`.) This is the \"go crazy if it looks like you're losing\" strategy -- not an uncommon bug in AIs. Arguably, the better thing to do is to return `min(MOVES)` -- that ensures that your defeat is further way than it might have been.\n",
    "\n",
    "Let's try to trave `is_winning_sum(17)`\n",
    "\n",
    "\n",
    "\n",
    "        is_winning_sum(21)\n",
    "     True  \\       /\\ \n",
    "            \\       \\            is_winning_sum(21)            is_winning_sum(21)    \n",
    "            is_winning_sum(20)    /\\  /                          /\\  \\\n",
    "          False    /\\             /  / True                       \\   \\True\n",
    "               \\    \\            / /                               \\   \\\n",
    "                is_winning_sum(19)                              is_winning_sum(20)    \n",
    "               False \\      /\\            __________________________/\\     |\n",
    "                      \\      \\           /                                 |False\n",
    "                      is_winning_sum(18)------------------------------------\n",
    "                    True  \\       /\\           \n",
    "                           \\      |       \n",
    "                           is_winning_sum(17) ------ False\n",
    "                           \n",
    "                           \n",
    "                           \n",
    "                           \n",
    "                           \n",
    "Note that we only produce to calls inside `is_winning_sum(n)` if `is_winning_sum(n+1)` is `False`, because if it's `True`, we return `False` from `is_winning_sum(n)` straight away (if we know that the opponent can win by going +1, there is no point in checking whether the opponent will win or lose if they play +2.)"
   ]
  }
 ],
 "metadata": {
  "kernelspec": {
   "display_name": "Python 3",
   "language": "python",
   "name": "python3"
  },
  "language_info": {
   "codemirror_mode": {
    "name": "ipython",
    "version": 3
   },
   "file_extension": ".py",
   "mimetype": "text/x-python",
   "name": "python",
   "nbconvert_exporter": "python",
   "pygments_lexer": "ipython3",
   "version": "3.4.3"
  }
 },
 "nbformat": 4,
 "nbformat_minor": 0
}
