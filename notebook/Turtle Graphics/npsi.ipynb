{
 "cells": [
  {
   "cell_type": "markdown",
   "metadata": {},
   "source": [
    "# Drawing the NΨ Logo"
   ]
  },
  {
   "cell_type": "code",
   "execution_count": 1,
   "metadata": {},
   "outputs": [
    {
     "ename": "",
     "evalue": "",
     "output_type": "error",
     "traceback": [
      "\u001b[1;31mThe Kernel crashed while executing code in the the current cell or a previous cell. Please review the code in the cell(s) to identify a possible cause of the failure. Click <a href='https://aka.ms/vscodeJupyterKernelCrash'>here</a> for more info. View Jupyter <a href='command:jupyter.viewOutput'>log</a> for further details."
     ]
    }
   ],
   "source": [
    "import turtle\n",
    "import math\n",
    "\n",
    "def draw_n():\n",
    "    turtle.left(90)\n",
    "    turtle.forward(100)\n",
    "    turtle.right(90+55)\n",
    "    turtle.forward(100/math.sin(55*(2*math.pi)/360))\n",
    "    turtle.left(90+55)\n",
    "    turtle.forward(100)\n",
    "    \n",
    "    #clean up\n",
    "    turtle.penup()\n",
    "    turtle.left(180)\n",
    "    turtle.forward(100)\n",
    "    turtle.left(90) \n",
    "    turtle.forward(10)\n",
    "    turtle.pendown()\n",
    "    \n",
    "def draw_psi():\n",
    "    turtle.penup()\n",
    "    turtle.left(90)\n",
    "    turtle.forward(100)\n",
    "    \n",
    "    turtle.pendown()\n",
    "    turtle.left(180)\n",
    "    \n",
    "    turtle.forward(20)\n",
    "    turtle.left(30)\n",
    "    turtle.forward(20)\n",
    "    turtle.left(30)\n",
    "    turtle.forward(20)\n",
    "    turtle.left(30)\n",
    "    turtle.forward(20)\n",
    "    turtle.left(30)\n",
    "    turtle.forward(20)\n",
    "    turtle.left(30)\n",
    "    turtle.forward(20)\n",
    "    turtle.left(30)\n",
    "    turtle.forward(20)\n",
    "    \n",
    "    turtle.penup()\n",
    "    turtle.left(90)\n",
    "    turtle.forward(0.5*20*(math.sin(0   * math.pi/180) +\n",
    "                           math.sin(30  * math.pi/180) +\n",
    "                           math.sin(60  * math.pi/180) +\n",
    "                           math.sin(90  * math.pi/180) +\n",
    "                           math.sin(120 * math.pi/180) +\n",
    "                           math.sin(150 * math.pi/180) +\n",
    "                           math.sin(180 * math.pi/180))   \n",
    "                  )\n",
    "    \n",
    "    turtle.left(90)\n",
    "    turtle.pendown()\n",
    "    turtle.forward(100)\n",
    "    \n",
    "    turtle.penup()\n",
    "    turtle.left(90)\n",
    "    turtle.forward(0.5*20*(math.sin(0   * math.pi/180) +\n",
    "                           math.sin(30  * math.pi/180) +\n",
    "                           math.sin(60  * math.pi/180) +\n",
    "                           math.sin(90  * math.pi/180) +\n",
    "                           math.sin(120 * math.pi/180) +\n",
    "                           math.sin(150 * math.pi/180) +\n",
    "                           math.sin(180 * math.pi/180))   \n",
    "                  )\n",
    "    \n",
    "   \n",
    "    turtle.forward(10)\n",
    "    \n",
    "turtle.speed(1)\n",
    "turtle.left(180)\n",
    "turtle.penup()\n",
    "turtle.forward(200)\n",
    "turtle.left(180)\n",
    "turtle.pendown()\n",
    "\n",
    "draw_n()\n",
    "draw_psi()\n",
    "\n"
   ]
  }
 ],
 "metadata": {
  "kernelspec": {
   "display_name": "base",
   "language": "python",
   "name": "python3"
  },
  "language_info": {
   "codemirror_mode": {
    "name": "ipython",
    "version": 3
   },
   "file_extension": ".py",
   "mimetype": "text/x-python",
   "name": "python",
   "nbconvert_exporter": "python",
   "pygments_lexer": "ipython3",
   "version": "3.9.12"
  },
  "orig_nbformat": 4
 },
 "nbformat": 4,
 "nbformat_minor": 2
}
