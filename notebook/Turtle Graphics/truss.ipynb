{
 "cells": [
  {
   "cell_type": "markdown",
   "metadata": {},
   "source": [
    "# Drawing a Truss"
   ]
  },
  {
   "cell_type": "code",
   "execution_count": 1,
   "metadata": {},
   "outputs": [
    {
     "ename": "",
     "evalue": "",
     "output_type": "error",
     "traceback": [
      "\u001b[1;31mThe Kernel crashed while executing code in the the current cell or a previous cell. Please review the code in the cell(s) to identify a possible cause of the failure. Click <a href='https://aka.ms/vscodeJupyterKernelCrash'>here</a> for more info. View Jupyter <a href='command:jupyter.viewOutput'>log</a> for further details."
     ]
    }
   ],
   "source": [
    "import turtle\n",
    "\n",
    "\n",
    "\n",
    "def draw_segment(from_coords,  to_coords):\n",
    "    turtle.setpos(from_coords[0] + offset[0], from_coords[1] + offset[1])\n",
    "    turtle.pendown()\n",
    "    turtle.goto(to_coords[0] + offset[0], to_coords[1] + offset[1])\n",
    "    \n",
    "    \n",
    "def draw_labelled_segment(from_coords, to_coords, label):\n",
    "    draw_segment(from_coords, to_coords)\n",
    "    turtle.penup()\n",
    "    turtle.setpos( offset[0] + (from_coords[0]+to_coords[0])//2 + 12,\n",
    "                   offset[1] + (from_coords[1]+to_coords[1])//2)\n",
    "    turtle.write(label)\n",
    "\n",
    "\n",
    "def init_turtle():\n",
    "    global offset\n",
    "    offset = [-300, -300] \n",
    "    turtle.clear()\n",
    "    turtle.penup()\n",
    "\n",
    "\n",
    "\n",
    "\n",
    "\n",
    "if __name__ == '__main__':\n",
    "    init_turtle()\n",
    "    #draw_segment([50, 50], [100, 100])\n",
    "    draw_labelled_segment([50, 50], [150, 150], \"elem 1\")\n",
    "    draw_labelled_segment([150, 150], [200, 50], \"elem 2\")\n",
    "    draw_labelled_segment([200, 50], [300, 150], \"elem 3\")\n",
    "    "
   ]
  }
 ],
 "metadata": {
  "kernelspec": {
   "display_name": "base",
   "language": "python",
   "name": "python3"
  },
  "language_info": {
   "codemirror_mode": {
    "name": "ipython",
    "version": 3
   },
   "file_extension": ".py",
   "mimetype": "text/x-python",
   "name": "python",
   "nbconvert_exporter": "python",
   "pygments_lexer": "ipython3",
   "version": "3.9.12"
  },
  "orig_nbformat": 4
 },
 "nbformat": 4,
 "nbformat_minor": 2
}
