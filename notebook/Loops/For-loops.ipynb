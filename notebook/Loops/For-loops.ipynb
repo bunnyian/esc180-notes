{
 "cells": [
  {
   "cell_type": "markdown",
   "metadata": {},
   "source": [
    "### For loops\n",
    "\n",
    "Here is the syntax for for-loops:\n",
    "\n",
    "    for <i> in range(<N>):\n",
    "        <block>\n",
    "        \n",
    "This statement repeats `<block>` N times, while setting the variable `<i>` to 0, 1, 2, ..., N-1. Here is a long way to write this out:\n",
    "\n",
    "Set `i` to 0, execute `block`\n",
    "Set `i` to 1, execute `block`\n",
    "Set `i` to 2, execute `block`\n",
    "`....`\n",
    "Set `i` to N-1, execute `block`\n",
    "\n",
    "Here is a very simple example:"
   ]
  },
  {
   "cell_type": "code",
   "execution_count": 1,
   "metadata": {
    "collapsed": false
   },
   "outputs": [
    {
     "name": "stdout",
     "output_type": "stream",
     "text": [
      "0\n",
      "1\n",
      "2\n",
      "3\n",
      "4\n"
     ]
    }
   ],
   "source": [
    "for i in range(5):\n",
    "    print(i)"
   ]
  },
  {
   "cell_type": "markdown",
   "metadata": {},
   "source": [
    "The block here simply prints `i`. So we print everyting from 0 and up to 5-1=4. Here is a slightly more complicated block:"
   ]
  },
  {
   "cell_type": "code",
   "execution_count": 2,
   "metadata": {
    "collapsed": false
   },
   "outputs": [
    {
     "name": "stdout",
     "output_type": "stream",
     "text": [
      "0\n",
      "0\n",
      "====================================\n",
      "1\n",
      "2\n",
      "====================================\n",
      "2\n",
      "4\n",
      "====================================\n",
      "3\n",
      "6\n",
      "====================================\n",
      "4\n",
      "8\n",
      "====================================\n"
     ]
    }
   ],
   "source": [
    "for i in range(5):\n",
    "    print(i)\n",
    "    print(2*i)\n",
    "    print(\"====================================\")"
   ]
  },
  {
   "cell_type": "markdown",
   "metadata": {},
   "source": [
    "The block prints $i$, $2i$ and then a line, every time.\n",
    "\n",
    "We don't have to use the variable i in the block at all:"
   ]
  },
  {
   "cell_type": "code",
   "execution_count": 4,
   "metadata": {
    "collapsed": false
   },
   "outputs": [
    {
     "name": "stdout",
     "output_type": "stream",
     "text": [
      "EngSci rocks\n",
      "EngSci rocks\n",
      "EngSci rocks\n",
      "EngSci rocks\n",
      "EngSci rocks\n"
     ]
    }
   ],
   "source": [
    "for i in range(5):\n",
    "    print(\"EngSci rocks\")"
   ]
  },
  {
   "cell_type": "markdown",
   "metadata": {},
   "source": [
    "If we don't use i inside the block, we simply repeat the block 5 times. We can also mix up uses of i together with things that don't change:"
   ]
  },
  {
   "cell_type": "code",
   "execution_count": 5,
   "metadata": {
    "collapsed": false
   },
   "outputs": [
    {
     "name": "stdout",
     "output_type": "stream",
     "text": [
      "I'm telling you for the 0-th time, EngSci rocks\n",
      "I'm telling you for the 1-th time, EngSci rocks\n",
      "I'm telling you for the 2-th time, EngSci rocks\n",
      "I'm telling you for the 3-th time, EngSci rocks\n",
      "I'm telling you for the 4-th time, EngSci rocks\n"
     ]
    }
   ],
   "source": [
    "for i in range(5):\n",
    "    print(\"I'm telling you for the \" + str(i) + \"-th time, EngSci rocks\")"
   ]
  },
  {
   "cell_type": "markdown",
   "metadata": {},
   "source": [
    "That is a little strange -- suppose we don't want to have a \"0-th\" time there. One possibility is to use `i+1` instead of `i` there:"
   ]
  },
  {
   "cell_type": "code",
   "execution_count": 6,
   "metadata": {
    "collapsed": false
   },
   "outputs": [
    {
     "name": "stdout",
     "output_type": "stream",
     "text": [
      "I'm telling you for the 1-th time, EngSci rocks\n",
      "I'm telling you for the 2-th time, EngSci rocks\n",
      "I'm telling you for the 3-th time, EngSci rocks\n",
      "I'm telling you for the 4-th time, EngSci rocks\n",
      "I'm telling you for the 5-th time, EngSci rocks\n"
     ]
    }
   ],
   "source": [
    "for i in range(5):\n",
    "    print(\"I'm telling you for the \" + str(i+1) + \"-th time, EngSci rocks\")"
   ]
  },
  {
   "cell_type": "markdown",
   "metadata": {},
   "source": [
    "(Fix the \"1-th\"/\"2-th\"/\"3-th\" issue yourself, if you'd like...)"
   ]
  },
  {
   "cell_type": "markdown",
   "metadata": {},
   "source": [
    "### Computing a to the power of n\n",
    "\n",
    "Let's do something useful -- compute $a^n$. How to do that with a for-loop? We need to frame the problem as one of repeating some kind of action. Here's an action we can repeat: first, set the variable `res` (for \"result\") to `1`, and then repeatedly apply the action `res = res * a`, n times. The end result will be $a^n$."
   ]
  },
  {
   "cell_type": "code",
   "execution_count": 7,
   "metadata": {
    "collapsed": true
   },
   "outputs": [],
   "source": [
    "def my_pow(a, b):\n",
    "    '''Return a to the power of b\n",
    "    \n",
    "    Arguments:\n",
    "    a -- a non-zero integer\n",
    "    b -- a non-negative integer'''\n",
    "    \n",
    "    #Idea: repeat res = res * a \n",
    "    #n times\n",
    "    #Note: if b is 0, things still work out, since we repeat res *= 1\n",
    "    #0 times, so that res is still 1 after the loop terminates, \n",
    "    #which is what we return, and a^0 is in fact 1.\n",
    "    res = 1\n",
    "    for i in range(b):\n",
    "        res = res * a\n",
    "        \n",
    "    return res"
   ]
  }
 ],
 "metadata": {
  "kernelspec": {
   "display_name": "Python 3",
   "language": "python",
   "name": "python3"
  },
  "language_info": {
   "codemirror_mode": {
    "name": "ipython",
    "version": 3
   },
   "file_extension": ".py",
   "mimetype": "text/x-python",
   "name": "python",
   "nbconvert_exporter": "python",
   "pygments_lexer": "ipython3",
   "version": "3.4.3"
  }
 },
 "nbformat": 4,
 "nbformat_minor": 0
}
