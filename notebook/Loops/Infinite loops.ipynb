{
 "cells": [
  {
   "cell_type": "markdown",
   "metadata": {},
   "source": [
    "# Infinite loops\n",
    "\n",
    "Here is the simplest possible example of an infinite loop:\n",
    "\n",
    "    while True:\n",
    "         print(\"Praxis!\")"
   ]
  },
  {
   "cell_type": "markdown",
   "metadata": {},
   "source": [
    "This code will print \"Praxis!\" forever. The process works as follows:\n",
    "\n",
    "* Check if `True` is still true\n",
    "* Execture the while-block, i.e., `print(\"Praxis!\")`\n",
    "* Check if `True` is still true\n",
    "* Execture the while-block, i.e., `print(\"Praxis!\")`\n",
    "* Check if `True` is still true\n",
    "* Execture the while-block, i.e., `print(\"Praxis!\")`\n",
    "* Check if `True` is still true\n",
    "* Execture the while-block, i.e., `print(\"Praxis!\")`\n",
    ".......\n",
    "\n",
    "Since `True` is always true, this will go on forever"
   ]
  },
  {
   "cell_type": "markdown",
   "metadata": {},
   "source": [
    "## A more complicated infinite loop\n",
    "\n",
    "Here is a trickier example of an infinite loop:"
   ]
  },
  {
   "cell_type": "markdown",
   "metadata": {},
   "source": [
    "    def is_prime(n):\n",
    "        '''Return True iff n is prime\n",
    "        Arguments:\n",
    "        n -- a  non-negative integer\n",
    "        '''\n",
    "        if n <= 1:\n",
    "            return False\n",
    "\n",
    "        for i in range(2, n):  \n",
    "            if n % i == 0:   \n",
    "                return False \n",
    "\n",
    "        return True\n",
    "     \n",
    "     if __name__ == '__main__':\n",
    "         i = 3\n",
    "         while not(i%2==0 and is_prime(i)) and i < N:\n",
    "             print(\"I tried\", i, \"it didn't work\")\n",
    "             i += 1"
   ]
  },
  {
   "cell_type": "markdown",
   "metadata": {},
   "source": [
    "Here is what we are doing there: we set `i = 3`, and then we keep repeating the block\n",
    "\n",
    "    print(\"I tried\", i, \"it didn't work\")\n",
    "         i += 1\n",
    "\n",
    "and checking whether i is both even and prime. Since no `i` larger than 2 is both even and prime, this process will go on forever."
   ]
  }
 ],
 "metadata": {
  "kernelspec": {
   "display_name": "Python 3",
   "language": "python",
   "name": "python3"
  },
  "language_info": {
   "codemirror_mode": {
    "name": "ipython",
    "version": 3
   },
   "file_extension": ".py",
   "mimetype": "text/x-python",
   "name": "python",
   "nbconvert_exporter": "python",
   "pygments_lexer": "ipython3",
   "version": "3.4.3"
  }
 },
 "nbformat": 4,
 "nbformat_minor": 0
}
