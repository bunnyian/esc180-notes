{
 "cells": [
  {
   "cell_type": "markdown",
   "metadata": {},
   "source": [
    "### Input and style\n",
    "\n",
    "`input(prompt)` returns (i.e.) has the value of what's entered with a keyboard input() returns a string. That means that if we want to read in an integer, we should use `int(input(prompt))`.\n",
    "\n",
    "Here are three variants of the same thing:"
   ]
  },
  {
   "cell_type": "code",
   "execution_count": 1,
   "metadata": {
    "collapsed": false
   },
   "outputs": [
    {
     "name": "stdout",
     "output_type": "stream",
     "text": [
      "Give me an integer: 123\n",
      "Your input twice: 246\n"
     ]
    }
   ],
   "source": [
    "#Best style: human-readable, no excessive brevity.\n",
    "my_input = input('Give me an integer: ')\n",
    "print('Your input twice:',  int(my_input)*2)"
   ]
  },
  {
   "cell_type": "code",
   "execution_count": 2,
   "metadata": {
    "collapsed": false
   },
   "outputs": [
    {
     "name": "stdout",
     "output_type": "stream",
     "text": [
      "Give me an integer: 321\n",
      "Your input twice:642\n"
     ]
    }
   ],
   "source": [
    "#Too many variables that aren't doing much: not as readable.\n",
    "my_input_str = input('Give me an integer: ')\n",
    "my_input_int = 2*int(my_input_str)\n",
    "output_str = 'Your input twice:' + str(my_input_int)\n",
    "print(output_str)"
   ]
  },
  {
   "cell_type": "code",
   "execution_count": 3,
   "metadata": {
    "collapsed": false
   },
   "outputs": [
    {
     "name": "stdout",
     "output_type": "stream",
     "text": [
      "Give me an integer: 231\n",
      "Your input twice: 462\n"
     ]
    }
   ],
   "source": [
    "#Too brief, perhaps not as readable. The kind of thing that you would see if\n",
    "#the programmer were trying to be clever\n",
    "print('Your input twice:',  int(input('Give me an integer: '))*2)"
   ]
  }
 ],
 "metadata": {
  "kernelspec": {
   "display_name": "Python 3",
   "language": "python",
   "name": "python3"
  },
  "language_info": {
   "codemirror_mode": {
    "name": "ipython",
    "version": 3
   },
   "file_extension": ".py",
   "mimetype": "text/x-python",
   "name": "python",
   "nbconvert_exporter": "python",
   "pygments_lexer": "ipython3",
   "version": "3.4.3"
  }
 },
 "nbformat": 4,
 "nbformat_minor": 0
}
