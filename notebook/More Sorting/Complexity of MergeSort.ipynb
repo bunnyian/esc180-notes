{
 "cells": [
  {
   "cell_type": "markdown",
   "metadata": {},
   "source": [
    "### Complexity of MergeSort\n",
    "\n",
    "Here is MergeSort:"
   ]
  },
  {
   "cell_type": "code",
   "execution_count": 1,
   "metadata": {
    "collapsed": true
   },
   "outputs": [],
   "source": [
    "def merge(L1, L2):\n",
    "    '''Return a list that contains the elements of lis1 and lis2 and is sorted\n",
    "    Precondition: lis1 and lis2 are sorted\n",
    "    \n",
    "    '''\n",
    "    i, j = 0, 0\n",
    "    #L1[:i] was already processed\n",
    "    #L2[:j] was already processed\n",
    "    merged = []\n",
    "    \n",
    "    while i < len(L1) and j < len(L2):\n",
    "        if L1[i] < L2[j]:\n",
    "            merged.append(L1[i])\n",
    "            i += 1\n",
    "        else:\n",
    "            merged.append(L2[j])\n",
    "            j += 1\n",
    "    \n",
    "    #Only one of L1[i:] and L2[j:] is non-empty, so we can just append\n",
    "    #them both in arbitrary order\n",
    "    merged.extend(lis1[i:])\n",
    "    merged.extend(lis2[j:])\n",
    "    \n",
    "    return merged\n",
    "    \n",
    "\n",
    "def merge_sort(L):\n",
    "    '''Return a sorted version of lis\n",
    "    \n",
    "    '''\n",
    "    #base case\n",
    "    if len(L) <= 1:  \n",
    "        return L[:] #return a copy of L\n",
    "                      #need to return a copy in case the user wants to modify\n",
    "                      #the original lis and also modify the copy; so they \n",
    "                      #need to be kept separated\n",
    "    \n",
    "    #Sort the first half, sort the second half, and then merge the two halves!\n",
    "    mid = len(lis)//2\n",
    "    return merge(merge_sort(lis[:mid]), merge_sort(lis[mid:]))"
   ]
  },
  {
   "cell_type": "markdown",
   "metadata": {},
   "source": [
    "Let's first consider the complexity of `merge()`. Here's what happens in `merge()`: we append, in some order, all the elements of `L1` and all the elements of `L2`. Note that `list.extend()` is just a loop that repeatedly appends elements to the end of a list.\n",
    "\n",
    "Since each append operation takes the same amount of time, and we perform `len(L1) + len(L2)` append operations (and basically nothing else) inside `merge(L1, L2)`, it follow that the complexity of `merge(L1, L2)` is $\\mathcal{O}(\\text{len(L1)} + \\text{len(L2)})$.\n",
    "\n",
    "Another way to think about it is that we're going over `L1` and `L2` just the once, so the runtime should be proportional to the sum of the lengths of the list.\n",
    "\n",
    "We are no ready to compute the runtime complexity of `merge_sort()`. Consider the call tree for `[3, 2, 1, 4]`:\n",
    "\n",
    "\n",
    "\n",
    "          [3]   [2]   [1]   [4]\n",
    "            \\    /      \\   |\n",
    "             \\  /        \\ /\n",
    "             [3,2]     [1,4]\n",
    "                 \\      /\n",
    "                  \\    /\n",
    "                [3, 2, 1, 4]\n",
    "                \n",
    "                \n",
    "In general, the call tree will look like this, where `[k]` denotes a list of length `k`. Note that this is identical to the call tree for `sum_list2()` that we saw before.\n",
    "\n",
    "\n",
    "                                                                  level\n",
    "           [1].......[1]...[1]....................[1]            log_2 n +1\n",
    "            .                                   .\n",
    "             .                                 .\n",
    "              .                               .\n",
    "               .                             .\n",
    "                 .                          . \n",
    "                 [n/4]    [n/4]  [n/4]  [n/4]                         3\n",
    "                   \\      /       \\     /\n",
    "                    \\    /         \\   /\n",
    "                     [n/2]        [n/2]                               2\n",
    "                       \\          /\n",
    "                        \\        /\n",
    "                         \\      /\n",
    "                          \\    /\n",
    "                            [n]                                       1\n",
    "\n",
    "\n",
    "It's **not** the case that each call takes the same amount of time to run, however. Most of the computation is performed in `merge()`, and, since `merge()` is $\\mathcal{O}(\\text{len(L1)} + \\text{len(L2)}) = \\mathcal{O}(\\text{len(L[:mid])} + \\text{len(L[mid:)}) =  \\mathcal{O}(\\text{len(L)})$, runs in time $kn$ for some constant $k$.\n",
    "\n",
    "We'll now use a trick: we'll compute the runtime that all the calls on each level take. It's easy to see that that runtime is $kn$ on every level: for example, on the third level from the bottom, the runtime is $k(n/4)+k(n/4)+k(n/4)+k(n/4)=kn$. That's the runtime on every level, except for the top level, where `merge()` is not called (since `merge()` isn't called when `n=1`), so we consider the runtime to be 0.\n",
    "\n",
    "There are $log_2 n$ levels in total where the runtime isn't 0, so the total runtime is $kn\\log_2 n$, which is $\\mathcal{O}(n\\log n)$.\n",
    "\n",
    "\n",
    "$\\mathcal{O}(n\\log n)$ is pretty fast -- for $n = 1,000,000$, $n^2$ is a trillion, but $n\\log_2 n$ is just 20 million.\n"
   ]
  }
 ],
 "metadata": {
  "kernelspec": {
   "display_name": "Python 3",
   "language": "python",
   "name": "python3"
  },
  "language_info": {
   "codemirror_mode": {
    "name": "ipython",
    "version": 2
   },
   "file_extension": ".py",
   "mimetype": "text/x-python",
   "name": "python",
   "nbconvert_exporter": "python",
   "pygments_lexer": "ipython2",
   "version": "2.7.12"
  }
 },
 "nbformat": 4,
 "nbformat_minor": 0
}
