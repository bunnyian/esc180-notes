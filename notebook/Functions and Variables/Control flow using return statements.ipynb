{
 "cells": [
  {
   "cell_type": "markdown",
   "metadata": {},
   "source": [
    "### Control flow using return statements\n",
    "\n",
    "Return statements (stuff like `return True`) always terminate the execution of the function once they are reached. After the return statement, we return to the place in the program where the function was called, so that the part of the function that comes after a return statement *that gets executed* is not executed.\n",
    "\n",
    "(Note: not every return statement is executed. For example, return statments might occur inside if statements, and are only executed conditionally. For example,\n",
    "    if False:\n",
    "        return 0\n",
    "would never be executed)"
   ]
  },
  {
   "cell_type": "code",
   "execution_count": 1,
   "metadata": {
    "collapsed": false
   },
   "outputs": [
    {
     "name": "stdout",
     "output_type": "stream",
     "text": [
      "5\n"
     ]
    }
   ],
   "source": [
    "def artsie_math(arg1, arg2, op):\n",
    "    '''Return arg1+arg2 depending on if command is \"add\" or \"subtract\". If    \n",
    "    command is neither, print an error message.\n",
    "    \n",
    "    Arguments:\n",
    "    arg1 -- a number\n",
    "    arg2 -- a number\n",
    "    command -- an operation (a str)\n",
    "    '''\n",
    "    \n",
    "    if op == \"add\":\n",
    "        return arg1 + arg2\n",
    "    \n",
    "    if op == \"subtract\":\n",
    "        return arg1 - arg2\n",
    "        \n",
    "    #Will only be executed if command is neither \"add\" nor \"subtract\"\n",
    "    #because otherwise the function would have returned by this point.\n",
    "    print(\"I don't recognize this complicated mathematical operation\")\n",
    "    \n",
    "if __name__ == '__main__':\n",
    "    print(artsie_math(2, 3, \"add\"))"
   ]
  },
  {
   "cell_type": "markdown",
   "metadata": {},
   "source": [
    "Everything makes sense. We didn't print `\"I don't recognize this complicated mathematical operation\"` becase the function returned `arg1 + arg2`, which prevented later lines from being executed.\n",
    "\n",
    "Now, let's try an uncrecognized operation"
   ]
  },
  {
   "cell_type": "code",
   "execution_count": 2,
   "metadata": {
    "collapsed": false
   },
   "outputs": [
    {
     "name": "stdout",
     "output_type": "stream",
     "text": [
      "I don't recognize this complicated mathematical operation\n",
      "None\n"
     ]
    }
   ],
   "source": [
    "if __name__ == '__main__':\n",
    "    print(artsie_math(2, 3, \"exponent\"))"
   ]
  },
  {
   "cell_type": "markdown",
   "metadata": {},
   "source": [
    "Now, the message did get printed, but an additional thing happenned: `None` got printed. If a function doesn't return a value explicitly, the default return value will be `None`. We actuall already so a function that doesn't return a value -- `print` also returns `None`"
   ]
  },
  {
   "cell_type": "code",
   "execution_count": 3,
   "metadata": {
    "collapsed": false
   },
   "outputs": [
    {
     "name": "stdout",
     "output_type": "stream",
     "text": [
      "I don't recognize this complicated mathematical operation\n",
      "hi\n",
      "None None\n"
     ]
    }
   ],
   "source": [
    "a = artsie_math(2, 3, \"exponent\")\n",
    "b = print(\"hi\")\n",
    "print(a, b)"
   ]
  },
  {
   "cell_type": "markdown",
   "metadata": {},
   "source": [
    "#### Rewriting artsie_math\n",
    "\n",
    "It's nicer to *first* check the whether we need to do any computation, and then to do the computation if necessary. The following is equivalent to `artsie_math`:"
   ]
  },
  {
   "cell_type": "code",
   "execution_count": 4,
   "metadata": {
    "collapsed": false
   },
   "outputs": [],
   "source": [
    "def artsie_math2(arg1, arg2, op):\n",
    "    '''Return arg1+arg2 depending on if command is \"add\" or \"subtract\". If    \n",
    "    command is neither, print an error message.\n",
    "    \n",
    "    Arguments:\n",
    "    arg1 -- a number\n",
    "    arg2 -- a number\n",
    "    op -- an operation (a str)\n",
    "    '''\n",
    "    \n",
    "    \n",
    "    if (op != \"add\") and (op != \"subtract\"):\n",
    "        print(\"I don't recognize this complicated mathematical operation\")\n",
    "        return #We can do this. A return without a value means that we\n",
    "               #stop the execution of the function. (Note: in fact, we are \n",
    "               #returning a special object called None). So this is \n",
    "               #equivalent to \n",
    "               #return None\n",
    "        \n",
    "        \n",
    "    if op == \"add\":\n",
    "        return arg1 + arg2\n",
    "    elif op == \"subtract\":\n",
    "        return arg1 - arg2\n",
    "    #Would also work, because at this point we're sure the op is \"subtract\"\n",
    "    #else:\n",
    "    #   return arg1 - arg2\n",
    "    \n",
    "    #Would also work:\n",
    "    #return arg1 - arg2"
   ]
  }
 ],
 "metadata": {
  "kernelspec": {
   "display_name": "Python 3",
   "language": "python",
   "name": "python3"
  },
  "language_info": {
   "codemirror_mode": {
    "name": "ipython",
    "version": 3
   },
   "file_extension": ".py",
   "mimetype": "text/x-python",
   "name": "python",
   "nbconvert_exporter": "python",
   "pygments_lexer": "ipython3",
   "version": "3.4.3"
  }
 },
 "nbformat": 4,
 "nbformat_minor": 0
}
