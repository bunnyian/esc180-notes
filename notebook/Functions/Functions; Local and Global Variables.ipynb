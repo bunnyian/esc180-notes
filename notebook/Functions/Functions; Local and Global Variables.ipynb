{
 "cells": [
  {
   "cell_type": "markdown",
   "metadata": {},
   "source": [
    "# Functions; Local and Global Variables\n",
    "\n",
    "We have already seen two kinds of functions:\n",
    "\n",
    "* Functions that have an *effect*. For example, `print` has the effect of printing stuff to the screen.\n",
    "* Functions that are used to compute a *value*. For example, the value of `math.sqrt(9)` is `3.0`\n",
    "\n",
    "Let's write our first function, piratically-themed in honour of the \n",
    "[International Talk Like a Pirate Day](https://en.wikipedia.org/wiki/International_Talk_Like_a_Pirate_Day)."
   ]
  },
  {
   "cell_type": "code",
   "execution_count": 1,
   "metadata": {
    "collapsed": true
   },
   "outputs": [],
   "source": [
    "def pirate_print(s):\n",
    "    '''Print the piratified version of the string s: \"Ahoy! [s] Yarr!\"\n",
    "    \n",
    "    Arguments:\n",
    "    s -- a string\n",
    "    '''\n",
    "    print(\"Ahoy! \" + s + \" Yarrrrr!\")"
   ]
  },
  {
   "cell_type": "markdown",
   "metadata": {},
   "source": [
    "Here is what a function skeleton looks like:\n",
    "```\n",
    "    def <function-name>(<parameters, separated by commans>):\n",
    "        '''Docstring -- a description of the function. The first sentence says what the function \n",
    "        should do, in the imperative. \n",
    "        \n",
    "        Arguments:\n",
    "        <a list of the arguments/parameters, briefly describing what they are>\n",
    "        '''\n",
    "        <body of the function>\n",
    "```\n",
    "         \n",
    "    "
   ]
  },
  {
   "cell_type": "markdown",
   "metadata": {},
   "source": [
    "```{note} The docstring -- a string enclosed in triple quotes right after the first line of the function definition -- is conventionally included to make things more readable. If you hover over a function name in your IDE, you will see the docstring info pop up.\n",
    "```"
   ]
  },
  {
   "cell_type": "markdown",
   "metadata": {},
   "source": [
    "Let's now use the function. The proper terminology for using a function is *calling a function*."
   ]
  },
  {
   "cell_type": "code",
   "execution_count": 2,
   "metadata": {
    "collapsed": false
   },
   "outputs": [
    {
     "name": "stdout",
     "output_type": "stream",
     "text": [
      "Ahoy! I love CIV! Yarrrrr!\n"
     ]
    }
   ],
   "source": [
    "pirate_print(\"I love CIV!\")"
   ]
  },
  {
   "cell_type": "code",
   "execution_count": 3,
   "metadata": {
    "collapsed": false
   },
   "outputs": [
    {
     "name": "stdout",
     "output_type": "stream",
     "text": [
      "Ahoy! Praxis too!!! Yarrrrr!\n"
     ]
    }
   ],
   "source": [
    "pirate_print(\"Praxis too!!!\")"
   ]
  },
  {
   "cell_type": "markdown",
   "metadata": {},
   "source": [
    "What is happening there is that the argument (`\"I love CIV!\"`, or `\"Praxis too!\"`) gets assigned to the parameter `s`. Then, the body of the function (in this case, `print(\"Ahoy! \" + s + \" Yarrrrr!\")`) gets executed.\n",
    "\n",
    "This is the nice thing about functions -- we can write the once, but use them multiple times, as you see above."
   ]
  },
  {
   "cell_type": "markdown",
   "metadata": {},
   "source": [
    "Note that `pirate_print()` is not like the functions we know from math -- we use it because it has an effect. The effic is printing stuff to the screen. But we don't use it to compute some value. Here is a function that *can* be used to compute a value."
   ]
  },
  {
   "cell_type": "code",
   "execution_count": 4,
   "metadata": {
    "collapsed": true
   },
   "outputs": [],
   "source": [
    "def pirate_transform(s):\n",
    "    '''Return a \"piratified\" version of the string s, with \"Ahoy!\" in front,\n",
    "    and \" Yarrrrr!\" at the end\n",
    "    \n",
    "    Arguments:\n",
    "    s -- a string\n",
    "    '''\n",
    "    piratified_s = \"Ahoy! \" + s + \" Yarrrrr!\"\n",
    "    return piratified_s"
   ]
  },
  {
   "cell_type": "markdown",
   "metadata": {},
   "source": [
    "We have a new construct here -- the `return` statement. The value of `pirate_transform(s)` is whatever comes after the `return`. For example, "
   ]
  },
  {
   "cell_type": "code",
   "execution_count": 5,
   "metadata": {
    "collapsed": false
   },
   "outputs": [
    {
     "data": {
      "text/plain": [
       "'Ahoy! I love PHY! Yarrrrr!'"
      ]
     },
     "execution_count": 5,
     "metadata": {},
     "output_type": "execute_result"
    }
   ],
   "source": [
    "pirate_transform(\"I love PHY!\")"
   ]
  },
  {
   "cell_type": "markdown",
   "metadata": {},
   "source": [
    "The value of `pirate_transform(\"I love PHY!\")` is `'Ahoy! I love PHY! Yarrrrr!'`. Note that this is different from what happenned before -- we can tell by the fact that there are quotes around the string that we are just looking at the value of an expression. It's as if we just said.\n"
   ]
  },
  {
   "cell_type": "code",
   "execution_count": 6,
   "metadata": {
    "collapsed": false
   },
   "outputs": [
    {
     "data": {
      "text/plain": [
       "'Ahoy! I love PHY! Yarrrrr!'"
      ]
     },
     "execution_count": 6,
     "metadata": {},
     "output_type": "execute_result"
    }
   ],
   "source": [
    "'Ahoy! I love PHY! Yarrrrr!'"
   ]
  },
  {
   "cell_type": "markdown",
   "metadata": {},
   "source": [
    "The line  `pirate_transform(\"I love PHY!\")` would not print anything to the screen if the line were part of the program. This line would, however:"
   ]
  },
  {
   "cell_type": "code",
   "execution_count": 7,
   "metadata": {
    "collapsed": false
   },
   "outputs": [
    {
     "name": "stdout",
     "output_type": "stream",
     "text": [
      "Ahoy! I love PHY! Yarrrrr!\n"
     ]
    }
   ],
   "source": [
    "print(pirate_transform(\"I love PHY!\"))"
   ]
  },
  {
   "cell_type": "markdown",
   "metadata": {},
   "source": [
    "We can go one step further:"
   ]
  },
  {
   "cell_type": "code",
   "execution_count": 8,
   "metadata": {
    "collapsed": false
   },
   "outputs": [
    {
     "name": "stdout",
     "output_type": "stream",
     "text": [
      "Ahoy! Ahoy! I love PHY! Yarrrrr! Yarrrrr!\n"
     ]
    }
   ],
   "source": [
    "print(pirate_transform(pirate_transform(\"I love PHY!\")))"
   ]
  },
  {
   "cell_type": "markdown",
   "metadata": {},
   "source": [
    "What happenned here? First, we evaluated `pirate_transform(\"I love PHY!\")`, and it's value turned out to be `\"Ahoy! I love PHY! Yarrrrr!\"`. That means the line `print(pirate_transform(pirate_transform(\"I love PHY!\")))` has the same effect as\n"
   ]
  },
  {
   "cell_type": "code",
   "execution_count": 9,
   "metadata": {
    "collapsed": false
   },
   "outputs": [
    {
     "name": "stdout",
     "output_type": "stream",
     "text": [
      "Ahoy! Ahoy! I love PHY! Yarrrrr! Yarrrrr!\n"
     ]
    }
   ],
   "source": [
    "print(pirate_transform(\"Ahoy! I love PHY! Yarrrrr!\"))"
   ]
  },
  {
   "cell_type": "markdown",
   "metadata": {},
   "source": [
    "Note that `pirate_transform(s)` is very similar to the functions that you know from school algebra, like $f(x) = x^2$. The value of $f(3)$ is 9 in the same way that the value of `pirate_transform(\"hi!\")` is `\"Ahoy! hi! Yarrrrr!\"`."
   ]
  },
  {
   "cell_type": "markdown",
   "metadata": {},
   "source": [
    "\n",
    "## Local variables\n",
    "\n",
    "Let's write one more function:"
   ]
  },
  {
   "cell_type": "code",
   "execution_count": 10,
   "metadata": {
    "collapsed": true
   },
   "outputs": [],
   "source": [
    "def has_roots(a, b, c):\n",
    "    '''Return True iff ax^2+bx+c=0 has real roots\n",
    "    \n",
    "    [Note: Return True iff ... means, in Python (but not in math!) Return \n",
    "    True if ax^2+bx+c=0 has real roots and False otherwise]\n",
    "    \n",
    "    Arguments:\n",
    "    a, b, c -- floats\n",
    "    '''\n",
    "    \n",
    "    disc = b**2-4*a*c\n",
    "    \n",
    "    #This is not the nicest way to write this -- we'll rewrite this function later\n",
    "    if disc >= 0:\n",
    "        return True\n",
    "    else:\n",
    "        return False\n",
    "    "
   ]
  },
  {
   "cell_type": "markdown",
   "metadata": {},
   "source": [
    "As you can see, a function can have more than one parameter. In this case, it has three -- `a, b,` and `c`. Let's use the function:"
   ]
  },
  {
   "cell_type": "code",
   "execution_count": 11,
   "metadata": {
    "collapsed": false
   },
   "outputs": [
    {
     "data": {
      "text/plain": [
       "False"
      ]
     },
     "execution_count": 11,
     "metadata": {},
     "output_type": "execute_result"
    }
   ],
   "source": [
    "has_roots(1, 2, 3)"
   ]
  },
  {
   "cell_type": "code",
   "execution_count": 12,
   "metadata": {
    "collapsed": false
   },
   "outputs": [
    {
     "data": {
      "text/plain": [
       "True"
      ]
     },
     "execution_count": 12,
     "metadata": {},
     "output_type": "execute_result"
    }
   ],
   "source": [
    "has_roots(1, 2, -3)"
   ]
  },
  {
   "cell_type": "markdown",
   "metadata": {},
   "source": [
    "Let's now try to see what the value of the discriminant is:"
   ]
  },
  {
   "cell_type": "code",
   "execution_count": 13,
   "metadata": {
    "collapsed": false
   },
   "outputs": [
    {
     "ename": "NameError",
     "evalue": "name 'disc' is not defined",
     "output_type": "error",
     "traceback": [
      "\u001b[1;31m---------------------------------------------------------------------------\u001b[0m",
      "\u001b[1;31mNameError\u001b[0m                                 Traceback (most recent call last)",
      "\u001b[1;32m<ipython-input-13-f3867841c4ba>\u001b[0m in \u001b[0;36m<module>\u001b[1;34m()\u001b[0m\n\u001b[1;32m----> 1\u001b[1;33m \u001b[0mdisc\u001b[0m\u001b[1;33m\u001b[0m\u001b[0m\n\u001b[0m",
      "\u001b[1;31mNameError\u001b[0m: name 'disc' is not defined"
     ]
    }
   ],
   "source": [
    "disc"
   ]
  },
  {
   "cell_type": "markdown",
   "metadata": {},
   "source": [
    "We cannot see the value of `disc`. That's because `disc` is a *local* variable inside the function `has_roots`. You can think of local variables as \"scratch work\". After the function finishes running, all the local variables inside it get discarded. \n",
    "\n",
    "The parameters are also local variables:"
   ]
  },
  {
   "cell_type": "code",
   "execution_count": 14,
   "metadata": {
    "collapsed": false
   },
   "outputs": [
    {
     "ename": "NameError",
     "evalue": "name 'a' is not defined",
     "output_type": "error",
     "traceback": [
      "\u001b[1;31m---------------------------------------------------------------------------\u001b[0m",
      "\u001b[1;31mNameError\u001b[0m                                 Traceback (most recent call last)",
      "\u001b[1;32m<ipython-input-14-60b725f10c9c>\u001b[0m in \u001b[0;36m<module>\u001b[1;34m()\u001b[0m\n\u001b[1;32m----> 1\u001b[1;33m \u001b[0ma\u001b[0m\u001b[1;33m\u001b[0m\u001b[0m\n\u001b[0m",
      "\u001b[1;31mNameError\u001b[0m: name 'a' is not defined"
     ]
    }
   ],
   "source": [
    "a"
   ]
  },
  {
   "cell_type": "markdown",
   "metadata": {},
   "source": [
    "Let's now see another demonstration of this:"
   ]
  },
  {
   "cell_type": "code",
   "execution_count": 15,
   "metadata": {
    "collapsed": false
   },
   "outputs": [
    {
     "name": "stdout",
     "output_type": "stream",
     "text": [
      "95\n"
     ]
    }
   ],
   "source": [
    "def plunder_grade():\n",
    "    grade = 0\n",
    "    \n",
    "if __name__ == '__main__':\n",
    "    grade = 95\n",
    "    plunder_grade()\n",
    "    print(grade)\n",
    "    "
   ]
  },
  {
   "cell_type": "markdown",
   "metadata": {},
   "source": [
    "The line `grade = 0` defines a *local* variable grade. It gets discarded after `plunder_grade()` is executed. The global value of `grade` stays at 95."
   ]
  },
  {
   "cell_type": "markdown",
   "metadata": {},
   "source": [
    "```{admonition} if __name__ == \"__main__\"\n",
    "I'll sometimes call the block of code under if __name__ == '__main__': is called the \"main block.\" For now, think of the line if __name__ == '__main__': as just separating the function definitions from the code that uses the functions. We'll have more of an explanation soon.\n",
    "```"
   ]
  },
  {
   "cell_type": "markdown",
   "metadata": {},
   "source": [
    "```{admonition} Functions with no parameters\n",
    "`plunder_grade()` has no parameters. It's defined as you see above, and it's called using `()`. Functions without parameters have their uses -- see `print_grade()` below.\n",
    "```"
   ]
  },
  {
   "cell_type": "markdown",
   "metadata": {},
   "source": [
    "### Note: if __name__ == '__main__'\n",
    "\n",
    "I'll sometimes call the block of code under `if __name__ == '__main__':` is called the \"main block.\" For now, think of the line `if __name__ == '__main__':` as just separating the function definitions from the code that uses the functions. We'll have more of an explanation soon.\n",
    "\n",
    "### Note: functions with no parameters\n",
    "\n",
    "`plunder_grade()` has no parameters. It's defined as you see above, and it's called using `()`. Functions without parameters have their uses -- see `print_grade()` below."
   ]
  },
  {
   "cell_type": "markdown",
   "metadata": {},
   "source": [
    "## Global variables\n",
    "\n",
    "Global variables are variables defined *outside* of any function. For example, the variable `grade` in the main block above is global. Here is an example:"
   ]
  },
  {
   "cell_type": "code",
   "execution_count": 16,
   "metadata": {
    "collapsed": false
   },
   "outputs": [
    {
     "name": "stdout",
     "output_type": "stream",
     "text": [
      "95\n"
     ]
    }
   ],
   "source": [
    "def print_grade():\n",
    "    print(grade)\n",
    "    \n",
    "if __name__ == '__main__':\n",
    "    grade = 95\n",
    "    print_grade()"
   ]
  },
  {
   "cell_type": "markdown",
   "metadata": {},
   "source": [
    "Since there is no *local* variable grade, the line `print(grade)` prints the *global* variable `grade`."
   ]
  },
  {
   "cell_type": "markdown",
   "metadata": {},
   "source": [
    "## Changing global variables\n",
    "\n",
    "Here is how we can actually modify a global variable:"
   ]
  },
  {
   "cell_type": "code",
   "execution_count": 17,
   "metadata": {
    "collapsed": false
   },
   "outputs": [
    {
     "name": "stdout",
     "output_type": "stream",
     "text": [
      "56\n"
     ]
    }
   ],
   "source": [
    "def actually_plunder_grade():\n",
    "    global grade\n",
    "    grade = 56\n",
    "    \n",
    "if __name__ == '__main__'    :\n",
    "    grade = 95\n",
    "    actually_plunder_grade()\n",
    "    print(grade)"
   ]
  },
  {
   "cell_type": "markdown",
   "metadata": {},
   "source": [
    "The line `global grade` in the function `actually_plunder_grade()` means that when we say `grade = 56`, we mean we want to assign 56 to `grade`."
   ]
  }
 ],
 "metadata": {
  "kernelspec": {
   "display_name": "Python 3",
   "language": "python",
   "name": "python3"
  },
  "language_info": {
   "codemirror_mode": {
    "name": "ipython",
    "version": 3
   },
   "file_extension": ".py",
   "mimetype": "text/x-python",
   "name": "python",
   "nbconvert_exporter": "python",
   "pygments_lexer": "ipython3",
   "version": "3.4.3"
  }
 },
 "nbformat": 4,
 "nbformat_minor": 0
}
