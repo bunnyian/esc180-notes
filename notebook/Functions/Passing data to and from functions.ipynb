{
 "cells": [
  {
   "cell_type": "markdown",
   "metadata": {},
   "source": [
    "# Passing data to and from functions\n",
    "\n",
    "Below, we demonstrate way to pass data to and from functions in different ways, and with different effects."
   ]
  },
  {
   "cell_type": "code",
   "execution_count": 2,
   "metadata": {
    "tags": [
     "remove-input"
    ]
   },
   "outputs": [
    {
     "data": {
      "text/html": [
       "<button><a href=\"https://pythontutor.com/render.html#code=def%20adjust_grade%28%29%3A%0A%20%20%20%20global%20grade%0A%20%20%20%20grade%20%3D%20grade%20-%205%0A%20%20%20%20print%28%22New%20grade%20inside%20the%20function%3A%22,%20grade%29%0A%0Aif%20__name__%20%3D%3D%20%22__main__%22%3A%0A%20%20%20%20grade%20%3D%2095%0A%20%20%20%20adjust_grade%28%29%0A%20%20%20%20print%28%22New%20grade%20outside%20the%20function%3A%22,%20grade%29&cumulative=false&heapPrimitives=nevernest&mode=edit&origin=opt-frontend.js&py=3&rawInputLstJSON=%5B%5D&textReferences=false\" target=\"_blank\">Run in Python Tutor</a></button>"
      ],
      "text/plain": [
       "<IPython.core.display.HTML object>"
      ]
     },
     "metadata": {},
     "output_type": "display_data"
    }
   ],
   "source": [
    "from IPython.display import display, HTML\n",
    "\n",
    "button_html = '<button><a href=\"https://pythontutor.com/render.html#code=def%20adjust_grade%28%29%3A%0A%20%20%20%20global%20grade%0A%20%20%20%20grade%20%3D%20grade%20-%205%0A%20%20%20%20print%28%22New%20grade%20inside%20the%20function%3A%22,%20grade%29%0A%0Aif%20__name__%20%3D%3D%20%22__main__%22%3A%0A%20%20%20%20grade%20%3D%2095%0A%20%20%20%20adjust_grade%28%29%0A%20%20%20%20print%28%22New%20grade%20outside%20the%20function%3A%22,%20grade%29&cumulative=false&heapPrimitives=nevernest&mode=edit&origin=opt-frontend.js&py=3&rawInputLstJSON=%5B%5D&textReferences=false\" target=\"_blank\">Run in Python Tutor</a></button>'\n",
    "display(HTML(button_html))\n"
   ]
  },
  {
   "cell_type": "code",
   "execution_count": 1,
   "metadata": {
    "collapsed": false
   },
   "outputs": [
    {
     "name": "stdout",
     "output_type": "stream",
     "text": [
      "New grade inside the function: 90\n",
      "New grade outside the function: 90\n"
     ]
    }
   ],
   "source": [
    "def adjust_grade():\n",
    "    global grade\n",
    "    grade = grade - 5\n",
    "    print(\"New grade inside the function:\", grade)\n",
    "\n",
    "if __name__ == \"__main__\":\n",
    "    grade = 95\n",
    "    adjust_grade()\n",
    "    print(\"New grade outside the function:\", grade)"
   ]
  },
  {
   "cell_type": "markdown",
   "metadata": {},
   "source": [
    "Since the grade *inside* the function is `global`, the global variable grade gets modified when the function runs."
   ]
  },
  {
   "cell_type": "code",
   "execution_count": 2,
   "metadata": {
    "collapsed": false
   },
   "outputs": [
    {
     "name": "stdout",
     "output_type": "stream",
     "text": [
      "New grade inside the function: 90\n",
      "New grade outside the function: 95\n"
     ]
    }
   ],
   "source": [
    "def adjust_grade2(grade):\n",
    "    grade = grade - 5\n",
    "    print(\"New grade inside the function:\", grade)\n",
    "\n",
    "if __name__ == \"__main__\":\n",
    "    grade = 95\n",
    "    adjust_grade2(grade)\n",
    "    print(\"New grade outside the function:\", grade)"
   ]
  },
  {
   "cell_type": "markdown",
   "metadata": {},
   "source": [
    "Here, `grade` is a parameter of the function `adjust_grade2()` (as well as a global variable.) When grade is modified inside the function, it's the local variable that gets modified. The global variable remains the same."
   ]
  },
  {
   "cell_type": "code",
   "execution_count": 3,
   "metadata": {
    "collapsed": false
   },
   "outputs": [
    {
     "name": "stdout",
     "output_type": "stream",
     "text": [
      "New grade inside the function: 90\n",
      "New grade outside the function: 95\n"
     ]
    }
   ],
   "source": [
    "def adjust_grade3(g):\n",
    "    g = g - 5\n",
    "    print(\"New grade inside the function:\", g)\n",
    "\n",
    "if __name__ == \"__main__\":\n",
    "    grade = 95\n",
    "    adjust_grade3(grade)\n",
    "    print(\"New grade outside the function:\", grade)"
   ]
  },
  {
   "cell_type": "markdown",
   "metadata": {},
   "source": [
    "This is the exact same thing as before: the parameter `g` just got renamed. Just like in math, `f(x)=x` and `f(y)=y` represent the same function. "
   ]
  },
  {
   "cell_type": "code",
   "execution_count": 4,
   "metadata": {
    "collapsed": false
   },
   "outputs": [
    {
     "name": "stdout",
     "output_type": "stream",
     "text": [
      "New grade outside the function: 90\n"
     ]
    }
   ],
   "source": [
    "def adjust_grade4(g):\n",
    "    global grade\n",
    "    grade = g - 5\n",
    "    \n",
    "if __name__ == \"__main__\":\n",
    "    grade = 95\n",
    "    adjust_grade4(grade)\n",
    "    print(\"New grade outside the function:\", grade)"
   ]
  },
  {
   "cell_type": "markdown",
   "metadata": {},
   "source": [
    "This works basically like `adjust_grade()`: the global variable `grade` gets modified."
   ]
  },
  {
   "cell_type": "code",
   "execution_count": 5,
   "metadata": {
    "collapsed": false
   },
   "outputs": [
    {
     "name": "stdout",
     "output_type": "stream",
     "text": [
      "New grade outside the function: 95\n"
     ]
    }
   ],
   "source": [
    "def get_adjusted_grade(grade):\n",
    "    return grade - 5\n",
    "\n",
    "if __name__ == \"__main__\":\n",
    "    grade = 95\n",
    "    get_adjusted_grade(grade)\n",
    "    print(\"New grade outside the function:\", grade)"
   ]
  },
  {
   "cell_type": "markdown",
   "metadata": {},
   "source": [
    "This outputs nothing: that's because while `get_adjusted_grade(grade)` has the right value, the value doesn't get stored anywhere. Here' is how we can fix this:"
   ]
  },
  {
   "cell_type": "code",
   "execution_count": 6,
   "metadata": {
    "collapsed": false
   },
   "outputs": [
    {
     "name": "stdout",
     "output_type": "stream",
     "text": [
      "New grade outside the function: 90\n"
     ]
    }
   ],
   "source": [
    "def get_adjusted_grade(grade):\n",
    "    return grade - 5\n",
    "\n",
    "if __name__ == \"__main__\":\n",
    "    grade = 95\n",
    "    grade = get_adjusted_grade(grade)\n",
    "    print(\"New grade outside the function:\", grade)"
   ]
  },
  {
   "cell_type": "markdown",
   "metadata": {},
   "source": [
    "We assign `get_adjusted_grade(grade)` to `grade`, and now everything works.\n",
    "\n",
    "\n",
    "## Errors caused by ambiguity between global and local variabes\n",
    "\n",
    "Now, here are two variants that produce errors:"
   ]
  },
  {
   "cell_type": "code",
   "execution_count": 7,
   "metadata": {
    "collapsed": false
   },
   "outputs": [
    {
     "ename": "UnboundLocalError",
     "evalue": "local variable 'grade' referenced before assignment",
     "output_type": "error",
     "traceback": [
      "\u001b[1;31m---------------------------------------------------------------------------\u001b[0m",
      "\u001b[1;31mUnboundLocalError\u001b[0m                         Traceback (most recent call last)",
      "\u001b[1;32m<ipython-input-7-a94d5d96d061>\u001b[0m in \u001b[0;36m<module>\u001b[1;34m()\u001b[0m\n\u001b[0;32m      5\u001b[0m \u001b[1;32mif\u001b[0m \u001b[0m__name__\u001b[0m \u001b[1;33m==\u001b[0m \u001b[1;34m\"__main__\"\u001b[0m\u001b[1;33m:\u001b[0m\u001b[1;33m\u001b[0m\u001b[0m\n\u001b[0;32m      6\u001b[0m     \u001b[0mgrade\u001b[0m \u001b[1;33m=\u001b[0m \u001b[1;36m95\u001b[0m\u001b[1;33m\u001b[0m\u001b[0m\n\u001b[1;32m----> 7\u001b[1;33m     \u001b[0mgrade\u001b[0m \u001b[1;33m=\u001b[0m \u001b[0madjust_grade_error\u001b[0m\u001b[1;33m(\u001b[0m\u001b[1;33m)\u001b[0m\u001b[1;33m\u001b[0m\u001b[0m\n\u001b[0m",
      "\u001b[1;32m<ipython-input-7-a94d5d96d061>\u001b[0m in \u001b[0;36madjust_grade_error\u001b[1;34m()\u001b[0m\n\u001b[0;32m      1\u001b[0m \u001b[1;32mdef\u001b[0m \u001b[0madjust_grade_error\u001b[0m\u001b[1;33m(\u001b[0m\u001b[1;33m)\u001b[0m\u001b[1;33m:\u001b[0m\u001b[1;33m\u001b[0m\u001b[0m\n\u001b[1;32m----> 2\u001b[1;33m     \u001b[0mgrade\u001b[0m \u001b[1;33m=\u001b[0m \u001b[0mgrade\u001b[0m \u001b[1;33m-\u001b[0m \u001b[1;36m5\u001b[0m\u001b[1;33m\u001b[0m\u001b[0m\n\u001b[0m\u001b[0;32m      3\u001b[0m     \u001b[0mprint\u001b[0m\u001b[1;33m(\u001b[0m\u001b[1;34m\"New grade inside the func:\"\u001b[0m\u001b[1;33m,\u001b[0m \u001b[0mgrade\u001b[0m\u001b[1;33m)\u001b[0m\u001b[1;33m\u001b[0m\u001b[0m\n\u001b[0;32m      4\u001b[0m \u001b[1;33m\u001b[0m\u001b[0m\n\u001b[0;32m      5\u001b[0m \u001b[1;32mif\u001b[0m \u001b[0m__name__\u001b[0m \u001b[1;33m==\u001b[0m \u001b[1;34m\"__main__\"\u001b[0m\u001b[1;33m:\u001b[0m\u001b[1;33m\u001b[0m\u001b[0m\n",
      "\u001b[1;31mUnboundLocalError\u001b[0m: local variable 'grade' referenced before assignment"
     ]
    }
   ],
   "source": [
    "def adjust_grade_error():\n",
    "    grade = grade - 5\n",
    "    print(\"New grade inside the func:\", grade)\n",
    "\n",
    "if __name__ == \"__main__\":\n",
    "    grade = 95\n",
    "    grade = adjust_grade_error() "
   ]
  },
  {
   "cell_type": "markdown",
   "metadata": {},
   "source": [
    "The problem here is that in `adjust_grade_error()`, we first evaluate `grade - 5`, in order to store it back in `grade`. That implies that the `grade` we mean must be global -- we don't have a local `grade` yet. On the other hand, the fact that we assign to `grade` without going `global grade` means `grade` must be local. That is the assumption that Python goes with, resulting in the error message above. The error message says that Python assumed `grade` was local, but there wasn't a local value of `grade` that it could use to compute `grade - 5`. It's the same problem as with"
   ]
  },
  {
   "cell_type": "code",
   "execution_count": 8,
   "metadata": {
    "collapsed": false
   },
   "outputs": [
    {
     "ename": "NameError",
     "evalue": "name 'x' is not defined",
     "output_type": "error",
     "traceback": [
      "\u001b[1;31m---------------------------------------------------------------------------\u001b[0m",
      "\u001b[1;31mNameError\u001b[0m                                 Traceback (most recent call last)",
      "\u001b[1;32m<ipython-input-8-bde1f726cb0c>\u001b[0m in \u001b[0;36m<module>\u001b[1;34m()\u001b[0m\n\u001b[1;32m----> 1\u001b[1;33m \u001b[0mx\u001b[0m \u001b[1;33m=\u001b[0m \u001b[0mx\u001b[0m \u001b[1;33m+\u001b[0m \u001b[1;36m2\u001b[0m\u001b[1;33m\u001b[0m\u001b[0m\n\u001b[0m",
      "\u001b[1;31mNameError\u001b[0m: name 'x' is not defined"
     ]
    }
   ],
   "source": [
    "x = x + 2"
   ]
  },
  {
   "cell_type": "markdown",
   "metadata": {},
   "source": [
    "Here is another function that would cause an error"
   ]
  },
  {
   "cell_type": "code",
   "execution_count": 9,
   "metadata": {
    "collapsed": false
   },
   "outputs": [
    {
     "ename": "SyntaxError",
     "evalue": "name 'grade' is parameter and global (<ipython-input-9-137c9cf0f5f6>, line 2)",
     "output_type": "error",
     "traceback": [
      "\u001b[1;36m  File \u001b[1;32m\"<ipython-input-9-137c9cf0f5f6>\"\u001b[1;36m, line \u001b[1;32m2\u001b[0m\n\u001b[1;33m    global grade\u001b[0m\n\u001b[1;31mSyntaxError\u001b[0m\u001b[1;31m:\u001b[0m name 'grade' is parameter and global\n"
     ]
    }
   ],
   "source": [
    "def adjust_grade_error(grade):\n",
    "    global grade\n",
    "    grade = grade - 5\n",
    "    print(\"New grade inside the func:\", grade)"
   ]
  },
  {
   "cell_type": "markdown",
   "metadata": {},
   "source": [
    "We don't even need to call the function to get the error -- having `grade` as a parameter implies it's local, but then we say that it's `global`. Thsi causes an error."
   ]
  },
  {
   "cell_type": "markdown",
   "metadata": {},
   "source": [
    "## Passing data back to the main block using global variables\n",
    "\n",
    "We already did this (kind of), but let's write a function that explicitly uses global variables to pass data out:"
   ]
  },
  {
   "cell_type": "code",
   "execution_count": 4,
   "metadata": {
    "tags": [
     "remove-input"
    ]
   },
   "outputs": [
    {
     "data": {
      "text/html": [
       "<button><a href=\"https://pythontutor.com/render.html#code=def%20minus5%28x%29%3A%0A%20%20%20%20global%20ret_val_minus5%0A%20%20%20%20ret_val_minus5%20%3D%20x%20-%205%0A%20%20%20%20%0Aif%20__name__%20%3D%3D%20%22__main__%22%3A%0A%20%20%20%20minus5%2810%29%0A%20%20%20%20print%28%22Result%3A%22,%20ret_val_minus5%29&cumulative=false&heapPrimitives=nevernest&mode=edit&origin=opt-frontend.js&py=3&rawInputLstJSON=%5B%5D&textReferences=false\" target=\"_blank\">Run in Python Tutor</a></button>"
      ],
      "text/plain": [
       "<IPython.core.display.HTML object>"
      ]
     },
     "metadata": {},
     "output_type": "display_data"
    }
   ],
   "source": [
    "from IPython.display import display, HTML\n",
    "\n",
    "button_html = '<button><a href=\"https://pythontutor.com/render.html#code=def%20minus5%28x%29%3A%0A%20%20%20%20global%20ret_val_minus5%0A%20%20%20%20ret_val_minus5%20%3D%20x%20-%205%0A%20%20%20%20%0Aif%20__name__%20%3D%3D%20%22__main__%22%3A%0A%20%20%20%20minus5%2810%29%0A%20%20%20%20print%28%22Result%3A%22,%20ret_val_minus5%29&cumulative=false&heapPrimitives=nevernest&mode=edit&origin=opt-frontend.js&py=3&rawInputLstJSON=%5B%5D&textReferences=false\" target=\"_blank\">Run in Python Tutor</a></button>'\n",
    "display(HTML(button_html))\n"
   ]
  },
  {
   "cell_type": "code",
   "execution_count": 10,
   "metadata": {
    "collapsed": false
   },
   "outputs": [
    {
     "name": "stdout",
     "output_type": "stream",
     "text": [
      "Result: 5\n"
     ]
    }
   ],
   "source": [
    "def minus5(x):\n",
    "    global ret_val_minus5\n",
    "    ret_val_minus5 = x - 5\n",
    "    \n",
    "if __name__ == \"__main__\":\n",
    "    minus5(10)\n",
    "    print(\"Result:\", ret_val_minus5)"
   ]
  },
  {
   "cell_type": "markdown",
   "metadata": {},
   "source": [
    "## The right way to do things\n",
    "\n",
    "The *vast* majority of the time, you want to pass the data as parameters to the function, and then return the data from the function:"
   ]
  },
  {
   "cell_type": "code",
   "execution_count": 3,
   "metadata": {},
   "outputs": [
    {
     "name": "stdout",
     "output_type": "stream",
     "text": [
      "10\n"
     ]
    }
   ],
   "source": [
    "def minus5(x):\n",
    "    return x - 5 # no global variable needed\n",
    "if __name__ == \"__main__\":\n",
    "    print(minus5(15)) "
   ]
  },
  {
   "cell_type": "markdown",
   "metadata": {},
   "source": [
    "When do global variables make sense? One example is Lab 2 (unless you know about Python classes, which we won't be covering this semester.)\n",
    "\n",
    "Recall that you need to keep track of the current value, and the previous value, and the memory value. The function `add` would look something like\n"
   ]
  },
  {
   "cell_type": "code",
   "execution_count": null,
   "metadata": {
    "tags": [
     "remove-output"
    ]
   },
   "outputs": [],
   "source": [
    "def add(current_value, previous_value, memory, to_add):\n",
    "    #...\n",
    "    #...\n",
    "    #...\n",
    "    return new_cur_value, new_prev_value, new_memory"
   ]
  },
  {
   "cell_type": "markdown",
   "metadata": {},
   "source": [
    "       \n",
    "That is cumbersome       "
   ]
  }
 ],
 "metadata": {
  "kernelspec": {
   "display_name": "Python 3",
   "language": "python",
   "name": "python3"
  },
  "language_info": {
   "codemirror_mode": {
    "name": "ipython",
    "version": 3
   },
   "file_extension": ".py",
   "mimetype": "text/x-python",
   "name": "python",
   "nbconvert_exporter": "python",
   "pygments_lexer": "ipython3",
   "version": "3.9.12"
  }
 },
 "nbformat": 4,
 "nbformat_minor": 0
}
