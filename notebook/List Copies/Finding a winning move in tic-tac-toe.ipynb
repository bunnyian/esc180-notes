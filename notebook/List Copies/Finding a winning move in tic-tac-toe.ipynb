{
 "cells": [
  {
   "cell_type": "markdown",
   "metadata": {},
   "source": [
    "# Finding a winning move in tic-tac-toe"
   ]
  },
  {
   "cell_type": "markdown",
   "metadata": {},
   "source": [
    "Let's look in a little more detail at the solution to Lab 6. \n",
    "\n",
    "Here is the `make_computer_move_attack(board, mark)` function. The function makes use of the `is_win(board, mark)` function, which returns `True` iff `mark` has won on board `board`. The strategy is to try every possible move, see if it resulted in a win, return (and stop the execution of the function) if it did, and undo it if it didn't."
   ]
  },
  {
   "cell_type": "code",
   "execution_count": 1,
   "metadata": {
    "collapsed": true
   },
   "outputs": [],
   "source": [
    "def make_computer_move_attack(board, mark):\n",
    "    '''If possible, make a winning move using mark mark on the board. If not,\n",
    "    put the mark mark in the first available square, where we're going \n",
    "    through the square in the order\n",
    "    for i in range(3):\n",
    "      for j in range(3)\n",
    "      \n",
    "    Aruguments:\n",
    "    board -- a list of lists of strings representing a 3x3 table of \" \", \"X\", and \"O\". Assume board is not full.\n",
    "    mark -- \"X\" or \"O\"\n",
    "    '''\n",
    "    \n",
    "    #First, we look through all the squares and\n",
    "    for i in range(3):\n",
    "        for j in range(3):\n",
    "            #Only try to make the move at (i, j)\n",
    "            #if the square is current empty\n",
    "            if board[i][j] == \" \":\n",
    "                board[i][j] = mark\n",
    "                if is_win(board, mark):\n",
    "                    #We found the winning move -- keep the move\n",
    "                    #on the board, and stop the function\n",
    "                    return\n",
    "                \n",
    "                #is_win(board, mark) is False, so we should undo\n",
    "                #the move and keep going.\n",
    "                board[i][j] = \" \"\n",
    "            \n",
    "    #If we reached this point, we haven't found a winning move. Go\n",
    "    #through the board until we find an empty square, put mark\n",
    "    #there, and return\n",
    "    for i in range(3):\n",
    "        for j in range(3):\n",
    "            if board[i][j] == \" \":\n",
    "                board[i][j] = mark\n",
    "                return"
   ]
  }
 ],
 "metadata": {
  "kernelspec": {
   "display_name": "Python 3",
   "language": "python",
   "name": "python3"
  },
  "language_info": {
   "codemirror_mode": {
    "name": "ipython",
    "version": 3
   },
   "file_extension": ".py",
   "mimetype": "text/x-python",
   "name": "python",
   "nbconvert_exporter": "python",
   "pygments_lexer": "ipython3",
   "version": "3.4.3"
  }
 },
 "nbformat": 4,
 "nbformat_minor": 0
}
