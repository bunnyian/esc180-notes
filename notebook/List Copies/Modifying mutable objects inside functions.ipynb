{
 "cells": [
  {
   "cell_type": "markdown",
   "metadata": {},
   "source": [
    "# Modifying lists in functions\n",
    "\n",
    "Here is one consequence of the fact that we can change the contents of lists: we can change the contents of arguments to functions:"
   ]
  },
  {
   "cell_type": "code",
   "execution_count": 3,
   "metadata": {
    "tags": [
     "remove-input"
    ]
   },
   "outputs": [
    {
     "data": {
      "text/html": [
       "<button><a href=\"https://pythontutor.com/render.html#code=%0Adef+change_list%28L%29%3A%0A++++L%5B0%5D+%3D+5%0A++++%0Aif+__name__+%3D%3D+%27__main__%27%3A%0A++++L1+%3D+%5B1%2C+2%2C+3%5D%0A++++change_list%28L1%29%0A++++print%28L1%29%0A&cumulative=false&heapPrimitives=nevernest&mode=edit&origin=opt-frontend.js&py=3&rawInputLstJSON=%5B%5D&textReferences=false\" target=\"_blank\">Run in Python Tutor</a></button>"
      ],
      "text/plain": [
       "<IPython.core.display.HTML object>"
      ]
     },
     "metadata": {},
     "output_type": "display_data"
    }
   ],
   "source": [
    "from IPython.display import display, HTML\n",
    "import urllib.parse\n",
    "\n",
    "def generate_python_tutor_button(code):\n",
    "    # Encode the code as a URL-safe string\n",
    "    encoded_code = urllib.parse.quote_plus(code)\n",
    "    \n",
    "    # Create the Python Tutor URL\n",
    "    python_tutor_url = f\"https://pythontutor.com/render.html#code={encoded_code}&cumulative=false&heapPrimitives=nevernest&mode=edit&origin=opt-frontend.js&py=3&rawInputLstJSON=%5B%5D&textReferences=false\"\n",
    "    \n",
    "    # Create the HTML button\n",
    "    button_html = f'<button><a href=\"{python_tutor_url}\" target=\"_blank\">Run in Python Tutor</a></button>'\n",
    "    \n",
    "    # Display the button\n",
    "    display(HTML(button_html))\n",
    "\n",
    "# Example usage:\n",
    "code_to_run = \"\"\"\n",
    "def change_list(L):\n",
    "    L[0] = 5\n",
    "    \n",
    "if __name__ == '__main__':\n",
    "    L1 = [1, 2, 3]\n",
    "    change_list(L1)\n",
    "    print(L1)\n",
    "\"\"\"\n",
    "\n",
    "generate_python_tutor_button(code_to_run)"
   ]
  },
  {
   "cell_type": "code",
   "execution_count": 1,
   "metadata": {
    "collapsed": false
   },
   "outputs": [
    {
     "name": "stdout",
     "output_type": "stream",
     "text": [
      "[5, 2, 3]\n"
     ]
    }
   ],
   "source": [
    "def change_list(L):\n",
    "    L[0] = 5\n",
    "    \n",
    "if __name__ == '__main__':\n",
    "    L1 = [1, 2, 3]\n",
    "    change_list(L1)\n",
    "    print(L1)"
   ]
  },
  {
   "cell_type": "markdown",
   "metadata": {},
   "source": [
    "What happenned there is that the parameter `L` became an alias of the list `L1`. Therefore, when the contents of `L` changed, the contents of `L1` changed, too."
   ]
  },
  {
   "cell_type": "markdown",
   "metadata": {},
   "source": [
    "Note that all that's going on there is that we can change the contents of lists. With both lists and integers, if we make a local variable refer to a new object, the variable which we used as an argument is unaffected:"
   ]
  },
  {
   "cell_type": "code",
   "execution_count": 2,
   "metadata": {
    "tags": [
     "remove-input"
    ]
   },
   "outputs": [
    {
     "data": {
      "text/html": [
       "<button><a href=\"https://pythontutor.com/render.html#code=%0Adef+dont_change_list%28L%29%3A%0A++++L+%3D+%5B5%5D%0A++++%0Adef+dont_change_integer%28n%29%3A%0A++++n+%3D+5%0A++++%0Aif+__name__+%3D%3D+%27__main__%27%3A%0A++++L1+%3D+%5B7%5D%0A++++dont_change_list%28L1%29%0A++++print%28L1%29+%23%5B7%5D%0A++++%0A++++m+%3D+7%0A++++dont_change_integer%28m%29%0A++++print%28m%29++%237%0A&cumulative=false&heapPrimitives=nevernest&mode=edit&origin=opt-frontend.js&py=3&rawInputLstJSON=%5B%5D&textReferences=false\" target=\"_blank\">Run in Python Tutor</a></button>"
      ],
      "text/plain": [
       "<IPython.core.display.HTML object>"
      ]
     },
     "metadata": {},
     "output_type": "display_data"
    }
   ],
   "source": [
    "from IPython.display import display, HTML\n",
    "import urllib.parse\n",
    "\n",
    "def generate_python_tutor_button(code):\n",
    "    # Encode the code as a URL-safe string\n",
    "    encoded_code = urllib.parse.quote_plus(code)\n",
    "    \n",
    "    # Create the Python Tutor URL\n",
    "    python_tutor_url = f\"https://pythontutor.com/render.html#code={encoded_code}&cumulative=false&heapPrimitives=nevernest&mode=edit&origin=opt-frontend.js&py=3&rawInputLstJSON=%5B%5D&textReferences=false\"\n",
    "    \n",
    "    # Create the HTML button\n",
    "    button_html = f'<button><a href=\"{python_tutor_url}\" target=\"_blank\">Run in Python Tutor</a></button>'\n",
    "    \n",
    "    # Display the button\n",
    "    display(HTML(button_html))\n",
    "\n",
    "# Example usage:\n",
    "code_to_run = \"\"\"\n",
    "def dont_change_list(L):\n",
    "    L = [5]\n",
    "    \n",
    "def dont_change_integer(n):\n",
    "    n = 5\n",
    "    \n",
    "if __name__ == '__main__':\n",
    "    L1 = [7]\n",
    "    dont_change_list(L1)\n",
    "    print(L1) #[7]\n",
    "    \n",
    "    m = 7\n",
    "    dont_change_integer(m)\n",
    "    print(m)  #7\n",
    "\"\"\"\n",
    "\n",
    "generate_python_tutor_button(code_to_run)"
   ]
  },
  {
   "cell_type": "code",
   "execution_count": 2,
   "metadata": {
    "collapsed": false
   },
   "outputs": [
    {
     "name": "stdout",
     "output_type": "stream",
     "text": [
      "[7]\n",
      "7\n"
     ]
    }
   ],
   "source": [
    "def dont_change_list(L):\n",
    "    L = [5]\n",
    "    \n",
    "def dont_change_integer(n):\n",
    "    n = 5\n",
    "    \n",
    "if __name__ == '__main__':\n",
    "    L1 = [7]\n",
    "    dont_change_list(L1)\n",
    "    print(L1) #[7]\n",
    "    \n",
    "    m = 7\n",
    "    dont_change_integer(m)\n",
    "    print(m)  #7"
   ]
  }
 ],
 "metadata": {
  "kernelspec": {
   "display_name": "Python 3",
   "language": "python",
   "name": "python3"
  },
  "language_info": {
   "codemirror_mode": {
    "name": "ipython",
    "version": 3
   },
   "file_extension": ".py",
   "mimetype": "text/x-python",
   "name": "python",
   "nbconvert_exporter": "python",
   "pygments_lexer": "ipython3",
   "version": "3.9.12"
  }
 },
 "nbformat": 4,
 "nbformat_minor": 0
}
