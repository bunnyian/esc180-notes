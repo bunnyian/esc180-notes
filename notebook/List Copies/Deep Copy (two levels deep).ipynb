{
 "cells": [
  {
   "cell_type": "markdown",
   "metadata": {},
   "source": [
    "# Deep Copy (two levels deep)"
   ]
  },
  {
   "cell_type": "markdown",
   "metadata": {},
   "source": [
    "## Reminder: aliasing\n",
    "\n"
   ]
  },
  {
   "cell_type": "code",
   "execution_count": 1,
   "metadata": {
    "collapsed": true
   },
   "outputs": [],
   "source": [
    "L1 = [5, 6, 7]\n",
    "L2 = L1     #L1 and L2 are aliases\n",
    "            #changing the contents of L1 <=> changing the contents of L2\n",
    "            #since L1 and L2 refer to the same address in memory\n",
    "        \n",
    "L2[0] = 42  #L1[0] changes as well\n",
    "\n",
    "L2 = 42     #L1[0] doesn't change\n",
    "            #L2 now refers to 42 instead of the list [42, 6, 7]: that change\n",
    "            #is reflected in the GLOBALS table\n",
    "            #\n",
    "            #This is analgous to\n",
    "            #a = 5\n",
    "            #b = a\n",
    "            #a = 42   #b still refers to 5"
   ]
  },
  {
   "cell_type": "markdown",
   "metadata": {},
   "source": [
    "## Reminder: shallow copy\n",
    "\n",
    "We can make a shallow copy of `L1` using"
   ]
  },
  {
   "cell_type": "code",
   "execution_count": 2,
   "metadata": {
    "collapsed": true
   },
   "outputs": [],
   "source": [
    "L1 = [5, 6, 7]\n",
    "L2 = L1[:] #same as L2 = [L1[0], L1[1], L1[2]]"
   ]
  },
  {
   "cell_type": "markdown",
   "metadata": {},
   "source": [
    "Here, we are creating a *new* list, in a *new* location in memory, whose contents are the same as the contents of L2. \n",
    "\n",
    "Changing the contents of `L2` (e.g., `L2[0] = 42`) is not the same as changing the contents of `L1`."
   ]
  },
  {
   "cell_type": "markdown",
   "metadata": {},
   "source": [
    "## Reminder: the problem with shallow copy\n",
    "\n",
    "Consider the following:"
   ]
  },
  {
   "cell_type": "code",
   "execution_count": 3,
   "metadata": {
    "collapsed": true
   },
   "outputs": [],
   "source": [
    "L1 = [[1, 2], [3, 4]]\n",
    "L2 = L1[:] #same as L2 = [L1[0], L1[1]]"
   ]
  },
  {
   "cell_type": "markdown",
   "metadata": {},
   "source": [
    "Here, we have create a new list `L2`, but we haven't created new copies of the lists `L1[0]` and `L1[1]`.\n",
    "\n",
    "`L1[0]` refers to the same memory address as `L2[0]`\n",
    "\n",
    "That is, `id(L1[0]) == id(L2[0])`.\n",
    "\n",
    "In other words,`L1[0]` and `L2[0]` are aliases.\n",
    "\n",
    "So modifying the contents of `L1[0]` is the same as modifying the contents of `L2[0]`.\n",
    "\n",
    "For example, `L1[0][0] = 5` is the same as `L2[0][0] = 5`.\n",
    "\n",
    "On the other hand, just like before, `L1[0] = 5` is *not* the same as `L2[0] = 5` -- `L1` and `L2` are two separate lists."
   ]
  },
  {
   "cell_type": "markdown",
   "metadata": {},
   "source": [
    "## Reminder: deep copy\n",
    "\n",
    "Here is a way to create a deep copy of `L1` (if `L1` is a list of lists of two ints):"
   ]
  },
  {
   "cell_type": "code",
   "execution_count": 4,
   "metadata": {
    "collapsed": true
   },
   "outputs": [],
   "source": [
    "L1 = [[1, 2], [3, 4]]\n",
    "L2 = [[L1[0][0], L1[0][1]], [L1[1][0], L1[1][1]]]"
   ]
  },
  {
   "cell_type": "markdown",
   "metadata": {},
   "source": [
    "Now, we've create 3 new lists when creating `L2`: the two inner lists, and the outer list. `L1` and `L2` are completely disconnected."
   ]
  },
  {
   "cell_type": "code",
   "execution_count": 5,
   "metadata": {
    "collapsed": false
   },
   "outputs": [
    {
     "name": "stdout",
     "output_type": "stream",
     "text": [
      "L1 =  [[1, 2], [7, 4]]\n",
      "L2 =  [[1, 2], [3, 4]]\n"
     ]
    }
   ],
   "source": [
    "L2 = [[L1[0][0], L1[0][1]], [L1[1][0], L1[1][1]]]\n",
    "L1[1][0] = 7\n",
    "print(\"L1 = \", L1)\n",
    "print(\"L2 = \", L2)"
   ]
  },
  {
   "cell_type": "markdown",
   "metadata": {},
   "source": [
    "## Reminder: another way to do shallow copy\n",
    "\n",
    "Remember that we did shallow copy of lists by repeatedly appending elements from the old list to the new list:"
   ]
  },
  {
   "cell_type": "code",
   "execution_count": 6,
   "metadata": {
    "collapsed": true
   },
   "outputs": [],
   "source": [
    "L1 = [[1, 2], [3, 4]]\n",
    "L2 = []\n",
    "for sublist in L1:\n",
    "    L2.append(sublist)"
   ]
  },
  {
   "cell_type": "markdown",
   "metadata": {},
   "source": [
    "The above is a shallow copy: we only create a single new list, `L2`. After the process ends, `L1[0]` and `L2[0]`, as well as `L1[1]` and `L2[1]` are aliases.\n",
    "\n",
    "## Deep copy of a list of lists of ints\n",
    "\n",
    "However, there is a quick fix here: just use `sublist[:]`. That creates a new copy of the list that `sublist` refers to:"
   ]
  },
  {
   "cell_type": "code",
   "execution_count": 7,
   "metadata": {
    "collapsed": true
   },
   "outputs": [],
   "source": [
    "L1 = [[1, 2], [3, 4]]\n",
    "L2 = []\n",
    "for sublist in L1:\n",
    "    L2.append(sublist[:])    "
   ]
  },
  {
   "cell_type": "markdown",
   "metadata": {},
   "source": [
    "Now, we've created a deep copy of `L1`, without specifying the lengths of the outer list, or the inner lists. Every time we execute\n",
    "    \n",
    "    L2.append(sublist[:])\n",
    "    \n",
    "a new list is put in memory, and is then appended to `L2` as its new last element."
   ]
  },
  {
   "cell_type": "markdown",
   "metadata": {},
   "source": [
    "## We need to go deeper (sometimes)"
   ]
  },
  {
   "cell_type": "code",
   "execution_count": 1,
   "metadata": {
    "tags": [
     "remove-input"
    ]
   },
   "outputs": [
    {
     "data": {
      "image/jpeg": "[encoded data removed]",
      "text/plain": [
       "<IPython.core.display.Image object>"
      ]
     },
     "metadata": {},
     "output_type": "display_data"
    }
   ],
   "source": [
    "from IPython.display import Image, display\n",
    "\n",
    "# Specify the path to your image\n",
    "image_path = 'deeper1.jpg'\n",
    "\n",
    "# Display the image\n",
    "display(Image(filename=image_path))"
   ]
  },
  {
   "cell_type": "markdown",
   "metadata": {},
   "source": [
    "Suppose the list is `L1 = [[[1]]]`. Can we make a deep copy of that list using the previous method (without modifications)? No."
   ]
  },
  {
   "cell_type": "code",
   "execution_count": 2,
   "metadata": {
    "tags": [
     "remove-input"
    ]
   },
   "outputs": [
    {
     "data": {
      "text/html": [
       "<button><a href=\"https://pythontutor.com/render.html#code=%0A%23+block+1%0AL1+%3D+%5B%5B%5B1%5D%5D%5D%0AL2+%3D+%5B%5D%0Afor+sublist+in+L1%3A%0A++++L2.append%28sublist%5B%3A%5D%29+%0A++++%0A%23+block+2%0AL2%5B0%5D%5B0%5D%5B0%5D%3D5%0A%0A%23+block+3%0AL1%5B0%5D%5B0%5D%5B0%5D%0A&cumulative=false&heapPrimitives=nevernest&mode=edit&origin=opt-frontend.js&py=3&rawInputLstJSON=%5B%5D&textReferences=false\" target=\"_blank\">Run in Python Tutor</a></button>"
      ],
      "text/plain": [
       "<IPython.core.display.HTML object>"
      ]
     },
     "metadata": {},
     "output_type": "display_data"
    }
   ],
   "source": [
    "from IPython.display import display, HTML\n",
    "import urllib.parse\n",
    "\n",
    "def generate_python_tutor_button(code):\n",
    "    # Encode the code as a URL-safe string\n",
    "    encoded_code = urllib.parse.quote_plus(code)\n",
    "    \n",
    "    # Create the Python Tutor URL\n",
    "    python_tutor_url = f\"https://pythontutor.com/render.html#code={encoded_code}&cumulative=false&heapPrimitives=nevernest&mode=edit&origin=opt-frontend.js&py=3&rawInputLstJSON=%5B%5D&textReferences=false\"\n",
    "    \n",
    "    # Create the HTML button\n",
    "    button_html = f'<button><a href=\"{python_tutor_url}\" target=\"_blank\">Run in Python Tutor</a></button>'\n",
    "    \n",
    "    # Display the button\n",
    "    display(HTML(button_html))\n",
    "\n",
    "# Example usage:\n",
    "code_to_run = \"\"\"\n",
    "# block 1\n",
    "L1 = [[[1]]]\n",
    "L2 = []\n",
    "for sublist in L1:\n",
    "    L2.append(sublist[:]) \n",
    "    \n",
    "# block 2\n",
    "L2[0][0][0]=5\n",
    "\n",
    "# block 3\n",
    "L1[0][0][0]\n",
    "\"\"\"\n",
    "\n",
    "generate_python_tutor_button(code_to_run)"
   ]
  },
  {
   "cell_type": "code",
   "execution_count": 8,
   "metadata": {
    "collapsed": true
   },
   "outputs": [],
   "source": [
    "L1 = [[[1]]]\n",
    "L2 = []\n",
    "for sublist in L1:\n",
    "    L2.append(sublist[:])  "
   ]
  },
  {
   "cell_type": "code",
   "execution_count": 9,
   "metadata": {
    "collapsed": true
   },
   "outputs": [],
   "source": [
    "L2[0][0][0]=5"
   ]
  },
  {
   "cell_type": "code",
   "execution_count": 10,
   "metadata": {
    "collapsed": false
   },
   "outputs": [
    {
     "data": {
      "text/plain": [
       "5"
      ]
     },
     "execution_count": 10,
     "metadata": {},
     "output_type": "execute_result"
    }
   ],
   "source": [
    "L1[0][0][0]"
   ]
  },
  {
   "cell_type": "markdown",
   "metadata": {},
   "source": [
    "The problem is that we've created a new list whose element is a copy of `[[1]]`. However, we never made a copy of the innermost list, `[1]`. If its contents are modified, that has an effect everywhere."
   ]
  },
  {
   "cell_type": "markdown",
   "metadata": {},
   "source": [
    "```{hint} There is often a midterm/exam question asking you to predict the final state of lists that may be deep/shallow copies of each other. Be familiar with tracing the code *without* running it.\n",
    "```"
   ]
  }
 ],
 "metadata": {
  "kernelspec": {
   "display_name": "Python 3",
   "language": "python",
   "name": "python3"
  },
  "language_info": {
   "codemirror_mode": {
    "name": "ipython",
    "version": 3
   },
   "file_extension": ".py",
   "mimetype": "text/x-python",
   "name": "python",
   "nbconvert_exporter": "python",
   "pygments_lexer": "ipython3",
   "version": "3.9.12"
  }
 },
 "nbformat": 4,
 "nbformat_minor": 0
}
