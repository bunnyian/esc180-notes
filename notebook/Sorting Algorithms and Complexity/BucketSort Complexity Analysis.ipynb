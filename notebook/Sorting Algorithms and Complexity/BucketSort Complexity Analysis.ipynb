{
 "cells": [
  {
   "cell_type": "markdown",
   "metadata": {},
   "source": [
    "# Bucket/Counting Sort Complexity Analysis"
   ]
  },
  {
   "cell_type": "markdown",
   "metadata": {},
   "source": [
    "Here is BucketSort again:"
   ]
  },
  {
   "cell_type": "code",
   "execution_count": 1,
   "metadata": {
    "collapsed": true
   },
   "outputs": [],
   "source": [
    "def bucket_sort(L):\n",
    "    max_int = max(L)\n",
    "    \n",
    "    counts = [0]*(1+max_int)\n",
    "    #counts[i] will be the number of times that\n",
    "    #i appears in L\n",
    "    \n",
    "    for e in L:\n",
    "        counts[e] += 1\n",
    "        \n",
    "    \n",
    "    #Now, build up the sorted version of the list. Note that if we have\n",
    "    #counts[i] of the number i, we need to extend the sorted list\n",
    "    #by [i]*counts[i], which is just [i, i, i, ..., i]\n",
    "    #                                  counts[i] times\n",
    "    sorted_L = []\n",
    "    for i in range(0, len(counts)):\n",
    "        sorted_L.extend([i]*counts[i])\n",
    "    \n",
    "    #Modify the contents of L to be the contents of sorted_L\n",
    "    L[:] = sorted_L"
   ]
  },
  {
   "cell_type": "markdown",
   "metadata": {},
   "source": [
    "Let's analyze the how much time each line takes:"
   ]
  },
  {
   "cell_type": "code",
   "execution_count": 2,
   "metadata": {
    "collapsed": true
   },
   "outputs": [],
   "source": [
    "def bucket_sort(L):\n",
    "    \n",
    "    #max(L) needs to go through every element of L. This requires a*len(L) time for some constnat a\n",
    "    max_int = max(L)\n",
    "    \n",
    "    #Creating and putting in memory a list of length max_int+1 takes time proportional to max_int (approximately) \n",
    "    #This line takes b*max(L) time\n",
    "    counts = [0]*(1+max_int)\n",
    "    \n",
    "    \n",
    "    #We are going through the list L, repeating a block that takes the same amount of time at every iteration.\n",
    "    #This takes c*len(L) time.\n",
    "    for e in L:\n",
    "        counts[e] += 1\n",
    "        \n",
    "    #This is tricky: different interations take different amounts of time here. We'll use a trick: we'll\n",
    "    #count the total number of elements that are appended to sorted_L overall. \n",
    "    #\n",
    "    #In total, we are appending len(L) elements to  sorted_L. That takes d*len(L) time. \n",
    "    #\n",
    "    #The for-loop itself performs len(counts) iterations, which takes approximately e*max(L) time\n",
    "    #(Since len(counts) is close to max(L))\n",
    "    sorted_L = []\n",
    "    for i in range(0, len(counts)):\n",
    "        sorted_L.extend([i]*counts[i])\n",
    "    \n",
    "    #This line takes f*len(L) time\n",
    "    L[:] = sorted_L"
   ]
  },
  {
   "cell_type": "markdown",
   "metadata": {},
   "source": [
    "In total, summing up all the contributions from the different parts of the function, `bucket_sort(L)` runs in \n",
    "\n",
    "$(a+c+d+f)len(L) + (b+e)max(L)$ time.\n",
    "\n",
    "Now, $(a+c+d+f)len(L) + (b+e)max(L) \\leq (a+b+c+d+e+f)len(L) + (a+b+c+d+e+f)max(L) = (a+b+c+d+e+f)(len(L)+max(L)$.\n",
    "\n",
    "This implies that `bucket_sort()` runs in $\\mathcal{O}(len(L)+max(L))$ time."
   ]
  },
  {
   "cell_type": "markdown",
   "metadata": {},
   "source": [
    "### When is Bucket Sort appropriate\n",
    "\n",
    "This algorithm relied crucially on our being able to arrange \"buckets\" in such a way that we could put the elements of the list in them. Note that this would work much worse with, for example, strings. We *could* try to sort a list of names like that, but that would require setting up a *lot* of buckets, one for every possible name in the world.\n",
    "\n",
    "For sorting strings, we use something similar to what we have above, but the buckets are for the first initials, not for the entire strings. (That means that we'd have to process the buckets further than we did here.)\n",
    "\n",
    "### Complexity of Bucket Sort\n",
    "\n",
    "There are several scenarios under which $max(L)$ is fixed:\n",
    "* The elements of `L` are known to be in some fixed range, for example 0..100\n",
    "* The elements of `L` are of a type that can only store numbers up to a certain magnitude. (The way `float`s in Python are, for example; although we couldn't sort `float`s using Counting Sort.)\n",
    "\n",
    "If, for example `max(L) = 100`, then $\\mathcal{O}(max(L)+len(L) = \\mathcal{O}(100+len(L)) = \\mathcal{O}(len(L))$ (100 is a constant that is dropped)."
   ]
  }
 ],
 "metadata": {
  "kernelspec": {
   "display_name": "Python 3",
   "language": "python",
   "name": "python3"
  },
  "language_info": {
   "codemirror_mode": {
    "name": "ipython",
    "version": 3
   },
   "file_extension": ".py",
   "mimetype": "text/x-python",
   "name": "python",
   "nbconvert_exporter": "python",
   "pygments_lexer": "ipython3",
   "version": "3.4.3"
  }
 },
 "nbformat": 4,
 "nbformat_minor": 0
}
