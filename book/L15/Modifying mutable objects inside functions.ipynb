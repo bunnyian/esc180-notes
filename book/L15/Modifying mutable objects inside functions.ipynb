{
 "cells": [
  {
   "cell_type": "markdown",
   "metadata": {},
   "source": [
    "### Modifying lists in functions\n",
    "\n",
    "Here is one consequence of the fact that we can change the contents of lists: we can change the contents of arguments to functions:"
   ]
  },
  {
   "cell_type": "code",
   "execution_count": 1,
   "metadata": {
    "collapsed": false
   },
   "outputs": [
    {
     "name": "stdout",
     "output_type": "stream",
     "text": [
      "[5, 2, 3]\n"
     ]
    }
   ],
   "source": [
    "def change_list(L):\n",
    "    L[0] = 5\n",
    "    \n",
    "if __name__ == '__main__':\n",
    "    L1 = [1, 2, 3]\n",
    "    change_list(L1)\n",
    "    print(L1)"
   ]
  },
  {
   "cell_type": "markdown",
   "metadata": {},
   "source": [
    "What happenned there is that the parameter `L` became an alias of the list `L1`. Therefore, when the contents of `L` changed, the contents of `L1` changed, too."
   ]
  },
  {
   "cell_type": "markdown",
   "metadata": {},
   "source": [
    "Note that all that's going on there is that we can change the contents of lists. With both lists and integers, if we make a local variable refer to a new object, the variable which we used as an argument is unaffected:"
   ]
  },
  {
   "cell_type": "code",
   "execution_count": 2,
   "metadata": {
    "collapsed": false
   },
   "outputs": [
    {
     "name": "stdout",
     "output_type": "stream",
     "text": [
      "[7]\n",
      "7\n"
     ]
    }
   ],
   "source": [
    "def dont_change_list(L):\n",
    "    L = [5]\n",
    "    \n",
    "def dont_change_integer(n):\n",
    "    n = 5\n",
    "    \n",
    "if __name__ == '__main__':\n",
    "    L1 = [7]\n",
    "    dont_change_list(L1)\n",
    "    print(L1) #[7]\n",
    "    \n",
    "    m = 7\n",
    "    dont_change_integer(m)\n",
    "    print(m)  #7"
   ]
  }
 ],
 "metadata": {
  "kernelspec": {
   "display_name": "Python 3",
   "language": "python",
   "name": "python3"
  },
  "language_info": {
   "codemirror_mode": {
    "name": "ipython",
    "version": 3
   },
   "file_extension": ".py",
   "mimetype": "text/x-python",
   "name": "python",
   "nbconvert_exporter": "python",
   "pygments_lexer": "ipython3",
   "version": "3.4.3"
  }
 },
 "nbformat": 4,
 "nbformat_minor": 0
}
