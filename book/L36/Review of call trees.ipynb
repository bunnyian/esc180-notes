{
 "cells": [
  {
   "cell_type": "markdown",
   "metadata": {},
   "source": [
    "Here are the fix common shapes of call trees. Of course, there are other kinds as well.\n",
    "\n",
    "### Example 1: Factorial\n",
    "\n",
    "Only one recursive call from each call, the runtime does not depend on `n`, `n` decreases by a constant amount (i.e., `1`) with each call"
   ]
  },
  {
   "cell_type": "code",
   "execution_count": 1,
   "metadata": {
    "collapsed": true
   },
   "outputs": [],
   "source": [
    "def fact(n):\n",
    "    if n == 0:\n",
    "        return 1\n",
    "    return n*fact(n-1)"
   ]
  },
  {
   "cell_type": "markdown",
   "metadata": {},
   "source": [
    "`n+1` calls in total. Complexity: $\\mathcal{O}(n)$.\n",
    "\n",
    "       0\n",
    "       |\n",
    "       1\n",
    "       .\n",
    "       .\n",
    "       .\n",
    "       |\n",
    "      n-2\n",
    "       | \n",
    "      n-1\n",
    "       | \n",
    "       n\n",
    "       "
   ]
  },
  {
   "cell_type": "markdown",
   "metadata": {},
   "source": [
    "### Example 2: Fast exponentiation\n",
    "\n",
    "Only one recursive call from each call, the runtime does not depend on `n`, `n` decreases by a constant factor (e.g., a factor of `2`) with each call."
   ]
  },
  {
   "cell_type": "code",
   "execution_count": 2,
   "metadata": {
    "collapsed": true
   },
   "outputs": [],
   "source": [
    "def power(x, n):\n",
    "    if n == 0:\n",
    "        return 1\n",
    "    if n == 1:\n",
    "        return x\n",
    "    half_power = power(n//2)\n",
    "    return half_power*half_power"
   ]
  },
  {
   "cell_type": "markdown",
   "metadata": {},
   "source": [
    "$\\log_2 (n) + 1$ calls in total. Complexity: $\\mathcal{O}((log n))$\n",
    "\n",
    "Call tree:\n",
    "\n",
    "       0\n",
    "       |\n",
    "       1\n",
    "       .\n",
    "       .\n",
    "       .\n",
    "       |\n",
    "      n/4\n",
    "       | \n",
    "      n/2\n",
    "       | \n",
    "       n\n"
   ]
  },
  {
   "cell_type": "markdown",
   "metadata": {},
   "source": [
    "### Example 3: Slow $2^n$\n",
    "\n",
    "Two recursive calls from each call, the runtime for each call does not depend on `n`, `n` decreases by 1 every time.\n",
    "\n"
   ]
  },
  {
   "cell_type": "code",
   "execution_count": 3,
   "metadata": {
    "collapsed": true
   },
   "outputs": [],
   "source": [
    "def slow_power_2(n):\n",
    "    if n == 0:\n",
    "        return 1\n",
    "    return slow_power_2(n-1) + slow_power_2(n-1)"
   ]
  },
  {
   "cell_type": "markdown",
   "metadata": {},
   "source": [
    "$1+2+4+...+ 2^{n)} = (1-2^{n+1})/(1-2) = 2^{n+1}-1$ calls in total, i.e., $\\mathcal{O}(2^n)$ calls.\n",
    "\n",
    "Call tree:\n",
    "\n",
    "     0  0  0 0  0  ...                              0\n",
    "        1   1 1 1 1 1 1 1 1 ....            1\n",
    "           ...........\n",
    "\n",
    "                n-2 _  n-2   n-2  n-2\n",
    "                     \\/        \\/ \n",
    "                     n-1    _ n-1\n",
    "                      \\   /\n",
    "                        n \n",
    "                    "
   ]
  },
  {
   "cell_type": "markdown",
   "metadata": {},
   "source": [
    "### Example 4: `sum_list2`\n",
    "\n",
    "Two recursive calls from each call, the runtime does not depend on `n`, `n` is smaller by a factor of 2 every time.\n"
   ]
  },
  {
   "cell_type": "code",
   "execution_count": 4,
   "metadata": {
    "collapsed": true
   },
   "outputs": [],
   "source": [
    "def sum_list2(L):\n",
    "    '''Return the sum of the list of ints L'''\n",
    "    if len(L) == 0:\n",
    "        return 0\n",
    "    \n",
    "    if len(L) == 1:\n",
    "        return L[0]  #the sum of the list is L[0] if L[0] is the only element\n",
    "    \n",
    "    mid = len(L)//2 #(the index of the approximate midpoint of the list)\n",
    "    return sum_list2(L[:mid]) + sum_list2(L[mid:])"
   ]
  },
  {
   "cell_type": "markdown",
   "metadata": {},
   "source": [
    "Total number of calls: $1 + 2 + 4 + ... + 2^{(\\log_2 n)} = (1-2^{(\\log_2 n + 1)})/(1-2) = 2n-1$"
   ]
  },
  {
   "cell_type": "markdown",
   "metadata": {},
   "source": [
    "Call tree:\n",
    "\n",
    "         [1].......[1]...[1]....................[1]              \n",
    "            .                                   .\n",
    "             .                                 .\n",
    "              .                               .\n",
    "               .                             .\n",
    "                 .                          . \n",
    "                 [n/4]    [n/4]  [n/4]  [n/4]\n",
    "                   \\      /       \\     /\n",
    "                    \\    /         \\   /\n",
    "                     [n/2]        [n/2]\n",
    "                       \\          /\n",
    "                        \\        /\n",
    "                         \\      /\n",
    "                          \\    /\n",
    "                            [n]\n",
    "\n",
    "Now, each call `sum_list2(L)` will take a time proportional to the length of `L`, so that, like in the analysis of MergeSort, the runtime here will be $\\mathcal{O}(n\\log n)$. However, if we imagine that we get away with doing slicing for free, the runtime will be $\\mathcal{O}(n)$, since the number of calls is $\\mathcal{O}(n)$.\n",
    "\n",
    "Here is how we could get away with not using slicing:"
   ]
  },
  {
   "cell_type": "code",
   "execution_count": 5,
   "metadata": {
    "collapsed": true
   },
   "outputs": [],
   "source": [
    "def sum_list2_fast(L, start, end):\n",
    "    if end == start:\n",
    "        return 0\n",
    "    if end == start + 1:\n",
    "        return L[start]\n",
    "    \n",
    "    mid = (start+end)//2\n",
    "    \n",
    "    return sum_list2_fast(L, start, mid) + sum_list2_fast(L, mid, end)\n",
    "\n",
    "def sum_list2_fast_noargs(L):\n",
    "    return sum_list2_fast(L, 0, len(L))"
   ]
  },
  {
   "cell_type": "markdown",
   "metadata": {},
   "source": [
    "### Example 5: MergeSort\n",
    "\n",
    "Call tree:\n",
    "\n",
    "                                                              level\n",
    "       [1].......[1]...[1]....................[1]            log_2 n +1\n",
    "        .                                   .\n",
    "         .                                 .\n",
    "          .                               .\n",
    "           .                             .\n",
    "             .                          . \n",
    "             [n/4]    [n/4]  [n/4]  [n/4]                         3\n",
    "               \\      /       \\     /\n",
    "                \\    /         \\   /\n",
    "                 [n/2]        [n/2]                               2\n",
    "                   \\          /\n",
    "                    \\        /\n",
    "                     \\      /\n",
    "                      \\    /\n",
    "                        [n]                                       1\n",
    "\n",
    "Runtime: $\\mathcal{O}(n\\log n)$."
   ]
  }
 ],
 "metadata": {
  "kernelspec": {
   "display_name": "Python 2",
   "language": "python",
   "name": "python2"
  },
  "language_info": {
   "codemirror_mode": {
    "name": "ipython",
    "version": 2
   },
   "file_extension": ".py",
   "mimetype": "text/x-python",
   "name": "python",
   "nbconvert_exporter": "python",
   "pygments_lexer": "ipython2",
   "version": "2.7.12"
  }
 },
 "nbformat": 4,
 "nbformat_minor": 0
}
