{
 "cells": [
  {
   "cell_type": "markdown",
   "metadata": {},
   "source": [
    "Let's generalize the fast exponentiation function that we wrote before:\n",
    "\n",
    "The idea is to use the fact that\n",
    "\n",
    "$x^n = (x^{n/2})^2$ if n is even\n",
    "\n",
    "and \n",
    "\n",
    "$x^n = x\\times (x^{n//2})^2$ if n is odd.\n",
    "\n",
    "\n",
    "(Check this by making sure that $x^7 = x\\times (x^3)^2$."
   ]
  },
  {
   "cell_type": "code",
   "execution_count": 1,
   "metadata": {
    "collapsed": true
   },
   "outputs": [],
   "source": [
    "def fast_exp(x, n):\n",
    "    '''Return x^n\n",
    "    '''\n",
    "    \n",
    "    if n == 0:\n",
    "        return 1\n",
    "    \n",
    "    if n == 1:\n",
    "        return x\n",
    "        \n",
    "        \n",
    "    half_exp = fast_exp(x, n//2)\n",
    "    if n % 2 == 0:\n",
    "        return half_exp * half_exp\n",
    "    else:\n",
    "        return x * half_exp * half_exp"
   ]
  },
  {
   "cell_type": "markdown",
   "metadata": {},
   "source": [
    "Let's consider the complexity. The call tree looks like this:\n",
    "\n",
    "        1\n",
    "        .\n",
    "        .\n",
    "       n/4\n",
    "        |\n",
    "       n/2\n",
    "        |\n",
    "        n\n",
    "          \n",
    "\n",
    "\n",
    "It's *not* the case here that every call takes the same amount of time: there is an extra multiplication for odd $n$. However, we can say that each call takes 2 multiplications or fewer. That means that each call takes at most `k` time for some constant `k`. So the total runtime is at most $k\\log_2 n$, so the algorithm is $\\mathcal{O}(\\log n)."
   ]
  }
 ],
 "metadata": {
  "kernelspec": {
   "display_name": "Python 3",
   "language": "python",
   "name": "python3"
  },
  "language_info": {
   "codemirror_mode": {
    "name": "ipython",
    "version": 2
   },
   "file_extension": ".py",
   "mimetype": "text/x-python",
   "name": "python",
   "nbconvert_exporter": "python",
   "pygments_lexer": "ipython2",
   "version": "2.7.12"
  }
 },
 "nbformat": 4,
 "nbformat_minor": 0
}
