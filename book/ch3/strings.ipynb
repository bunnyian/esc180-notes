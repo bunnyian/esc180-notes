{
 "cells": [
  {
   "cell_type": "markdown",
   "metadata": {},
   "source": [
    "## Strings in Python\n",
    "\n",
    "Strings are values that consist of text. For example:\n",
    "```\n",
    "\"abc\"\n",
    "\"9\"\n",
    "\"123.5\"\n",
    "\"123abc\"\n",
    "'abc'\n",
    "```\n",
    "\n",
    "Either single quotes or double quotes are fine, as long as you're consistent. When does it matter when you're using single quotes or double quotes? When you want to have quotes *as part of the text*. First, let's try the really naive approach to doing this"
   ]
  },
  {
   "cell_type": "code",
   "execution_count": 2,
   "metadata": {
    "collapsed": false
   },
   "outputs": [
    {
     "ename": "SyntaxError",
     "evalue": "invalid syntax (<ipython-input-2-88cf1b2d1e33>, line 1)",
     "output_type": "error",
     "traceback": [
      "\u001b[1;36m  File \u001b[1;32m\"<ipython-input-2-88cf1b2d1e33>\"\u001b[1;36m, line \u001b[1;32m1\u001b[0m\n\u001b[1;33m    \"Artsies are \"smart\"\"\u001b[0m\n\u001b[1;37m                      ^\u001b[0m\n\u001b[1;31mSyntaxError\u001b[0m\u001b[1;31m:\u001b[0m invalid syntax\n"
     ]
    }
   ],
   "source": [
    "\"Artsies are \"smart\"\""
   ]
  },
  {
   "cell_type": "markdown",
   "metadata": {},
   "source": [
    "WHy is there a problem there? because Python understands that `\"Artsies are\"` is a string, and thinks that `smart` is some kind of variable. (If if we had a variable named `smart`, the line still wouldn't make sense, since you need some kind of connector between the string and the variable `smart`.\n",
    "\n",
    "One way to solve this is to mix the style of quotes. Both of the following are fine:\n",
    "```\n",
    "\"Artsies are 'smart'\"\n",
    "'Artsies are \"smart\"'\n",
    "```\n",
    "What if we insist on just using double quotes? Python allows us to do this by using the backslash"
   ]
  },
  {
   "cell_type": "code",
   "execution_count": 1,
   "metadata": {
    "collapsed": false
   },
   "outputs": [
    {
     "data": {
      "text/plain": [
       "'Artsies are \"smart\"'"
      ]
     },
     "execution_count": 1,
     "metadata": {},
     "output_type": "execute_result"
    }
   ],
   "source": [
    "\"Artsies are \\\"smart\\\"\""
   ]
  },
  {
   "cell_type": "markdown",
   "metadata": {},
   "source": [
    "`\\\"` is interpreted by Python as a double quote that is not the end of a string. \n",
    "\n",
    "What if we want a string that contains a slash follows by a quote?"
   ]
  },
  {
   "cell_type": "code",
   "execution_count": 2,
   "metadata": {
    "collapsed": false
   },
   "outputs": [
    {
     "name": "stdout",
     "output_type": "stream",
     "text": [
      "\\\"\n"
     ]
    }
   ],
   "source": [
    "print(\"\\\\\\\"\")"
   ]
  },
  {
   "cell_type": "markdown",
   "metadata": {},
   "source": [
    "## Multiline strings\n",
    "\n",
    "The following will not work:"
   ]
  },
  {
   "cell_type": "code",
   "execution_count": 3,
   "metadata": {
    "collapsed": false
   },
   "outputs": [
    {
     "ename": "SyntaxError",
     "evalue": "EOL while scanning string literal (<ipython-input-3-d49ff857fc6c>, line 1)",
     "output_type": "error",
     "traceback": [
      "\u001b[1;36m  File \u001b[1;32m\"<ipython-input-3-d49ff857fc6c>\"\u001b[1;36m, line \u001b[1;32m1\u001b[0m\n\u001b[1;33m    \"abc\u001b[0m\n\u001b[1;37m        ^\u001b[0m\n\u001b[1;31mSyntaxError\u001b[0m\u001b[1;31m:\u001b[0m EOL while scanning string literal\n"
     ]
    }
   ],
   "source": [
    "\"abc\n",
    "def\n",
    "geh\""
   ]
  },
  {
   "cell_type": "markdown",
   "metadata": {},
   "source": [
    "However, it is possible to define multiline strings by enclosing text in a pair of triple single quotes:"
   ]
  },
  {
   "cell_type": "code",
   "execution_count": 6,
   "metadata": {
    "collapsed": false
   },
   "outputs": [
    {
     "name": "stdout",
     "output_type": "stream",
     "text": [
      "abc\n",
      "def\n",
      "gheijklmn\n"
     ]
    }
   ],
   "source": [
    "a = '''abc\n",
    "def\n",
    "gheijklmn'''\n",
    "print(a)"
   ]
  },
  {
   "cell_type": "markdown",
   "metadata": {},
   "source": [
    "This is how `a` gets printed. We can also display `a` the way we would enter it:"
   ]
  },
  {
   "cell_type": "code",
   "execution_count": 7,
   "metadata": {
    "collapsed": false
   },
   "outputs": [
    {
     "data": {
      "text/plain": [
       "'abc\\ndef\\ngheijklmn'"
      ]
     },
     "execution_count": 7,
     "metadata": {},
     "output_type": "execute_result"
    }
   ],
   "source": [
    "a"
   ]
  },
  {
   "cell_type": "markdown",
   "metadata": {},
   "source": [
    "Let's enter a string that way:"
   ]
  },
  {
   "cell_type": "code",
   "execution_count": 8,
   "metadata": {
    "collapsed": true
   },
   "outputs": [],
   "source": [
    "b = 'abc\\ndef\\ngheijklmn'\n",
    "print(b)"
   ]
  },
  {
   "cell_type": "markdown",
   "metadata": {},
   "source": [
    "`\"\\n\"` represents a newline: an instruction to `print` to switch to a new line. Again, if we want a string to literally contain a backslash followed by an n, we would go "
   ]
  },
  {
   "cell_type": "code",
   "execution_count": 10,
   "metadata": {
    "collapsed": false
   },
   "outputs": [
    {
     "name": "stdout",
     "output_type": "stream",
     "text": [
      "\\n\n"
     ]
    }
   ],
   "source": [
    "print(\"\\\\n\")"
   ]
  },
  {
   "cell_type": "markdown",
   "metadata": {},
   "source": [
    "`\"\\\\\"` is interpreted as a single backslash in the string -- it's just a way to enter a single slash without python interpreting the backaslash as the first part of `\"\\n\"`."
   ]
  },
  {
   "cell_type": "markdown",
   "metadata": {},
   "source": [
    "One way that multiline strings are often used is to \"comment-out\" code in your programs. For example, if I have the following in my program, the program will still run fine:"
   ]
  },
  {
   "cell_type": "code",
   "execution_count": 11,
   "metadata": {
    "collapsed": false
   },
   "outputs": [
    {
     "name": "stdout",
     "output_type": "stream",
     "text": [
      "hi\n",
      "nothing interesting happenned above\n"
     ]
    }
   ],
   "source": [
    "print(\"hi\")\n",
    "\n",
    "42\n",
    "52 + 3\n",
    "'''\n",
    ">>> 'Artsies are \"smart\"'\n",
    "'Artsies are \"smart\"'\n",
    "\n",
    ">>> \"Artsies are 'smart'\"\n",
    "\"Artsies are 'smart'\"\n",
    "\n",
    ">>> \"Artsies are \\\"smart\\\"\"\n",
    "'Artsies are \"smart\"'\n",
    "'''\n",
    "\n",
    "print(\"nothing interesting happenned above\")"
   ]
  },
  {
   "cell_type": "markdown",
   "metadata": {},
   "source": [
    "This worked because Python allows you to enter expressions into the program. The expressions (like, `42`, and `52 + 3`, and the multiline string) have no effect on the output, since you are not printing them, but they are also not interfering with the program's being able to run.\n",
    "\n",
    "Sometimes, using multi-line strings as comments is the correct thing to do. However, most of the time, if you want to comment out a bunch of code, use the editor (in Pyzo, go Edit->Comment after highlighting the chunk of code you want to comment out). It should look something like this:\n",
    "\n",
    "```\n",
    "# >>> 'Artsies are \"smart\"'\n",
    "# 'Artsies are \"smart\"'\n",
    "# \n",
    "# >>> \"Artsies are 'smart'\"\n",
    "# \"Artsies are 'smart'\"\n",
    "# \n",
    "# >>> \"Artsies are \\\"smart\\\"\"\n",
    "# 'Artsies are \"smart\"'\n",
    "```"
   ]
  }
 ],
 "metadata": {
  "kernelspec": {
   "display_name": "Python 3",
   "language": "python",
   "name": "python3"
  },
  "language_info": {
   "codemirror_mode": {
    "name": "ipython",
    "version": 3
   },
   "file_extension": ".py",
   "mimetype": "text/x-python",
   "name": "python",
   "nbconvert_exporter": "python",
   "pygments_lexer": "ipython3",
   "version": "3.4.3"
  }
 },
 "nbformat": 4,
 "nbformat_minor": 0
}
