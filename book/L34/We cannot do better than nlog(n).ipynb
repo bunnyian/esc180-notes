{
 "cells": [
  {
   "cell_type": "markdown",
   "metadata": {},
   "source": [
    "### How fast can a sorting algorithm be? hint: $\\mathcal{O}(n\\log n)$\n",
    "\n",
    "Here is a brief and informal argument that a sorting algorithm that relies only on comparisons of individual elements (note: this excludes Bucket Sort, which relies on the elements of the list being of a certain type and in a certain range), cannot run faster than $\\mathcal{O}(n\\log n)$.\n",
    "\n",
    "There are $n!$ ways to rearrange a list of length $n$. One of them leads to the list being sorted (if all the elements in the list are unique.)\n",
    "\n",
    "Now, each time we ask a question like \"is element `i` smaller than element `j`?,\" the best we can hope for is to eliminate one half of the possibile rearrangements. If all we're allowed to do is compare elements, we'd keep asking questions like this until we get to the point that only one rearrangement is left. This is similar to how in the game of Twenty Questions, we ask yes/no questions and eliminate possible answers.\n",
    "\n",
    "So, we start out with $n!$ possible rearrangements, after the first comparison there will be $n!/2$ possible rearrangements, and so on, until we just have the one rearrangement which leads to the list being sorted. \n",
    "\n",
    "In total, we need $\\log_2 (n!)$ comparisons if each comparison eliminates half the remaining rearrangements.\n",
    "\n",
    "Using Stirling's Apprixmation, $\\log_2(n!)$ is $\\mathcal{O}n\\log(n)$.\n"
   ]
  },
  {
   "cell_type": "markdown",
   "metadata": {},
   "source": []
  }
 ],
 "metadata": {
  "kernelspec": {
   "display_name": "Python 3",
   "language": "python",
   "name": "python3"
  },
  "language_info": {
   "codemirror_mode": {
    "name": "ipython",
    "version": 2
   },
   "file_extension": ".py",
   "mimetype": "text/x-python",
   "name": "python",
   "nbconvert_exporter": "python",
   "pygments_lexer": "ipython2",
   "version": "2.7.12"
  }
 },
 "nbformat": 4,
 "nbformat_minor": 0
}
