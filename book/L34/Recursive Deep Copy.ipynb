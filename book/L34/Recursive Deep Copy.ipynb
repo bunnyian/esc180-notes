{
 "cells": [
  {
   "cell_type": "markdown",
   "metadata": {},
   "source": [
    "### Deep Copy vs. Shallow Copy\n",
    "\n",
    "Here's a brief review of Shallow Copy:"
   ]
  },
  {
   "cell_type": "code",
   "execution_count": 1,
   "metadata": {
    "collapsed": true
   },
   "outputs": [],
   "source": [
    "L1 = [[1, 2], [3, 4]]\n",
    "L2 = L1[:]"
   ]
  },
  {
   "cell_type": "markdown",
   "metadata": {},
   "source": [
    "Here, `L1[0]` and `L2[0]` are aliases. Changing the contents of `L1[0]` (e.g. with `L1[0][0] = 5`) will also change the contents of `L2[0]` and vice versa. To address this, we can instead create a deep copy of `L1`:"
   ]
  },
  {
   "cell_type": "code",
   "execution_count": 2,
   "metadata": {
    "collapsed": false
   },
   "outputs": [],
   "source": [
    "copy = []\n",
    "for e in L1:\n",
    "    copy.append(e[:])"
   ]
  },
  {
   "cell_type": "markdown",
   "metadata": {},
   "source": [
    "Here, we are creating a new list every time we append, since we are appending a copy of `e`, not `e` itself. However, this only works if `L1` happens to be a list of lists of `int`s. For example, this would create a problem:"
   ]
  },
  {
   "cell_type": "code",
   "execution_count": 3,
   "metadata": {
    "collapsed": true
   },
   "outputs": [],
   "source": [
    "L1 = [[1, 2], [3, [4, 5]]]\n",
    "copy = []\n",
    "for e in L1:\n",
    "    copy.append(e[:])"
   ]
  },
  {
   "cell_type": "markdown",
   "metadata": {},
   "source": [
    "We are not creating a copy of `[4, 5]` here, only a copy of `[3, [4, 5]`. That means that `L1[1][1]` and `copy[1][1]` will be alises. Changing one will change the other.\n",
    "\n",
    "If, instead of appending the shallow copy of `e` (i.e., `e[:]`), we were to append the *deep* copy of `e`, things would work. We use a recursive solution to accomplish this.\n",
    "\n",
    "(Side note: `type(obj)` returns the type of `obj`. For example, `type([1, 2, 3]) == list` is `True`."
   ]
  },
  {
   "cell_type": "code",
   "execution_count": 4,
   "metadata": {
    "collapsed": false
   },
   "outputs": [],
   "source": [
    "def deep_copy(obj):\n",
    "    '''Return a deep (i.e., non-aliased at all) copy of obj, a nested list of \n",
    "    integers'''\n",
    "    #Base case:\n",
    "    if type(obj) != list:\n",
    "        return obj\n",
    "    copy = []\n",
    "    for elem in obj:\n",
    "        #The leap of faith: assume that deep_copy works!\n",
    "        copy.append(deep_copy(elem))\n",
    "    return copy"
   ]
  },
  {
   "cell_type": "markdown",
   "metadata": {},
   "source": [
    "The base case is easy: if `obj` is not a list, then it's an integer, and we consider `int`s to be their own deep copies. Otherwise, we perform the recursive leap of faith: we append to `copy` the deep copies of each of `obj`'s elements. If we assume `deep_copy` works, then the idea works as a whole."
   ]
  }
 ],
 "metadata": {
  "kernelspec": {
   "display_name": "Python 2",
   "language": "python",
   "name": "python2"
  },
  "language_info": {
   "codemirror_mode": {
    "name": "ipython",
    "version": 2
   },
   "file_extension": ".py",
   "mimetype": "text/x-python",
   "name": "python",
   "nbconvert_exporter": "python",
   "pygments_lexer": "ipython2",
   "version": "2.7.12"
  }
 },
 "nbformat": 4,
 "nbformat_minor": 0
}
