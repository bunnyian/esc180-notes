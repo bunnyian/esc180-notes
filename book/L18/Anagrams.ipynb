{
 "cells": [
  {
   "cell_type": "markdown",
   "metadata": {},
   "source": [
    "### Anagrams\n",
    "\n",
    "The string `s1` is an anagram of string `s2` if it contains the same letters, rearranged. We want to ignore case, and ignore spaces.\n",
    "\n",
    "For example, `\"Praxis forever\"` and `\"A prefix rovers\"` are anagrams.\n",
    "\n",
    "We'd like to write a function that returns `True` if the two arguments supplied to it are anagrams of each other.\n",
    "\n",
    "We need a few functions:\n",
    "\n",
    "    str.isalpha()\n",
    "        Return true if all characters in the string are alphabetic\n",
    "        and there is at least one character, false otherwise.\n",
    "        \n",
    "    str.count(sub)\n",
    "        Return the number of non-overlapping occurrences of \n",
    "        substring sub in the range\n",
    "        \n",
    "    str.lower()\n",
    "        Return a copy of the string with all the cased characters \n",
    "        converted to lowercase\n",
    "        \n",
    "    str.replace(old, new)\n",
    "        Return a copy of the string with all occurrences of substring\n",
    "        old replaced by new. \n",
    "        \n",
    "        \n",
    "Here is the first approach: convert both strings to lowercase, and then go through every letter that appears in either string, and make sure that the counts in `s1` and `s2` for that letter match.        "
   ]
  },
  {
   "cell_type": "code",
   "execution_count": 1,
   "metadata": {
    "collapsed": true
   },
   "outputs": [],
   "source": [
    "def is_anagram(s1, s2):\n",
    "    s1 = s1.lower() #Note: just going s1.lower() isn't\n",
    "                    #enough, since s1.lower() returns\n",
    "                    #a new string, but doesn't itself modify\n",
    "                    #the string s1.\n",
    "    s2 = s2.lower()\n",
    "    \n",
    "    for c in s1 + s2:\n",
    "        #check that the counts match for every c\n",
    "        if c.isalpha():\n",
    "            if s1.count(c) != s2.count(c):\n",
    "                return False\n",
    "    return True"
   ]
  },
  {
   "cell_type": "markdown",
   "metadata": {},
   "source": [
    "There is nothing *that* weird about the line `for c in s1 + s2`. Here, we are make a new string, `s1 + s2`, which is just `s1` and `s2` concatenating together. If we go through every character in `s1 + s2`, then we are going through every character that appears in either `s1` or `s2`.\n"
   ]
  },
  {
   "cell_type": "code",
   "execution_count": 2,
   "metadata": {
    "collapsed": false
   },
   "outputs": [
    {
     "data": {
      "text/plain": [
       "True"
      ]
     },
     "execution_count": 2,
     "metadata": {},
     "output_type": "execute_result"
    }
   ],
   "source": [
    "is_anagram(\"a prefix rovers\", \"praxis forever\")    "
   ]
  },
  {
   "cell_type": "markdown",
   "metadata": {},
   "source": [
    "Here's another way: first, let's get rid of the spaces from `s1` and `s2`. Then, let's sort all the characters in `s1` and `s2`, alphabetically. Then, let's see if the results are the same. If they are the same, then `s1` and `s2` are anagrams.\n",
    "\n",
    "Here's how these things work:"
   ]
  },
  {
   "cell_type": "code",
   "execution_count": 3,
   "metadata": {
    "collapsed": false
   },
   "outputs": [
    {
     "data": {
      "text/plain": [
       "'aprefixrovers'"
      ]
     },
     "execution_count": 3,
     "metadata": {},
     "output_type": "execute_result"
    }
   ],
   "source": [
    "\"a prefix rovers\".replace(\" \", \"\")"
   ]
  },
  {
   "cell_type": "code",
   "execution_count": 4,
   "metadata": {
    "collapsed": false
   },
   "outputs": [
    {
     "data": {
      "text/plain": [
       "['a', 'e', 'e', 'f', 'i', 'o', 'p', 'r', 'r', 'r', 's', 'v', 'x']"
      ]
     },
     "execution_count": 4,
     "metadata": {},
     "output_type": "execute_result"
    }
   ],
   "source": [
    "sorted('aprefixrovers')"
   ]
  },
  {
   "cell_type": "code",
   "execution_count": 5,
   "metadata": {
    "collapsed": true
   },
   "outputs": [],
   "source": [
    "def is_anagram2(s1, s2):\n",
    "    s1 = s1.lower().replace(\" \", \"\")\n",
    "    s2 = s2.lower().replace(\" \", \"\")\n",
    "    \n",
    "    return sorted(s1) == sorted(s2)"
   ]
  },
  {
   "cell_type": "markdown",
   "metadata": {},
   "source": [
    "What is `s1.lower().replace(\" \", \"\")`? First, we create a new string, `s1.lower()`. Then, we create *another* new string, `s1.lower()` with the spaces removed. That's the value of `s1.lower().replace(\" \", \"\")`.\n",
    "\n",
    "We can make the function one-liner like this:"
   ]
  },
  {
   "cell_type": "code",
   "execution_count": 6,
   "metadata": {
    "collapsed": true
   },
   "outputs": [],
   "source": [
    "def is_anagram2(s1, s2):\n",
    "    return sorted(s1.lower().replace(\" \", \"\")) == sorted(s2.lower().replace(\" \", \"\"))"
   ]
  }
 ],
 "metadata": {
  "kernelspec": {
   "display_name": "Python 3",
   "language": "python",
   "name": "python3"
  },
  "language_info": {
   "codemirror_mode": {
    "name": "ipython",
    "version": 3
   },
   "file_extension": ".py",
   "mimetype": "text/x-python",
   "name": "python",
   "nbconvert_exporter": "python",
   "pygments_lexer": "ipython3",
   "version": "3.4.3"
  }
 },
 "nbformat": 4,
 "nbformat_minor": 0
}
