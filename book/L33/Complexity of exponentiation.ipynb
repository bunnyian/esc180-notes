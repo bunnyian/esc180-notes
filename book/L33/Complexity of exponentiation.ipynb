{
 "cells": [
  {
   "cell_type": "markdown",
   "metadata": {},
   "source": [
    "### The naive way to compute $x^n$\n",
    "\n",
    "Here is the usual way we compute exponents."
   ]
  },
  {
   "cell_type": "code",
   "execution_count": 1,
   "metadata": {
    "collapsed": true
   },
   "outputs": [],
   "source": [
    "def power(x, n):\n",
    "    res = 1\n",
    "    for i in range(n):\n",
    "        res *= x"
   ]
  },
  {
   "cell_type": "markdown",
   "metadata": {},
   "source": [
    "Assuming that `x` is a `float`, each multiplication takes a constant amount of time. That means that the complexity of this function is $\\mathcal{O}(n)$, since the block repeats $n$ times, and each iteration takes the same amount of time.\n",
    "\n",
    "\n",
    "### Exponentiation using the repeated squaring trick\n",
    "\n",
    "Here's an idea for computing $x^n$ quickly, exponentiation by squaring. The key insight is that \n",
    "\n",
    "$$(...((x^2)^2)^2... ^2)^2 = x^{2^{k+1}}$$\n",
    "\n",
    "if the squaring is performed $k$ times. For example,\n",
    "\n",
    "$$((x^2)^2)^2 = x^{16} = x^{2^{3+1}}$$.\n",
    "\n",
    "Suppose that $n = 2^{k+1}$ for some whole $k$ (i.e., $n$ is a power of two.) We can now use the repeated squaring trick and the fact that $(x^{n/2})"
   ]
  },
  {
   "cell_type": "code",
   "execution_count": 2,
   "metadata": {
    "collapsed": true
   },
   "outputs": [],
   "source": [
    "def power(x, n):\n",
    "    '''Return x^n\n",
    "    \n",
    "    Arguments:\n",
    "    x -- a float\n",
    "    n -- a non-negative integer that is a power of 2'''\n",
    "    \n",
    "    if n == 0:\n",
    "        return 1   #x^0 = 1\n",
    "    if n == 1:\n",
    "        return x   #x^1 = x\n",
    "    \n",
    "    half_power = power(x, n//2)\n",
    "    return half_power * half_power #using **2 would be cheating\n",
    "                                   #(kind of.) The whole idea is that\n",
    "                                   #we can't use **"
   ]
  },
  {
   "cell_type": "markdown",
   "metadata": {},
   "source": [
    "This is just repeated squaring in reverse. Here is the call tree (for convenience, we just keep track of `n`, since `x` does not change within recursive calls.)\n",
    "\n",
    "\n",
    "\n",
    "\n",
    "                1\n",
    "               /|\n",
    "             x  |\n",
    "             \\  |\n",
    "                2\n",
    "              / |\n",
    "            x^2 |\n",
    "                |\n",
    "                . \n",
    "                .\n",
    "                |\n",
    "                |\n",
    "                |\n",
    "               n/8\n",
    "               /|\n",
    "        x^(n/8) |\n",
    "               \\|\n",
    "               n/4\n",
    "               /|\n",
    "        x^(n/4) |\n",
    "             \\  |\n",
    "               n/2\n",
    "              / |\n",
    "         x^(n/2)|\n",
    "             \\  |\n",
    "                n\n",
    "                \\   \n",
    "                 \\\n",
    "                  x^n\n",
    "\n",
    "How many calls in total are there? We make the initial call, plus as many calls as are necessary to get from `n` to `1` by dividing by `2` every time (i.e., $\\log_2 n$, by the definition of $\\log_2$.) In total, we make $\\log_2 n + 1$ calls. Each call takes the same amount of time, which means that the complexity here is $\\mathcal{O}(\\log n)$ -- much faster than $\\mathcal{O}(n)$. Here's an example:\n",
    "\n",
    "\n",
    "                1\n",
    "               /|\n",
    "             x  |\n",
    "             \\  |\n",
    "                2\n",
    "              / |\n",
    "            x^2 |\n",
    "               \\4 \n",
    "               /|\n",
    "             x^4|\n",
    "              \\ |\n",
    "                8\n",
    "               /|\n",
    "            x^8 |\n",
    "               \\|\n",
    "               16\n",
    "              / |\n",
    "         x^16   |\n",
    "             \\  |\n",
    "                32\n",
    "                \\\n",
    "                 \\\n",
    "                  x^32\n",
    "\n",
    "We just had to make $6$ calls to compute $x^32$ (compared to 32 iterations of the $\\mathcal{O}(n)$ algorithm.\n",
    "\n",
    "\n",
    "### Slow exponentiation\n",
    "\n",
    "Here's another true fact: $2^n = 2\\times 2^{n-1} = 2^{n-1} + 2^{n-1}$. Let's use it to compute (really slowly) the powers of 2."
   ]
  },
  {
   "cell_type": "code",
   "execution_count": 3,
   "metadata": {
    "collapsed": true
   },
   "outputs": [],
   "source": [
    "def power2(n):\n",
    "    '''Return 2^n, for n>=1'''\n",
    "    if n == 1:\n",
    "        return 2\n",
    "    return power2(n-1) + power2(n-1)"
   ]
  },
  {
   "cell_type": "markdown",
   "metadata": {},
   "source": [
    "Here is the call tree:\n",
    "\n",
    "\n",
    "\n",
    "                                                   number of calls\n",
    "         1 1 1 ...................      1             2^(n-1) \n",
    "          .                            .                .\n",
    "            ........................../                 .\n",
    "             .                       /                  .\n",
    "              \\            \\ /    \\ /                   .\n",
    "               n-2   n-2   n-2   n-2                   2^2\n",
    "                 \\   /      \\   /                 \n",
    "                  \\ /        \\ /\n",
    "                  n-1      n-1                         2^1\n",
    "                    \\      /\n",
    "                     \\    /\n",
    "                      \\  /\n",
    "                        n                              2^0\n",
    "                        \n",
    "                        \n",
    "The computation to figure out complexity is pretty easy: we have 1 call on the bottom level, 2 calls on the second level, then 4 calls, 8 calls, etc. There are n levels in total, and we start with a level that has $2^0$ calls, so the last level has $2^{n-1}$ calls.\n",
    "\n",
    "The total number of calls is $2^0 + 2^1 + ... + 2^{n-1} = \\frac{2^n-1}{2-1} = 2^n-1$. The complexity is therefore $\\mathcal{O}(2^n)$."
   ]
  }
 ],
 "metadata": {
  "kernelspec": {
   "display_name": "Python 2",
   "language": "python",
   "name": "python2"
  },
  "language_info": {
   "codemirror_mode": {
    "name": "ipython",
    "version": 2
   },
   "file_extension": ".py",
   "mimetype": "text/x-python",
   "name": "python",
   "nbconvert_exporter": "python",
   "pygments_lexer": "ipython2",
   "version": "2.7.12"
  }
 },
 "nbformat": 4,
 "nbformat_minor": 0
}
