{
 "cells": [
  {
   "cell_type": "markdown",
   "metadata": {},
   "source": [
    "# Inverting Dictionaries Pt. 2"
   ]
  },
  {
   "cell_type": "markdown",
   "metadata": {},
   "source": [
    "Suppose we want to \"invert\" the grades dictionary: to have grades as keys,  and the subjects in which we've got the grades as the values (since there may be more than one, we'll store lists of subjects). This is similar to creating a \"reverse phone book\" out of a regular phone book."
   ]
  },
  {
   "cell_type": "code",
   "execution_count": 1,
   "metadata": {
    "collapsed": true
   },
   "outputs": [],
   "source": [
    "grades = {\"CSC\": \"A\", \"PHY\": \"B+\", \"MAT\":\"A+\", \"ESC\":\"A+\"}"
   ]
  },
  {
   "cell_type": "markdown",
   "metadata": {},
   "source": [
    "Our goal is to create the following list:"
   ]
  },
  {
   "cell_type": "code",
   "execution_count": 2,
   "metadata": {
    "collapsed": true
   },
   "outputs": [],
   "source": [
    "inv_grades = {\"A\": [\"CSC\"], \"B+\": [\"PHY\"], \"A+\":[\"MAT\", \"ESC\"]}  "
   ]
  },
  {
   "cell_type": "code",
   "execution_count": 3,
   "metadata": {
    "collapsed": true
   },
   "outputs": [],
   "source": [
    "def get_inv_grades(grades):\n",
    "    inv_grades = {}\n",
    "    \n",
    "    #Iterate over course, grade in grades, create a new list if grade isn't\n",
    "    #in inv_grades yet, or append to an existing list if grade has already\n",
    "    #been encountered\n",
    "    for course, grade in grades.items():\n",
    "        if grade not in inv_grades:\n",
    "            inv_grades[grade] = [course]\n",
    "        else:\n",
    "            inv_grades[grade].append(course)\n",
    "    return inv_grades"
   ]
  }
 ],
 "metadata": {
  "kernelspec": {
   "display_name": "Python 3",
   "language": "python",
   "name": "python3"
  },
  "language_info": {
   "codemirror_mode": {
    "name": "ipython",
    "version": 3
   },
   "file_extension": ".py",
   "mimetype": "text/x-python",
   "name": "python",
   "nbconvert_exporter": "python",
   "pygments_lexer": "ipython3",
   "version": "3.4.3"
  }
 },
 "nbformat": 4,
 "nbformat_minor": 0
}
