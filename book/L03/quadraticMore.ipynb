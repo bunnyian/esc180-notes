{
 "cells": [
  {
   "cell_type": "markdown",
   "metadata": {},
   "source": [
    "## Solving the Quadratic Equation and Finite Precision\n",
    "\n",
    "Let's go back to out quadratic equation solver:"
   ]
  },
  {
   "cell_type": "code",
   "execution_count": 1,
   "metadata": {
    "collapsed": false
   },
   "outputs": [
    {
     "name": "stdout",
     "output_type": "stream",
     "text": [
      "Two roots: 9.949747468305834 0.050252531694167324\n"
     ]
    }
   ],
   "source": [
    "import math\n",
    "\n",
    "a = 2   \n",
    "b = -20 \n",
    "c = 1\n",
    "disc = b**2-4*a*c\n",
    "\n",
    "if disc > 0:\n",
    "    r1 = (-b + math.sqrt(disc))/(2*a)\n",
    "    r2 = (-b - math.sqrt(disc))/(2*a)\n",
    "    print(\"Two roots:\", r1, r2)\n",
    "elif disc == 0:\n",
    "    r = (-b + math.sqrt(disc))/(2*a)\n",
    "    print(\"One root:\", r)\n",
    "else:\n",
    "    print(\"There are no real solutions\")"
   ]
  },
  {
   "cell_type": "markdown",
   "metadata": {},
   "source": [
    "In principle, we could expect that $ar_{1}^2 + br_{1} + c$ should be 0. Let's try this:"
   ]
  },
  {
   "cell_type": "code",
   "execution_count": 2,
   "metadata": {
    "collapsed": false
   },
   "outputs": [
    {
     "data": {
      "text/plain": [
       "2.842170943040401e-14"
      ]
     },
     "execution_count": 2,
     "metadata": {},
     "output_type": "execute_result"
    }
   ],
   "source": [
    "a*r1**2 + b*r1 + c"
   ]
  },
  {
   "cell_type": "markdown",
   "metadata": {},
   "source": [
    "This is almost, but not quite, 0. That is because $r_1$ is irrational (it requires an infinite number in the mantissa to store exactly correctly). The variable `r1` only approximates the true `r_1` using about 17 decimal digits. That is one of the resons we are not getting exactly 0.\n",
    "\n",
    "In general, because of the imprecision of `float`s, you should be wary every time there is a test to check whether a `float` is exactly equal to any number.\n",
    "\n",
    "That makes the comparison `disc == 0` suspect.\n",
    "\n",
    "In some situations, it would make sense (for example, if we know that `disc` is definitely an integer.) In most situations, especially if the a, b, and c are physical measurements which were not taken with infinite precision, it makes no sense to think of the equation as having exactly one root, and the comparison `disc == 0` doesn't really make sense."
   ]
  }
 ],
 "metadata": {
  "kernelspec": {
   "display_name": "Python 3",
   "language": "python",
   "name": "python3"
  },
  "language_info": {
   "codemirror_mode": {
    "name": "ipython",
    "version": 3
   },
   "file_extension": ".py",
   "mimetype": "text/x-python",
   "name": "python",
   "nbconvert_exporter": "python",
   "pygments_lexer": "ipython3",
   "version": "3.4.3"
  }
 },
 "nbformat": 4,
 "nbformat_minor": 0
}
