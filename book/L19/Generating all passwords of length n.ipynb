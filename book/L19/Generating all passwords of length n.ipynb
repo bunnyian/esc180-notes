{
 "cells": [
  {
   "cell_type": "markdown",
   "metadata": {},
   "source": [
    "Now, let's write Python code to generate all the passwords of length `n`."
   ]
  },
  {
   "cell_type": "code",
   "execution_count": 1,
   "metadata": {
    "collapsed": true
   },
   "outputs": [],
   "source": [
    "def gen_nested_loop(n):\n",
    "    res = \"def gen_passwords():\\n\"\n",
    "    for i in range(n):\n",
    "        res += \"%sfor letter%d in alphabet:\\n\" % ((1+i)*\" \", i)\n",
    "    \n",
    "    add_line = \"password = \"\n",
    "    for i in range(n-1):\n",
    "        add_line += \"letter%d + \" % (i)\n",
    "    add_line += \"letter%d\" % (n-1)\n",
    "    \n",
    "    res += (n+1)*\" \" + add_line + \"\\n\"\n",
    "    res += (n+1)*\" \" + \"print(password)\\n\"\n",
    "    \n",
    "    return res"
   ]
  },
  {
   "cell_type": "markdown",
   "metadata": {},
   "source": [
    "Here's the string that `gen_nested_loop(5)` returns:"
   ]
  },
  {
   "cell_type": "code",
   "execution_count": 2,
   "metadata": {
    "collapsed": false
   },
   "outputs": [
    {
     "data": {
      "text/plain": [
       "'def gen_passwords():\\n for letter0 in alphabet:\\n  for letter1 in alphabet:\\n   for letter2 in alphabet:\\n    for letter3 in alphabet:\\n     for letter4 in alphabet:\\n      password = letter0 + letter1 + letter2 + letter3 + letter4\\n      print(password)\\n'"
      ]
     },
     "execution_count": 2,
     "metadata": {},
     "output_type": "execute_result"
    }
   ],
   "source": [
    "gen_nested_loop(5)"
   ]
  },
  {
   "cell_type": "markdown",
   "metadata": {},
   "source": [
    "Let's print it:"
   ]
  },
  {
   "cell_type": "code",
   "execution_count": 3,
   "metadata": {
    "collapsed": false,
    "scrolled": true
   },
   "outputs": [
    {
     "name": "stdout",
     "output_type": "stream",
     "text": [
      "def gen_passwords():\n",
      " for letter0 in alphabet:\n",
      "  for letter1 in alphabet:\n",
      "   for letter2 in alphabet:\n",
      "    for letter3 in alphabet:\n",
      "     for letter4 in alphabet:\n",
      "      password = letter0 + letter1 + letter2 + letter3 + letter4\n",
      "      print(password)\n",
      "\n"
     ]
    }
   ],
   "source": [
    "print(gen_nested_loop(5))"
   ]
  },
  {
   "cell_type": "markdown",
   "metadata": {},
   "source": [
    "We can now save the string, and then run it with `exec`. We'll then be able to call the function `gen_passwords()`."
   ]
  },
  {
   "cell_type": "code",
   "execution_count": 4,
   "metadata": {
    "collapsed": false
   },
   "outputs": [
    {
     "name": "stdout",
     "output_type": "stream",
     "text": [
      "def gen_passwords():\n",
      " for letter0 in alphabet:\n",
      "  for letter1 in alphabet:\n",
      "   password = letter0 + letter1\n",
      "   print(password)\n",
      "\n"
     ]
    }
   ],
   "source": [
    "alphabet = \"abc\"\n",
    "program_text = gen_nested_loop(2)\n",
    "print(program_text)"
   ]
  },
  {
   "cell_type": "code",
   "execution_count": 5,
   "metadata": {
    "collapsed": true
   },
   "outputs": [],
   "source": [
    "exec(program_text)"
   ]
  },
  {
   "cell_type": "code",
   "execution_count": 6,
   "metadata": {
    "collapsed": false
   },
   "outputs": [
    {
     "name": "stdout",
     "output_type": "stream",
     "text": [
      "aa\n",
      "ab\n",
      "ac\n",
      "ba\n",
      "bb\n",
      "bc\n",
      "ca\n",
      "cb\n",
      "cc\n"
     ]
    }
   ],
   "source": [
    "gen_passwords()"
   ]
  }
 ],
 "metadata": {
  "kernelspec": {
   "display_name": "Python 3",
   "language": "python",
   "name": "python3"
  },
  "language_info": {
   "codemirror_mode": {
    "name": "ipython",
    "version": 3
   },
   "file_extension": ".py",
   "mimetype": "text/x-python",
   "name": "python",
   "nbconvert_exporter": "python",
   "pygments_lexer": "ipython3",
   "version": "3.4.3"
  }
 },
 "nbformat": 4,
 "nbformat_minor": 0
}
