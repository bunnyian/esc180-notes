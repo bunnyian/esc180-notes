{
 "cells": [
  {
   "cell_type": "markdown",
   "metadata": {},
   "source": [
    "### Complexity of arithmetic operations\n",
    "\n",
    "If `a` and `b` are, for example, `float`s, then the complexity of `a*b` or `a+b` is $\\mathcal{O}(1)$. That's because, for numbers that have a set number of digits, operations like addition and multiplication are performed by the CPU (the Central Processing Unit.) \n",
    "\n",
    "To simplify a little bit, if the CPU's clock speed is 2Ghz, that means it can perform 2 billion elementary operations like addition or multiplication per second.\n",
    "\n",
    "However, for `int`s, the story is more complicated, since they do not have a set number of digits, and can be arbitrarily large. How long does it take to perform addition?\n",
    "\n",
    "An efficient way to perform addition is long addition -- adding the numbers digit-by-digit."
   ]
  },
  {
   "cell_type": "markdown",
   "metadata": {},
   "source": [
    "        123987\n",
    "       +654654 \n",
    "       =======\n",
    "        778641 \n",
    "        \n",
    "Roughly speaking, `a+b` requires as many additions as there are digits in $\\max(a, b)$. \n",
    "\n",
    "There are approx $\\log_{10} a$ decimal digits in the number $a$. So the complexity of addition is $\\mathcal{O}(\\max(\\log a, \\log b)$.\n",
    "\n",
    "How about multiplication? Here is a naive approach:"
   ]
  },
  {
   "cell_type": "code",
   "execution_count": 1,
   "metadata": {
    "collapsed": true
   },
   "outputs": [],
   "source": [
    "def mult(a, b):\n",
    "    prod = 0\n",
    "    for i in range(a):\n",
    "        prod += b\n",
    "    return prod"
   ]
  },
  {
   "cell_type": "markdown",
   "metadata": {},
   "source": [
    "We repeat the iteration $a$ times, and each time we perform a number of operations that's proportional to at most $\\log  ab = \\log a + \\log b$. So the complexity is  $\\mathcal{O}(a\\log ab)$.\n",
    "\n",
    "Can we do better? Yes. That requires the use of long multiplication. To remind you, long multiplication goes like this:\n",
    "\n",
    "      123\n",
    "      521\n",
    "      ====\n",
    "       123\n",
    "      246        \n",
    "     615\n",
    "     ======\n",
    "     64083 \n",
    " \n",
    "To multiply two three-digit numbers, we needed to perform $3\\times 3$ multiplications of single digits (and also about the same number of additions.) In general, we'd need about $\\log a \\times \\log b$ multiplications and additions.\n",
    "\n",
    "So the complexity of long multiplication is $\\mathcal{O}(\\log a \\times \\log b)$. If the the number of digits in $a$ and $b$ is $n$, we can say the complexity is $\\mathcal{O}(n^2)$.\n",
    "\n",
    "Is it the best we can do? In fact, no. Algorithms that run in, e.g., $\\mathcal{O}(n^{1.59})$ time exist as well.\n",
    "\n",
    "\n",
    "Here is a larger example, with multiplication of two 6-digit numbers:\n",
    "\n",
    "\t\t\td1 d2 d3 d4 d5 d6\n",
    "                        D1 D2 D3 D4 D5 D6\n",
    "                        =================\n",
    "                        p6 p5 p4 p3 p2 p1\n",
    "                  p12 p11 p10 p9 p8 p7\n",
    "             .....................                  <-----   36 products\n",
    "          ...................\n",
    "       p36 p35 p34 p33 p32 p31 \n",
    "       ===================================\n",
    "       s1 s2 s3 s4 s5 .......         sk           <- to compute all of s1, s2, s3, ..., sk, we add in each p_i once, and we have approx 36 p_i's         "
   ]
  }
 ],
 "metadata": {
  "kernelspec": {
   "display_name": "Python 3",
   "language": "python",
   "name": "python3"
  },
  "language_info": {
   "codemirror_mode": {
    "name": "ipython",
    "version": 2
   },
   "file_extension": ".py",
   "mimetype": "text/x-python",
   "name": "python",
   "nbconvert_exporter": "python",
   "pygments_lexer": "ipython2",
   "version": "2.7.12"
  }
 },
 "nbformat": 4,
 "nbformat_minor": 0
}
