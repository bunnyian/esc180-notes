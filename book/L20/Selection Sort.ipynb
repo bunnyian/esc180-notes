{
 "cells": [
  {
   "cell_type": "markdown",
   "metadata": {},
   "source": [
    "### Selection Sort\n",
    "\n",
    "Here, we'll develop our first sorting algorithm.\n",
    "\n",
    "The idea is simple.\n",
    "\n",
    "Suppose we have a list `L` of length n.\n",
    "\n",
    "Find the largest element in the list `L`, and put it on the right of the list, at index `n-1`, by swapping it with whatever element happens to be currently at index `n-1`.\n",
    "\n",
    "Now, the largest element of `L` is in the right place. Find the largest element in `L[:(n-1)]`, and swap it with the element current found at index `n-1`. \n",
    "\n",
    "Now, the largest element of `L` is in the right place, and the second-largest element is in the right place. Find the largest element in `L[:(n-2)]`, and swap it with the element current found at index `n-2`. \n",
    "\n",
    "Keep on going until `L` is sorted. Note that at first, the entire `L` is unsorted. Then, `[L[n-1]]` is sorted, but `L[:n-1]` is unsorted.\n",
    "\n",
    "Then `L[n-2:]` is the sorted part, and `L[:n-2]` is the unsorted part.\n",
    "\n",
    "Again, we continue this way until `L` is sorted.\n",
    "\n",
    "Here is an example:\n",
    "\n",
    "    [3, 1, 2, 3, 6, 0]\n",
    "    #Swap the 6 with the 0\n",
    "    \n",
    "    [3, 1, 2, 3, 0, 6]\n",
    "    #Swap the 3 with the 0\n",
    "\n",
    "    [3, 1, 2, 0, 3, 6]\n",
    "    #Swap the 3 with the 0\n",
    "\n",
    "    [0, 1, 2, 3, 3, 6]\n",
    "    #Swap the 2 with the 2 (2 is already in its correct place)\n",
    "\n",
    "    [0, 1, 2, 3, 3, 6]\n",
    "    #Swap the 1 with the 1 (1 is already in its correct place)\n",
    "\n",
    "    [0, 1, 2, 3, 3, 6]\n",
    "    #Swap the 0 with the 0 (0 is already in its correct place)\n",
    "                           (in fact, it's guaranteed to be, since it's\n",
    "                            the only element in the unsorted part of the list)\n",
    "\n",
    "    [0, 1, 2, 3, 3, 6]\n",
    "    \n",
    "Let's write a helper function for Selection Sort:    "
   ]
  },
  {
   "cell_type": "code",
   "execution_count": 1,
   "metadata": {
    "collapsed": true
   },
   "outputs": [],
   "source": [
    "def max_i(L):\n",
    "    '''Return the index of a largest element in L. If there is more than\n",
    "    one maximal element, return the index of the leftmost one'''\n",
    "    cur_max = L[0] #the largest element up to index i\n",
    "    cur_max_i = 0  #the index of the largest element up to index i\n",
    "    \n",
    "    for i in range(1, len(L)):\n",
    "        if L[i] > cur_max:\n",
    "            cur_max = L[i]\n",
    "            cur_max_i = i\n",
    "    return cur_max_i\n",
    "    "
   ]
  },
  {
   "cell_type": "markdown",
   "metadata": {},
   "source": [
    "Now that we've written the helper function, it's easy to write the main Selection Sort function:"
   ]
  },
  {
   "cell_type": "code",
   "execution_count": 2,
   "metadata": {
    "collapsed": true
   },
   "outputs": [],
   "source": [
    "def selection_sort(L):\n",
    "    '''Modify L so that it's sorted in non-decreasing order\n",
    "    \n",
    "    Arugment:\n",
    "    L -- a list of ints\n",
    "    '''\n",
    "    for j in range(len(L)):\n",
    "        ind_of_max = max_i(L[:len(L)-j])\n",
    "        L[ind_of_max], L[-1-j] = L[-1-j], L[ind_of_max]"
   ]
  }
 ],
 "metadata": {
  "kernelspec": {
   "display_name": "Python 3",
   "language": "python",
   "name": "python3"
  },
  "language_info": {
   "codemirror_mode": {
    "name": "ipython",
    "version": 3
   },
   "file_extension": ".py",
   "mimetype": "text/x-python",
   "name": "python",
   "nbconvert_exporter": "python",
   "pygments_lexer": "ipython3",
   "version": "3.4.3"
  }
 },
 "nbformat": 4,
 "nbformat_minor": 0
}
