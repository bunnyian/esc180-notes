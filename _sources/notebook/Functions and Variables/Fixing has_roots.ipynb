{
 "cells": [
  {
   "cell_type": "markdown",
   "metadata": {},
   "source": [
    "# Fixing `has_roots` function"
   ]
  },
  {
   "cell_type": "markdown",
   "metadata": {},
   "source": [
    "Recall the `has_roots` function that we wrote."
   ]
  },
  {
   "cell_type": "code",
   "execution_count": 2,
   "metadata": {
    "collapsed": false
   },
   "outputs": [
    {
     "ename": "SyntaxError",
     "evalue": "invalid syntax (<ipython-input-2-554e0617b195>, line 13)",
     "output_type": "error",
     "traceback": [
      "\u001b[1;36m  File \u001b[1;32m\"<ipython-input-2-554e0617b195>\"\u001b[1;36m, line \u001b[1;32m13\u001b[0m\n\u001b[1;33m    This is not the nicest way to write this -- we'll rewrite this function later\u001b[0m\n\u001b[1;37m                         ^\u001b[0m\n\u001b[1;31mSyntaxError\u001b[0m\u001b[1;31m:\u001b[0m invalid syntax\n"
     ]
    }
   ],
   "source": [
    "def has_roots(a, b, c):\n",
    "    '''Return True iff ax^2+bx+c=0 has real roots\n",
    "    \n",
    "    [Note: Return True iff ... means, in Python (but not in math!) Return \n",
    "    True if ax^2+bx+c=0 has real roots and False otherwise]\n",
    "    \n",
    "    Arguments:\n",
    "    a, b, c -- floats\n",
    "    '''\n",
    "    \n",
    "    disc = b**2-4*a*c\n",
    "    \n",
    "    This is not the nicest way to write this -- we'll rewrite this function later\n",
    "    if disc >= 0:\n",
    "        return True\n",
    "    else:\n",
    "       return False"
   ]
  },
  {
   "cell_type": "markdown",
   "metadata": {},
   "source": [
    "Let's rewrite it a bit:"
   ]
  },
  {
   "cell_type": "code",
   "execution_count": 3,
   "metadata": {
    "collapsed": false
   },
   "outputs": [],
   "source": [
    "def has_roots(a, b, c):    \n",
    "    disc = b**2-4*a*c\n",
    "    return disc >= 0"
   ]
  },
  {
   "cell_type": "markdown",
   "metadata": {},
   "source": [
    "This does exactly the same thing: since the value of `disc >= 0` is `True` exactly when $disc\\geq 0$, we return `True` when $disc\\geq 0$, and `False` when $disc < 0$.\n",
    "\n",
    "Let's not write a similar function, `has_no_roots`. Here's is one option:"
   ]
  },
  {
   "cell_type": "code",
   "execution_count": 4,
   "metadata": {
    "collapsed": true
   },
   "outputs": [],
   "source": [
    "def has_no_roots(a, b, c):\n",
    "    disc = b**2-4*a*c\n",
    "    return disc < 0"
   ]
  },
  {
   "cell_type": "markdown",
   "metadata": {},
   "source": [
    "Here's another:"
   ]
  },
  {
   "cell_type": "code",
   "execution_count": 5,
   "metadata": {
    "collapsed": true
   },
   "outputs": [],
   "source": [
    "def has_no_roots(a, b, c):\n",
    "    disc = b**2-4*a*c\n",
    "    return not (disc >= 0)"
   ]
  },
  {
   "cell_type": "markdown",
   "metadata": {},
   "source": [
    "Finally, here's the laziest option:"
   ]
  },
  {
   "cell_type": "code",
   "execution_count": 6,
   "metadata": {
    "collapsed": true
   },
   "outputs": [],
   "source": [
    "def has_no_roots(a, b, c):\n",
    "    return not has_roots(a, b, c)"
   ]
  },
  {
   "cell_type": "markdown",
   "metadata": {},
   "source": [
    "All these functions compute the same thing."
   ]
  }
 ],
 "metadata": {
  "kernelspec": {
   "display_name": "Python 3",
   "language": "python",
   "name": "python3"
  },
  "language_info": {
   "codemirror_mode": {
    "name": "ipython",
    "version": 3
   },
   "file_extension": ".py",
   "mimetype": "text/x-python",
   "name": "python",
   "nbconvert_exporter": "python",
   "pygments_lexer": "ipython3",
   "version": "3.4.3"
  }
 },
 "nbformat": 4,
 "nbformat_minor": 0
}
