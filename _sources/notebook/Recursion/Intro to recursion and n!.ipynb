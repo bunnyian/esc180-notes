{
 "cells": [
  {
   "cell_type": "markdown",
   "metadata": {},
   "source": [
    "### Recursion\n",
    "\n",
    "Recursion means functions calling themselves. Here is a quick guide to designing recursive functions:\n",
    "\n",
    "* Come up with a way to get the answer for more complicated/larger input by solving the problem for less complicated/smaller input.\n",
    "\n",
    "   *To get the answer, you must know the answer **to a less complicated question***.\n",
    "\n",
    " For example, to compute $n!$, we can first compute $(n-1)!$, and then multiply it by $n$, since\n",
    "   $n! = 1\\times 2\\times 3\\times 4...\\times (n-1)\\times n = (n-1)!\\times n$.\n",
    "   \n",
    "* Make sure that there is a a *base case*, i.e., that the recursion doesn't go on forever.\n",
    "\n",
    "  *You can't push on a rope*\n",
    "  \n",
    "  For example, define $0! = 1$.\n",
    "  \n",
    "Let's now compute $n!$ using recursion:  "
   ]
  },
  {
   "cell_type": "code",
   "execution_count": 1,
   "metadata": {
    "collapsed": true
   },
   "outputs": [],
   "source": [
    "def fact(n):\n",
    "    #Base case\n",
    "    if n == 0:\n",
    "        return 1\n",
    "    \n",
    "    #Express the result in terms of the return value of fact(n-1)\n",
    "    return n*fact(n-1)"
   ]
  },
  {
   "cell_type": "markdown",
   "metadata": {},
   "source": [
    "Here's what the locals tables will look like:\n",
    "\n",
    "        0\n",
    "        |\n",
    "        1\n",
    "        .\n",
    "        .\n",
    "        .\n",
    "        |\n",
    "       n-2\n",
    "        | \n",
    "       n-1\n",
    "        | \n",
    "        n\n",
    "    \n",
    "Once we reach the call to `fact(0)`, we simply return. Note that if we didn't have the statement\n",
    "\n",
    "    if n == 0:\n",
    "      return 1\n",
    "      \n",
    "we would have infinite recursive calls (in theory; in practice, we'd just run out of memory), because we'd be trying to compute `fact(-1)`, `fact(-2)`, `fact(-3)`, ... etc.      "
   ]
  }
 ],
 "metadata": {
  "kernelspec": {
   "display_name": "Python 3",
   "language": "python",
   "name": "python3"
  },
  "language_info": {
   "codemirror_mode": {
    "name": "ipython",
    "version": 3
   },
   "file_extension": ".py",
   "mimetype": "text/x-python",
   "name": "python",
   "nbconvert_exporter": "python",
   "pygments_lexer": "ipython3",
   "version": "3.4.3"
  }
 },
 "nbformat": 4,
 "nbformat_minor": 0
}
