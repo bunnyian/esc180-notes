{
 "cells": [
  {
   "cell_type": "markdown",
   "metadata": {},
   "source": [
    "# How to Navigate these Notes\n",
    "Some helpful tips to make the most of this resource.\n",
    "\n",
    "## Key Features\n",
    "- **Run code snippets** by copying the code blocks and pasting them into an IDE or the [Python Tutor](http://pythontutor.com/). (Hint: When you hover over the upper right corner of the code block, a button will appear that will allow you to copy the code to your clipboard.)\n",
    "- **Search** the entire site using the button on the top right of the page. *OR* use by pressing `Ctrl` + `K` / `⌘` + `K` on your keyboard.\n",
    "- **Navigate** the site using the table of contents on the left.\n",
    "- **Toggle** between light and dark mode using the button on the top right of the page."
   ]
  },
  {
   "cell_type": "markdown",
   "metadata": {},
   "source": [
    "## An Example Code Snippet\n",
    "Unlike regular `.py` files, Jupyter notebooks allow you to run code in blocks and see the output of each block. Below is an example.\n",
    "\n",
    "The first block is python code, and the block below is the code output. Sometimes a page will have multiple code blocks, be sure to run them all and in order!"
   ]
  },
  {
   "cell_type": "code",
   "execution_count": null,
   "metadata": {},
   "outputs": [
    {
     "name": "stdout",
     "output_type": "stream",
     "text": [
      "Hello World!\n"
     ]
    }
   ],
   "source": [
    "# code block\n",
    "print(\"Hello World!\")"
   ]
  },
  {
   "cell_type": "markdown",
   "metadata": {},
   "source": [
    "```{admonition} The output of the code block above is...\n",
    ":class: dropdown\n",
    "Hello World!\n",
    "```"
   ]
  }
 ],
 "metadata": {
  "language_info": {
   "name": "python"
  },
  "orig_nbformat": 4
 },
 "nbformat": 4,
 "nbformat_minor": 2
}
