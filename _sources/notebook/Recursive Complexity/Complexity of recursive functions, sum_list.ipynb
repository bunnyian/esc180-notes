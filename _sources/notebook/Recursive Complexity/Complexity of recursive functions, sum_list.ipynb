{
 "cells": [
  {
   "cell_type": "markdown",
   "metadata": {},
   "source": [
    "### `sum_list2` again\n",
    "\n",
    "Here is `sum_list2` again:"
   ]
  },
  {
   "cell_type": "code",
   "execution_count": 1,
   "metadata": {
    "collapsed": true
   },
   "outputs": [],
   "source": [
    "def sum_list2(L):\n",
    "    '''Return the sum of the list of ints L'''\n",
    "    if len(L) == 0:\n",
    "        return 0\n",
    "    \n",
    "    if len(L) == 1:\n",
    "        return L[0]  #the sum of the list is L[0] if L[0] is the only element\n",
    "    \n",
    "    mid = len(L)//2 #(the index of the approximate midpoint of the list)\n",
    "    return sum_list2(L[:mid]) + sum_list2(L[mid:])"
   ]
  },
  {
   "cell_type": "markdown",
   "metadata": {},
   "source": [
    "In order to figre out the complexity of `sum_list2`, we will draw a call tree. We'll use the notation `[k]` to denote a list of length `k`. For convenience, we'll assume that  `len(L)` is a power of 2. That's a common assumption that's usually harmless (in the sense that it doesn't change the complexity estimate) -- we will not pursue the detailed analysis that proves that in this case: it's slightly tedious but not very difficult."
   ]
  },
  {
   "cell_type": "markdown",
   "metadata": {},
   "source": [
    "\n",
    "\n",
    "               [1].......[1]...[1]....................[1]              \n",
    "                .                                   .\n",
    "                 .                                 .\n",
    "                  .                               .\n",
    "                   .                             .\n",
    "                     .                          . \n",
    "                     [n/4]    [n/4]  [n/4]  [n/4]\n",
    "                       \\      /       \\     /\n",
    "                        \\    /         \\   /\n",
    "                         [n/2]        [n/2]\n",
    "                           \\          /\n",
    "                            \\        /\n",
    "                             \\      /\n",
    "                              \\    /\n",
    "                                [n]\n",
    "                                \n",
    "                                \n",
    "Each call produces two more calls (for example, for a list of length `n/4`, we need to compute the sum of two lists, both of length `n/8`. Eventually, we reach calls to `sum_list2()` for lists of length 1, at which point we return.\n",
    "\n",
    "IF WE ASSUME THAT SLICING COSTS NOTHING (which is not true), each call takes the same amount of time , so we just need to count the calls. We'll do that by counting the number of calls on each *level*:\n",
    "\n",
    "\n",
    "\n",
    "                                                                          Number of calls\n",
    "               [1].......[1]...[1]....................[1]                      2^k\n",
    "                .                                   .\n",
    "                 .                                 .\n",
    "                  .                               .\n",
    "                   .                             .\n",
    "                     .                          . \n",
    "                     [n/4]    [n/4]  [n/4]  [n/4]                              2^2 \n",
    "                       \\      /       \\     /\n",
    "                        \\    /         \\   /\n",
    "                         [n/2]        [n/2]                                    2^1\n",
    "                           \\          /\n",
    "                            \\        /\n",
    "                             \\      /\n",
    "                              \\    /\n",
    "                                [n]                                            2^0\n",
    "                                \n",
    "                                \n",
    "Each level has twice as many calls as the previous level. We start with $1=2^0$, and end at $2^k$, where $k$ is the number of levels minus 1 (since we start at $2^0$.)\n",
    "\n",
    "\n",
    "The sum of the geometric progression is: \n",
    "    $$\\sum_{i=0}^{k}\\alpha^i = \\frac{1-\\alpha^{k+1}}{1-\\alpha}$$\n",
    "\n",
    "\n",
    "In total, theorefore, we'll have\n",
    "$$\\sum_{i=0}^k 2^i = \\frac{1-2^{k+1}}{1-2} = 2^{k+1}-1$$\n",
    "    \n",
    "calls.\n",
    "\n",
    "What's `k`? It's the number of times we need to divide `n` by 2 in order to get to 1. In other words, by definition, it is $\\log_2 n$. \n",
    "\n",
    "(Another way to arrive at the same conclusion is to observe that we'll make `n` calls to `sum_list2()` with lists of size `1` -- one per element of the original list `L`. Since we said that the last level contains $2^k$ calls, it follows that $n = 2^k$, so that, again, $k = \\log_2 n$, which we get by taking the $\\log_2$ of both sides.)\n",
    "\n",
    "The total number of calls is therefore\n",
    "$$2^{k+1}-1 = 2^k \\times 2^1 -1 = 2\\times 2^k - 1 = 2\\times 2^{\\log_2 n} - 1 = 2n-1$$\n",
    "\n",
    "(Note that $2^{\\log_2 n} = n$, since $\\log_2 n$ is be definition the power to which $2$ is raised to get $n$.)\n",
    "\n",
    "So the complexity of `sum_list2` is $\\mathcal{O}(n)$, assuming slicing is costless.\n",
    "\n",
    "\n",
    "\n",
    "### Slicing isn't costless\n",
    "\n",
    "What's the true story there? Actually, slicing creates a new list, costing us time that's proportional to the length of the resulting new list. \n",
    "\n",
    "See the analysis of MergeSort to see that the runtime here is actually $\\mathcal{O}(n\\log n)$.\n",
    "\n",
    "In this case, we assumed that slicing is costless because we could actually avoid it:"
   ]
  },
  {
   "cell_type": "code",
   "execution_count": 2,
   "metadata": {
    "collapsed": true
   },
   "outputs": [],
   "source": [
    "def sum_list2_fast(L, start, end):\n",
    "    if end == start:\n",
    "        return 0\n",
    "    if end == start + 1:\n",
    "        return L[start]\n",
    "    \n",
    "    mid = (start+end)//2\n",
    "    \n",
    "    return sum_list2_fast(L, start, mid) + sum_list2_fast(L, mid, end)"
   ]
  },
  {
   "cell_type": "markdown",
   "metadata": {},
   "source": [
    "Here, the complexity really is $\\mathcal{O}(n)$.\n",
    "\n"
   ]
  }
 ],
 "metadata": {
  "kernelspec": {
   "display_name": "Python 3",
   "language": "python",
   "name": "python3"
  },
  "language_info": {
   "codemirror_mode": {
    "name": "ipython",
    "version": 2
   },
   "file_extension": ".py",
   "mimetype": "text/x-python",
   "name": "python",
   "nbconvert_exporter": "python",
   "pygments_lexer": "ipython2",
   "version": "2.7.12"
  }
 },
 "nbformat": 4,
 "nbformat_minor": 0
}
