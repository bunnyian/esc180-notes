{
 "cells": [
  {
   "cell_type": "markdown",
   "metadata": {},
   "source": [
    "# Complexity of `fib(n)`"
   ]
  },
  {
   "cell_type": "markdown",
   "metadata": {},
   "source": [
    "Here is `fib(n)` again:"
   ]
  },
  {
   "cell_type": "code",
   "execution_count": 1,
   "metadata": {
    "collapsed": true
   },
   "outputs": [],
   "source": [
    "def fib(n):\n",
    "    if n <= 1:\n",
    "        return 1\n",
    "    \n",
    "    return fib(n - 1) + fib(n - 2)"
   ]
  },
  {
   "cell_type": "markdown",
   "metadata": {},
   "source": [
    "### Complexity of `fib(n)`, the naive way\n",
    "\n",
    "The call tree will look like:\n",
    "\n",
    "         1                                                       level\n",
    "           \\                           \n",
    "          ...       ...             1                              7\n",
    "            ...    ...            ...                              6\n",
    "             n-2  n-3    n-3    n-4                                5\n",
    "                \\/          \\/                                       4\n",
    "                n-1   _  n-2                                       3\n",
    "                  \\ /                                              2\n",
    "                   n                                               1\n",
    "\n",
    "The longest branch is the leftmost one, and it's of length $n$. The shortest branch is the rightmost one (which goes n, n-2, n-4, ... 1), and it's of length $n/2$\n",
    "\n",
    "\n",
    "It's hard to count all the calls, but we can get an upper bound and a lower bound.\n",
    "\n",
    "To get the upper bound, assume all the branches are of length n (the longest one)\n",
    "    On the first level, we have 1 call     (2^0)\n",
    "            2-nd                2 calls    (2^1)\n",
    "            3-rd                4 calls    (2^2)\n",
    "\n",
    "            ...                 \n",
    "\n",
    "            n-th                2^{n-1} calls\n",
    "\n",
    "So in total we have fewer than $1 + 2 + 4 +... + 2^{n-1} = 2^{n}-1$ calls (i.e. $\\mathcal{O}(2^n)$). This is the upper bound on the number of calls.\n",
    "\n",
    "\n",
    "Now, let's get a lower bound on the number of calls (of course, one lower bound is 0, but let's get an *interesting* lower bound!). The shorterst branch, which is the rightmost branch, is of length n/2. Using the same analysis, if all the branches were of length $n/2$, we'll have $2^{n/2}-1 = \\sqrt(2)^n -1$ calls, i.e., the number of calls is $\\mathcal{O}(\\sqrt(2)^n)$.\n",
    "\n",
    "\n",
    "\n",
    "So we have more than $\\mathcal{O}(\\sqrt(2)^n)$ calls and less than $\\mathcal{O}(2^n)$ calls.\n",
    "\n",
    "\n",
    "But we can do better!\n",
    "\n",
    "To compute `fib(n)`, we need to compute `fib(n-1)` and `fib(n-2)` (and add them and \n",
    "return the result, but that takes almost no time at all). \n",
    "\n",
    "\n",
    "Suppose it takes $T(n)$ seconds to compute `fib(n)` (and so $T(n-1)$ for `fib(n-1)` and $T(n-2)$ for `fib(n-2)`). \n",
    "\n",
    "Since the time to compute `fib(n)` is the time to compute `fib(n-1)` plus the time to compute `fib(n-2)`, we get\n",
    "\n",
    "$$T(n) \\approx T(n-1) + T(n-2)$$\n",
    "\n",
    "So the time to compute a `fib(n)` itself looks like `fib(n)`! That means that the time to compute `fib(n)` is $\\mathcal{O}(fib(n))$.\n",
    "\n",
    "\n",
    "In fact, you can use linear algebra to prove that $fib(n) = \\text{round}(\\phi^n/\\sqrt{5})$, where $\\phi$ is the Golden Ration, $\\frac{1+\\sqrt{5}}{2}\\approx 1.61$.\n",
    "\n",
    "This means that `fib(n)` runs in $\\mathcal{O}(\\phi^n)$ time.\n",
    "\n",
    "\n",
    "### Aside: an approximation for $\\phi$\n",
    "\n",
    "We bounded the number of calls made to between $\\mathcal{O}(\\sqrt(2)^n)$ and $\\mathcal{O}(2^n)$ calls. The exact estimate is $\\mathcal{O}(\\phi^n)$. We actually got a pretty nice estimate for $\\phi$ by thinking about the complexity of `fib`:\n",
    "\n",
    "$\\sqrt{2} < \\phi < 2$"
   ]
  }
 ],
 "metadata": {
  "kernelspec": {
   "display_name": "Python 3",
   "language": "python",
   "name": "python3"
  },
  "language_info": {
   "codemirror_mode": {
    "name": "ipython",
    "version": 3
   },
   "file_extension": ".py",
   "mimetype": "text/x-python",
   "name": "python",
   "nbconvert_exporter": "python",
   "pygments_lexer": "ipython3",
   "version": "3.4.3"
  }
 },
 "nbformat": 4,
 "nbformat_minor": 0
}
