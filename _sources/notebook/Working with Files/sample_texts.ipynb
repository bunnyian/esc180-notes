{
 "cells": [
  {
   "cell_type": "markdown",
   "metadata": {},
   "source": [
    "# Prerequisite Texts\n",
    "This page contains the links to download sample texts used the following chapters for file reading and writing."
   ]
  },
  {
   "cell_type": "markdown",
   "metadata": {},
   "source": [
    "## Downloads"
   ]
  },
  {
   "cell_type": "markdown",
   "metadata": {},
   "source": [
    "### Intro to Files\n",
    "[versedog.txt](https://github.com/bunnyian/esc180-notes/blob/main/notebook/Working%20with%20Files/versedog.txt)"
   ]
  },
  {
   "cell_type": "markdown",
   "metadata": {},
   "source": [
    "### Splitting Strings\n",
    "[losttime.txt](https://github.com/bunnyian/esc180-notes/blob/main/notebook/Working%20with%20Files/losttime.txt)\n",
    "[losttime_fr.txt](https://github.com/bunnyian/esc180-notes/blob/main/notebook/Working%20with%20Files/losttime_fr.txt)"
   ]
  },
  {
   "cell_type": "markdown",
   "metadata": {},
   "source": [
    "## How to use\n",
    "In order for Python to be able to access these files you need to\n",
    "1. Download the files\n",
    "2. Create/access a folder with your Python file\n",
    "3. Move the `.txt` files into the **same** folder as your Python file"
   ]
  }
 ],
 "metadata": {
  "language_info": {
   "name": "python"
  },
  "orig_nbformat": 4
 },
 "nbformat": 4,
 "nbformat_minor": 2
}
