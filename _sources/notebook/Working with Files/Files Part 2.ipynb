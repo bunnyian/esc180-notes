{
 "cells": [
  {
   "cell_type": "markdown",
   "metadata": {},
   "source": [
    "# Files Pt. 2, splitting strings"
   ]
  },
  {
   "cell_type": "markdown",
   "metadata": {},
   "source": [
    "### Splitting strings: reminder\n",
    "\n",
    "Here is how we can split strings:"
   ]
  },
  {
   "cell_type": "code",
   "execution_count": 1,
   "metadata": {
    "collapsed": false
   },
   "outputs": [
    {
     "data": {
      "text/plain": [
       "['abc', '1234', 'ABCabc']"
      ]
     },
     "execution_count": 1,
     "metadata": {},
     "output_type": "execute_result"
    }
   ],
   "source": [
    "\"abcengsci1234engsciABCabc\".split(\"engsci\")"
   ]
  },
  {
   "cell_type": "markdown",
   "metadata": {},
   "source": [
    "We obtained a list that contains strings that are separated by `\"engsci\"` in the original string. We can use `str.split()` in order to compute the number of words and the number of sentences (approximately) in a text.\n",
    "\n",
    "Here is how:"
   ]
  },
  {
   "cell_type": "code",
   "execution_count": 2,
   "metadata": {
    "collapsed": true
   },
   "outputs": [],
   "source": [
    "def num_words(text):\n",
    "    return len(text.split(\" \"))"
   ]
  },
  {
   "cell_type": "markdown",
   "metadata": {},
   "source": [
    "Here is how this works:"
   ]
  },
  {
   "cell_type": "code",
   "execution_count": 3,
   "metadata": {
    "collapsed": false
   },
   "outputs": [
    {
     "data": {
      "text/plain": [
       "['Engineers', 'rule', 'the', 'world']"
      ]
     },
     "execution_count": 3,
     "metadata": {},
     "output_type": "execute_result"
    }
   ],
   "source": [
    "\"Engineers rule the world\".split(\" \")"
   ]
  },
  {
   "cell_type": "code",
   "execution_count": 4,
   "metadata": {
    "collapsed": false
   },
   "outputs": [
    {
     "data": {
      "text/plain": [
       "4"
      ]
     },
     "execution_count": 4,
     "metadata": {},
     "output_type": "execute_result"
    }
   ],
   "source": [
    "len(\"Engineers rule the world\".split(\" \"))"
   ]
  },
  {
   "cell_type": "code",
   "execution_count": 5,
   "metadata": {
    "collapsed": false
   },
   "outputs": [
    {
     "data": {
      "text/plain": [
       "4"
      ]
     },
     "execution_count": 5,
     "metadata": {},
     "output_type": "execute_result"
    }
   ],
   "source": [
    "num_words(\"Engineers rule the world\")"
   ]
  },
  {
   "cell_type": "markdown",
   "metadata": {},
   "source": [
    "It's a little trickier to compute the number of sentences, since they can be separated by all of `\"!\"`, `\".\"`, and `\"?\"`. Here is an idea: let's replace all the exclamation points and question marks by periods in a text. We'll use that to compute the average number of words per sentence in the first part Marcel Proust's celebrated (and famously difficult to read) *Remembrance of Things Past* (also known as *In Search of Lost Time*.)"
   ]
  },
  {
   "cell_type": "code",
   "execution_count": 6,
   "metadata": {
    "collapsed": false
   },
   "outputs": [
    {
     "name": "stdout",
     "output_type": "stream",
     "text": [
      "32.97321751719146\n"
     ]
    }
   ],
   "source": [
    "def num_sentences(text):\n",
    "    text = text.replace(\"!\", \".\")\n",
    "    text = text.replace(\"!\", \".\")\n",
    "    return len(text.split(\".\"))\n",
    "\n",
    "\n",
    "f = open(\"losttime.txt\", encoding = \"latin1\")\n",
    "text = f.read()\n",
    "print(num_words(text)/num_sentences(text))"
   ]
  },
  {
   "cell_type": "markdown",
   "metadata": {},
   "source": [
    "We can do the same for the French text of the same novel, and compare the results:"
   ]
  },
  {
   "cell_type": "code",
   "execution_count": 7,
   "metadata": {
    "collapsed": false
   },
   "outputs": [
    {
     "name": "stdout",
     "output_type": "stream",
     "text": [
      "30.66328358208955\n"
     ]
    }
   ],
   "source": [
    "f = open(\"losttime_fr.txt\", encoding = \"latin1\")\n",
    "text = f.read()\n",
    "print(num_words(text)/num_sentences(text))"
   ]
  },
  {
   "cell_type": "markdown",
   "metadata": {},
   "source": [
    "The French text is slightly easier to read!"
   ]
  }
 ],
 "metadata": {
  "kernelspec": {
   "display_name": "Python 3",
   "language": "python",
   "name": "python3"
  },
  "language_info": {
   "codemirror_mode": {
    "name": "ipython",
    "version": 3
   },
   "file_extension": ".py",
   "mimetype": "text/x-python",
   "name": "python",
   "nbconvert_exporter": "python",
   "pygments_lexer": "ipython3",
   "version": "3.4.3"
  }
 },
 "nbformat": 4,
 "nbformat_minor": 0
}
