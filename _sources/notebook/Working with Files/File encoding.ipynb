{
 "cells": [
  {
   "cell_type": "markdown",
   "metadata": {},
   "source": [
    "# File Encoding\n",
    "\n",
    "When we are reading in a file, we are using\n",
    "    f = open(filename, encoding=\"latin1\")\n",
    "\n",
    "Here's what `encoding=\"latin1\"` means. The file we are reading, like any file, is just a bunch of 0's and 1's:"
   ]
  },
  {
   "cell_type": "code",
   "execution_count": 1,
   "metadata": {
    "collapsed": false
   },
   "outputs": [
    {
     "data": {
      "text/plain": [
       "1011100110111100011111010000011101101011001100111000100001111001101110101000100100100101000101010100111010110001001001110000101001011110000110011001001011100001000000110111100010100110000001101001011111111111010100100001010111010111100111001110010111110101111001100000111010011101111010111110010010000101110101100111011011001010010011100101100011100010011001111100110101101011010111100011110001011110101011010111110011011011110101111111000001000111010010011011011000000101010001011000101011000010111"
      ]
     },
     "execution_count": 1,
     "metadata": {},
     "output_type": "execute_result"
    }
   ],
   "source": [
    "1011100110111100011111010000011101101011001100111000100001111001101110101000100100100101000101010100111010110001001001110000101001011110000110011001001011100001000000110111100010100110000001101001011111111111010100100001010111010111100111001110010111110101111001100000111010011101111010111110010010000101110101100111011011001010010011100101100011100010011001111100110101101011010111100011110001011110101011010111110011011011110101111111000001000111010010011011011000000101010001011000101011000010111"
   ]
  },
  {
   "cell_type": "markdown",
   "metadata": {},
   "source": [
    "When we specify that the file is encoded using the `\"latin1\"` encoding, Python reads the file 8 digits (bits) at a time:\n",
    "\n",
    "        10111001\n",
    "        \n",
    "        10111100\n",
    "        \n",
    "        01111101\n",
    "        \n",
    "        00000111\n",
    "        \n",
    "        01101011\n",
    "        ...\n",
    "\n",
    "Each 8 bits correspond to a character (so that there are 256 characters in total), You can read about which 8-bit sequences correspond to which characters [here](https://en.wikipedia.org/wiki/ASCII)."
   ]
  },
  {
   "cell_type": "markdown",
   "metadata": {},
   "source": [
    "Obviously, all the world languages cannot be expressed using 256 characters. For example, there are many tens of thousands Chinese characters. In order to encode them, more complex encoding schemes are needed. Just one of them is [Unicode](https://en.wikipedia.org/wiki/Unicode), which also is able to encode the alphabets of languages such as Japanese, Arabic, Hebrew, Russian, Korean, etc."
   ]
  }
 ],
 "metadata": {
  "kernelspec": {
   "display_name": "Python 3",
   "language": "python",
   "name": "python3"
  },
  "language_info": {
   "codemirror_mode": {
    "name": "ipython",
    "version": 3
   },
   "file_extension": ".py",
   "mimetype": "text/x-python",
   "name": "python",
   "nbconvert_exporter": "python",
   "pygments_lexer": "ipython3",
   "version": "3.4.3"
  }
 },
 "nbformat": 4,
 "nbformat_minor": 0
}
