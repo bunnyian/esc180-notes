{
 "cells": [
  {
   "cell_type": "markdown",
   "metadata": {},
   "source": [
    "# Longest run\n",
    "\n",
    "We'd like to write the function `longest_run(s, c)`, which return the length of the longest consecutive sequence of the character `c` in the string `s`. For example:\n",
    "\n",
    "    >>> longest_run(\"aababbbabb\", \"b\")\n",
    "    3\n",
    "    \n",
    "    >>> longest_sequence(\"aababbbabb\", \"a\")\n",
    "    2\n",
    "    \n",
    "Here is the more [\"Pythonic\"](http://python.net/~goodger/projects/pycon/2007/idiomatic/handout.html) way of solving this. Suppose that `c == \"a\"`. Here's what we want to do:\n",
    "\n",
    "Check: is `\"a\"` in `s`? if not, return 0 \n",
    "Check: is `\"aa\"` in `s`? if not, return 1 \n",
    "Check: is `\"aaa\"` in `s`? if not, return 2\n",
    "...\n",
    "\n",
    "Recall that we can form strings of the form `\"aaaaa..a\"` like this:\n"
   ]
  },
  {
   "cell_type": "code",
   "execution_count": 1,
   "metadata": {
    "collapsed": false
   },
   "outputs": [
    {
     "data": {
      "text/plain": [
       "'zzzzzzzzzz'"
      ]
     },
     "execution_count": 1,
     "metadata": {},
     "output_type": "execute_result"
    }
   ],
   "source": [
    "c = \"z\"\n",
    "c * 10"
   ]
  },
  {
   "cell_type": "markdown",
   "metadata": {},
   "source": [
    "We can now write the function:"
   ]
  },
  {
   "cell_type": "code",
   "execution_count": 2,
   "metadata": {
    "collapsed": true
   },
   "outputs": [],
   "source": [
    "def longest_run(s, c):\n",
    "    \n",
    "    #Start with i = 1, so that we have the option of returning 0.\n",
    "    #End with len(s)+1, so that we have the option of returning len(s)+1-1 = len(s)\n",
    "    for i in range(1, len(s)+2):\n",
    "        if c*i not in s:\n",
    "            return i-1\n",
    "            "
   ]
  },
  {
   "cell_type": "markdown",
   "metadata": {},
   "source": [
    "Here's another approach: let's go through `s` letter-by-letter, and keep track of the length of the current run, as well as the length of the maximum run."
   ]
  },
  {
   "cell_type": "code",
   "execution_count": 3,
   "metadata": {
    "collapsed": true
   },
   "outputs": [],
   "source": [
    "def longest_run_buggy(s, c):\n",
    "    run = 0     #the length of the current run\n",
    "    max_run = 0 #the largest run that we saw\n",
    "                #so far\n",
    "    \n",
    "    for ch in s:\n",
    "        if ch != c:\n",
    "            max_run = max(run, max_run)\n",
    "            run = 0\n",
    "        else:\n",
    "            run += 1\n",
    "    \n",
    "    return max_run"
   ]
  },
  {
   "cell_type": "markdown",
   "metadata": {},
   "source": [
    "Note the technique here. We defined two variables, said what they were, and then, inside the loop, we tried to make sure that the variables stay up-to-date.\n",
    "\n",
    "There is a small bug there: what if\n",
    "    s = \"abaabaaaaaa\"\n",
    "    c = \"a\"\n",
    "\n",
    "Then we never update `max_run` for the last time, and return 2.\n",
    "\n",
    "## Fixing the bug\n",
    "Here's one way to get around this: add a character to the end of `s` that's not equal to `c` (strictly speaking, make `s` a new string that equals to `s` plus a character other than `c`)"
   ]
  },
  {
   "cell_type": "code",
   "execution_count": 4,
   "metadata": {
    "collapsed": true
   },
   "outputs": [],
   "source": [
    "def longest_run2(s, c):\n",
    "    run = 0     #the length of the current run\n",
    "    max_run = 0 #the largest run that we saw\n",
    "                #so far\n",
    "    \n",
    "    if c == \"z\":\n",
    "        s += \"y\"\n",
    "    else:\n",
    "        s += \"z\"\n",
    "    \n",
    "    for ch in s:\n",
    "        if ch != c:\n",
    "            max_run = max(run, max_run)\n",
    "            run = 0\n",
    "        else:\n",
    "            run += 1\n",
    "    \n",
    "    return max_run"
   ]
  },
  {
   "cell_type": "markdown",
   "metadata": {},
   "source": [
    "Another thing we can do is make sure that `max_run` is updated one last time before returning. We can do that in the `return` statement:"
   ]
  },
  {
   "cell_type": "code",
   "execution_count": 5,
   "metadata": {
    "collapsed": false
   },
   "outputs": [],
   "source": [
    "def longest_run2(s, c):\n",
    "    run = 0     #the length of the current run\n",
    "    max_run = 0 #the largest run that we saw\n",
    "                #so far\n",
    "    \n",
    "    if c == \"z\":\n",
    "        s += \"y\"\n",
    "    else:\n",
    "        s += \"z\"\n",
    "    \n",
    "    for ch in s:\n",
    "        if ch != c:\n",
    "            max_run = max(run, max_run)\n",
    "            run = 0\n",
    "        else:\n",
    "            run += 1\n",
    "    \n",
    "    return max(run, max_run)"
   ]
  }
 ],
 "metadata": {
  "kernelspec": {
   "display_name": "Python 3",
   "language": "python",
   "name": "python3"
  },
  "language_info": {
   "codemirror_mode": {
    "name": "ipython",
    "version": 3
   },
   "file_extension": ".py",
   "mimetype": "text/x-python",
   "name": "python",
   "nbconvert_exporter": "python",
   "pygments_lexer": "ipython3",
   "version": "3.4.3"
  }
 },
 "nbformat": 4,
 "nbformat_minor": 0
}
