{
 "cells": [
  {
   "cell_type": "markdown",
   "metadata": {},
   "source": [
    "# Variable Length Password Generator"
   ]
  },
  {
   "cell_type": "markdown",
   "metadata": {},
   "source": [
    "Here is a first attempt at generating all strings of length `length`. The idea is to use `continue` to ignore part of the nested loop structure."
   ]
  },
  {
   "cell_type": "code",
   "execution_count": 1,
   "metadata": {
    "collapsed": true
   },
   "outputs": [],
   "source": [
    "def print_all_passwords(length):\n",
    "    alphabet = 'abcdefghijklmnopqrstuvwxyz'\n",
    "    for letter1 in alphabet:                \n",
    "        if length == 1:\n",
    "            print(letter1)\n",
    "            continue      #go back to \n",
    "                          #for letter1 in alphabet and assign \n",
    "                          #the next letter to letter1\n",
    "        for letter2 in alphabet:            \n",
    "            if length == 2:\n",
    "                print(letter1+letter2)\n",
    "                continue      #go back to \n",
    "                              #for letter2in alphabet and assign \n",
    "                              #the next letter to letter2\n",
    "            for letter3 in alphabet:        \n",
    "                if length == 3:\n",
    "                    print(letter1+letter2+letter3)\n",
    "                    continue\n",
    "\n",
    "                for letter4 in alphabet:    \n",
    "                    if length == 4:\n",
    "                        print(letter1+letter2+letter3+letter4)"
   ]
  }
 ],
 "metadata": {
  "kernelspec": {
   "display_name": "Python 3",
   "language": "python",
   "name": "python3"
  },
  "language_info": {
   "codemirror_mode": {
    "name": "ipython",
    "version": 3
   },
   "file_extension": ".py",
   "mimetype": "text/x-python",
   "name": "python",
   "nbconvert_exporter": "python",
   "pygments_lexer": "ipython3",
   "version": "3.4.3"
  }
 },
 "nbformat": 4,
 "nbformat_minor": 0
}
