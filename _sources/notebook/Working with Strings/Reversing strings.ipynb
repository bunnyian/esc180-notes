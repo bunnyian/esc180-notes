{
 "cells": [
  {
   "cell_type": "markdown",
   "metadata": {},
   "source": [
    "# Reversing strings\n",
    "\n",
    "The easiest way to reverse a string is using slicing notation."
   ]
  },
  {
   "cell_type": "code",
   "execution_count": 1,
   "metadata": {
    "collapsed": true
   },
   "outputs": [],
   "source": [
    "def reverse_str(s):\n",
    "    return s[::-1]"
   ]
  },
  {
   "cell_type": "code",
   "execution_count": 2,
   "metadata": {
    "collapsed": false
   },
   "outputs": [
    {
     "name": "stdout",
     "output_type": "stream",
     "text": [
      "sixarp\n"
     ]
    }
   ],
   "source": [
    "s = \"praxis\"\n",
    "print(reverse_str(s))"
   ]
  },
  {
   "cell_type": "markdown",
   "metadata": {},
   "source": [
    "Let's now write something that doesn't use slicing. Instead, let's do the following: start with an empty string `res`. Then add `s[len(s)-1]` to it. Then add `s[len(s)-2]` to it, and so on, down to `s[0]`."
   ]
  },
  {
   "cell_type": "code",
   "execution_count": 3,
   "metadata": {
    "collapsed": true
   },
   "outputs": [],
   "source": [
    "def reverse_str2(s):\n",
    "    res = \"\"\n",
    "    for i in range(len(s)-1, -1, -1):\n",
    "        res = res + s[i] #res += s[i] is more concise\n",
    "    return res"
   ]
  },
  {
   "cell_type": "markdown",
   "metadata": {},
   "source": [
    "Finally, let's reverse a string by going through its characters from the left to right. Here is the idea:\n",
    "\n",
    "        res = \"\"\n",
    "        res = \"p\" + res #\"p\"\n",
    "        res = \"r\" + res #\"rp\"\n",
    "        res = \"a\" + res #\"arp\"\n",
    "        ...\n",
    "        ...\n",
    "        res = \"s\" + res #\"sixarp\"\n",
    "\n",
    "We need to change the function above just a little bit to accomplish this:"
   ]
  },
  {
   "cell_type": "code",
   "execution_count": 4,
   "metadata": {
    "collapsed": true
   },
   "outputs": [],
   "source": [
    "def reverse_str3(s):\n",
    "    res = \"\"\n",
    "    for i in range(len(s)):\n",
    "        res = s[i] + res"
   ]
  },
  {
   "cell_type": "markdown",
   "metadata": {},
   "source": [
    "The more usual way to write this function is"
   ]
  },
  {
   "cell_type": "code",
   "execution_count": 5,
   "metadata": {
    "collapsed": true
   },
   "outputs": [],
   "source": [
    "def reverse_str4(s):\n",
    "    res = \"\"\n",
    "    for ch in s:\n",
    "        res = ch + res\n",
    "    return res"
   ]
  }
 ],
 "metadata": {
  "kernelspec": {
   "display_name": "Python 3",
   "language": "python",
   "name": "python3"
  },
  "language_info": {
   "codemirror_mode": {
    "name": "ipython",
    "version": 3
   },
   "file_extension": ".py",
   "mimetype": "text/x-python",
   "name": "python",
   "nbconvert_exporter": "python",
   "pygments_lexer": "ipython3",
   "version": "3.4.3"
  }
 },
 "nbformat": 4,
 "nbformat_minor": 0
}
