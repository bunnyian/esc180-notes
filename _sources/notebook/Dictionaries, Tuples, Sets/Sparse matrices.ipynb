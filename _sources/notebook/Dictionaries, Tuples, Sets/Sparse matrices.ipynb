{
 "cells": [
  {
   "cell_type": "markdown",
   "metadata": {},
   "source": [
    "# Sparse Matrices\n",
    "\n",
    "A sparse matrix is a matrix most of whose entries are 0's. Idea for storing a sparse matrix: store only the non-zero entries in a dictionary. Any entry not in the dictionary is assumed to be 0.\n",
    "\n",
    "For example, consider the matrix\n",
    "\n",
    "$$\\begin{bmatrix}\n",
    "0 &  1&  0&  1& 0\\\\ \n",
    "0 &  0&  0&  0& 5\\\\ \n",
    "2 &  0&  0&  0& 0\n",
    "\\end{bmatrix}$$\n",
    "\n",
    "We can store it by only storing the non-zero entries (ie. as a sparse matrix). The keys will be tuples containing the coordinates of the entires, and the values will be the actual entries:"
   ]
  },
  {
   "cell_type": "code",
   "execution_count": 1,
   "metadata": {
    "collapsed": true
   },
   "outputs": [],
   "source": [
    "M = {(0, 3): 1, (0, 1): 1, (1, 4):5, (2, 0): 2  }"
   ]
  },
  {
   "cell_type": "markdown",
   "metadata": {},
   "source": [
    "We'll store the dimensions of the matrix in the tuple `Mdim`:"
   ]
  },
  {
   "cell_type": "code",
   "execution_count": 2,
   "metadata": {
    "collapsed": true
   },
   "outputs": [],
   "source": [
    "Mdim = (3, 5)"
   ]
  },
  {
   "cell_type": "markdown",
   "metadata": {},
   "source": [
    "Suppose now that we want to multiply our sparse matrix by a vector:\n",
    "\n",
    "$$\\begin{pmatrix}\n",
    "0 &  1&  0&  1& 0\\\\ \n",
    "0 &  0&  0&  0& 5\\\\ \n",
    "2 &  0&  0&  0& 0\n",
    "\\end{pmatrix} \\begin{pmatrix}1\\\\2\\\\3\\\\4\\\\5\\\\ \\end{pmatrix} = \\begin{pmatrix}1\\times2 + 1\\times 4\\\\ 5\\times 5 \\\\ 2\\times 1\\end{pmatrix}$$"
   ]
  },
  {
   "cell_type": "markdown",
   "metadata": {},
   "source": [
    "We see that, for example, the $1$ at coordinates $(0, 3)$ gets multiplied by the 3-rd entry in the vector that we are multiplying by, and then the product is added into the sum in the 0-th row of the result. We can generalize this to write the function that multiplies a sparse matrix by a vector:"
   ]
  },
  {
   "cell_type": "code",
   "execution_count": 3,
   "metadata": {
    "collapsed": true
   },
   "outputs": [],
   "source": [
    "def mult_mat_vec(M, Mdim, v):\n",
    "    '''Return the product Mv, where M is a sparse matrix\n",
    "    with dimensions Mdim[0] by Mdim[1], and v is a list of\n",
    "    length Mdim[1]'''\n",
    "    res = [0]*Mdim[0]\n",
    "    \n",
    "    for coords, entry in M.items():\n",
    "        res[coords[0]] += entry*v[coords[1]]\n",
    "        \n",
    "    return res"
   ]
  },
  {
   "cell_type": "code",
   "execution_count": 4,
   "metadata": {
    "collapsed": false
   },
   "outputs": [
    {
     "data": {
      "text/plain": [
       "[6, 25, 2]"
      ]
     },
     "execution_count": 4,
     "metadata": {},
     "output_type": "execute_result"
    }
   ],
   "source": [
    "mult_mat_vec(M, Mdim, [1, 2, 3, 4, 5])"
   ]
  }
 ],
 "metadata": {
  "kernelspec": {
   "display_name": "Python 3",
   "language": "python",
   "name": "python3"
  },
  "language_info": {
   "codemirror_mode": {
    "name": "ipython",
    "version": 3
   },
   "file_extension": ".py",
   "mimetype": "text/x-python",
   "name": "python",
   "nbconvert_exporter": "python",
   "pygments_lexer": "ipython3",
   "version": "3.4.3"
  }
 },
 "nbformat": 4,
 "nbformat_minor": 0
}
