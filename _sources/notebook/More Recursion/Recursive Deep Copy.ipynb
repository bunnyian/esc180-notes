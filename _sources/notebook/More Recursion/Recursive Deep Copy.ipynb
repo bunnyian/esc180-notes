{
 "cells": [
  {
   "cell_type": "markdown",
   "metadata": {},
   "source": [
    "# Recursive Deep Copy"
   ]
  },
  {
   "cell_type": "markdown",
   "metadata": {},
   "source": [
    "### Deep Copy vs. Shallow Copy\n",
    "\n",
    "Here's a brief review of Shallow Copy:"
   ]
  },
  {
   "cell_type": "code",
   "execution_count": 1,
   "metadata": {
    "collapsed": true
   },
   "outputs": [],
   "source": [
    "L1 = [[1, 2], [3, 4]]\n",
    "L2 = L1[:]"
   ]
  },
  {
   "cell_type": "markdown",
   "metadata": {},
   "source": [
    "Here, `L1[0]` and `L2[0]` are aliases. Changing the contents of `L1[0]` (e.g. with `L1[0][0] = 5`) will also change the contents of `L2[0]` and vice versa. To address this, we can instead create a deep copy of `L1`:"
   ]
  },
  {
   "cell_type": "code",
   "execution_count": 2,
   "metadata": {
    "collapsed": false
   },
   "outputs": [],
   "source": [
    "copy = []\n",
    "for e in L1:\n",
    "    copy.append(e[:])"
   ]
  },
  {
   "cell_type": "markdown",
   "metadata": {},
   "source": [
    "Here, we are creating a new list every time we append, since we are appending a copy of `e`, not `e` itself. However, this only works if `L1` happens to be a list of lists of `int`s. For example, this would create a problem:"
   ]
  },
  {
   "cell_type": "code",
   "execution_count": 3,
   "metadata": {
    "collapsed": true
   },
   "outputs": [],
   "source": [
    "L1 = [[1, 2], [3, [4, 5]]]\n",
    "copy = []\n",
    "for e in L1:\n",
    "    copy.append(e[:])"
   ]
  },
  {
   "cell_type": "markdown",
   "metadata": {},
   "source": [
    "We are not creating a copy of `[4, 5]` here, only a copy of `[3, [4, 5]`. That means that `L1[1][1]` and `copy[1][1]` will be alises. Changing one will change the other.\n",
    "\n",
    "If, instead of appending the shallow copy of `e` (i.e., `e[:]`), we were to append the *deep* copy of `e`, things would work. We use a recursive solution to accomplish this.\n",
    "\n",
    "(Side note: `type(obj)` returns the type of `obj`. For example, `type([1, 2, 3]) == list` is `True`."
   ]
  },
  {
   "cell_type": "code",
   "execution_count": 1,
   "metadata": {
    "tags": [
     "remove-input"
    ]
   },
   "outputs": [
    {
     "data": {
      "text/html": [
       "<button><a href=\"https://pythontutor.com/render.html#code=%0Adef+deep_copy%28obj%29%3A%0A++++%27%27%27Return+a+deep+%28i.e.%2C+non-aliased+at+all%29+copy+of+obj%2C+a+nested+list+of+%0A++++integers%27%27%27%0A++++%23Base+case%3A%0A++++if+type%28obj%29+%21%3D+list%3A%0A++++++++return+obj%0A++++copy+%3D+%5B%5D%0A++++for+elem+in+obj%3A%0A++++++++%23The+leap+of+faith%3A+assume+that+deep_copy+works%21%0A++++++++copy.append%28deep_copy%28elem%29%29%0A++++return+copy%0A++++%0AL+%3D+%5B%5B1%2C+2%5D%2C+%5B3%2C+4%5D%5D%0AL_copy+%3D+deep_copy%28L%29%0A&cumulative=false&heapPrimitives=nevernest&mode=edit&origin=opt-frontend.js&py=3&rawInputLstJSON=%5B%5D&textReferences=false\" target=\"_blank\">Run in Python Tutor</a></button>"
      ],
      "text/plain": [
       "<IPython.core.display.HTML object>"
      ]
     },
     "metadata": {},
     "output_type": "display_data"
    }
   ],
   "source": [
    "from IPython.display import display, HTML\n",
    "import urllib.parse\n",
    "\n",
    "def generate_python_tutor_button(code):\n",
    "    encoded_code = urllib.parse.quote_plus(code)\n",
    "    # Encode the code as a URL-safe string\n",
    "    \n",
    "    # Create the Python Tutor URL\n",
    "    python_tutor_url = f\"https://pythontutor.com/render.html#code={encoded_code}&cumulative=false&heapPrimitives=nevernest&mode=edit&origin=opt-frontend.js&py=3&rawInputLstJSON=%5B%5D&textReferences=false\"\n",
    "    \n",
    "    # Create the HTML button\n",
    "    button_html = f'<button><a href=\"{python_tutor_url}\" target=\"_blank\">Run in Python Tutor</a></button>'\n",
    "    \n",
    "    # Display the button\n",
    "    display(HTML(button_html))\n",
    "\n",
    "# Example usage:\n",
    "code_to_run = \"\"\"\n",
    "def deep_copy(obj):\n",
    "    '''Return a deep (i.e., non-aliased at all) copy of obj, a nested list of \n",
    "    integers'''\n",
    "    #Base case:\n",
    "    if type(obj) != list:\n",
    "        return obj\n",
    "    copy = []\n",
    "    for elem in obj:\n",
    "        #The leap of faith: assume that deep_copy works!\n",
    "        copy.append(deep_copy(elem))\n",
    "    return copy\n",
    "    \n",
    "L = [[1, 2], [3, 4]]\n",
    "L_copy = deep_copy(L)\n",
    "\"\"\"\n",
    "\n",
    "generate_python_tutor_button(code_to_run)"
   ]
  },
  {
   "cell_type": "code",
   "execution_count": 4,
   "metadata": {
    "collapsed": false
   },
   "outputs": [],
   "source": [
    "def deep_copy(obj):\n",
    "    '''Return a deep (i.e., non-aliased at all) copy of obj, a nested list of \n",
    "    integers'''\n",
    "    #Base case:\n",
    "    if type(obj) != list:\n",
    "        return obj\n",
    "    copy = []\n",
    "    for elem in obj:\n",
    "        #The leap of faith: assume that deep_copy works!\n",
    "        copy.append(deep_copy(elem))\n",
    "    return copy"
   ]
  },
  {
   "cell_type": "markdown",
   "metadata": {},
   "source": [
    "The base case is easy: if `obj` is not a list, then it's an integer, and we consider `int`s to be their own deep copies. Otherwise, we perform the recursive leap of faith: we append to `copy` the deep copies of each of `obj`'s elements. If we assume `deep_copy` works, then the idea works as a whole."
   ]
  }
 ],
 "metadata": {
  "kernelspec": {
   "display_name": "Python 3",
   "language": "python",
   "name": "python3"
  },
  "language_info": {
   "codemirror_mode": {
    "name": "ipython",
    "version": 3
   },
   "file_extension": ".py",
   "mimetype": "text/x-python",
   "name": "python",
   "nbconvert_exporter": "python",
   "pygments_lexer": "ipython3",
   "version": "3.9.12"
  }
 },
 "nbformat": 4,
 "nbformat_minor": 0
}
