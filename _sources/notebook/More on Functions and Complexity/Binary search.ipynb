{
 "cells": [
  {
   "cell_type": "markdown",
   "metadata": {},
   "source": [
    "# Binary Search"
   ]
  },
  {
   "cell_type": "markdown",
   "metadata": {},
   "source": [
    "Binary search is a search algorithm for finding elements in a *sorted list*. It works by dividing the list in half, then checking if the desired element `e` is greater or less than the middle element `mid`. Using this information, the algorithm can discard half of the list and repeat the process until the element is found.\n",
    "\n",
    "eg. if L = [1, 3, 10, 20, 100], and e = 3 then the algorithm would *approximately* proceed as follows:\n",
    "1. middle element is 10\n",
    "2. mid != e, mid > e\n",
    "From here, we are able to discard the right half of the list (since mid > e).\n",
    "3. continue dividing the list in half until e is found"
   ]
  },
  {
   "cell_type": "code",
   "execution_count": null,
   "metadata": {
    "collapsed": false
   },
   "outputs": [],
   "source": [
    "def find_i_binary(L, e):\n",
    "    '''Returns the index of e in L, or None if e is not in L\n",
    "    \n",
    "    Arguments:\n",
    "    L -- a sorted list of ints\n",
    "    e -- int\n",
    "    \n",
    "    '''\n",
    "    low = 0\n",
    "    high = len(L) - 1\n",
    "    \n",
    "    while high-low >= 2:\n",
    "        mid = (low+high)//2\n",
    "        if L[mid] > e:\n",
    "            high = mid - 1\n",
    "        elif L[mid] < e:\n",
    "            low = mid + 1\n",
    "        else:\n",
    "            return mid\n",
    "            \n",
    "    if L[low] == e:\n",
    "        return low\n",
    "    elif L[high] == e:\n",
    "        return high\n",
    "    else:\n",
    "        return None"
   ]
  },
  {
   "cell_type": "markdown",
   "metadata": {},
   "source": [
    "So, how does Binary Search compare to our previous attempt (called Linear Search)?\n",
    "\n",
    "Suppose that one iteration of Binary Search runs  $c_1$ ms, and one iteration of Linear Search runs $c_2$ ms. $c_1$ and $c_2$ are quite equal, but are pretty close.\n",
    "\n",
    "For $n=1,000,000$, Binary Search will take, in the worst case, about $c_1\\times \\log_2 (1,000,000) = 20c_1$ ms. Linear Search will take $1,000,000 \\times c_2$ ms. A big difference!\n",
    "\n",
    "Of course, that's all assuming that the list is sorted. But if we need to perform multiple look-ups, it's worth it to sort the list the once, and then be able to use the much faster Binary Search."
   ]
  },
  {
   "cell_type": "markdown",
   "metadata": {},
   "source": [
    "## Complexity Analysis\n",
    "In the worst case scenario, `e` is not in the list. This means that binary search will divide the list until len(L) = 3. When len(L) == 1 then the while loop exits and the two final comparisons are done (constant time).\n",
    "\n",
    "```python\n",
    "low = 0\n",
    "high = len(L) - 1 = 0\n",
    "high-low = 0 # exit from the while loop\n",
    "```\n",
    "\n",
    "Within the loop, there are 3 comparisons (1 for the while loop condition, and two for if statements) and outside of the loop there is a constant 2 final comparisons before a `return`.\n",
    "\n",
    "To find the complexity, we need to find the number of times the loop runs. In other words, we want to know how many times we can divide the list in half before we get to a list of length 1 (each time would correspond to 1 iteration).\n",
    "\n",
    "We can find this by solving the following equation for $x$ (the number of times we can divide the list in half), where $n$ is the length of the list:\n",
    "\n",
    "$\\frac{n}{2^x} = 1$\n",
    "\n",
    "$n = 2^x$\n",
    "\n",
    "$\\log_2 n = x$\n",
    "\n",
    "Thus the complexity is equal to $3\\log_2 n + 2$. Or in big oh notation, $\\mathcal{O}(\\log n)$."
   ]
  }
 ],
 "metadata": {
  "kernelspec": {
   "display_name": "Python 3",
   "language": "python",
   "name": "python3"
  },
  "language_info": {
   "codemirror_mode": {
    "name": "ipython",
    "version": 3
   },
   "file_extension": ".py",
   "mimetype": "text/x-python",
   "name": "python",
   "nbconvert_exporter": "python",
   "pygments_lexer": "ipython3",
   "version": "3.4.3"
  }
 },
 "nbformat": 4,
 "nbformat_minor": 0
}
