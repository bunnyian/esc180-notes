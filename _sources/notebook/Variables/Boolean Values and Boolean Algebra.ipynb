{
 "cells": [
  {
   "cell_type": "markdown",
   "metadata": {},
   "source": [
    "## Boolean Values\n",
    "\n",
    "We already saw Boolean values in lecture:"
   ]
  },
  {
   "cell_type": "code",
   "execution_count": 1,
   "metadata": {
    "collapsed": false
   },
   "outputs": [
    {
     "data": {
      "text/plain": [
       "True"
      ]
     },
     "execution_count": 1,
     "metadata": {},
     "output_type": "execute_result"
    }
   ],
   "source": [
    "True"
   ]
  },
  {
   "cell_type": "code",
   "execution_count": 2,
   "metadata": {
    "collapsed": false
   },
   "outputs": [
    {
     "data": {
      "text/plain": [
       "True"
      ]
     },
     "execution_count": 2,
     "metadata": {},
     "output_type": "execute_result"
    }
   ],
   "source": [
    "1 == 1"
   ]
  },
  {
   "cell_type": "code",
   "execution_count": 3,
   "metadata": {
    "collapsed": false
   },
   "outputs": [
    {
     "data": {
      "text/plain": [
       "False"
      ]
     },
     "execution_count": 3,
     "metadata": {},
     "output_type": "execute_result"
    }
   ],
   "source": [
    "1 > 200"
   ]
  },
  {
   "cell_type": "markdown",
   "metadata": {},
   "source": [
    "Those are values that can be either `True` or `False`."
   ]
  },
  {
   "cell_type": "markdown",
   "metadata": {},
   "source": [
    "In the same way that we can do algebra using integers:"
   ]
  },
  {
   "cell_type": "code",
   "execution_count": 4,
   "metadata": {
    "collapsed": false
   },
   "outputs": [
    {
     "data": {
      "text/plain": [
       "2"
      ]
     },
     "execution_count": 4,
     "metadata": {},
     "output_type": "execute_result"
    }
   ],
   "source": [
    "1 + 1"
   ]
  },
  {
   "cell_type": "markdown",
   "metadata": {},
   "source": [
    "we can also do algebra using Boolean values:"
   ]
  },
  {
   "cell_type": "code",
   "execution_count": 5,
   "metadata": {
    "collapsed": false
   },
   "outputs": [
    {
     "data": {
      "text/plain": [
       "True"
      ]
     },
     "execution_count": 5,
     "metadata": {},
     "output_type": "execute_result"
    }
   ],
   "source": [
    "a = False\n",
    "a or (1 == 1)"
   ]
  },
  {
   "cell_type": "markdown",
   "metadata": {},
   "source": [
    "Here is how we can use `and` and `or`:\n",
    "\n",
    "`A` and `B`:\n",
    "    (True and True)   == True\n",
    "    (True and False)  == False\n",
    "    (False and True)  == False\n",
    "    (False and False) == False\n",
    "\n",
    "In English, `A and B` is True if and only if both `A` and `B` are True.\n",
    "\n",
    "`A` or `B`:\n",
    "    (True or True)    == True\n",
    "    (True or False)   == True\n",
    "    (False or True)   == True\n",
    "    (False or False)  == False\n",
    "\n",
    "In English, `A or B` is True if and only if at least one (or both) of `A` and `B` are True.\n",
    "\n",
    "You can also use `not`\n",
    "    (not True)        == False\n",
    "    (not False)       == True\n",
    "    \n",
    "In English, the value of `not A` is the opposite of the value of `A`.    \n",
    "\n",
    "Note that the Python `or` and the English `or` are not *quite* the same. Consider the following English statement:\n",
    "\n",
    "\"For dessert, I'll have ice cream or pie\"\n",
    "\n",
    "This means that I'll have either ice cream or pie, but not both. This means that the following will *not* work in the way we'd expect from the English meaning of the quote.\n"
   ]
  },
  {
   "cell_type": "code",
   "execution_count": 6,
   "metadata": {
    "collapsed": false
   },
   "outputs": [
    {
     "name": "stdout",
     "output_type": "stream",
     "text": [
      "I didn't lie\n"
     ]
    }
   ],
   "source": [
    "ice_cream = True\n",
    "pie = True\n",
    "if pie or ice_cream:\n",
    "    print(\"I didn't lie\")"
   ]
  },
  {
   "cell_type": "markdown",
   "metadata": {},
   "source": [
    "The problem is that `True or True` is `True`, but we want the condition to be False if both `ice_cream` and `pie` are True if we want the condition implied by the English quote. Here are ways to achive what we actually want."
   ]
  },
  {
   "cell_type": "code",
   "execution_count": 7,
   "metadata": {
    "collapsed": false
   },
   "outputs": [
    {
     "name": "stdout",
     "output_type": "stream",
     "text": [
      "I didn't lie\n",
      "I didn't lie\n"
     ]
    }
   ],
   "source": [
    "ice_cream = True\n",
    "pie = False\n",
    "if (pie == True and ice_cream == False) or (pie==False and ice_cream==True):\n",
    "  print(\"I didn't lie\")\n",
    "  \n",
    "if (pie and not ice_cream) or (not pie and ice_cream):\n",
    "  print(\"I didn't lie\")"
   ]
  },
  {
   "cell_type": "markdown",
   "metadata": {},
   "source": [
    "### Operator Precedence\n",
    "Here is another example:"
   ]
  },
  {
   "cell_type": "code",
   "execution_count": 1,
   "metadata": {
    "collapsed": false
   },
   "outputs": [
    {
     "name": "stdout",
     "output_type": "stream",
     "text": [
      "Go to Economics\n"
     ]
    }
   ],
   "source": [
    "lazy = False\n",
    "smart = True\n",
    "growthmindset = False\n",
    "\n",
    "if not lazy and smart and growthmindset:\n",
    "    print(\"Go to EngSci\")\n",
    "elif  lazy and smart:\n",
    "    print(\"Go to Physics\")\n",
    "elif not lazy and smart and not growthmindset:\n",
    "    print(\"Go to Economics\")\n",
    "else:\n",
    "    print(\"Go to Ryerson\") # circa 2022 update: TMU"
   ]
  },
  {
   "cell_type": "markdown",
   "metadata": {},
   "source": [
    "What does an expression like `not lazy and smart and growthmindset` mean? Every operator (like `not`, `and`, etc.) has a *precedence*, i.e., the operators are executed according to which has more precendence. This is just like in math (and in Python)\n",
    "`3 + 5 * 2 ` means `3 + (5 * 2)`, and `a  * b * c` means `(a * b) * c`. When in doubt, use parentheses!"
   ]
  }
 ],
 "metadata": {
  "kernelspec": {
   "display_name": "Python 3",
   "language": "python",
   "name": "python3"
  },
  "language_info": {
   "codemirror_mode": {
    "name": "ipython",
    "version": 3
   },
   "file_extension": ".py",
   "mimetype": "text/x-python",
   "name": "python",
   "nbconvert_exporter": "python",
   "pygments_lexer": "ipython3",
   "version": "3.9.12"
  }
 },
 "nbformat": 4,
 "nbformat_minor": 0
}
