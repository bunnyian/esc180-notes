{
 "cells": [
  {
   "cell_type": "markdown",
   "metadata": {},
   "source": [
    "# More on While Loops, Break, and Continue\n",
    "\n",
    "Note that it's always possible to transform for-loops into while loops:\n",
    "\n",
    "Consider the following:\n",
    "\n",
    "    for i in range(N):\n",
    "        print(i)\n",
    "        \n",
    "This is the same as\n",
    "\n",
    "    i = 0\n",
    "    while i < N:\n",
    "        print(i)\n",
    "        i += 1\n",
    "        \n",
    "Note that a for-loop is preferable here -- there is much less room for error.\n",
    "\n",
    "## Break\n",
    "\n",
    "`break` stops the execution of a loop. Here is an example:"
   ]
  },
  {
   "cell_type": "code",
   "execution_count": 1,
   "metadata": {
    "collapsed": false
   },
   "outputs": [
    {
     "name": "stdout",
     "output_type": "stream",
     "text": [
      "Trying i = 0\n",
      "Trying i = 1\n",
      "Trying i = 2\n",
      "2 is prime and even\n",
      "All done!\n"
     ]
    }
   ],
   "source": [
    "def is_prime(n):\n",
    "    '''Return True iff n is prime\n",
    "    Arguments:\n",
    "    n -- a  non-negative integer\n",
    "    '''\n",
    "    if n <= 1:\n",
    "        return False\n",
    "    \n",
    "    for i in range(2, n):  \n",
    "        if n % i == 0:   \n",
    "            return False \n",
    "\n",
    "    return True\n",
    "    \n",
    "\n",
    "N = 1000000\n",
    "for i in range(0, N):\n",
    "    print(\"Trying i =\", i)\n",
    "    if i%2==0 and is_prime(i):\n",
    "        \n",
    "        print(i, \"is prime and even\")   \n",
    "        break\n",
    "print(\"All done!\")        "
   ]
  },
  {
   "cell_type": "markdown",
   "metadata": {},
   "source": [
    "Once we reach a number that's prime and even, we stop the execution of the loop, and go to the next line (in this case, `print(\"All done!\")`. Note that we already did something like this, with a `return` statement. Consider the following two functions        "
   ]
  },
  {
   "cell_type": "code",
   "execution_count": 2,
   "metadata": {
    "collapsed": true
   },
   "outputs": [],
   "source": [
    "def print_even_prime1(N):\n",
    "    for i in range(N):\n",
    "        if i % 2 == 0 and is_prime(i):\n",
    "            print(i, \"is prime and even\")   \n",
    "            break\n",
    "    \n",
    "    print(\"All done!\")\n",
    "    \n",
    "def print_even_prime2(N):\n",
    "    for i in range(N):\n",
    "        if i % 2 == 0 and is_prime(i):\n",
    "            print(i, \"is prime and even\")   \n",
    "            return\n",
    "    \n",
    "    print(\"All done!\")    "
   ]
  },
  {
   "cell_type": "markdown",
   "metadata": {},
   "source": [
    "There is a difference: `print_even_prime1` will *always* print \"All done!\", whether it finds an even prime or not.On the other hand, `print_even_prime2` will not print \"All done!\" if it finds an even prime, since if an even prime is found, the `return` statement will terminate the function."
   ]
  },
  {
   "cell_type": "markdown",
   "metadata": {},
   "source": [
    "```{note} If you find yourself using break, consider whether it wouldn't be better to find a way to use return -- it is generally better to use return (called an \"early return\") than break.\n",
    "```"
   ]
  },
  {
   "cell_type": "markdown",
   "metadata": {},
   "source": [
    "## If using while\n",
    "\n",
    "Here is another (silly and inadvisable) thing you could try: using a while-loop to make an if statement. The following two pieces of code do the same thing."
   ]
  },
  {
   "cell_type": "code",
   "execution_count": 3,
   "metadata": {
    "collapsed": false
   },
   "outputs": [
    {
     "name": "stdout",
     "output_type": "stream",
     "text": [
      "Wheee\n"
     ]
    }
   ],
   "source": [
    "ENGSCI_IS_FUN = True\n",
    "while ENGSCI_IS_FUN:\n",
    "    print(\"Wheee\")\n",
    "    break"
   ]
  },
  {
   "cell_type": "code",
   "execution_count": 4,
   "metadata": {
    "collapsed": false
   },
   "outputs": [
    {
     "name": "stdout",
     "output_type": "stream",
     "text": [
      "Wheee\n"
     ]
    }
   ],
   "source": [
    "if ENGSCI_IS_FUN:\n",
    "    print(\"Wheee\")"
   ]
  },
  {
   "cell_type": "markdown",
   "metadata": {},
   "source": [
    "Consider the while \"loop\" (which isn't quite a loop...). If the condition (`ENGSCI_IS_FUN`) is true, then we print once, and then hit `break` immediately. That means that the loop executes for at most one iteration.\n",
    "\n",
    "If the condition were false, we would not print anything, and go to the next line in the program."
   ]
  },
  {
   "cell_type": "markdown",
   "metadata": {},
   "source": [
    "## Continue\n",
    "\n",
    "The `continue` statement makes the loop go to the next iteration, stopping the current iteration. This is useful to, for example, save on computation time:"
   ]
  },
  {
   "cell_type": "code",
   "execution_count": 5,
   "metadata": {
    "collapsed": true
   },
   "outputs": [],
   "source": [
    "def is_prime(n):\n",
    "    '''Return True iff n is prime\n",
    "    Arguments:\n",
    "    n -- a  non-negative integer\n",
    "    '''\n",
    "    if n <= 1:\n",
    "        return False\n",
    "    \n",
    "    for i in range(2, n):  \n",
    "        if i > 2 and i % 2 == 0:\n",
    "            continue\n",
    "        if n % i == 0:   \n",
    "            return False \n",
    "\n",
    "    return True"
   ]
  },
  {
   "cell_type": "markdown",
   "metadata": {},
   "source": [
    "The addition line makes it so that we don't try to compute `n%i` for even `i` that are larger than 2, since `continue` makes us skip whatever follows it, and proceed to the next iteration (where the for-loop increments the i).\n",
    "\n",
    "(This makes sense, since if a number isn't divisible by 2 (which would already have been checked), it makes no sense to try to check if it's divisible by 4, 6, 8, ....)\n",
    "\n",
    "Again, always consider whether `continue` is a good idea -- it might be, but perhaps there are better ways. In this case, the following will do nicely:"
   ]
  },
  {
   "cell_type": "code",
   "execution_count": 6,
   "metadata": {
    "collapsed": true
   },
   "outputs": [],
   "source": [
    "def is_prime(n):\n",
    "    '''Return True iff n is prime\n",
    "    Arguments:\n",
    "    n -- a  non-negative integer\n",
    "    '''\n",
    "    if n <= 1:\n",
    "        return False\n",
    "    if n == 2:\n",
    "        return True\n",
    "    if n % 2 == 0:\n",
    "        return False\n",
    "    \n",
    "    for i in range(3, n, 2):  \n",
    "        if n % i == 0:   \n",
    "            return False \n",
    "\n",
    "    return True"
   ]
  }
 ],
 "metadata": {
  "kernelspec": {
   "display_name": "Python 3",
   "language": "python",
   "name": "python3"
  },
  "language_info": {
   "codemirror_mode": {
    "name": "ipython",
    "version": 3
   },
   "file_extension": ".py",
   "mimetype": "text/x-python",
   "name": "python",
   "nbconvert_exporter": "python",
   "pygments_lexer": "ipython3",
   "version": "3.4.3"
  }
 },
 "nbformat": 4,
 "nbformat_minor": 0
}
