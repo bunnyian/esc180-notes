{
 "cells": [
  {
   "cell_type": "markdown",
   "metadata": {},
   "source": [
    "# Computing $\\pi$ using Random Numbers\n",
    "\n",
    "## Idea: generate N points in the 1x1 square in the first quadrant\n",
    "\n",
    "     2\n",
    "\n",
    "\n",
    "\n",
    "     1----\n",
    "       . |\n",
    "       . |\n",
    "        .|\n",
    "     0   1   2   3\n",
    "\n",
    "\n",
    "Compute the number of points which fall within the unit circle centered at 1. \n",
    "\n",
    "The quarter-circle that's the part of the unit circle that's in \n",
    "the first quadrant has area $\\frac{1}{4}\\pi\\times 1^2 = \\frac{1}{4}\\pi$, and the unit square has area 1, so about $\\frac{1}{4}\\pi$ of the random points should be within the quarter-circle.\n",
    "\n",
    "We compute the ratio of the number of points in the quarter circle and the total number of random points, multiply it by 4, and get $\\pi$.\n",
    "\n",
    "To test whether the point $(x, y)$ is within the unit circle, we test whether $x^2+y^2<1$ (since points inside the unit circle all are less than 1 unit away from the origin, so that $x^2+y^2<1$.\n",
    "\n",
    "## A small preliminary note on generating random numbers\n",
    "\n",
    "We can use `random.random()` to generate random numbers in the interval $[0, 1)$. Every time `random.random()` is called, a new random number is generated."
   ]
  },
  {
   "cell_type": "code",
   "execution_count": 1,
   "metadata": {
    "collapsed": false
   },
   "outputs": [
    {
     "name": "stdout",
     "output_type": "stream",
     "text": [
      "0.9199110526377364 0.28585222076565997\n"
     ]
    }
   ],
   "source": [
    "import random\n",
    "\n",
    "x = random.random()\n",
    "y = random.random()\n",
    "print(x, y)"
   ]
  },
  {
   "cell_type": "markdown",
   "metadata": {},
   "source": [
    "Here is a little trick: we can use multiple assignment to simoultaneously assign random numbers to `x` and `y`:"
   ]
  },
  {
   "cell_type": "code",
   "execution_count": 2,
   "metadata": {
    "collapsed": false
   },
   "outputs": [
    {
     "name": "stdout",
     "output_type": "stream",
     "text": [
      "0.30163174845316 0.43737830722543325\n"
     ]
    }
   ],
   "source": [
    "x, y = random.random(), random.random()\n",
    "print(x, y)"
   ]
  },
  {
   "cell_type": "markdown",
   "metadata": {},
   "source": [
    "Another aside: how to generate a random number between 5 and 12? The following will do the trick:"
   ]
  },
  {
   "cell_type": "code",
   "execution_count": 3,
   "metadata": {
    "collapsed": false
   },
   "outputs": [
    {
     "data": {
      "text/plain": [
       "9.681080775786686"
      ]
     },
     "execution_count": 3,
     "metadata": {},
     "output_type": "execute_result"
    }
   ],
   "source": [
    "5+7*random.random()"
   ]
  },
  {
   "cell_type": "markdown",
   "metadata": {},
   "source": [
    "We are now ready to compute an approximation of $\\pi$:"
   ]
  },
  {
   "cell_type": "code",
   "execution_count": 4,
   "metadata": {
    "collapsed": false
   },
   "outputs": [
    {
     "name": "stdout",
     "output_type": "stream",
     "text": [
      "3.14254\n"
     ]
    }
   ],
   "source": [
    "import random\n",
    "N = 1000000\n",
    "\n",
    "count = 0  #count will store the number of random points\n",
    "           #that fell within the unit circle\n",
    "\n",
    "for i in range(N):\n",
    "    x, y = random.random(), random.random()\n",
    "    if x**2 + y**2 < 1:\n",
    "        count += 1\n",
    "    \n",
    "print(4*count/N)"
   ]
  }
 ],
 "metadata": {
  "kernelspec": {
   "display_name": "Python 3",
   "language": "python",
   "name": "python3"
  },
  "language_info": {
   "codemirror_mode": {
    "name": "ipython",
    "version": 3
   },
   "file_extension": ".py",
   "mimetype": "text/x-python",
   "name": "python",
   "nbconvert_exporter": "python",
   "pygments_lexer": "ipython3",
   "version": "3.4.3"
  }
 },
 "nbformat": 4,
 "nbformat_minor": 0
}
