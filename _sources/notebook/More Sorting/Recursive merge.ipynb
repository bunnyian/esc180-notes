{
 "cells": [
  {
   "cell_type": "markdown",
   "metadata": {},
   "source": [
    "# Recursive `merge(L1, L2)`"
   ]
  },
  {
   "cell_type": "raw",
   "metadata": {},
   "source": [
    "Let's implement `merge()` recursively (this is a precursor to merge sort):"
   ]
  },
  {
   "cell_type": "code",
   "execution_count": 1,
   "metadata": {
    "collapsed": true
   },
   "outputs": [],
   "source": [
    "def merge(L1, L2):\n",
    "    '''Return the sorted version of L1 + L2\n",
    "    \n",
    "    Arguments:\n",
    "    L1, L2 -- lists of floats\n",
    "    '''\n",
    "    \n",
    "    if len(L1) == 0:\n",
    "        return L2[:]\n",
    "    \n",
    "    if len(L2) == 0:\n",
    "        return L1[:]\n",
    "    \n",
    "    if L1[0] < L2[0]:\n",
    "        return [L1[0]] + merge(L1[1:], L2)\n",
    "    else:\n",
    "        return [L2[0]] + merge(L1, L2[:])"
   ]
  },
  {
   "cell_type": "markdown",
   "metadata": {},
   "source": [
    "What's the complexity here? Let's start with the call tree for a worst case. Here's an example: we will keep calling merge for `L1 = [1, 2, 3, 4, 5]` and `L2 = [6]`, since we first will be using up all of 1, 2, 3, 4, 5.\n",
    "\n",
    "Let's keep track of the sizes of `L1` and `L2`.\n",
    "\n",
    "\n",
    "             (0, 1)\n",
    "               .\n",
    "               .\n",
    "               .\n",
    "            (n-3, 1)\n",
    "               |\n",
    "            (n-2, 1)\n",
    "               |\n",
    "            (n-1, 1)\n",
    "            \n",
    "\n",
    "So we have `n` calls in total. However, the calls don't all take the same amount of time. That's becase the slicing `L1[1:]`, which involves copying all but one of the elements of `L1`, takes longer if `L1` is larger.\n",
    "\n",
    "(Likewise, the addition of the lists takes longer, but we'll ignore this in what follows -- that's because the `+` in `[L1[0]] + merge(L1[1:], L2)` will take time that's proportional to the time that `L1[1:]`, since both involves creating new lists of approximately the same size.\n",
    "\n",
    "\n",
    "We can now keep track of how long each call takes, if we only care about the fact that `L1[1:]` takes `k(len(L1)-1)` time for some constant `k`.\n",
    "\n",
    "\n",
    "                               time\n",
    "             (0, 1)            0\n",
    "               .               .\n",
    "               .               .\n",
    "               .               .\n",
    "            (n-3, 1)          k(n-4)\n",
    "               |\n",
    "            (n-2, 1)          k(n-3)\n",
    "               |\n",
    "            (n-1, 1)          k(n-2)\n",
    "            \n",
    "            \n",
    "So the total is $k\\sum_{i=1}^{n-2} i = k\\frac{(n-2)(n-1)}{2}$, which is $\\mathcal{O}(n)$."
   ]
  }
 ],
 "metadata": {
  "kernelspec": {
   "display_name": "Python 3",
   "language": "python",
   "name": "python3"
  },
  "language_info": {
   "codemirror_mode": {
    "name": "ipython",
    "version": 2
   },
   "file_extension": ".py",
   "mimetype": "text/x-python",
   "name": "python",
   "nbconvert_exporter": "python",
   "pygments_lexer": "ipython2",
   "version": "2.7.12"
  }
 },
 "nbformat": 4,
 "nbformat_minor": 0
}
