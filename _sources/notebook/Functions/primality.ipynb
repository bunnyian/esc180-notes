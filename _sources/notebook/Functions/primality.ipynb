{
 "cells": [
  {
   "cell_type": "markdown",
   "metadata": {},
   "source": [
    "### Fixing the style of is_prime\n",
    "\n",
    "We can now rewrite `is_prime()` to use the more sophisticated usage of `range`, and make `is_prime()` more readable:"
   ]
  },
  {
   "cell_type": "code",
   "execution_count": 1,
   "metadata": {
    "collapsed": true
   },
   "outputs": [],
   "source": [
    "def is_prime(n):\n",
    "    '''Return True iff n is prime\n",
    "    Arguments:\n",
    "    n -- a  non-negative integer\n",
    "    '''\n",
    "    if n <= 1:\n",
    "        return False\n",
    "    \n",
    "    if n == 2:        #optional\n",
    "        return True\n",
    "    \n",
    "    for i in range(2, n):  \n",
    "        if n % i == 0:   \n",
    "            return False \n",
    "    \n",
    "    #Haven't returned False, which means we checked every possible i and haven't found a divisor\n",
    "    return True"
   ]
  },
  {
   "cell_type": "markdown",
   "metadata": {},
   "source": [
    "### More on designing loops: return inside for\n",
    "\n",
    "Suppose that instead of the (correct) design above, we do something like this:"
   ]
  },
  {
   "cell_type": "code",
   "execution_count": 2,
   "metadata": {
    "collapsed": true
   },
   "outputs": [],
   "source": [
    "def is_prime_bad(n):\n",
    "    if n <= 1:\n",
    "        return False\n",
    "    \n",
    "    if n == 2:        #optional\n",
    "        return True\n",
    "    \n",
    "    for i in range(2, n):  \n",
    "        if n % i == 0:   \n",
    "            return False \n",
    "        else: \n",
    "            return True"
   ]
  },
  {
   "cell_type": "markdown",
   "metadata": {},
   "source": [
    "The difference is inside the for-loop: instead of only saying \n",
    "     for n % i == 0:\n",
    "          return False\n",
    "\n",
    "we also added an `else` clause.\n",
    "\n",
    "This would create a problem:"
   ]
  },
  {
   "cell_type": "code",
   "execution_count": 3,
   "metadata": {
    "collapsed": false
   },
   "outputs": [
    {
     "data": {
      "text/plain": [
       "True"
      ]
     },
     "execution_count": 3,
     "metadata": {},
     "output_type": "execute_result"
    }
   ],
   "source": [
    "is_prime_bad(35)"
   ]
  },
  {
   "cell_type": "markdown",
   "metadata": {},
   "source": [
    "The reason `is_prime_bad()` returns `True` (even though $35 = 5\\times 7$, and so it isn't prime) is the `else` clause. We try every `i` between 2 and 34 (inclusive). When `i` is 2, `35 % i` isn't 0, so we get to the `return True` statement. Once that `return` statement is executed, the function returns, and  `is_prime_bad(35)`  is evaluated to `True`.\n",
    "\n",
    "That shouldn't happen: we should only return `True` after trying *all* the possible `i`'s. Just because 35 isn't even (i.e., isn't divisible by 2), it doesn't mean it's prime. That's why the correct thing to do is to return `True` *after* the loop ends.\n",
    "\n",
    "It is, however, okay to return `False` inside the loop. That's because if we found even one divisor of `n`, we know that `n` is definitely not prime, and it's okay to return from the function.\n",
    "\n",
    "### pass\n",
    "One small note: you always must put *something* in the if clause. The following produces an error:\n",
    "\n",
    "     if <cond>:\n",
    "     else:\n",
    "        <do something>\n",
    "        \n",
    "You can use `pass` in order to not do anything in the `if` clause, but not produce an error.\n",
    "\n",
    "     if <cond>:\n",
    "        pass\n",
    "     else:\n",
    "        <do something>\n",
    "        \n",
    "Here is an if-statement which is equivalent to what we have in `is_prime()`:       \n",
    "\n",
    "     if n % i != 0:   \n",
    "         pass\n",
    "      else:\n",
    "         return False\n",
    "         \n",
    "(We can make it even close to the original statement by using `not` with `==`:\n",
    "\n",
    "     if not (n % i == 0):\n",
    "         pass\n",
    "     else:\n",
    "         return False\n",
    "         \n",
    "If you find yourself writing something like that, you should obviously rewrite the code and write instead what we have in the original function:\n",
    "\n",
    "     if n % i == 0:   \n",
    "            return False \n",
    "        "
   ]
  }
 ],
 "metadata": {
  "kernelspec": {
   "display_name": "Python 3",
   "language": "python",
   "name": "python3"
  },
  "language_info": {
   "codemirror_mode": {
    "name": "ipython",
    "version": 3
   },
   "file_extension": ".py",
   "mimetype": "text/x-python",
   "name": "python",
   "nbconvert_exporter": "python",
   "pygments_lexer": "ipython3",
   "version": "3.4.3"
  }
 },
 "nbformat": 4,
 "nbformat_minor": 0
}
