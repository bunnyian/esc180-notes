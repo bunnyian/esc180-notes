{
 "cells": [
  {
   "cell_type": "markdown",
   "metadata": {},
   "source": [
    "# Adding lists\n",
    "\n",
    "Recall that we can add lists as follows:"
   ]
  },
  {
   "cell_type": "code",
   "execution_count": 1,
   "metadata": {
    "collapsed": true
   },
   "outputs": [],
   "source": [
    "L1 = [1, 2]\n",
    "L2 = [4, 5]\n",
    "L = L1 + L2"
   ]
  },
  {
   "cell_type": "markdown",
   "metadata": {},
   "source": [
    "What happens is that we compute `L1 + L2` (the result is `[1, 2, 4, 5]`), place the result in memory, and then assign the address of the result to `L`.\n",
    "\n",
    "We can, of course, also assign the result to `L1` using `L1 = L1 + L2`. Let's explore this a little bit:"
   ]
  },
  {
   "cell_type": "code",
   "execution_count": 2,
   "metadata": {
    "collapsed": false
   },
   "outputs": [
    {
     "name": "stdout",
     "output_type": "stream",
     "text": [
      "id(L1) = 140559024051016 L1 = [1, 2]\n",
      "id(L1) = 140558759954248 L1 = [1, 2, 4, 5]\n"
     ]
    }
   ],
   "source": [
    "L1 = [1, 2]\n",
    "L2 = [4, 5]\n",
    "print(\"id(L1) =\", id(L1), \"L1 =\", L1)\n",
    "L1 = L1 + L2\n",
    "print(\"id(L1) =\", id(L1), \"L1 =\", L1)"
   ]
  },
  {
   "cell_type": "markdown",
   "metadata": {},
   "source": [
    "The address to which `L1` refers changed. It should have: we created a new object (a list with the contents `[1, 2, 4, 5]`), and placed it in a new available location in memory, and then assigned the address of that location back to `L1`.\n",
    "\n",
    "Another thing we could do was use `list.extend`:"
   ]
  },
  {
   "cell_type": "code",
   "execution_count": 3,
   "metadata": {
    "collapsed": false
   },
   "outputs": [
    {
     "name": "stdout",
     "output_type": "stream",
     "text": [
      "id(L1) = 140559024050568 L1 = [1, 2]\n",
      "id(L1) = 140559024050568 L1 = [1, 2, 4, 5]\n"
     ]
    }
   ],
   "source": [
    "L1 = [1, 2]\n",
    "L2 = [4, 5]\n",
    "print(\"id(L1) =\", id(L1), \"L1 =\", L1)\n",
    "L1.extend(L2)\n",
    "print(\"id(L1) =\", id(L1), \"L1 =\", L1)"
   ]
  },
  {
   "cell_type": "markdown",
   "metadata": {},
   "source": [
    "`L1.extend(L2)` modifies the contents of `L1`, but keeps its address the same.\n",
    "\n",
    "Here is where it matters:"
   ]
  },
  {
   "cell_type": "code",
   "execution_count": null,
   "metadata": {
    "tags": [
     "remove-input"
    ]
   },
   "outputs": [],
   "source": [
    "from IPython.display import display, HTML\n",
    "import urllib.parse\n",
    "\n",
    "def generate_python_tutor_button(code):\n",
    "    # Encode the code as a URL-safe string\n",
    "    encoded_code = urllib.parse.quote_plus(code)\n",
    "    \n",
    "    # Create the Python Tutor URL\n",
    "    python_tutor_url = f\"https://pythontutor.com/render.html#code={encoded_code}&cumulative=false&heapPrimitives=nevernest&mode=edit&origin=opt-frontend.js&py=3&rawInputLstJSON=%5B%5D&textReferences=false\"\n",
    "    \n",
    "    # Create the HTML button\n",
    "    button_html = f'<button><a href=\"{python_tutor_url}\" target=\"_blank\">Run in Python Tutor</a></button>'\n",
    "    \n",
    "    # Display the button\n",
    "    display(HTML(button_html))\n",
    "\n",
    "# Example usage:\n",
    "code_to_run = \"\"\"\n",
    "def add_lists_bad(L1, L2):\n",
    "    #modify what the local variable L1 \n",
    "    #refers to: won't matter outside the function\n",
    "    L1 = L1 + L2\n",
    "    \n",
    "\n",
    "def add_lists_good(L1, L2):\n",
    "    #modify the contents of the list that L1\n",
    "    #refers to. Will make a difference outside\n",
    "    #the function\n",
    "    L1.extend(L2)\n",
    "    \n",
    "if __name__ == '__main__':\n",
    "    L1 = [1, 2]\n",
    "    L2 = [4, 5]\n",
    "    add_lists_bad(L1, L2)\n",
    "    print(\"L1 after add_lists_bad:\", L1)\n",
    "\n",
    "    add_lists_good(L1, L2)\n",
    "    print(\"L1 after add_lists_good:\", L1)\n",
    "\n",
    "\"\"\"\n",
    "\n",
    "generate_python_tutor_button(code_to_run)"
   ]
  },
  {
   "cell_type": "code",
   "execution_count": 4,
   "metadata": {
    "collapsed": false
   },
   "outputs": [
    {
     "name": "stdout",
     "output_type": "stream",
     "text": [
      "L1 after add_lists_bad: [1, 2]\n",
      "L1 after add_lists_good: [1, 2, 4, 5]\n"
     ]
    }
   ],
   "source": [
    "def add_lists_bad(L1, L2):\n",
    "    #modify what the local variable L1 \n",
    "    #refers to: won't matter outside the function\n",
    "    L1 = L1 + L2\n",
    "    \n",
    "\n",
    "def add_lists_good(L1, L2):\n",
    "    #modify the contents of the list that L1\n",
    "    #refers to. Will make a difference outside\n",
    "    #the function\n",
    "    L1.extend(L2)\n",
    "    \n",
    "if __name__ == '__main__':\n",
    "    L1 = [1, 2]\n",
    "    L2 = [4, 5]\n",
    "    add_lists_bad(L1, L2)\n",
    "    print(\"L1 after add_lists_bad:\", L1)\n",
    "\n",
    "    add_lists_good(L1, L2)\n",
    "    print(\"L1 after add_lists_good:\", L1)\n"
   ]
  },
  {
   "cell_type": "markdown",
   "metadata": {},
   "source": [
    "If we want the function to have an effect on the global variable, we need to modify its content, not assign something new to its alias.\n",
    "\n",
    "## += for lists\n",
    "\n",
    "Even though it seems like `L1 += L2` should be equivalent to `L1 = L1 + L2`, due to a design quirk, it is actually equivalent to `L1.extend(L2)`."
   ]
  }
 ],
 "metadata": {
  "kernelspec": {
   "display_name": "Python 3",
   "language": "python",
   "name": "python3"
  },
  "language_info": {
   "codemirror_mode": {
    "name": "ipython",
    "version": 3
   },
   "file_extension": ".py",
   "mimetype": "text/x-python",
   "name": "python",
   "nbconvert_exporter": "python",
   "pygments_lexer": "ipython3",
   "version": "3.4.3"
  }
 },
 "nbformat": 4,
 "nbformat_minor": 0
}
