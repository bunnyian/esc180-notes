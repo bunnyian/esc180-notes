{
 "cells": [
  {
   "cell_type": "markdown",
   "metadata": {},
   "source": [
    "### Nested loops and nested lists\n",
    "\n",
    "Suppose we want to represent a $3\\times 3$ square of numbers. We already saw how to do that: we can use a nested list. For example, for the square\n",
    "    2  9  4\n",
    "    1  5  6 \n",
    "    7  8  3\n",
    "\n",
    "We can use    "
   ]
  },
  {
   "cell_type": "code",
   "execution_count": 1,
   "metadata": {
    "collapsed": false
   },
   "outputs": [
    {
     "data": {
      "text/plain": [
       "[[2, 9, 4], [1, 5, 6], [7, 8, 3]]"
      ]
     },
     "execution_count": 1,
     "metadata": {},
     "output_type": "execute_result"
    }
   ],
   "source": [
    "square = [[2, 9, 4],\n",
    "          [1, 5, 6], \n",
    "          [7, 8, 3]]\n",
    "square"
   ]
  },
  {
   "cell_type": "markdown",
   "metadata": {},
   "source": [
    "Recall that in order to access the second row, we can use:"
   ]
  },
  {
   "cell_type": "code",
   "execution_count": 2,
   "metadata": {
    "collapsed": false
   },
   "outputs": [
    {
     "data": {
      "text/plain": [
       "[1, 5, 6]"
      ]
     },
     "execution_count": 2,
     "metadata": {},
     "output_type": "execute_result"
    }
   ],
   "source": [
    "square[1]"
   ]
  },
  {
   "cell_type": "markdown",
   "metadata": {},
   "source": [
    "In order to access the 6, we would access the third index in the list that represents the second row:"
   ]
  },
  {
   "cell_type": "code",
   "execution_count": 3,
   "metadata": {
    "collapsed": false
   },
   "outputs": [
    {
     "data": {
      "text/plain": [
       "6"
      ]
     },
     "execution_count": 3,
     "metadata": {},
     "output_type": "execute_result"
    }
   ],
   "source": [
    "square[1][2]"
   ]
  },
  {
   "cell_type": "markdown",
   "metadata": {},
   "source": [
    "(We write is as a square for convenience, but as far as Python is concerned, it's just a list of lists.)\n",
    "\n",
    "Suppose we want to make sure that there are no repeated numbers in that square (a requirement in the game of Sudoku, for example.) It would be convenient to have a list of all the numbers contained in that square. In other words, it would be convenient to have all data of the form `square[i][j]`, where `i = 0..2`, `j=0..2` in a list. Here is how we can do this:"
   ]
  },
  {
   "cell_type": "code",
   "execution_count": 4,
   "metadata": {
    "collapsed": false
   },
   "outputs": [
    {
     "name": "stdout",
     "output_type": "stream",
     "text": [
      "now appending number at coord. 0 0\n",
      "now appending number at coord. 0 1\n",
      "now appending number at coord. 0 2\n",
      "now appending number at coord. 1 0\n",
      "now appending number at coord. 1 1\n",
      "now appending number at coord. 1 2\n",
      "now appending number at coord. 2 0\n",
      "now appending number at coord. 2 1\n",
      "now appending number at coord. 2 2\n"
     ]
    },
    {
     "data": {
      "text/plain": [
       "[2, 9, 4, 1, 5, 6, 7, 8, 3]"
      ]
     },
     "execution_count": 4,
     "metadata": {},
     "output_type": "execute_result"
    }
   ],
   "source": [
    "L = []\n",
    "for i in range(3):\n",
    "    for j in range(3):\n",
    "        L.append(square[i][j])\n",
    "        print(\"now appending number at coord.\", i, j)\n",
    "L"
   ]
  },
  {
   "cell_type": "markdown",
   "metadata": {},
   "source": [
    "Here is how we can now find duplicates:"
   ]
  },
  {
   "cell_type": "code",
   "execution_count": 5,
   "metadata": {
    "collapsed": false
   },
   "outputs": [],
   "source": [
    "sorted_L = sorted(L)        \n",
    "for i in range(len(sorted_L)):\n",
    "    if sorted_L[i] != i+1:\n",
    "        print(\"duplicate found\")"
   ]
  }
 ],
 "metadata": {
  "kernelspec": {
   "display_name": "Python 3",
   "language": "python",
   "name": "python3"
  },
  "language_info": {
   "codemirror_mode": {
    "name": "ipython",
    "version": 3
   },
   "file_extension": ".py",
   "mimetype": "text/x-python",
   "name": "python",
   "nbconvert_exporter": "python",
   "pygments_lexer": "ipython3",
   "version": "3.4.3"
  }
 },
 "nbformat": 4,
 "nbformat_minor": 0
}
