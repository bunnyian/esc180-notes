{
 "cells": [
  {
   "cell_type": "markdown",
   "metadata": {},
   "source": [
    "### Placing objects in memory\n",
    "\n",
    "Any time we place something like `[2, 3, 4]` or `\"hello\"` or `123456123` in our program, the corresponding object is placed into memory. For example, the following:\n",
    "    a = \"hello\"\n",
    "    \n",
    "Places the string `\"hello\"` in memory, and assigned the address where `\"hello\"` was stored to `a`. We can find that address using `id(a)`.\n",
    "\n",
    "\n",
    "### Placing mutable objects in memory\n",
    "\n",
    "Consider the following:"
   ]
  },
  {
   "cell_type": "code",
   "execution_count": 1,
   "metadata": {
    "collapsed": false
   },
   "outputs": [
    {
     "name": "stdout",
     "output_type": "stream",
     "text": [
      "140121299555416\n",
      "140121299555416\n"
     ]
    }
   ],
   "source": [
    "a = \"CSC180\"\n",
    "b = \"CSC180\"\n",
    "print(id(a))\n",
    "print(id(b))"
   ]
  },
  {
   "cell_type": "markdown",
   "metadata": {},
   "source": [
    "`a` and `b` refer to the same address. That's because Python saw that they refer to the same string, and decided to save space by not placing `\"CSC180\"` in two separate memory slots.\n",
    "\n",
    "Since strings are immutable (i.e., their content cannot be changed), there is no danger here, even though `a` and `b` are aliases of each other. Since we cannot change the contents of `a` (we can, of course, make `a` refer to a new string), there is no danger that changing the contents of `a` will also change the contents of `b`.\n",
    "\n",
    "Python is not always smart enough to save memory space that way"
   ]
  },
  {
   "cell_type": "code",
   "execution_count": 2,
   "metadata": {
    "collapsed": false
   },
   "outputs": [
    {
     "name": "stdout",
     "output_type": "stream",
     "text": [
      "140121299555416\n",
      "140121299555416\n",
      "140121299557376\n"
     ]
    }
   ],
   "source": [
    "d = \"CSC\"\n",
    "e = \"180\"\n",
    "f = d + e  #f == \"CSC180\"\n",
    "print(id(a))\n",
    "print(id(b))\n",
    "print(id(f))"
   ]
  },
  {
   "cell_type": "markdown",
   "metadata": {},
   "source": [
    "Even though the we could theoretically figure out that `f` can have the same `id` as `a` and `b`, this was not done, and there are now two copies of the string `\"CSC180\"` in memory.\n",
    "\n",
    "What about integers? Python (or rather CPython, the version of Python we are using) always knows to find integers between -5 and 256, but may place larger (and smaller) integers in many places in memory.\n",
    "\n",
    "Here is a fun thing to do: let's display the `id`'s of integers between -10 and 299:"
   ]
  },
  {
   "cell_type": "code",
   "execution_count": 3,
   "metadata": {
    "collapsed": false
   },
   "outputs": [
    {
     "name": "stdout",
     "output_type": "stream",
     "text": [
      "-10 140121329127088 -29615328\n",
      "-9 140121299510256 1440\n",
      "-8 140121299510416 1344\n",
      "-7 140121299510384 1312\n",
      "-6 140121299510064 -140121289514768\n",
      "-5 9995296 32\n",
      "-4 9995328 32\n",
      "-3 9995360 32\n",
      "-2 9995392 32\n",
      "-1 9995424 32\n",
      "0 9995456 32\n",
      "1 9995488 32\n",
      "2 9995520 32\n",
      "3 9995552 32\n",
      "4 9995584 32\n",
      "5 9995616 32\n",
      "6 9995648 32\n",
      "7 9995680 32\n",
      "8 9995712 32\n",
      "9 9995744 32\n",
      "10 9995776 32\n",
      "11 9995808 32\n",
      "12 9995840 32\n",
      "13 9995872 32\n",
      "14 9995904 32\n",
      "15 9995936 32\n",
      "16 9995968 32\n",
      "17 9996000 32\n",
      "18 9996032 32\n",
      "19 9996064 32\n",
      "20 9996096 32\n",
      "21 9996128 32\n",
      "22 9996160 32\n",
      "23 9996192 32\n",
      "24 9996224 32\n",
      "25 9996256 32\n",
      "26 9996288 32\n",
      "27 9996320 32\n",
      "28 9996352 32\n",
      "29 9996384 32\n",
      "30 9996416 32\n",
      "31 9996448 32\n",
      "32 9996480 32\n",
      "33 9996512 32\n",
      "34 9996544 32\n",
      "35 9996576 32\n",
      "36 9996608 32\n",
      "37 9996640 32\n",
      "38 9996672 32\n",
      "39 9996704 32\n",
      "40 9996736 32\n",
      "41 9996768 32\n",
      "42 9996800 32\n",
      "43 9996832 32\n",
      "44 9996864 32\n",
      "45 9996896 32\n",
      "46 9996928 32\n",
      "47 9996960 32\n",
      "48 9996992 32\n",
      "49 9997024 32\n",
      "50 9997056 32\n",
      "51 9997088 32\n",
      "52 9997120 32\n",
      "53 9997152 32\n",
      "54 9997184 32\n",
      "55 9997216 32\n",
      "56 9997248 32\n",
      "57 9997280 32\n",
      "58 9997312 32\n",
      "59 9997344 32\n",
      "60 9997376 32\n",
      "61 9997408 32\n",
      "62 9997440 32\n",
      "63 9997472 32\n",
      "64 9997504 32\n",
      "65 9997536 32\n",
      "66 9997568 32\n",
      "67 9997600 32\n",
      "68 9997632 32\n",
      "69 9997664 32\n",
      "70 9997696 32\n",
      "71 9997728 32\n",
      "72 9997760 32\n",
      "73 9997792 32\n",
      "74 9997824 32\n",
      "75 9997856 32\n",
      "76 9997888 32\n",
      "77 9997920 32\n",
      "78 9997952 32\n",
      "79 9997984 32\n",
      "80 9998016 32\n",
      "81 9998048 32\n",
      "82 9998080 32\n",
      "83 9998112 32\n",
      "84 9998144 32\n",
      "85 9998176 32\n",
      "86 9998208 32\n",
      "87 9998240 32\n",
      "88 9998272 32\n",
      "89 9998304 32\n",
      "90 9998336 32\n",
      "91 9998368 32\n",
      "92 9998400 32\n",
      "93 9998432 32\n",
      "94 9998464 32\n",
      "95 9998496 32\n",
      "96 9998528 32\n",
      "97 9998560 32\n",
      "98 9998592 32\n",
      "99 9998624 32\n",
      "100 9998656 32\n",
      "101 9998688 32\n",
      "102 9998720 32\n",
      "103 9998752 32\n",
      "104 9998784 32\n",
      "105 9998816 32\n",
      "106 9998848 32\n",
      "107 9998880 32\n",
      "108 9998912 32\n",
      "109 9998944 32\n",
      "110 9998976 32\n",
      "111 9999008 32\n",
      "112 9999040 32\n",
      "113 9999072 32\n",
      "114 9999104 32\n",
      "115 9999136 32\n",
      "116 9999168 32\n",
      "117 9999200 32\n",
      "118 9999232 32\n",
      "119 9999264 32\n",
      "120 9999296 32\n",
      "121 9999328 32\n",
      "122 9999360 32\n",
      "123 9999392 32\n",
      "124 9999424 32\n",
      "125 9999456 32\n",
      "126 9999488 32\n",
      "127 9999520 32\n",
      "128 9999552 32\n",
      "129 9999584 32\n",
      "130 9999616 32\n",
      "131 9999648 32\n",
      "132 9999680 32\n",
      "133 9999712 32\n",
      "134 9999744 32\n",
      "135 9999776 32\n",
      "136 9999808 32\n",
      "137 9999840 32\n",
      "138 9999872 32\n",
      "139 9999904 32\n",
      "140 9999936 32\n",
      "141 9999968 32\n",
      "142 10000000 32\n",
      "143 10000032 32\n",
      "144 10000064 32\n",
      "145 10000096 32\n",
      "146 10000128 32\n",
      "147 10000160 32\n",
      "148 10000192 32\n",
      "149 10000224 32\n",
      "150 10000256 32\n",
      "151 10000288 32\n",
      "152 10000320 32\n",
      "153 10000352 32\n",
      "154 10000384 32\n",
      "155 10000416 32\n",
      "156 10000448 32\n",
      "157 10000480 32\n",
      "158 10000512 32\n",
      "159 10000544 32\n",
      "160 10000576 32\n",
      "161 10000608 32\n",
      "162 10000640 32\n",
      "163 10000672 32\n",
      "164 10000704 32\n",
      "165 10000736 32\n",
      "166 10000768 32\n",
      "167 10000800 32\n",
      "168 10000832 32\n",
      "169 10000864 32\n",
      "170 10000896 32\n",
      "171 10000928 32\n",
      "172 10000960 32\n",
      "173 10000992 32\n",
      "174 10001024 32\n",
      "175 10001056 32\n",
      "176 10001088 32\n",
      "177 10001120 32\n",
      "178 10001152 32\n",
      "179 10001184 32\n",
      "180 10001216 32\n",
      "181 10001248 32\n",
      "182 10001280 32\n",
      "183 10001312 32\n",
      "184 10001344 32\n",
      "185 10001376 32\n",
      "186 10001408 32\n",
      "187 10001440 32\n",
      "188 10001472 32\n",
      "189 10001504 32\n",
      "190 10001536 32\n",
      "191 10001568 32\n",
      "192 10001600 32\n",
      "193 10001632 32\n",
      "194 10001664 32\n",
      "195 10001696 32\n",
      "196 10001728 32\n",
      "197 10001760 32\n",
      "198 10001792 32\n",
      "199 10001824 32\n",
      "200 10001856 32\n",
      "201 10001888 32\n",
      "202 10001920 32\n",
      "203 10001952 32\n",
      "204 10001984 32\n",
      "205 10002016 32\n",
      "206 10002048 32\n",
      "207 10002080 32\n",
      "208 10002112 32\n",
      "209 10002144 32\n",
      "210 10002176 32\n",
      "211 10002208 32\n",
      "212 10002240 32\n",
      "213 10002272 32\n",
      "214 10002304 32\n",
      "215 10002336 32\n",
      "216 10002368 32\n",
      "217 10002400 32\n",
      "218 10002432 32\n",
      "219 10002464 32\n",
      "220 10002496 32\n",
      "221 10002528 32\n",
      "222 10002560 32\n",
      "223 10002592 32\n",
      "224 10002624 32\n",
      "225 10002656 32\n",
      "226 10002688 32\n",
      "227 10002720 32\n",
      "228 10002752 32\n",
      "229 10002784 32\n",
      "230 10002816 32\n",
      "231 10002848 32\n",
      "232 10002880 32\n",
      "233 10002912 32\n",
      "234 10002944 32\n",
      "235 10002976 32\n",
      "236 10003008 32\n",
      "237 10003040 32\n",
      "238 10003072 32\n",
      "239 10003104 32\n",
      "240 10003136 32\n",
      "241 10003168 32\n",
      "242 10003200 32\n",
      "243 10003232 32\n",
      "244 10003264 32\n",
      "245 10003296 32\n",
      "246 10003328 32\n",
      "247 10003360 32\n",
      "248 10003392 32\n",
      "249 10003424 32\n",
      "250 10003456 32\n",
      "251 10003488 32\n",
      "252 10003520 32\n",
      "253 10003552 32\n",
      "254 10003584 32\n",
      "255 10003616 32\n",
      "256 10003648 140121289508048\n",
      "257 140121299510096 1632\n",
      "258 140121299509872 1824\n",
      "259 140121299510320 1408\n",
      "260 140121299510224 1472\n",
      "261 140121299509744 1984\n",
      "262 140121299510448 1248\n",
      "263 140121299510480 1248\n",
      "264 140121299510512 1184\n",
      "265 140121299510544 1184\n",
      "266 140121299510576 1120\n",
      "267 140121299510608 1120\n",
      "268 140121299510640 1056\n",
      "269 140121299510672 1056\n",
      "270 140121299510704 992\n",
      "271 140121299510736 992\n",
      "272 140121299510768 928\n",
      "273 140121299510800 928\n",
      "274 140121299510832 864\n",
      "275 140121299510864 864\n",
      "276 140121299510896 800\n",
      "277 140121299510928 800\n",
      "278 140121299510960 736\n",
      "279 140121299510992 736\n",
      "280 140121299511024 672\n",
      "281 140121299511056 672\n",
      "282 140121299511088 608\n",
      "283 140121299511120 608\n",
      "284 140121299511152 544\n",
      "285 140121299511184 544\n",
      "286 140121299511216 480\n",
      "287 140121299511248 480\n",
      "288 140121299511280 416\n",
      "289 140121299511312 416\n",
      "290 140121299511344 352\n",
      "291 140121299511376 352\n",
      "292 140121299511408 288\n",
      "293 140121299511440 288\n",
      "294 140121299511472 224\n",
      "295 140121299511504 224\n",
      "296 140121299511536 160\n",
      "297 140121299511568 160\n",
      "298 140121299511600 96\n",
      "299 140121299511632 96\n"
     ]
    }
   ],
   "source": [
    "#Cannot do this with for i in range(-10, 300) directly because\n",
    "#python keeps recreating the integers and putting them in \n",
    "#different memory locations\n",
    "nums = list(range(-10, 300))\n",
    "for i in nums:\n",
    "    print(i,  id(i), id(i+1)-id(i))"
   ]
  },
  {
   "cell_type": "markdown",
   "metadata": {},
   "source": [
    "As you can see, -5..255 are placed in sequence in memory (with addresses differing by 32 from each other.) This is done when Python starts. Other integers are placed as they are needed in free spaces."
   ]
  },
  {
   "cell_type": "markdown",
   "metadata": {},
   "source": [
    "### Placing mutable objects in memory\n",
    "\n",
    "Unlike strings and integers, lists *are* mutable -- their contents can be changed. Consider:"
   ]
  },
  {
   "cell_type": "code",
   "execution_count": 4,
   "metadata": {
    "collapsed": true
   },
   "outputs": [],
   "source": [
    "L1 = [1, 2, 3]\n",
    "L2 = [1, 2, 3]"
   ]
  },
  {
   "cell_type": "markdown",
   "metadata": {},
   "source": [
    "We cannot have both `L1` and `L2` stored in the same address, because that would mean that modifying the contents of `L1` (e.g. using `L1[0] = 5`, but *not* using `L1 = [5, 2, 3]`, which is different) would also modify the contents of `L2`. \n",
    "\n",
    "Indeed, we see"
   ]
  },
  {
   "cell_type": "code",
   "execution_count": 5,
   "metadata": {
    "collapsed": false
   },
   "outputs": [
    {
     "name": "stdout",
     "output_type": "stream",
     "text": [
      "140121328452552\n",
      "140121328584008\n"
     ]
    }
   ],
   "source": [
    "print(id(L1))\n",
    "print(id(L2))"
   ]
  },
  {
   "cell_type": "markdown",
   "metadata": {},
   "source": [
    "To remind you, here is what would happen if the addresses of `L1` and `L2` had been the same:"
   ]
  },
  {
   "cell_type": "code",
   "execution_count": 6,
   "metadata": {
    "collapsed": false
   },
   "outputs": [
    {
     "name": "stdout",
     "output_type": "stream",
     "text": [
      "[5, 2, 3]\n",
      "[5, 2, 3]\n"
     ]
    }
   ],
   "source": [
    "L1 = [1, 2, 3]\n",
    "L2 = L1 #id(L1)==id(L2) now, since L1 and L2 are aliases\n",
    "L2[0] = 5\n",
    "print(L1)\n",
    "print(L2)"
   ]
  },
  {
   "cell_type": "markdown",
   "metadata": {},
   "source": [
    "Both `L1` and `L2` were changed when we went `L2[0] = 5`!"
   ]
  }
 ],
 "metadata": {
  "kernelspec": {
   "display_name": "Python 3",
   "language": "python",
   "name": "python3"
  },
  "language_info": {
   "codemirror_mode": {
    "name": "ipython",
    "version": 3
   },
   "file_extension": ".py",
   "mimetype": "text/x-python",
   "name": "python",
   "nbconvert_exporter": "python",
   "pygments_lexer": "ipython3",
   "version": "3.4.3"
  }
 },
 "nbformat": 4,
 "nbformat_minor": 0
}
