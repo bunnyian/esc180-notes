{
 "cells": [
  {
   "cell_type": "markdown",
   "metadata": {},
   "source": [
    "# First Deep Copy\n",
    "## Aliasing\n",
    "\n",
    "Here is the classical case of aliasing:"
   ]
  },
  {
   "cell_type": "code",
   "execution_count": 1,
   "metadata": {
    "tags": [
     "remove-input"
    ]
   },
   "outputs": [
    {
     "data": {
      "text/html": [
       "<button><a href=\"https://pythontutor.com/render.html#code=%0AL1+%3D+%5B1%2C+2%2C+3%5D%0AL2+%3D+L1%0AL2%5B0%5D+%3D+5%0Aprint%28L1%29%0Aprint%28L2%29%0A&cumulative=false&heapPrimitives=nevernest&mode=edit&origin=opt-frontend.js&py=3&rawInputLstJSON=%5B%5D&textReferences=false\" target=\"_blank\">Run in Python Tutor</a></button>"
      ],
      "text/plain": [
       "<IPython.core.display.HTML object>"
      ]
     },
     "metadata": {},
     "output_type": "display_data"
    }
   ],
   "source": [
    "from IPython.display import display, HTML\n",
    "import urllib.parse\n",
    "\n",
    "def generate_python_tutor_button(code):\n",
    "    # Encode the code as a URL-safe string\n",
    "    encoded_code = urllib.parse.quote_plus(code)\n",
    "    \n",
    "    # Create the Python Tutor URL\n",
    "    python_tutor_url = f\"https://pythontutor.com/render.html#code={encoded_code}&cumulative=false&heapPrimitives=nevernest&mode=edit&origin=opt-frontend.js&py=3&rawInputLstJSON=%5B%5D&textReferences=false\"\n",
    "    \n",
    "    # Create the HTML button\n",
    "    button_html = f'<button><a href=\"{python_tutor_url}\" target=\"_blank\">Run in Python Tutor</a></button>'\n",
    "    \n",
    "    # Display the button\n",
    "    display(HTML(button_html))\n",
    "\n",
    "# Example usage:\n",
    "code_to_run = \"\"\"\n",
    "L1 = [1, 2, 3]\n",
    "L2 = L1\n",
    "L2[0] = 5\n",
    "print(L1)\n",
    "print(L2)\n",
    "\"\"\"\n",
    "\n",
    "generate_python_tutor_button(code_to_run)\n"
   ]
  },
  {
   "cell_type": "code",
   "execution_count": 1,
   "metadata": {
    "collapsed": false
   },
   "outputs": [
    {
     "name": "stdout",
     "output_type": "stream",
     "text": [
      "[5, 2, 3]\n",
      "[5, 2, 3]\n"
     ]
    }
   ],
   "source": [
    "L1 = [1, 2, 3]\n",
    "L2 = L1\n",
    "L2[0] = 5\n",
    "print(L1)\n",
    "print(L2)"
   ]
  },
  {
   "cell_type": "markdown",
   "metadata": {},
   "source": [
    "Like we saw before `L1` and `L2` refer to the same list in memory, so modifying thecontents of one means modifying the contents of the other.\n",
    "\n",
    "Suppose we want to avoid that. In order to do that, we'd like to create a *copy* of L1: alist stored at a different location in memory that has the same contents.\n",
    "\n",
    "Here is the simplest way to achieve this:"
   ]
  },
  {
   "cell_type": "code",
   "execution_count": null,
   "metadata": {
    "tags": [
     "remove-input"
    ]
   },
   "outputs": [],
   "source": [
    "from IPython.display import display, HTML\n",
    "import urllib.parse\n",
    "\n",
    "def generate_python_tutor_button(code):\n",
    "    # Encode the code as a URL-safe string\n",
    "    encoded_code = urllib.parse.quote_plus(code)\n",
    "    \n",
    "    # Create the Python Tutor URL\n",
    "    python_tutor_url = f\"https://pythontutor.com/render.html#code={encoded_code}&cumulative=false&heapPrimitives=nevernest&mode=edit&origin=opt-frontend.js&py=3&rawInputLstJSON=%5B%5D&textReferences=false\"\n",
    "    \n",
    "    # Create the HTML button\n",
    "    button_html = f'<button><a href=\"{python_tutor_url}\" target=\"_blank\">Run in Python Tutor</a></button>'\n",
    "    \n",
    "    # Display the button\n",
    "    display(HTML(button_html))\n",
    "\n",
    "# Example usage:\n",
    "code_to_run = \"\"\"\n",
    "L1 = [1, 2, 3]\n",
    "L2 = [L1[0], L1[1], L1[2]]\n",
    "\"\"\"\n",
    "\n",
    "generate_python_tutor_button(code_to_run)\n"
   ]
  },
  {
   "cell_type": "code",
   "execution_count": 2,
   "metadata": {
    "collapsed": true
   },
   "outputs": [],
   "source": [
    "L1 = [1, 2, 3]\n",
    "L2 = [L1[0], L1[1], L1[2]]"
   ]
  },
  {
   "cell_type": "markdown",
   "metadata": {},
   "source": [
    "This creates a new list whose contents are `L1[0], L1[1], L1[2]`. Modifying `L1` will now not affect `L2`.\n",
    "\n",
    "Here is another way to do this:"
   ]
  },
  {
   "cell_type": "code",
   "execution_count": null,
   "metadata": {
    "tags": [
     "remove-input"
    ]
   },
   "outputs": [],
   "source": [
    "from IPython.display import display, HTML\n",
    "import urllib.parse\n",
    "\n",
    "def generate_python_tutor_button(code):\n",
    "    # Encode the code as a URL-safe string\n",
    "    encoded_code = urllib.parse.quote_plus(code)\n",
    "    \n",
    "    # Create the Python Tutor URL\n",
    "    python_tutor_url = f\"https://pythontutor.com/render.html#code={encoded_code}&cumulative=false&heapPrimitives=nevernest&mode=edit&origin=opt-frontend.js&py=3&rawInputLstJSON=%5B%5D&textReferences=false\"\n",
    "    \n",
    "    # Create the HTML button\n",
    "    button_html = f'<button><a href=\"{python_tutor_url}\" target=\"_blank\">Run in Python Tutor</a></button>'\n",
    "    \n",
    "    # Display the button\n",
    "    display(HTML(button_html))\n",
    "\n",
    "# Example usage:\n",
    "code_to_run = \"\"\"\n",
    "L1 = [1, 2, 3]\n",
    "L2 = L1[:]\n",
    "\"\"\"\n",
    "\n",
    "generate_python_tutor_button(code_to_run)\n"
   ]
  },
  {
   "cell_type": "code",
   "execution_count": 3,
   "metadata": {
    "collapsed": true
   },
   "outputs": [],
   "source": [
    "L1 = [1, 2, 3]\n",
    "L2 = L1[:]"
   ]
  },
  {
   "cell_type": "markdown",
   "metadata": {},
   "source": [
    "`L1[:]` creates a new list whose contents are `L1[0], L1[1], ..., L[len(L)-1]`, and places it in memory. We then assign the address of the new list to `L2`. (Review slicing notation to understand `L[:]`; slicing always creates a new list.)\n",
    "\n",
    "Finally, we could accomplish the same thing using a loop."
   ]
  },
  {
   "cell_type": "code",
   "execution_count": null,
   "metadata": {
    "tags": [
     "remove-input"
    ]
   },
   "outputs": [],
   "source": [
    "from IPython.display import display, HTML\n",
    "import urllib.parse\n",
    "\n",
    "def generate_python_tutor_button(code):\n",
    "    # Encode the code as a URL-safe string\n",
    "    encoded_code = urllib.parse.quote_plus(code)\n",
    "    \n",
    "    # Create the Python Tutor URL\n",
    "    python_tutor_url = f\"https://pythontutor.com/render.html#code={encoded_code}&cumulative=false&heapPrimitives=nevernest&mode=edit&origin=opt-frontend.js&py=3&rawInputLstJSON=%5B%5D&textReferences=false\"\n",
    "    \n",
    "    # Create the HTML button\n",
    "    button_html = f'<button><a href=\"{python_tutor_url}\" target=\"_blank\">Run in Python Tutor</a></button>'\n",
    "    \n",
    "    # Display the button\n",
    "    display(HTML(button_html))\n",
    "\n",
    "# Example usage:\n",
    "code_to_run = \"\"\"\n",
    "L1 = [1, 2, 3]\n",
    "L2 = []\n",
    "for e in L1:\n",
    "    L2.append(e)\n",
    "\"\"\"\n",
    "\n",
    "generate_python_tutor_button(code_to_run)\n"
   ]
  },
  {
   "cell_type": "code",
   "execution_count": 4,
   "metadata": {
    "collapsed": true
   },
   "outputs": [],
   "source": [
    "L1 = [1, 2, 3]\n",
    "L2 = []\n",
    "for e in L1:\n",
    "    L2.append(e)"
   ]
  },
  {
   "cell_type": "markdown",
   "metadata": {},
   "source": [
    "Here, we repeatedly appended elements of `L1` to the newly-created list `L2`, which is initially just empty."
   ]
  },
  {
   "cell_type": "markdown",
   "metadata": {},
   "source": [
    "### The problem with shallow copy\n",
    "\n",
    "What we did above is called making a *shallow copy*. Here is why. Suppose we have a nested list, and try to make a copy of it."
   ]
  },
  {
   "cell_type": "code",
   "execution_count": 5,
   "metadata": {
    "collapsed": true
   },
   "outputs": [],
   "source": [
    "L1 = [[1, 2], [3, 4]]\n",
    "L2 = L1[:] #the same as L2 = [L1[0], L1[1]]"
   ]
  },
  {
   "cell_type": "markdown",
   "metadata": {},
   "source": [
    "The problem is that we only have one of the list `[1, 2]`, and one of the list `[3, 4]` placed in memory. When we create `L2`, it's separate from `L1`, but `L1[0]` and `L2[0]` are aliases (and also `L1[1]` and `L2[1]` are aliases) -- we never created copies of `L1[0]` and `L1[1]`.\n",
    "\n",
    "That means that modifying the contents of the inner lists of `L1` will have an effect on the inner lists of `L2` -- since they are aliases of each other!"
   ]
  },
  {
   "cell_type": "code",
   "execution_count": 2,
   "metadata": {
    "tags": [
     "remove-input"
    ]
   },
   "outputs": [
    {
     "data": {
      "text/html": [
       "<button><a href=\"https://pythontutor.com/render.html#code=%0AL1+%3D+%5B%5B1%2C+2%5D%2C+%5B3%2C+4%5D%5D%0AL2+%3D+L1%5B%3A%5D+%23the+same+as+L2+%3D+%5BL1%5B0%5D%2C+L1%5B1%5D%5D%0AL1%5B1%5D%5B0%5D+%3D+7%0Aprint%28%22L1+%3D+%22%2C+L1%29%0Aprint%28%22L2+%3D+%22%2C+L2%29%0A&cumulative=false&heapPrimitives=nevernest&mode=edit&origin=opt-frontend.js&py=3&rawInputLstJSON=%5B%5D&textReferences=false\" target=\"_blank\">Run in Python Tutor</a></button>"
      ],
      "text/plain": [
       "<IPython.core.display.HTML object>"
      ]
     },
     "metadata": {},
     "output_type": "display_data"
    }
   ],
   "source": [
    "from IPython.display import display, HTML\n",
    "import urllib.parse\n",
    "\n",
    "def generate_python_tutor_button(code):\n",
    "    # Encode the code as a URL-safe string\n",
    "    encoded_code = urllib.parse.quote_plus(code)\n",
    "    \n",
    "    # Create the Python Tutor URL\n",
    "    python_tutor_url = f\"https://pythontutor.com/render.html#code={encoded_code}&cumulative=false&heapPrimitives=nevernest&mode=edit&origin=opt-frontend.js&py=3&rawInputLstJSON=%5B%5D&textReferences=false\"\n",
    "    \n",
    "    # Create the HTML button\n",
    "    button_html = f'<button><a href=\"{python_tutor_url}\" target=\"_blank\">Run in Python Tutor</a></button>'\n",
    "    \n",
    "    # Display the button\n",
    "    display(HTML(button_html))\n",
    "\n",
    "# Example usage:\n",
    "code_to_run = \"\"\"\n",
    "L1 = [[1, 2], [3, 4]]\n",
    "L2 = L1[:] #the same as L2 = [L1[0], L1[1]]\n",
    "L1[1][0] = 7\n",
    "print(\"L1 = \", L1)\n",
    "print(\"L2 = \", L2)\n",
    "\"\"\"\n",
    "\n",
    "generate_python_tutor_button(code_to_run)"
   ]
  },
  {
   "cell_type": "code",
   "execution_count": 6,
   "metadata": {
    "collapsed": false
   },
   "outputs": [
    {
     "name": "stdout",
     "output_type": "stream",
     "text": [
      "L1 =  [[1, 2], [7, 4]]\n",
      "L2 =  [[1, 2], [7, 4]]\n"
     ]
    }
   ],
   "source": [
    "L1 = [[1, 2], [3, 4]]\n",
    "L2 = L1[:] #the same as L2 = [L1[0], L1[1]]\n",
    "L1[1][0] = 7\n",
    "print(\"L1 = \", L1)\n",
    "print(\"L2 = \", L2)"
   ]
  },
  {
   "cell_type": "markdown",
   "metadata": {},
   "source": [
    "On the other hand, since `L1` and `L2` are *not* aliases of each other, modifying `L1[0]` won't effect `L2[0]`:"
   ]
  },
  {
   "cell_type": "code",
   "execution_count": null,
   "metadata": {
    "tags": [
     "remove-input"
    ]
   },
   "outputs": [],
   "source": [
    "from IPython.display import display, HTML\n",
    "import urllib.parse\n",
    "\n",
    "def generate_python_tutor_button(code):\n",
    "    # Encode the code as a URL-safe string\n",
    "    encoded_code = urllib.parse.quote_plus(code)\n",
    "    \n",
    "    # Create the Python Tutor URL\n",
    "    python_tutor_url = f\"https://pythontutor.com/render.html#code={encoded_code}&cumulative=false&heapPrimitives=nevernest&mode=edit&origin=opt-frontend.js&py=3&rawInputLstJSON=%5B%5D&textReferences=false\"\n",
    "    \n",
    "    # Create the HTML button\n",
    "    button_html = f'<button><a href=\"{python_tutor_url}\" target=\"_blank\">Run in Python Tutor</a></button>'\n",
    "    \n",
    "    # Display the button\n",
    "    display(HTML(button_html))\n",
    "\n",
    "# Example usage:\n",
    "code_to_run = \"\"\"\n",
    "L1 = [[1, 2], [3, 4]]\n",
    "L2 = L1[:] #the same as L2 = [L1[0], L1[1]]\n",
    "L1[0] = [5, 6]\n",
    "print(\"L1 = \", L1)\n",
    "print(\"L2 = \", L2)\n",
    "\"\"\"\n",
    "\n",
    "generate_python_tutor_button(code_to_run)"
   ]
  },
  {
   "cell_type": "code",
   "execution_count": 7,
   "metadata": {
    "collapsed": false
   },
   "outputs": [
    {
     "name": "stdout",
     "output_type": "stream",
     "text": [
      "L1 =  [[5, 6], [3, 4]]\n",
      "L2 =  [[1, 2], [3, 4]]\n"
     ]
    }
   ],
   "source": [
    "L1 = [[1, 2], [3, 4]]\n",
    "L2 = L1[:] #the same as L2 = [L1[0], L1[1]]\n",
    "L1[0] = [5, 6]\n",
    "print(\"L1 = \", L1)\n",
    "print(\"L2 = \", L2)"
   ]
  },
  {
   "cell_type": "markdown",
   "metadata": {},
   "source": [
    "We say the copy is *shallow* because the inner nested lists are still aliases of each other.\n",
    "\n",
    "### A first attempt at a deep copy\n",
    "\n",
    "Here is the least flexible way to make a deep copy:"
   ]
  },
  {
   "cell_type": "code",
   "execution_count": null,
   "metadata": {
    "tags": [
     "remove-input"
    ]
   },
   "outputs": [],
   "source": [
    "from IPython.display import display, HTML\n",
    "import urllib.parse\n",
    "\n",
    "def generate_python_tutor_button(code):\n",
    "    # Encode the code as a URL-safe string\n",
    "    encoded_code = urllib.parse.quote_plus(code)\n",
    "    \n",
    "    # Create the Python Tutor URL\n",
    "    python_tutor_url = f\"https://pythontutor.com/render.html#code={encoded_code}&cumulative=false&heapPrimitives=nevernest&mode=edit&origin=opt-frontend.js&py=3&rawInputLstJSON=%5B%5D&textReferences=false\"\n",
    "    \n",
    "    # Create the HTML button\n",
    "    button_html = f'<button><a href=\"{python_tutor_url}\" target=\"_blank\">Run in Python Tutor</a></button>'\n",
    "    \n",
    "    # Display the button\n",
    "    display(HTML(button_html))\n",
    "\n",
    "# Example usage:\n",
    "code_to_run = \"\"\"\n",
    "L1 = [[1, 2], [3, 4]]\n",
    "L2 = [[L1[0][0], L1[0][1]], [L1[1][0], L1[1][1]]]\n",
    "L1[1][0] = 7\n",
    "print(\"L1 = \", L1)\n",
    "print(\"L2 = \", L2)\n",
    "\"\"\"\n",
    "\n",
    "generate_python_tutor_button(code_to_run)"
   ]
  },
  {
   "cell_type": "code",
   "execution_count": 8,
   "metadata": {
    "collapsed": false
   },
   "outputs": [
    {
     "name": "stdout",
     "output_type": "stream",
     "text": [
      "L1 =  [[1, 2], [7, 4]]\n",
      "L2 =  [[1, 2], [3, 4]]\n"
     ]
    }
   ],
   "source": [
    "L1 = [[1, 2], [3, 4]]\n",
    "L2 = [[L1[0][0], L1[0][1]], [L1[1][0], L1[1][1]]]\n",
    "L1[1][0] = 7\n",
    "print(\"L1 = \", L1)\n",
    "print(\"L2 = \", L2)"
   ]
  },
  {
   "cell_type": "markdown",
   "metadata": {},
   "source": [
    "The lists are completely disentagled (of course, the `id`'s of equal integers are equal, but the contents of integers cannot be changed, so that's not a problem.)"
   ]
  }
 ],
 "metadata": {
  "kernelspec": {
   "display_name": "Python 3",
   "language": "python",
   "name": "python3"
  },
  "language_info": {
   "codemirror_mode": {
    "name": "ipython",
    "version": 3
   },
   "file_extension": ".py",
   "mimetype": "text/x-python",
   "name": "python",
   "nbconvert_exporter": "python",
   "pygments_lexer": "ipython3",
   "version": "3.9.12"
  }
 },
 "nbformat": 4,
 "nbformat_minor": 0
}
