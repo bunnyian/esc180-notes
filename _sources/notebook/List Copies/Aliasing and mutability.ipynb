{
 "cells": [
  {
   "cell_type": "markdown",
   "metadata": {
    "collapsed": true
   },
   "source": [
    "# Aliasing and Mutability\n",
    "## Variables refer to addresses\n",
    "\n",
    "Here is (almost) the real story of how data is handled in Python. Variables refer to addresses (cells) in memory, where the actual data is stored. For example, let's definte the variable `n` and initialize it to `42`:"
   ]
  },
  {
   "cell_type": "code",
   "execution_count": 1,
   "metadata": {
    "collapsed": true
   },
   "outputs": [],
   "source": [
    "n = 42"
   ]
  },
  {
   "cell_type": "markdown",
   "metadata": {},
   "source": [
    "We can get the address (memory cell) to which `n` refers using "
   ]
  },
  {
   "cell_type": "code",
   "execution_count": 2,
   "metadata": {
    "collapsed": false
   },
   "outputs": [
    {
     "data": {
      "text/plain": [
       "9996800"
      ]
     },
     "execution_count": 2,
     "metadata": {},
     "output_type": "execute_result"
    }
   ],
   "source": [
    "id(n)"
   ]
  },
  {
   "cell_type": "markdown",
   "metadata": {},
   "source": [
    "This means the integer `42` is stored at address `9996800`. When we go `print(n)`, what we do is look up variable `n`, see that it refers to address `id(n)`, and print whatever is found at address `id(n)`.\n",
    "\n",
    "Let's now assign `n` to another variable, and see what address that variable refers to."
   ]
  },
  {
   "cell_type": "code",
   "execution_count": 3,
   "metadata": {
    "collapsed": false
   },
   "outputs": [
    {
     "data": {
      "text/plain": [
       "9996800"
      ]
     },
     "execution_count": 3,
     "metadata": {},
     "output_type": "execute_result"
    }
   ],
   "source": [
    "m = n\n",
    "id(m)"
   ]
  },
  {
   "cell_type": "markdown",
   "metadata": {},
   "source": [
    "This makes sense -- `m` and `n` both should evaluate to `42`, so there refer to the same address, which contains `42`.\n",
    "\n",
    "So far, so boring -- we just introduced one more level of indirection. Here is where things become interesting. Let's define a list."
   ]
  },
  {
   "cell_type": "code",
   "execution_count": 1,
   "metadata": {
    "tags": [
     "remove-input"
    ]
   },
   "outputs": [
    {
     "data": {
      "text/html": [
       "<button><a href=\"https://pythontutor.com/render.html#code=%23%20block%201%0AL%20%3D%20%5B1,%202,%203%5D%0Aid%28L%29%0A%0A%23%20block%202%0AL1%20%3D%20L%0Aid%28L1%29%0A%0A%23%20block%203%0AL%5B0%5D%20%3D%204%0Aprint%28L,%20L1%29&cumulative=false&heapPrimitives=nevernest&mode=edit&origin=opt-frontend.js&py=3&rawInputLstJSON=%5B%5D&textReferences=false\" target=\"_blank\">Run in Python Tutor</a></button>"
      ],
      "text/plain": [
       "<IPython.core.display.HTML object>"
      ]
     },
     "metadata": {},
     "output_type": "display_data"
    }
   ],
   "source": [
    "from IPython.display import display, HTML\n",
    "\n",
    "python_tutor_url = (\n",
    "    \"https://pythontutor.com/render.html#code=%23%20block%201%0AL%20%3D%20%5B1,%202,%203%5D%0Aid%28L%29%0A%0A%23%20block%202%0AL1%20%3D%20L%0Aid%28L1%29%0A%0A%23%20block%203%0AL%5B0%5D%20%3D%204%0Aprint%28L,%20L1%29&cumulative=false&heapPrimitives=nevernest&mode=edit&origin=opt-frontend.js&py=3&rawInputLstJSON=%5B%5D&textReferences=false\"\n",
    ")\n",
    "button_html = f'<button><a href=\"{python_tutor_url}\" target=\"_blank\">Run in Python Tutor</a></button>'\n",
    "display(HTML(button_html))\n"
   ]
  },
  {
   "cell_type": "code",
   "execution_count": 4,
   "metadata": {
    "collapsed": false
   },
   "outputs": [
    {
     "data": {
      "text/plain": [
       "139922587453128"
      ]
     },
     "execution_count": 4,
     "metadata": {},
     "output_type": "execute_result"
    }
   ],
   "source": [
    "L = [1, 2, 3]\n",
    "id(L)"
   ]
  },
  {
   "cell_type": "markdown",
   "metadata": {},
   "source": [
    "Let's now assign `L` to another variable:"
   ]
  },
  {
   "cell_type": "code",
   "execution_count": 5,
   "metadata": {
    "collapsed": false
   },
   "outputs": [
    {
     "data": {
      "text/plain": [
       "139922587453128"
      ]
     },
     "execution_count": 5,
     "metadata": {},
     "output_type": "execute_result"
    }
   ],
   "source": [
    "L1 = L\n",
    "id(L1)"
   ]
  },
  {
   "cell_type": "markdown",
   "metadata": {},
   "source": [
    "What's important to see here is that `L` and `L1` refer to the same address. In other words, there is just one list, and both `L` and `L1` refer to it. That means that if we modify the contents of the list (e.g., by changing the first element), both `L` and `L1` will be affected (since they are the same list!)"
   ]
  },
  {
   "cell_type": "code",
   "execution_count": 6,
   "metadata": {
    "collapsed": false
   },
   "outputs": [
    {
     "name": "stdout",
     "output_type": "stream",
     "text": [
      "[4, 2, 3] [4, 2, 3]\n"
     ]
    }
   ],
   "source": [
    "L[0] = 4\n",
    "print(L, L1)"
   ]
  },
  {
   "cell_type": "markdown",
   "metadata": {},
   "source": [
    "Both `L` and `L1` *were* affected by `L[0] = 4`!\n",
    "\n",
    "When two variables refer to the same address, the variables are said to be *aliases* of each other. The phenomenon itself is known as *aliasing*.\n",
    "\n",
    "Note that `m` and `n` above are also aliases. It just wasn't very important, since we cannot change the *contents* of an integer in the same way that we can change the *contents* of a list.\n",
    "\n",
    "### Mutability and immutability\n",
    "\n",
    "Objects whose contents you can change (e.g., lists) are said to be *mutable*. Objects whose contents you cannot change (e.g., `int`s and `float`s) are said to be *immutable*."
   ]
  }
 ],
 "metadata": {
  "kernelspec": {
   "display_name": "Python 3",
   "language": "python",
   "name": "python3"
  },
  "language_info": {
   "codemirror_mode": {
    "name": "ipython",
    "version": 3
   },
   "file_extension": ".py",
   "mimetype": "text/x-python",
   "name": "python",
   "nbconvert_exporter": "python",
   "pygments_lexer": "ipython3",
   "version": "3.9.12"
  }
 },
 "nbformat": 4,
 "nbformat_minor": 0
}
