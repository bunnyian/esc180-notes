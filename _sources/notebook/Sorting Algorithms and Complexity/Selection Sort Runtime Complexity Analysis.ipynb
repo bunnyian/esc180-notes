{
 "cells": [
  {
   "cell_type": "markdown",
   "metadata": {},
   "source": [
    "# Selection Sort Runtime Complexity"
   ]
  },
  {
   "cell_type": "markdown",
   "metadata": {},
   "source": [
    "Here is selection sort again:"
   ]
  },
  {
   "cell_type": "code",
   "execution_count": 1,
   "metadata": {
    "collapsed": true
   },
   "outputs": [],
   "source": [
    "def max_i(L1):\n",
    "    '''Return the index of a largest element in L. If there is more than\n",
    "    one maximal element, return the index of the leftmost one'''\n",
    "    cur_max = L[0] #the largest element up to index i\n",
    "    cur_max_i = 0  #the index of the largest element up to index i\n",
    "    \n",
    "    for i in range(1, len(L1)):\n",
    "        if L1[i] > cur_max:\n",
    "            cur_max = L1[i]\n",
    "            cur_max_i = i\n",
    "    return cur_max_i\n",
    "    \n",
    "def selection_sort(L):\n",
    "    '''Modify L so that it's sorted in non-decreasing order\n",
    "    \n",
    "    Arugment:\n",
    "    L -- a list of ints\n",
    "    '''\n",
    "    for j in range(len(L)):\n",
    "        ind_of_max = max_i(L[:len(L)-j])\n",
    "        L[ind_of_max], L[-1-j] = L[-1-j], L[ind_of_max]     "
   ]
  },
  {
   "cell_type": "markdown",
   "metadata": {},
   "source": [
    "Here is how we can estimate the worst-case runtime complexity of `selection_sort()`. \n",
    "\n",
    "We first observe the loop in `selection_sort()`. It repeats `len(L)` times, but the complexity is not $\\mathcal{O}(len(L))$. That's because different iterations take different amounts of time: if `j` is small, `max_i(L[:len(L)-j]))` will take longer than if `j` is large, because the list `L[:len(L)-j]` will be larger.\n",
    "\n",
    "So what's the runtime complexity of `max_i(L[:len(L)-j])`? Two things happen there. First, we create a new list, `L[:len(L)-j]`. That actually takes time proportional to the length of the new list, `len(L)-j`, but we'll ignore this (see below for a discussion) and focus on the call to `max_i()`. \n",
    "\n",
    "What's the complexity of `max_i(L1)`? Well, the loop in there runs for `len(L1)-1` iterations. The loop in `max_i(L1)` *does* take time that doesn't depend on the index `i`, which means that `max_i(L1)` runs in $\\mathcal{O}(k)$ time, where `k=len(L1)`.\n",
    "\n",
    "Back to the complexity of `selection_sort(L)`. Let `n = len(L)`.\n",
    "\n",
    "    When j = 0, there are n-1 iterations in max_i() performed.\n",
    "\n",
    "    When j = 1, there are n-2 iterations in max_i() performed.\n",
    "\n",
    "    ...\n",
    "\n",
    "    When j = n-1, there are 0 iterations in max_i() performed.\n",
    "\n",
    "\n",
    "\n",
    "So in total, there are `1+2+3+...+(n-1)` iterations performed in `max_i()`. Now,\n",
    "\n",
    "$\\sum_{i=1}^m = m(m+1)/2$, so $1+2+3+...+(n-1) = n(n-1)/2$.\n",
    "\n",
    "So in total we perform $n(n-1)/2 = n^2/2 - n/2$ iterations. That means Selection Sort runs in $\\mathcal{O}(n^2)$ time.\n",
    "\n",
    "(Now, we mentioned that creating the list `L[:len(L)-j]` also takes time. It was (sort of) OK to ignore that, since we then processed the new list by going through it. Technically, in addition to the iterations that we counted, we'd also create new lists of total length $n(n-1)/2$ (a list of length $n-1$, then a list of length $n-2$, and so on.) This will also take $\\mathcal{O}(n^2)$ time, so the total runtime will be $\\mathcal{O}(n^2)$.)\n"
   ]
  }
 ],
 "metadata": {
  "kernelspec": {
   "display_name": "Python 3",
   "language": "python",
   "name": "python3"
  },
  "language_info": {
   "codemirror_mode": {
    "name": "ipython",
    "version": 3
   },
   "file_extension": ".py",
   "mimetype": "text/x-python",
   "name": "python",
   "nbconvert_exporter": "python",
   "pygments_lexer": "ipython3",
   "version": "3.4.3"
  }
 },
 "nbformat": 4,
 "nbformat_minor": 0
}
