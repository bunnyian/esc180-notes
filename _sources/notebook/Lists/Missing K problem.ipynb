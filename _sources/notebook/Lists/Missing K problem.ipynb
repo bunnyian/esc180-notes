{
 "cells": [
  {
   "cell_type": "markdown",
   "metadata": {},
   "source": [
    "# The Missing Number Problem\n",
    "\n",
    "A list contains all the ints between 1 and n, but one of them is missing. (The list is of length n-1). What is the missing integer?\n",
    "\n",
    "Here is one possible solution:"
   ]
  },
  {
   "cell_type": "code",
   "execution_count": 1,
   "metadata": {
    "collapsed": true
   },
   "outputs": [],
   "source": [
    "def missing_k(L):\n",
    "    '''Assuming L contains all the number between 1 and n (exactly once), \n",
    "    except for k, return k\n",
    "    \n",
    "    Arguments:\n",
    "    L -- a list of integers between 1 and n, with k missing\n",
    "    \n",
    "    '''\n",
    "    n = len(L) + 1  #there are n numbers in total, one is missing, so len(L)=n-1\n",
    "                    #so n = len(L) + 1\n",
    "    \n",
    "    #Try every k: 1, 2, 3, ..., n, and see which\n",
    "    #k is missing\n",
    "    for k in range(1, n+1):\n",
    "        if k not in L:\n",
    "            return k\n",
    "    #will never get here, since one of the k's will \n",
    "    #not be in L and we'll return it"
   ]
  },
  {
   "cell_type": "markdown",
   "metadata": {},
   "source": [
    "Let's rewrite this a little bit, imagining that we can't use k not in L.\n"
   ]
  },
  {
   "cell_type": "code",
   "execution_count": 2,
   "metadata": {
    "collapsed": true
   },
   "outputs": [],
   "source": [
    "def elem_in_list(elem, L):\n",
    "    '''Return True iff elem is in L'''\n",
    "    for e in L:\n",
    "        if e == elem:\n",
    "            return True\n",
    "    \n",
    "    #Tried every element, and didn't find any of them\n",
    "    #in L\n",
    "    return False\n",
    "\n",
    "def missing_k_A(L):\n",
    "    n = len(L) + 1\n",
    "    for k in range(1, n+1):\n",
    "        if not elem_in_list(k, L):\n",
    "            return k"
   ]
  },
  {
   "cell_type": "markdown",
   "metadata": {},
   "source": [
    "Note that we have to look through the list many times (`n` times, in fact -- we potentially look through the entire list every time we call `elem_in_list()`) in order to solve the problem this way.\n",
    "\n",
    "## Rewriting `missing_k_A()` to use a nested loop\n",
    "\n",
    "For the sake of practice, let's rewrite `missing_k_A()` so that it doesn't use a loop. This is not as trivial as it might sound. Note that in `elem_in_list()`, we use a trick -- we return `True` when we find an element equal to `elem`, which means that we avoid ever reaching the statement `return False`. We have to find a substitute for that trick now."
   ]
  },
  {
   "cell_type": "code",
   "execution_count": 3,
   "metadata": {
    "collapsed": true
   },
   "outputs": [],
   "source": [
    "def missing_k_B(L):\n",
    "    n = len(L) + 1  \n",
    "    \n",
    "    for i in range(1, n+1):\n",
    "        \n",
    "        found = False #found an element equal to i\n",
    "                      #in L\n",
    "        \n",
    "        for e in L:\n",
    "            if e == i:\n",
    "                found = True\n",
    "                break #go to if not found\n",
    "                \n",
    "        if not found:\n",
    "            return i        "
   ]
  },
  {
   "cell_type": "markdown",
   "metadata": {},
   "source": [
    "```{admonition} Flag Variable\n",
    "Here, `found` is what's called a *flag variable* (or *sentinel value*). Its job is to  become `True` if we want to continue the (outer) loop. When `found` stays False, we want to return.\n",
    "```"
   ]
  },
  {
   "cell_type": "markdown",
   "metadata": {},
   "source": [
    "## Nested loops\n",
    "\n",
    "Nested loops are loops within loops. An example is above. As you can see, we repeat the same thing for every i. We did that in `missing_k_A()` as well, except we called a function that has a loop inside it instead of explicitly having a loop inside the outer loop.\n",
    "\n",
    "It's probably better, at least in this case, to have a helper function.\n",
    "\n",
    "\n",
    "## Another idea\n",
    "\n",
    "Here's another idea -- and one that doesn't require us to go through the list so many times. Set up a list `ind` of length n+1, and set it all to `False`. Then, for every element `e` in `L`, set `ind[e]` to `True` (also set `ind[0]` to `True`). Then, we can figure out what the missing element is by finding where the only `False` is left. For example, for the list `L = [5, 4, 1, 2]`, eventually the list `ind` will be\n",
    "\n",
    "`ind = [True, True, True, False, True, True]`, and since the `False` is at index `3`, we know that `3` is the missing index.\n",
    "\n"
   ]
  },
  {
   "cell_type": "code",
   "execution_count": 4,
   "metadata": {
    "collapsed": true
   },
   "outputs": [],
   "source": [
    "def missing_k_C(L):\n",
    "    n = len(L) + 1  \n",
    "    ind = [False] * (n+1)\n",
    "    ind[0] = True\n",
    "    \n",
    "    for e in L:\n",
    "        ind[e] = True\n",
    "        \n",
    "    return ind.index(False)\n",
    "    "
   ]
  }
 ],
 "metadata": {
  "kernelspec": {
   "display_name": "Python 3",
   "language": "python",
   "name": "python3"
  },
  "language_info": {
   "codemirror_mode": {
    "name": "ipython",
    "version": 3
   },
   "file_extension": ".py",
   "mimetype": "text/x-python",
   "name": "python",
   "nbconvert_exporter": "python",
   "pygments_lexer": "ipython3",
   "version": "3.4.3"
  }
 },
 "nbformat": 4,
 "nbformat_minor": 0
}
