{
 "cells": [
  {
   "cell_type": "markdown",
   "metadata": {},
   "source": [
    "# Single Pass Missing Number Solution"
   ]
  },
  {
   "cell_type": "markdown",
   "metadata": {},
   "source": [
    "Here is the solution to the Missing K problem that only requires us to go through the list once.\n",
    "\n",
    "The idea is this: if we have the numbers $L = [1, 2, 3, k-1, k+1, ..., n]$, then their sum is $\\text{sum(L)} \\sum_{i=1}^n i -k = \\frac{n(n+1)}{2} - k$.\n",
    "\n",
    "We can find $k$ by computing $k = \\sum_{i=1}^n i - \\text{sum(L)}$\n"
   ]
  },
  {
   "cell_type": "code",
   "execution_count": 1,
   "metadata": {
    "collapsed": true
   },
   "outputs": [],
   "source": [
    "def missing_k(L):\n",
    "    n = len(L) + 1\n",
    "    s_full = n*(n+1)/2\n",
    "    s_partial = sum(L)\n",
    "        \n",
    "    return s_full - s_partial"
   ]
  },
  {
   "cell_type": "markdown",
   "metadata": {},
   "source": [
    "A small note: Python has the built-in function function `sum()` which computes the sum of (amonth other things) lists."
   ]
  },
  {
   "cell_type": "code",
   "execution_count": 2,
   "metadata": {
    "collapsed": false
   },
   "outputs": [
    {
     "data": {
      "text/plain": [
       "10"
      ]
     },
     "execution_count": 2,
     "metadata": {},
     "output_type": "execute_result"
    }
   ],
   "source": [
    "sum([1, 4, 3, 2])"
   ]
  },
  {
   "cell_type": "markdown",
   "metadata": {},
   "source": [
    "However, nothing is stopping us from writing our own `sum` function:"
   ]
  },
  {
   "cell_type": "code",
   "execution_count": 3,
   "metadata": {
    "collapsed": true
   },
   "outputs": [],
   "source": [
    "def sum(L):\n",
    "    s = 0\n",
    "    for e in L:\n",
    "        s += e\n",
    "    \n",
    "    return s"
   ]
  }
 ],
 "metadata": {
  "kernelspec": {
   "display_name": "Python 3",
   "language": "python",
   "name": "python3"
  },
  "language_info": {
   "codemirror_mode": {
    "name": "ipython",
    "version": 3
   },
   "file_extension": ".py",
   "mimetype": "text/x-python",
   "name": "python",
   "nbconvert_exporter": "python",
   "pygments_lexer": "ipython3",
   "version": "3.4.3"
  }
 },
 "nbformat": 4,
 "nbformat_minor": 0
}
