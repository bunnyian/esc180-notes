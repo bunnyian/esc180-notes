{
 "cells": [
  {
   "cell_type": "markdown",
   "metadata": {},
   "source": [
    "### Another approach to the Missing Number problem\n",
    "\n",
    "\n",
    "Idea: get the sorted version of `L`, then find the gap: find an `i` such that `L[i+1]-L[i]` is 2 rather than 1.Then the answer is `L[i]+1`, the number between `L[i]` and `L[i+1]`.\n",
    "\n",
    "For example, if the sorted version of `L` is\n",
    "\n",
    "`[1, 2, 3, 4, 6, 7, 8, 9]`, then `L[4]-L[3] == 2`, and we can conclude that the missing number is `L[3]+1`, i.e., 4+1=5."
   ]
  },
  {
   "cell_type": "code",
   "execution_count": 1,
   "metadata": {
    "collapsed": true
   },
   "outputs": [],
   "source": [
    "def missing_k_C(L):\n",
    "    \n",
    "    sorted_L = sorted(L)   #L stays the same. sorted_L stores the sorted \n",
    "                           #version of the list L\n",
    "    \n",
    "    n = len(sorted_L) + 1  #Since the original list had n elmenents, and L\n",
    "                           #is one element shorter than the original list,\n",
    "                           #to get n, we must add 1 to len(sorted_L)\n",
    "    \n",
    "    \n",
    "    #Take care of the special cases: the missing element is in the beginning\n",
    "    #or the missing element is at the end\n",
    "    if sorted_L[0] != 1:\n",
    "        return 1\n",
    "    \n",
    "    #sorted_L[len(sorted_L)-1] is the same as sorted_L[-1]: it's the last\n",
    "    #element of sorted_L\n",
    "    if sorted_L[-1] != n:\n",
    "        return n\n",
    "    \n",
    "    #The main loop: find the i such that there is a gap between\n",
    "    #L[i] and L[i+1]\n",
    "    for i in range(len(sorted_L)-1):\n",
    "        if sorted_L[i+1]-sorted_L[i] != 1:\n",
    "            return sorted_L[i] + 1"
   ]
  },
  {
   "cell_type": "markdown",
   "metadata": {},
   "source": [
    "### One more thing\n",
    "\n",
    "Here's another idea: sort the list, and then check of `sorted_L[0]` is 1, if `sorted_L[1]` is 2, .... and stop when you find a mismatch."
   ]
  },
  {
   "cell_type": "code",
   "execution_count": 2,
   "metadata": {
    "collapsed": true
   },
   "outputs": [],
   "source": [
    "def missing_k_D(L):\n",
    "    sorted_L = sorted(L)            \n",
    "    \n",
    "    for i in range(len(sorted_L)):\n",
    "        #i = 0, ...., n-2\n",
    "        if sorted_L[i] != i+1:\n",
    "            return i+1\n",
    "    \n",
    "    return len(sorted_L) + 1"
   ]
  }
 ],
 "metadata": {
  "kernelspec": {
   "display_name": "Python 3",
   "language": "python",
   "name": "python3"
  },
  "language_info": {
   "codemirror_mode": {
    "name": "ipython",
    "version": 3
   },
   "file_extension": ".py",
   "mimetype": "text/x-python",
   "name": "python",
   "nbconvert_exporter": "python",
   "pygments_lexer": "ipython3",
   "version": "3.4.3"
  }
 },
 "nbformat": 4,
 "nbformat_minor": 0
}
