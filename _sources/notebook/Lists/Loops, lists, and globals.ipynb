{
 "cells": [
  {
   "cell_type": "markdown",
   "metadata": {},
   "source": [
    "# Login System with Loops, Lists, and Globals\n",
    "## Idea: looking up the password\n",
    "\n",
    "In order to look up the password for user `user`, we need to figure out the `i` such that `users[i] == user`. Then, we can use that information to look up `passwords[i]`.\n",
    "\n",
    "`users.index(user)` gives us that `i`. We then can use `passwords[users.index(user)]` in order to get the password associated with the user.\n",
    "\n",
    "## Idea: keep track of failed attempts using a global variable\n",
    "\n",
    "We set up a global variable called `unsuccessful_attempts`. The function `login` modifies it as appropriate (setting it to 0 when there is a successful attempt, increasing it when there is an unsuccesful attempt.) Basically, `login()` makes sure that `unsuccessful_attempts` always contains the current number of consecutive unsuccessful login attempts. That way, `login()` can return `False` when  `unsuccessful_attempts` is 3."
   ]
  },
  {
   "cell_type": "code",
   "execution_count": 1,
   "metadata": {
    "collapsed": false
   },
   "outputs": [
    {
     "name": "stdout",
     "output_type": "stream",
     "text": [
      "You're locked out now!\n",
      "Test 1 passed\n",
      "Test 2 passed\n"
     ]
    }
   ],
   "source": [
    "\n",
    "def login(user, password):\n",
    "    '''Return True iff the login is successful using credentials (user,\n",
    "    password). \n",
    "    \n",
    "    Return False if the login is not successful, either because of wrong\n",
    "    credentials or because the user was locked out. Print a message if\n",
    "    a locking out occurs.\n",
    "    \n",
    "    Locking out occurs if three attempts in a row are made to log in with\n",
    "    invalid credentials. \n",
    "    \n",
    "    The credentials are stored in the global variables usernames and passwords,\n",
    "    with credential pairs being users[i], passwords[i].\n",
    "    \n",
    "    Modify the global n_attempts to keep track of attempts to login with \n",
    "    invalid credentials that occur one after each other.\n",
    "    \n",
    "    Arguments:\n",
    "    user -- a string\n",
    "    password -- a string\n",
    "    '''\n",
    "    global unsuccessful_attempts\n",
    "    #can use users passwords\n",
    "    if unsuccessful_attempts >= 3:\n",
    "        return False\n",
    "    \n",
    "    if user not in users: \n",
    "        unsuccessful_attempts += 1\n",
    "        if unsuccessful_attempts >= 3:\n",
    "            print(\"You're locked out now!\")\n",
    "        return False\n",
    "        \n",
    "    \n",
    "                \n",
    "    if passwords[users.index(user)] == password:\n",
    "        unsuccessful_attempts = 0\n",
    "        return True\n",
    "    else:\n",
    "        unsuccessful_attempts += 1\n",
    "        if unsuccessful_attempts >= 3:\n",
    "            print(\"You're locked out now!\")\n",
    "        return False\n",
    "        \n",
    "        \n",
    "    \n",
    "def initialize():\n",
    "    '''Set the globals variables users and passwords, and \n",
    "    initialize the global unsuccessful_attempts to 0\n",
    "    '''\n",
    "    global users, passwords, unsuccessful_attempts\n",
    "    \n",
    "    #usernames and passwords. users[i], passwords[i]\n",
    "    #are matching pairs\n",
    "    users = [\"foster\", \"collins\", \"thywissen\"]\n",
    "    passwords = [\"praxis!\", \"elegance\", \"midterm\"]\n",
    "    \n",
    "    #The current number of consecutive unsuccessful attempts\n",
    "    unsuccessful_attempts = 0\n",
    "\n",
    "initialize()\n",
    "\n",
    "if __name__ == '__main__':\n",
    "    #Test case 1: a lock out should occur.\n",
    "    initialize()\n",
    "    login(\"foster\", \"praxis!\")\n",
    "    login(\"guerzhoy\", \"a234fsadkjl\")\n",
    "    \n",
    "    login(\"guerzhoy\", \"a234fsadkjl\")\n",
    "    login(\"guerzhoy\", \"a234fsadkjl\")\n",
    "    \n",
    "    if login(\"thywissen\", \"midterm\") == False:\n",
    "        print(\"Test 1 passed\")\n",
    "    else:\n",
    "        print(\"Test 1 failed\")\n",
    "    \n",
    "    #Test case 2: a lock out should not occur: 3 failed\n",
    "    #logins, but with one succesful login in between\n",
    "    initialize()\n",
    "    login(\"guerzhoy\", \"a234fsadkjl\")\n",
    "    login(\"foster\", \"praxis!\")\n",
    "    login(\"guerzhoy\", \"a234fsadkjl\")\n",
    "    login(\"guerzhoy\", \"a234fsadkjl\")\n",
    "    \n",
    "    if login(\"thywissen\", \"midterm\") == True:\n",
    "        print(\"Test 2 passed\")\n",
    "    else:\n",
    "        print(\"Test 2 failed\")"
   ]
  }
 ],
 "metadata": {
  "kernelspec": {
   "display_name": "Python 3",
   "language": "python",
   "name": "python3"
  },
  "language_info": {
   "codemirror_mode": {
    "name": "ipython",
    "version": 3
   },
   "file_extension": ".py",
   "mimetype": "text/x-python",
   "name": "python",
   "nbconvert_exporter": "python",
   "pygments_lexer": "ipython3",
   "version": "3.4.3"
  }
 },
 "nbformat": 4,
 "nbformat_minor": 0
}
