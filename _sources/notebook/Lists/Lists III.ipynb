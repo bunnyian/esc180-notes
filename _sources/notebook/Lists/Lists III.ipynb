{
 "cells": [
  {
   "cell_type": "markdown",
   "metadata": {},
   "source": [
    "# `list.insert()`\n",
    "\n",
    "We can use the function `list.insert()` in order to insert elements into a list. Consider the following list:"
   ]
  },
  {
   "cell_type": "code",
   "execution_count": 1,
   "metadata": {
    "collapsed": true
   },
   "outputs": [],
   "source": [
    "L = [42, 43, 45, 46, 47]"
   ]
  },
  {
   "cell_type": "markdown",
   "metadata": {},
   "source": [
    "Suppose we want to insert `99` between `43` and `45`. In order to do that, we use `list.insert()`. `L.insert(ind, e)` means \"insert `e` before index `ind` in the list `L`\""
   ]
  },
  {
   "cell_type": "code",
   "execution_count": 2,
   "metadata": {
    "collapsed": true
   },
   "outputs": [],
   "source": [
    "L = [42, 43, 45, 46, 47]\n",
    "L.insert(2, 99)"
   ]
  },
  {
   "cell_type": "code",
   "execution_count": 3,
   "metadata": {
    "collapsed": false
   },
   "outputs": [
    {
     "name": "stdout",
     "output_type": "stream",
     "text": [
      "[42, 43, 99, 45, 46, 47]\n"
     ]
    }
   ],
   "source": [
    "print(L)"
   ]
  },
  {
   "cell_type": "markdown",
   "metadata": {},
   "source": [
    "We inserted `99` before `45`, which used to be at index 4.\n",
    "\n",
    "How can we insert an element at the beginning? Insert before index 0:"
   ]
  },
  {
   "cell_type": "code",
   "execution_count": 4,
   "metadata": {
    "collapsed": false
   },
   "outputs": [
    {
     "name": "stdout",
     "output_type": "stream",
     "text": [
      "[9, 42, 43, 45, 46, 47]\n"
     ]
    }
   ],
   "source": [
    "L = [42, 43, 45, 46, 47]\n",
    "L.insert(0, 9)\n",
    "print(L)"
   ]
  },
  {
   "cell_type": "markdown",
   "metadata": {},
   "source": [
    "How about inserting an element at the very end? Technically, any large-enough index will work:"
   ]
  },
  {
   "cell_type": "code",
   "execution_count": 5,
   "metadata": {
    "collapsed": false
   },
   "outputs": [
    {
     "name": "stdout",
     "output_type": "stream",
     "text": [
      "[42, 43, 45, 46, 47, 99]\n"
     ]
    }
   ],
   "source": [
    "L = [42, 43, 45, 46, 47]\n",
    "L.insert(10000000, 99)\n",
    "print(L)"
   ]
  },
  {
   "cell_type": "markdown",
   "metadata": {},
   "source": [
    "\"Insert before index 10000000\" just means \"insert at the end\" here. It's much nicer, however, to insert before index `len(L)`. The index `len(L)-1` is the index of the last element in the list (the indices are `0, 1, 2, 3..., len(L)`, for a total of `len(L)` indices). That means that inserting before index `len(L)` is the same as inserting the element at the very end:"
   ]
  },
  {
   "cell_type": "code",
   "execution_count": 6,
   "metadata": {
    "collapsed": false
   },
   "outputs": [
    {
     "name": "stdout",
     "output_type": "stream",
     "text": [
      "[42, 43, 45, 46, 47, 99]\n"
     ]
    }
   ],
   "source": [
    "L = [42, 43, 45, 46, 47]\n",
    "L.insert(len(L), 99)\n",
    "print(L)"
   ]
  },
  {
   "cell_type": "markdown",
   "metadata": {},
   "source": [
    "## `list.append()`\n",
    "\n",
    "\"Inserting at the end of the list\" has a name -- appending. We can (and should) use `list.append` to append to the end of a list."
   ]
  },
  {
   "cell_type": "code",
   "execution_count": 7,
   "metadata": {
    "collapsed": false
   },
   "outputs": [
    {
     "name": "stdout",
     "output_type": "stream",
     "text": [
      "[42, 43, 45, 46, 47, 99]\n"
     ]
    }
   ],
   "source": [
    "L = [42, 43, 45, 46, 47]\n",
    "L.append(99)\n",
    "print(L)"
   ]
  },
  {
   "cell_type": "markdown",
   "metadata": {},
   "source": [
    "## `list.index()`\n",
    "\n",
    "Suppose we want to find the index of a particular element of `L` -- to find the location of the element equal to `e` in the list `L`. This can be done using `list.index()`."
   ]
  },
  {
   "cell_type": "code",
   "execution_count": 8,
   "metadata": {
    "collapsed": false
   },
   "outputs": [
    {
     "data": {
      "text/plain": [
       "3"
      ]
     },
     "execution_count": 8,
     "metadata": {},
     "output_type": "execute_result"
    }
   ],
   "source": [
    "L = [4, 42, 35, 20]\n",
    "L.index(20)"
   ]
  },
  {
   "cell_type": "markdown",
   "metadata": {},
   "source": [
    "20 is found at index 3 of `L`. We can check this:"
   ]
  },
  {
   "cell_type": "code",
   "execution_count": 9,
   "metadata": {
    "collapsed": false
   },
   "outputs": [
    {
     "data": {
      "text/plain": [
       "20"
      ]
     },
     "execution_count": 9,
     "metadata": {},
     "output_type": "execute_result"
    }
   ],
   "source": [
    "L[L.index(20)]"
   ]
  },
  {
   "cell_type": "markdown",
   "metadata": {},
   "source": [
    "Of course, this would work for any element found in the list `L`, since `L.index(e)` is the index of an element equal to `e`!"
   ]
  },
  {
   "cell_type": "code",
   "execution_count": 10,
   "metadata": {
    "collapsed": false
   },
   "outputs": [
    {
     "data": {
      "text/plain": [
       "4"
      ]
     },
     "execution_count": 10,
     "metadata": {},
     "output_type": "execute_result"
    }
   ],
   "source": [
    "L[L.index(4)]"
   ]
  },
  {
   "cell_type": "markdown",
   "metadata": {},
   "source": [
    "What if the list `L` has more than one element that is equal to `e`? In that case, `L.index(e)` will return the smallest index of an element in `L` equal to `e`:"
   ]
  },
  {
   "cell_type": "code",
   "execution_count": 11,
   "metadata": {
    "collapsed": false
   },
   "outputs": [
    {
     "data": {
      "text/plain": [
       "1"
      ]
     },
     "execution_count": 11,
     "metadata": {},
     "output_type": "execute_result"
    }
   ],
   "source": [
    "L = [4, 5, 7, 5, 20]\n",
    "L.index(5)"
   ]
  },
  {
   "cell_type": "markdown",
   "metadata": {},
   "source": [
    "What if the element is not found in `L`? In that case, we get an error, and the program crashes (unless we use exception handling, which we haven't covered...)"
   ]
  },
  {
   "cell_type": "code",
   "execution_count": 12,
   "metadata": {
    "collapsed": false
   },
   "outputs": [
    {
     "ename": "ValueError",
     "evalue": "42 is not in list",
     "output_type": "error",
     "traceback": [
      "\u001b[1;31m---------------------------------------------------------------------------\u001b[0m",
      "\u001b[1;31mValueError\u001b[0m                                Traceback (most recent call last)",
      "\u001b[1;32m<ipython-input-12-71974f648f1f>\u001b[0m in \u001b[0;36m<module>\u001b[1;34m()\u001b[0m\n\u001b[1;32m----> 1\u001b[1;33m \u001b[0mL\u001b[0m\u001b[1;33m.\u001b[0m\u001b[0mindex\u001b[0m\u001b[1;33m(\u001b[0m\u001b[1;36m42\u001b[0m\u001b[1;33m)\u001b[0m\u001b[1;33m\u001b[0m\u001b[0m\n\u001b[0m",
      "\u001b[1;31mValueError\u001b[0m: 42 is not in list"
     ]
    }
   ],
   "source": [
    "L.index(42)"
   ]
  },
  {
   "cell_type": "markdown",
   "metadata": {},
   "source": [
    "## `in`, `not in`\n",
    "\n",
    "We can use `in` and `not in` in order to check whether an element equal to `e` is in `L` or not.\n",
    "\n",
    "`e in L` is `True` iff one of the elements of `L` is equal to `e`\n",
    "\n",
    "`e not in L` is `True` iff none of the elements of `L` are equal to `e`\n",
    "\n",
    "Of course, `e not in L` and `not (e in L)` are just the same.\n",
    "\n",
    "Here are a few examples:"
   ]
  },
  {
   "cell_type": "code",
   "execution_count": 13,
   "metadata": {
    "collapsed": false
   },
   "outputs": [
    {
     "data": {
      "text/plain": [
       "False"
      ]
     },
     "execution_count": 13,
     "metadata": {},
     "output_type": "execute_result"
    }
   ],
   "source": [
    "4 in [5, 6, 10]"
   ]
  },
  {
   "cell_type": "code",
   "execution_count": 14,
   "metadata": {
    "collapsed": false
   },
   "outputs": [
    {
     "data": {
      "text/plain": [
       "True"
      ]
     },
     "execution_count": 14,
     "metadata": {},
     "output_type": "execute_result"
    }
   ],
   "source": [
    "3 in [10, 3, 1]"
   ]
  },
  {
   "cell_type": "code",
   "execution_count": 15,
   "metadata": {
    "collapsed": false
   },
   "outputs": [
    {
     "data": {
      "text/plain": [
       "False"
      ]
     },
     "execution_count": 15,
     "metadata": {},
     "output_type": "execute_result"
    }
   ],
   "source": [
    "3 not in [10, 3, 1]"
   ]
  },
  {
   "cell_type": "markdown",
   "metadata": {},
   "source": [
    "## Finding the index of an element which may be present in L\n",
    "\n",
    "We are now in a position to try to find the index of an element which may or may not be present in `L`:"
   ]
  },
  {
   "cell_type": "code",
   "execution_count": 16,
   "metadata": {
    "collapsed": false
   },
   "outputs": [
    {
     "name": "stdout",
     "output_type": "stream",
     "text": [
      "3 is not in L\n"
     ]
    }
   ],
   "source": [
    "L = [10, 5, 4, 20, 4]\n",
    "e = 3\n",
    "if e in L:\n",
    "    print(\"The index of the first occurence of\", e, \"in L is\", L.index(e))\n",
    "else:\n",
    "    print(e, \"is not in L\")"
   ]
  },
  {
   "cell_type": "code",
   "execution_count": 17,
   "metadata": {
    "collapsed": false
   },
   "outputs": [
    {
     "name": "stdout",
     "output_type": "stream",
     "text": [
      "The index of the first occurence of 4 in L is 2\n"
     ]
    }
   ],
   "source": [
    "L = [10, 5, 4, 20, 4]\n",
    "e = 4\n",
    "if e in L:\n",
    "    print(\"The index of the first occurence of\", e, \"in L is\", L.index(e))\n",
    "else:\n",
    "    print(e, \"is not in L\")"
   ]
  }
 ],
 "metadata": {
  "kernelspec": {
   "display_name": "Python 3",
   "language": "python",
   "name": "python3"
  },
  "language_info": {
   "codemirror_mode": {
    "name": "ipython",
    "version": 3
   },
   "file_extension": ".py",
   "mimetype": "text/x-python",
   "name": "python",
   "nbconvert_exporter": "python",
   "pygments_lexer": "ipython3",
   "version": "3.9.12"
  }
 },
 "nbformat": 4,
 "nbformat_minor": 0
}
