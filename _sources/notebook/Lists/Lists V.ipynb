{
 "cells": [
  {
   "cell_type": "markdown",
   "metadata": {},
   "source": [
    "# Accessing list elements: last element, negative indices, middle\n",
    "\n",
    "Suppose we have the list"
   ]
  },
  {
   "cell_type": "code",
   "execution_count": 1,
   "metadata": {
    "collapsed": true
   },
   "outputs": [],
   "source": [
    "L = [\"a\", \"d\", \"c\", \"e\", \"f\"]"
   ]
  },
  {
   "cell_type": "markdown",
   "metadata": {},
   "source": [
    "How can we access its last element (i.e., `\"f\"`)? The length of the list is `len(L)`. That means the indices of the elements are `0, 1, 2, ..., len(L)-1`. So the index of the last element is `len(L)-1`."
   ]
  },
  {
   "cell_type": "code",
   "execution_count": 2,
   "metadata": {
    "collapsed": false
   },
   "outputs": [
    {
     "data": {
      "text/plain": [
       "'f'"
      ]
     },
     "execution_count": 2,
     "metadata": {},
     "output_type": "execute_result"
    }
   ],
   "source": [
    "L[len(L)-1]"
   ]
  },
  {
   "cell_type": "markdown",
   "metadata": {},
   "source": [
    "Python allows you to use *negative indices*. `L[-1]` is the same as `L[len(L)-1]`, `L[-2]` is the same as `L[len(L)-2]`, and so on.\n",
    "\n",
    "In general, `L[-i]` is the `i`-th element in `L` from the right."
   ]
  },
  {
   "cell_type": "code",
   "execution_count": 3,
   "metadata": {
    "collapsed": false
   },
   "outputs": [
    {
     "data": {
      "text/plain": [
       "'f'"
      ]
     },
     "execution_count": 3,
     "metadata": {},
     "output_type": "execute_result"
    }
   ],
   "source": [
    "L[-1]"
   ]
  },
  {
   "cell_type": "code",
   "execution_count": 4,
   "metadata": {
    "collapsed": false
   },
   "outputs": [
    {
     "data": {
      "text/plain": [
       "'e'"
      ]
     },
     "execution_count": 4,
     "metadata": {},
     "output_type": "execute_result"
    }
   ],
   "source": [
    "L[-2]"
   ]
  },
  {
   "cell_type": "markdown",
   "metadata": {},
   "source": [
    "## Accessing the middle element\n",
    "\n",
    "How do we access the *middle* element of `L` (assuming its length is odd?). `L[len(L)//2]` does the trick. (Note that we are using integer division here to compute `len(L)//2` -- the index has to be an integer.)\n",
    "\n",
    "Advice: it's hard to figure out if the index should be `len(L)//2 + 1` or `len(L)//2 - 1` or `len(L)//2`. Just try to figure out what it should be using a small example (e.g., a list of length 3 or 5)."
   ]
  }
 ],
 "metadata": {
  "kernelspec": {
   "display_name": "Python 3",
   "language": "python",
   "name": "python3"
  },
  "language_info": {
   "codemirror_mode": {
    "name": "ipython",
    "version": 3
   },
   "file_extension": ".py",
   "mimetype": "text/x-python",
   "name": "python",
   "nbconvert_exporter": "python",
   "pygments_lexer": "ipython3",
   "version": "3.4.3"
  }
 },
 "nbformat": 4,
 "nbformat_minor": 0
}
