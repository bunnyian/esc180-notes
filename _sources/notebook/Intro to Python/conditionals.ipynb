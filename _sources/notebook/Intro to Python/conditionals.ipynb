{
 "cells": [
  {
   "cell_type": "code",
   "execution_count": 2,
   "metadata": {
    "tags": [
     "remove-input"
    ],
    "vscode": {
     "languageId": "html"
    }
   },
   "outputs": [],
   "source": [
    "from IPython.display import display, HTML"
   ]
  },
  {
   "cell_type": "markdown",
   "metadata": {},
   "source": [
    "# Conditionals\n",
    "\n",
    "If statements, or conditionals, are useful for doing different things depending on what the values of some expressions are.\n",
    "\n",
    "For example, suppose we want to print the absolute value of `n`. If $n \\geq 0$, we should print n, and otherwise we should pring `-n`\n",
    "\n",
    "The (simplified) format of the if statement is:\n",
    "\n",
    "```\n",
    "if <condition>:\n",
    "   <block1>\n",
    "else:\n",
    "   <block2>\n",
    "```\n",
    "Note that the columns and the tabs before the blocks are mandatory!\n",
    "\n",
    "If the condition is True, `<block1>` is executed, and otherwise `<block2>` is executed.\n",
    "\n",
    "In our case, the condition is n >= 0"
   ]
  },
  {
   "cell_type": "code",
   "execution_count": 3,
   "metadata": {
    "tags": [
     "remove-input"
    ],
    "vscode": {
     "languageId": "html"
    }
   },
   "outputs": [
    {
     "data": {
      "text/html": [
       "<button><a href=\"https://pythontutor.com/python-debugger.html#code=n%20%3D%20-5%0Aif%20n%20%3E%3D%200%3A%0A%20%20%20%20print%28n%29%0Aelse%3A%0A%20%20%20%20print%28-n%29&cumulative=false&heapPrimitives=nevernest&mode=edit&origin=opt-frontend.js&py=3&rawInputLstJSON=%5B%5D&textReferences=false\">Run in Python Tutor</a></button>"
      ],
      "text/plain": [
       "<IPython.core.display.HTML object>"
      ]
     },
     "metadata": {},
     "output_type": "display_data"
    }
   ],
   "source": [
    "\n",
    "button_html = '<button><a href=\"https://pythontutor.com/python-debugger.html#code=n%20%3D%20-5%0Aif%20n%20%3E%3D%200%3A%0A%20%20%20%20print%28n%29%0Aelse%3A%0A%20%20%20%20print%28-n%29&cumulative=false&heapPrimitives=nevernest&mode=edit&origin=opt-frontend.js&py=3&rawInputLstJSON=%5B%5D&textReferences=false\">Run in Python Tutor</a></button>'\n",
    "display(HTML(button_html))"
   ]
  },
  {
   "cell_type": "code",
   "execution_count": 1,
   "metadata": {
    "tags": []
   },
   "outputs": [
    {
     "name": "stdout",
     "output_type": "stream",
     "text": [
      "5\n"
     ]
    }
   ],
   "source": [
    "n = -5\n",
    "if n >= 0:\n",
    "    print(n)\n",
    "else:\n",
    "    print(-n)"
   ]
  },
  {
   "cell_type": "markdown",
   "metadata": {},
   "source": [
    "Let's now write a more complicated grade adjustment program: we'll adjust the grade by 20 if it's at or above 70, and we'll adjust it by 19 if it's below 70."
   ]
  },
  {
   "cell_type": "code",
   "execution_count": 2,
   "metadata": {
    "tags": []
   },
   "outputs": [
    {
     "name": "stdout",
     "output_type": "stream",
     "text": [
      "41\n"
     ]
    }
   ],
   "source": [
    "exam_grade = 60\n",
    "engsci_adjustment = 20\n",
    "ece_adjustment = 19\n",
    "if exam_grade >= 70:\n",
    "    exam_grade = exam_grade - engsci_adjustment\n",
    "else:\n",
    "    exam_grade = exam_grade - ece_adjustment\n",
    "\n",
    "print(exam_grade)"
   ]
  },
  {
   "cell_type": "markdown",
   "metadata": {},
   "source": [
    "## More complicated conditionals\n",
    "\n",
    "Suppose we have more than two outcomes. Let's say that you bet your friend that you'll get a 98 on the exam, and let's say that you want to print \"I am happy\" if you got a grade of 99 or 100. Otherwise, you want to print the frownie emoticon.\n",
    "\n",
    "Here is how we can set this up. The general format is:\n",
    "\n",
    "```if <condition1>:\n",
    "   <block1>\n",
    "elif <condition2>:\n",
    "   <block2>\n",
    "elif <condition3>:\n",
    "   <block3>\n",
    ".\n",
    ".\n",
    ".\n",
    "else:\n",
    "   <blockn>\n",
    "```\n",
    "\n",
    "Python will keep checking the conditions in order until one is True, and  will execute the corresponding block. If no condition is True, Python will execute the block under else (blockn)\n",
    "\n",
    "Note: the tabs and columns are all mandatory, and the format has to be exactly right!"
   ]
  },
  {
   "cell_type": "code",
   "execution_count": 3,
   "metadata": {},
   "outputs": [
    {
     "name": "stdout",
     "output_type": "stream",
     "text": [
      "I am happy\n",
      "At least I am not an artsci\n"
     ]
    }
   ],
   "source": [
    "exam_grade = 99\n",
    "\n",
    "if exam_grade == 98:\n",
    "    print('I won the bet!')\n",
    "    print('I am happy')\n",
    "elif exam_grade > 98:\n",
    "    print('I am happy')\n",
    "else:\n",
    "    print(')-:')\n",
    "    \n",
    "    \n",
    "print('At least I am not an artsci')"
   ]
  }
 ],
 "metadata": {
  "celltoolbar": "Tags",
  "kernelspec": {
   "display_name": "Python 3 (ipykernel)",
   "language": "python",
   "name": "python3"
  },
  "language_info": {
   "codemirror_mode": {
    "name": "ipython",
    "version": 3
   },
   "file_extension": ".py",
   "mimetype": "text/x-python",
   "name": "python",
   "nbconvert_exporter": "python",
   "pygments_lexer": "ipython3",
   "version": "3.9.12"
  }
 },
 "nbformat": 4,
 "nbformat_minor": 1
}
