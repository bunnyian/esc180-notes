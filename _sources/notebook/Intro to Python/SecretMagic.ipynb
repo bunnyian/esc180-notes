{
 "cells": [
  {
   "cell_type": "markdown",
   "metadata": {},
   "source": [
    "## Secret Number Magic Trick \n",
    "\n",
    "One way of thinking about programs is as of series of instructions. Here is one series of instructions.:\n",
    "\n"
   ]
  },
  {
   "cell_type": "code",
   "execution_count": 1,
   "metadata": {
    "collapsed": false
   },
   "outputs": [
    {
     "name": "stdout",
     "output_type": "stream",
     "text": [
      "4.0\n"
     ]
    }
   ],
   "source": [
    "secret_num = 10\n",
    "temp = secret_num + 8   #evaluate secret + 8, and put the result\n",
    "                        #in temp\n",
    "temp = temp * 2         #evaluate temp * 2, and put the results\n",
    "                        #in temp\n",
    "temp = temp / 4\n",
    "answer = temp - secret_num / 2\n",
    "print(answer)           \n"
   ]
  },
  {
   "cell_type": "markdown",
   "metadata": {},
   "source": [
    "you can check that the answer is always 4.0, no matter what `secret_num` starts out being. The series of instructions is actually taken from a magic trick which might be amusing to sixth-grades and Track Ones:\n",
    "\n",
    "1. Think of a secret number\n",
    "2. Now add 8 to it\n",
    "3. Now multiply the results by 2\n",
    "4. Now divide the result by 2\n",
    "5. Now subtract half your number from the result\n",
    "6. You got 4!"
   ]
  },
  {
   "cell_type": "markdown",
   "metadata": {},
   "source": [
    "## Comments\n",
    "\n",
    "Whatever comes after a # in a line is ignored by the Python interpreter. Things that come after #'s are called comments -- they are inserted to help future you figure out what present you is programming, and also to help whoever you work with on your programs."
   ]
  },
  {
   "cell_type": "markdown",
   "metadata": {},
   "source": [
    "```{tip} Sometimes when editing code, you may want to \"comment out a line\" to see what happens if you don't run that line. You can do this by putting a # at the beginning of the line. This can be accomplished quickly by highlighting the line (or multiple) and pressing Ctrl + / (Cmd + / on Mac).\n",
    "```"
   ]
  }
 ],
 "metadata": {
  "kernelspec": {
   "display_name": "Python 3",
   "language": "python",
   "name": "python3"
  },
  "language_info": {
   "codemirror_mode": {
    "name": "ipython",
    "version": 3
   },
   "file_extension": ".py",
   "mimetype": "text/x-python",
   "name": "python",
   "nbconvert_exporter": "python",
   "pygments_lexer": "ipython3",
   "version": "3.9.12"
  }
 },
 "nbformat": 4,
 "nbformat_minor": 0
}
