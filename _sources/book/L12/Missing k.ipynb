{
 "cells": [
  {
   "cell_type": "markdown",
   "metadata": {},
   "source": [
    "### The missing number problem\n",
    "\n",
    "A list contains all the ints between 1 and n, but one of them is missing. (The list is of length n-1). What is the missing integer?\n",
    "\n",
    "Here is one possible solution:"
   ]
  },
  {
   "cell_type": "code",
   "execution_count": 1,
   "metadata": {
    "collapsed": true
   },
   "outputs": [],
   "source": [
    "def missing_k(L):\n",
    "    n = len(L) + 1\n",
    "    #Try every k: 1, 2, 3, ..., n, and see which\n",
    "    #k is missing\n",
    "    for k in range(1, n+1):\n",
    "        if k not in L:\n",
    "            return k\n",
    "    #will never get here, since one of the k's will \n",
    "    #not be in L and we'll return it"
   ]
  },
  {
   "cell_type": "markdown",
   "metadata": {},
   "source": [
    "Let's rewrite this a little bit, imagining that we can't use `k not in L`"
   ]
  },
  {
   "cell_type": "code",
   "execution_count": 3,
   "metadata": {
    "collapsed": false
   },
   "outputs": [],
   "source": [
    "def elem_in_list(elem, L):\n",
    "    '''Return True iff elem is in L'''\n",
    "    for e in L:\n",
    "        if e == elem:\n",
    "            return True\n",
    "    \n",
    "    #Tried every element, and didn't find any of them\n",
    "    #in L\n",
    "    return False\n",
    "\n",
    "def missing_k(L):\n",
    "    n = len(L) + 1\n",
    "    for k in range(1, n+1):\n",
    "        if not elem_in_list(k, L):\n",
    "            return k"
   ]
  },
  {
   "cell_type": "markdown",
   "metadata": {},
   "source": [
    "Note that we have to look through the list many times (`n` times, in fact -- we potentially look through the entire list every time we call `elem_in_list`) in order to solve the problem this way"
   ]
  }
 ],
 "metadata": {
  "kernelspec": {
   "display_name": "Python 3",
   "language": "python",
   "name": "python3"
  },
  "language_info": {
   "codemirror_mode": {
    "name": "ipython",
    "version": 3
   },
   "file_extension": ".py",
   "mimetype": "text/x-python",
   "name": "python",
   "nbconvert_exporter": "python",
   "pygments_lexer": "ipython3",
   "version": "3.4.3"
  }
 },
 "nbformat": 4,
 "nbformat_minor": 0
}
