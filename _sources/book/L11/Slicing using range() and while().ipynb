{
 "cells": [
  {
   "cell_type": "markdown",
   "metadata": {},
   "source": [
    "### Slicing manually using for and while loops\n",
    "\n",
    "Let's now implement slicing using loops."
   ]
  },
  {
   "cell_type": "code",
   "execution_count": 1,
   "metadata": {
    "collapsed": true
   },
   "outputs": [],
   "source": [
    "def manual_slice(L, i, j, step):\n",
    "    '''Return L[i:j:step]'''\n",
    "    newL = []\n",
    "    for ind in range(i, j, step):\n",
    "        newL.append(L[ind])\n",
    "    return newL"
   ]
  },
  {
   "cell_type": "code",
   "execution_count": 2,
   "metadata": {
    "collapsed": true
   },
   "outputs": [],
   "source": [
    "def manual_slice_while(L, i, j, step):\n",
    "    '''Return L[i:j:step]. Assume step>0'''\n",
    "    newL = []\n",
    "    ind = i\n",
    "    #assuming positive step\n",
    "    while ind < j:\n",
    "        newL.append(L[ind])\n",
    "        ind += step\n",
    "    return newL\n",
    "    "
   ]
  }
 ],
 "metadata": {
  "kernelspec": {
   "display_name": "Python 3",
   "language": "python",
   "name": "python3"
  },
  "language_info": {
   "codemirror_mode": {
    "name": "ipython",
    "version": 3
   },
   "file_extension": ".py",
   "mimetype": "text/x-python",
   "name": "python",
   "nbconvert_exporter": "python",
   "pygments_lexer": "ipython3",
   "version": "3.4.3"
  }
 },
 "nbformat": 4,
 "nbformat_minor": 0
}
