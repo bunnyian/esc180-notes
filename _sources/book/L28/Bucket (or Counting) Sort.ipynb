{
 "cells": [
  {
   "cell_type": "markdown",
   "metadata": {},
   "source": [
    "# Bucket/Counting Sort"
   ]
  },
  {
   "cell_type": "markdown",
   "metadata": {},
   "source": [
    "Here is how we actually sort the 250 midterms for CSC180: we first separate them into piles by the first initial (i.e., the first letter of the last name.) We then sort each pile individiually. That's much faster: if we use, for example, Selection Sort, and we are able to separate the 250 midterms into 25 piles of 10, we'll be making $25\\times 10^2 /2 = 1250$ comparisons instead of $250^2/2 \\approx 30,000$ comparisons.\n",
    "\n",
    "Here, we'll concentrate on a simpler scenario: suppose we want to sort integers. We again want to separate them into piles. Suppose the integers are:\n",
    "\n",
    "    1, 5, 10, 1, 2, 100, 500, 2, 4, 5, 6\n",
    "    \n",
    "We'll separate them into piles as follows: we'll have a pile of 1's, a pile of 2's, a pile of 3's, ..., a pile of 500's. We won't even need to then sort the piles, and will almost have the sorted list ready. Here's what the piles would look like:\n",
    "\n",
    "    pile of: 1, 2, 3, 4, 5, 6, 7, 8, 9, 10, 11, 12, ..., 100, 101, ..., 500\n",
    "             *  *     *  *  *           *                 *              *\n",
    "             *  *        *\n",
    "             \n",
    "After we have the piles, we can read off the sorted list:\n",
    "            1, 1, 2, 2, 4, 5, 5, 6, 10, 100, 500\n",
    "\n",
    "We don't literally need to maintain the piles: instead, we can keep track of how many 1's, 2's, 3's, ... etc. we've seen. Here is the algrithm. The algorithm is a special case of Bucket Sort, and is called Counting Sort."
   ]
  },
  {
   "cell_type": "code",
   "execution_count": null,
   "metadata": {
    "collapsed": true
   },
   "outputs": [],
   "source": [
    "def bucket_sort(L):\n",
    "    max_int = max(L)\n",
    "    \n",
    "    counts = [0]*(1+max_int)\n",
    "    #counts[i] will be the number of times that\n",
    "    #i appears in L\n",
    "    \n",
    "    for e in L:\n",
    "        counts[e] += 1\n",
    "        \n",
    "    \n",
    "    #Now, build up the sorted version of the list. Note that if we have\n",
    "    #counts[i] of the number i, we need to extend the sorted list\n",
    "    #by [i]*counts[i], which is just [i, i, i, ..., i]\n",
    "    #                                  counts[i] times\n",
    "    sorted_L = []\n",
    "    for i in range(0, len(counts)):\n",
    "        sorted_L.extend([i]*counts[i])\n",
    "    \n",
    "    #Modify the contents of L to be the contents of sorted_L\n",
    "    L[:] = sorted_L\n"
   ]
  }
 ],
 "metadata": {
  "kernelspec": {
   "display_name": "Python 3",
   "language": "python",
   "name": "python3"
  },
  "language_info": {
   "codemirror_mode": {
    "name": "ipython",
    "version": 3
   },
   "file_extension": ".py",
   "mimetype": "text/x-python",
   "name": "python",
   "nbconvert_exporter": "python",
   "pygments_lexer": "ipython3",
   "version": "3.4.3"
  }
 },
 "nbformat": 4,
 "nbformat_minor": 0
}
