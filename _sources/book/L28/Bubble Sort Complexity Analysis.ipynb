{
 "cells": [
  {
   "cell_type": "markdown",
   "metadata": {},
   "source": [
    "Here is Bubble Sort again:"
   ]
  },
  {
   "cell_type": "code",
   "execution_count": 1,
   "metadata": {
    "collapsed": true
   },
   "outputs": [],
   "source": [
    "def bubble_sort(L):\n",
    "    for i in range(len(L)):\n",
    "        #Set swapped to False. If nothing changes during a pass, we break.\n",
    "        #If that happens, the runtime is better than the worst-case runtime\n",
    "        #for a list of size n\n",
    "        swapped = False\n",
    "        \n",
    "        #in the worst case, we need n-1 passes\n",
    "        #The worst case happens when the smallest element is at L[-1], since\n",
    "        #the smallest element only shifts one position to the left with each pass\n",
    "        for j in range(len(L)-1-i):\n",
    "            if L[j] > L[j+1]:\n",
    "                L[j], L[j+1] = L[j+1], L[j]\n",
    "                swapped = True\n",
    "        if not swapped:\n",
    "            break"
   ]
  },
  {
   "cell_type": "markdown",
   "metadata": {},
   "source": [
    "### Runtime Complexity Analysis -- Bubble Sort\n",
    "\n",
    "Unlike with Selection Sort, Bubble Sort *can* terminate early -- if we `break` because a sweep didn't result in any two elements being swapped, the function returns faster.\n",
    "\n",
    "We know that Bubble Sort will not run for more than `n` sweeps (where `n = len(L)`), just because the outer loop will not run for more than `n` iterations. (Recall that in the previous lecture we argued that Bubble Sort only ever needs at most `n-1` sweeps.\n",
    "\n",
    "Is it ever the case that Bubble Sort needs all `n-1` sweeps to sort the list? Yes.\n",
    "\n",
    "Note what happens when the smallest element of the list is initially the last element of the list:"
   ]
  },
  {
   "cell_type": "code",
   "execution_count": 2,
   "metadata": {
    "collapsed": false
   },
   "outputs": [
    {
     "name": "stdout",
     "output_type": "stream",
     "text": [
      "No need to swap 2 and 3\n",
      "[2, 3, 4, 5, 1]\n",
      "No need to swap 3 and 4\n",
      "[2, 3, 4, 5, 1]\n",
      "No need to swap 4 and 5\n",
      "[2, 3, 4, 5, 1]\n",
      "Swapped 1 and 5\n",
      "[2, 3, 4, 1, 5]\n",
      "====================================\n",
      "No need to swap 2 and 3\n",
      "[2, 3, 4, 1, 5]\n",
      "No need to swap 3 and 4\n",
      "[2, 3, 4, 1, 5]\n",
      "Swapped 1 and 4\n",
      "[2, 3, 1, 4, 5]\n",
      "====================================\n",
      "No need to swap 2 and 3\n",
      "[2, 3, 1, 4, 5]\n",
      "Swapped 1 and 3\n",
      "[2, 1, 3, 4, 5]\n",
      "====================================\n",
      "Swapped 1 and 2\n",
      "[1, 2, 3, 4, 5]\n",
      "====================================\n"
     ]
    }
   ],
   "source": [
    "def bubble_sort(L):\n",
    "    for i in range(len(L)):\n",
    "        swapped = False\n",
    "        for j in range(len(L)-1-i):\n",
    "            if L[j] > L[j+1]:\n",
    "                L[j], L[j+1] = L[j+1], L[j]\n",
    "                print(\"Swapped\", L[j], \"and\", L[j+1])\n",
    "                print(L)\n",
    "                swapped = True\n",
    "            else:\n",
    "                print(\"No need to swap\", L[j], \"and\", L[j+1])\n",
    "                print(L)\n",
    "        if not swapped:\n",
    "            return\n",
    "\n",
    "        print(\"====================================\")\n",
    "if __name__ == '__main__':\n",
    "    L = [2, 3, 4, 5, 1]\n",
    "    bubble_sort(L)"
   ]
  },
  {
   "cell_type": "markdown",
   "metadata": {},
   "source": [
    "Note that the `1` only moves left *once* per sweep. That makes sense: any element can only move left once during the sweep (but an element can move to the right many times.)\n",
    "\n",
    "We can therefore conclude that the in the **worst case**, Bubble Sort does not return before performing all `n` iterations of the outer loop.\n",
    "\n",
    "Let's now figure out the worst-case runtime complexity of Bubble Sort for a list of length `n` by counting how many times the inner block repeats.\n",
    "\n",
    "At iteration `0`, the block runs for n-1-0 times\n",
    "At iteration `1`, the block runs for n-1-1 times\n",
    "At iteration `n-1`, the block runs for n-1-(n-1)=0 times\n",
    "\n",
    "So in total, the block runs $\\sum_{i=0}^{n-1} (n-i-1)$ times.\n",
    "\n",
    "$\\sum_{i=0}^{n-1} (n-i-1) = n^2 -\\sum_{i=0}^{n-1} i - n = n^2-n(n-1)/2-n = n^2- n^2 / 2 + n/2 - n= n^2 /2 - n/2$\n",
    "\n",
    "(To compute $\\sum_{i=0}^{n-1} i$, we use the fact that $\\sum_{j=1}^{m} j = m(m+1)/2$, and substitute $m = n-1$.)\n",
    "\n",
    "We can therefore conclude that the worst-case runtime complexity of Bubble Sort if $\\mathcal{O}(n^2)$, just like Selection Sort."
   ]
  }
 ],
 "metadata": {
  "kernelspec": {
   "display_name": "Python 3",
   "language": "python",
   "name": "python3"
  },
  "language_info": {
   "codemirror_mode": {
    "name": "ipython",
    "version": 3
   },
   "file_extension": ".py",
   "mimetype": "text/x-python",
   "name": "python",
   "nbconvert_exporter": "python",
   "pygments_lexer": "ipython3",
   "version": "3.4.3"
  }
 },
 "nbformat": 4,
 "nbformat_minor": 0
}
