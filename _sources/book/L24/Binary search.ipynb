{
 "cells": [
  {
   "cell_type": "markdown",
   "metadata": {},
   "source": [
    "(See the Complexity handout for the analysis of Binary Search)"
   ]
  },
  {
   "cell_type": "code",
   "execution_count": 1,
   "metadata": {
    "collapsed": false
   },
   "outputs": [],
   "source": [
    "def find_i_binary(L, e):\n",
    "    '''Returns the index of e in L, or None if e is not in L\n",
    "    \n",
    "    Arguments:\n",
    "    L -- a sorted list of ints\n",
    "    e -- int\n",
    "    \n",
    "    '''\n",
    "    low = 0\n",
    "    high = len(L) - 1\n",
    "    \n",
    "    while high-low >= 2:\n",
    "        mid = (low+high)//2\n",
    "        if L[mid] > e:\n",
    "            high = mid - 1\n",
    "        elif L[mid] < e:\n",
    "            low = mid + 1\n",
    "        else:\n",
    "            return mid\n",
    "            \n",
    "    if L[low] == e:\n",
    "        return low\n",
    "    elif L[high] == e:\n",
    "        return high\n",
    "    else:\n",
    "        return None"
   ]
  },
  {
   "cell_type": "markdown",
   "metadata": {},
   "source": [
    "So, how does Binary Search compare to our previous attempt (called Linear Search)?\n",
    "\n",
    "Suppose that one iteration of Binary Search runs  $c_1$ ms, and one iteration of Linear Search runs $c_2$ ms. $c_1$ and $c_2$ are quite equal, but are pretty close.\n",
    "\n",
    "For $n=1,000,000$, Binary Search will take, in the worst case, about $c_1\\times \\log_2 (1,000,000) = 20c_1$ ms. Linear Search will take $1,000,000 \\times c_2$ ms. A big difference!\n",
    "\n",
    "Of course, that's all assuming that the list is sorted. But if we need to perform multiple look-ups, it's worth it to sort the list the once, and then be able to use the much faster Binary Search."
   ]
  }
 ],
 "metadata": {
  "kernelspec": {
   "display_name": "Python 3",
   "language": "python",
   "name": "python3"
  },
  "language_info": {
   "codemirror_mode": {
    "name": "ipython",
    "version": 3
   },
   "file_extension": ".py",
   "mimetype": "text/x-python",
   "name": "python",
   "nbconvert_exporter": "python",
   "pygments_lexer": "ipython3",
   "version": "3.4.3"
  }
 },
 "nbformat": 4,
 "nbformat_minor": 0
}
