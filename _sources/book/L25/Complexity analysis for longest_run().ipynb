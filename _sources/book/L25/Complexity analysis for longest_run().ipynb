{
 "cells": [
  {
   "cell_type": "markdown",
   "metadata": {},
   "source": [
    "Here is the `longest_run()` function that we wrote a little while ago:"
   ]
  },
  {
   "cell_type": "code",
   "execution_count": 1,
   "metadata": {
    "collapsed": true
   },
   "outputs": [],
   "source": [
    "def longest_run1(s, c):\n",
    "    run = 0     \n",
    "    max_run = 0 \n",
    "    \n",
    "    if c == \"z\":\n",
    "        s += \"y\"\n",
    "    else:\n",
    "        s += \"z\"\n",
    "    \n",
    "    for ch in s:\n",
    "        if ch != c:\n",
    "            max_run = max(run, max_run)\n",
    "            run = 0\n",
    "        else:\n",
    "            run += 1\n",
    "    \n",
    "    return max_run\n",
    "    "
   ]
  },
  {
   "cell_type": "markdown",
   "metadata": {},
   "source": [
    "The worst-case runtime complexity analysis for this function is pretty easy: we just have one loop, and each iteration of that loop takes a constant amount of time. The loop runs for `n = len(s)` times. The runtime is always the same for a given `len(s)`, so there is no concern about worst-case runtime here.\n",
    "\n",
    "The function will take an amount of time that's proportional to `len(s)`. In other words, the worst-case runtime complexity of the function is $\\mathcal{O}(n)$ for `n = len(s)`."
   ]
  },
  {
   "cell_type": "markdown",
   "metadata": {},
   "source": [
    "Here is another version of `longest_run`. This time, the strategy is to, in sequence:\n",
    "\n",
    "Try to find a run of length `len(s)`, and return `len(s)` if the run is found. \n",
    "Try to find a run of length `len(s)-1`, and return `len(s)-1` if the run is found. \n",
    "Try to find a run of length `len(s)-2`, and return `len(s)-2` if the run is found. \n",
    "And so on.\n",
    "\n",
    "Because we start bu looking for a run of the maximal length (rather than length 0), this works. A short version of the code that's hard to analyze is:"
   ]
  },
  {
   "cell_type": "code",
   "execution_count": 2,
   "metadata": {
    "collapsed": true
   },
   "outputs": [],
   "source": [
    "def longest_run2(s, ch):\n",
    "    for longest in range(len(s), -1, -1): \n",
    "        if ch*longest in s:\n",
    "            return longest\n",
    "    \n",
    "    return 0 #Optional, 0 will be returned anyway since '' is in any string"
   ]
  },
  {
   "cell_type": "markdown",
   "metadata": {},
   "source": [
    "Here is an easier-to-analyze version:"
   ]
  },
  {
   "cell_type": "code",
   "execution_count": 3,
   "metadata": {
    "collapsed": true
   },
   "outputs": [],
   "source": [
    "def longest_run2(s, ch):\n",
    "    for longest in range(len(s), -1, -1): \n",
    "        cur_run = 0\n",
    "        for i in range(len(s)): \n",
    "            if s[i] == ch:\n",
    "                cur_run += 1\n",
    "            else:\n",
    "                cur_run = 0\n",
    "                \n",
    "            if cur_run == longest:\n",
    "                return longest\n",
    "    return 0"
   ]
  },
  {
   "cell_type": "markdown",
   "metadata": {},
   "source": [
    "It's not true that each iteration of the outer loop runs for a constant amount of time -- the time it takes to run one iteration of the outer loop depends on `len(s)`. Here, we also have different cases -- in the best case, we return almost right away; in the worst case, we don't return until we reach `return 0`.\n",
    "\n",
    "An iteration of the inner loop *does* take a constant amount of time. In the worst case, for every iteration of the outer loop, the inner loop runs `len(s)` times. The outer loop also runs `len(s)` times. That means that the block of code starting from `if s[i] == ch` will run for a total of `len(s)*len(s) = len(s)^2` times.\n",
    "\n",
    "That means that the worst-case runtime complexity of the function is $\\mathcal{O}(n^2)$, where `n = len(s)`. "
   ]
  }
 ],
 "metadata": {
  "kernelspec": {
   "display_name": "Python 3",
   "language": "python",
   "name": "python3"
  },
  "language_info": {
   "codemirror_mode": {
    "name": "ipython",
    "version": 3
   },
   "file_extension": ".py",
   "mimetype": "text/x-python",
   "name": "python",
   "nbconvert_exporter": "python",
   "pygments_lexer": "ipython3",
   "version": "3.4.3"
  }
 },
 "nbformat": 4,
 "nbformat_minor": 0
}
