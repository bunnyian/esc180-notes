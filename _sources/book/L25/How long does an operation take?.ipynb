{
 "cells": [
  {
   "cell_type": "markdown",
   "metadata": {},
   "source": [
    "# How long does an operation take `time.time()`"
   ]
  },
  {
   "cell_type": "markdown",
   "metadata": {},
   "source": [
    "Let's try to estimate how long an operation takes in Python. In order to do that, we will use Python's `time.time()` function. `time.time()` returns the number of seconds that have passed since midnight on January 1, 1970. Here is an example:"
   ]
  },
  {
   "cell_type": "code",
   "execution_count": 1,
   "metadata": {
    "collapsed": false
   },
   "outputs": [
    {
     "data": {
      "text/plain": [
       "1478927164.2931104"
      ]
     },
     "execution_count": 1,
     "metadata": {},
     "output_type": "execute_result"
    }
   ],
   "source": [
    "import time\n",
    "time.time()"
   ]
  },
  {
   "cell_type": "markdown",
   "metadata": {},
   "source": [
    "Here is another example:"
   ]
  },
  {
   "cell_type": "code",
   "execution_count": 2,
   "metadata": {
    "collapsed": false
   },
   "outputs": [
    {
     "data": {
      "text/plain": [
       "1478927164.3259952"
      ]
     },
     "execution_count": 2,
     "metadata": {},
     "output_type": "execute_result"
    }
   ],
   "source": [
    "time.time()"
   ]
  },
  {
   "cell_type": "markdown",
   "metadata": {},
   "source": [
    "At any point in time, `time.time()` will return the number of seconds elapsed, *at that point in time*, since January 1, 1970."
   ]
  },
  {
   "cell_type": "markdown",
   "metadata": {},
   "source": [
    "Let's use this in order to estimate how long an operation takes on the computer on which the document was generated:"
   ]
  },
  {
   "cell_type": "code",
   "execution_count": 3,
   "metadata": {
    "collapsed": false
   },
   "outputs": [
    {
     "name": "stdout",
     "output_type": "stream",
     "text": [
      "1.7249608039855957e-08\n"
     ]
    }
   ],
   "source": [
    "import random\n",
    "\n",
    "t0 = time.time()\n",
    "N = 1000000\n",
    "s = 0\n",
    "\n",
    "#Approximately 10 elementary operations\n",
    "#(Note: this is just an approximation)\n",
    "for i in range(N): \n",
    "    s += random.random()\n",
    "\n",
    "t1 = time.time()\n",
    "print((t1-t0)/(10*N))"
   ]
  },
  {
   "cell_type": "markdown",
   "metadata": {},
   "source": [
    "We repeated the same code block for `N = 1000000` times, and then divided the number of seconds elapsed by `10*N`, since we estimate that each iteration takes (approximately) 10 operations.\n",
    "\n",
    "Here is how we can verify that we are approximately right? Add some more code that we *know* consists of two more operations:"
   ]
  },
  {
   "cell_type": "code",
   "execution_count": 4,
   "metadata": {
    "collapsed": false
   },
   "outputs": [
    {
     "name": "stdout",
     "output_type": "stream",
     "text": [
      "2.496826648712158e-08\n"
     ]
    }
   ],
   "source": [
    "t0 = time.time()\n",
    "N = 1000000\n",
    "s = 0\n",
    "a = 0\n",
    "#Approximately 10 elementary operations\n",
    "#(Note: this is just an approximation)\n",
    "for i in range(N): \n",
    "    s += random.random()\n",
    "    a += s\n",
    "\n",
    "t1 = time.time()\n",
    "print((t1-t0)/(10*N))"
   ]
  },
  {
   "cell_type": "markdown",
   "metadata": {},
   "source": [
    "We would expect that 12 operations per iterations (as opposed to 10) would take `(12/10)*1.86e-08 = 2.23e-08` , so we weren't that far off."
   ]
  }
 ],
 "metadata": {
  "kernelspec": {
   "display_name": "Python 3",
   "language": "python",
   "name": "python3"
  },
  "language_info": {
   "codemirror_mode": {
    "name": "ipython",
    "version": 3
   },
   "file_extension": ".py",
   "mimetype": "text/x-python",
   "name": "python",
   "nbconvert_exporter": "python",
   "pygments_lexer": "ipython3",
   "version": "3.9.12"
  }
 },
 "nbformat": 4,
 "nbformat_minor": 0
}
