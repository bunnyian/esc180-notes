{
 "cells": [
  {
   "cell_type": "markdown",
   "metadata": {},
   "source": [
    "Let's define the functions again:"
   ]
  },
  {
   "cell_type": "code",
   "execution_count": 1,
   "metadata": {
    "collapsed": true
   },
   "outputs": [],
   "source": [
    "def longest_run1(s, c):\n",
    "    run = 0     \n",
    "    max_run = 0 \n",
    "    \n",
    "    if c == \"z\":\n",
    "        s += \"y\"\n",
    "    else:\n",
    "        s += \"z\"\n",
    "    \n",
    "    for ch in s:\n",
    "        if ch != c:\n",
    "            max_run = max(run, max_run)\n",
    "            run = 0\n",
    "        else:\n",
    "            run += 1\n",
    "    \n",
    "    return max_run\n",
    "    \n",
    "def longest_run2(s, ch):\n",
    "    for longest in range(len(s), -1, -1): \n",
    "        cur_run = 0\n",
    "        for i in range(len(s)): \n",
    "            if s[i] == ch:\n",
    "                cur_run += 1\n",
    "            else:\n",
    "                cur_run = 0\n",
    "                \n",
    "            if cur_run == longest:\n",
    "                return longest\n",
    "\n",
    "    \n",
    "    return 0\n"
   ]
  },
  {
   "cell_type": "markdown",
   "metadata": {},
   "source": [
    "Mostly for fun, let's make a function that returns a random string of `\"a\"`s and `\"b\"`s of a specified length."
   ]
  },
  {
   "cell_type": "code",
   "execution_count": 2,
   "metadata": {
    "collapsed": true
   },
   "outputs": [],
   "source": [
    "import random\n",
    "def get_seq_ab(length):\n",
    "    s = \"\"\n",
    "    for i in range(length):\n",
    "        if random.random() > .5:\n",
    "            s += \"a\"\n",
    "        else:\n",
    "            s += \"b\"\n",
    "    return s"
   ]
  },
  {
   "cell_type": "markdown",
   "metadata": {},
   "source": [
    "Here's an example:"
   ]
  },
  {
   "cell_type": "code",
   "execution_count": 3,
   "metadata": {
    "collapsed": false
   },
   "outputs": [
    {
     "data": {
      "text/plain": [
       "'aaaababaaabbaaabaabbaabbababbbabaaabbbbababaababaaaabbbbbbabaabbbbbbbabbababbbbababaabbabbabaabbbbba'"
      ]
     },
     "execution_count": 3,
     "metadata": {},
     "output_type": "execute_result"
    }
   ],
   "source": [
    "s = get_seq_ab(100)\n",
    "s"
   ]
  },
  {
   "cell_type": "markdown",
   "metadata": {},
   "source": [
    "We can now apply either of the version of `longest_run`:"
   ]
  },
  {
   "cell_type": "code",
   "execution_count": 4,
   "metadata": {
    "collapsed": false
   },
   "outputs": [
    {
     "data": {
      "text/plain": [
       "4"
      ]
     },
     "execution_count": 4,
     "metadata": {},
     "output_type": "execute_result"
    }
   ],
   "source": [
    "longest_run1(s, \"a\")"
   ]
  },
  {
   "cell_type": "code",
   "execution_count": 5,
   "metadata": {
    "collapsed": false
   },
   "outputs": [
    {
     "data": {
      "text/plain": [
       "4"
      ]
     },
     "execution_count": 5,
     "metadata": {},
     "output_type": "execute_result"
    }
   ],
   "source": [
    "longest_run2(s, \"a\")"
   ]
  },
  {
   "cell_type": "markdown",
   "metadata": {},
   "source": [
    "Let's now write a function to time how long a function like `longest_run()` takes:"
   ]
  },
  {
   "cell_type": "code",
   "execution_count": 6,
   "metadata": {
    "collapsed": true
   },
   "outputs": [],
   "source": [
    "import time\n",
    "def timeit(func, arg1, arg2):\n",
    "    '''Return the estimate of the runtime, in seconds, of func(arg1, arg2),\n",
    "    by running the command several times and averaging the results'''\n",
    "    N = 50\n",
    "    t0 = time.time()\n",
    "    for i in range(N):\n",
    "        func(arg1, arg2)\n",
    "    t1 = time.time()\n",
    "    return (t1-t0)/N\n",
    "        "
   ]
  },
  {
   "cell_type": "markdown",
   "metadata": {},
   "source": [
    "We'd like to try evaluating the runtimes of the following lengths of the string (note that those are not strictly speaking the *worst-case* runtimes, but they're pretty close, since the maximum runs are of length about 10, usually. If we wanted to be very rigorous about this, we'd just try to run the functions on `length*\"b\"`, `\"a\"`. (Of course, we'd have to be able to figure out that that *is* the worst case.)"
   ]
  },
  {
   "cell_type": "code",
   "execution_count": 7,
   "metadata": {
    "collapsed": false
   },
   "outputs": [
    {
     "data": {
      "text/plain": [
       "[300, 600, 900, 1200, 1500]"
      ]
     },
     "execution_count": 7,
     "metadata": {},
     "output_type": "execute_result"
    }
   ],
   "source": [
    "lengths = list(range(300, 1800, 300))\n",
    "lengths"
   ]
  },
  {
   "cell_type": "code",
   "execution_count": 8,
   "metadata": {
    "collapsed": false
   },
   "outputs": [],
   "source": [
    "times1 = []\n",
    "times2 = []\n",
    "for length in lengths:\n",
    "    s = get_seq_ab(length)\n",
    "    times1.append(timeit(longest_run1, s, \"a\"))\n",
    "    times2.append(timeit(longest_run2, s, \"a\"))"
   ]
  },
  {
   "cell_type": "code",
   "execution_count": 9,
   "metadata": {
    "collapsed": false
   },
   "outputs": [
    {
     "data": {
      "text/plain": [
       "[5.3715705871582034e-05,\n",
       " 8.241653442382813e-05,\n",
       " 0.00010281562805175781,\n",
       " 0.00014786243438720702,\n",
       " 0.00017293930053710938]"
      ]
     },
     "execution_count": 9,
     "metadata": {},
     "output_type": "execute_result"
    }
   ],
   "source": [
    "times1"
   ]
  },
  {
   "cell_type": "code",
   "execution_count": 10,
   "metadata": {
    "collapsed": false
   },
   "outputs": [
    {
     "data": {
      "text/plain": [
       "[0.008533296585083007,\n",
       " 0.031869001388549804,\n",
       " 0.07011312007904053,\n",
       " 0.12912667751312257,\n",
       " 0.20045154094696044]"
      ]
     },
     "execution_count": 10,
     "metadata": {},
     "output_type": "execute_result"
    }
   ],
   "source": [
    "times2"
   ]
  },
  {
   "cell_type": "markdown",
   "metadata": {},
   "source": [
    "Let's plot those results (instructions for making sure you can import `matplotlib.pyplot` are on the course website.)"
   ]
  },
  {
   "cell_type": "code",
   "execution_count": 11,
   "metadata": {
    "collapsed": false
   },
   "outputs": [
    {
     "data": {
      "text/plain": [
       "<matplotlib.text.Text at 0x7f011792fc50>"
      ]
     },
     "execution_count": 11,
     "metadata": {},
     "output_type": "execute_result"
    },
    {
     "data": {
      "image/png": "[encoded data removed]",
      "text/plain": [
       "<matplotlib.figure.Figure at 0x7f013c405e90>"
      ]
     },
     "metadata": {},
     "output_type": "display_data"
    }
   ],
   "source": [
    "import matplotlib.pyplot as plt\n",
    "plt.figure(1)\n",
    "plt.plot(lengths, times1)\n",
    "plt.xlabel(\"len(s)\")\n",
    "plt.ylabel(\"runtime (sec)\")\n",
    "plt.title(\"The $O(n)$ algorithm\")     "
   ]
  },
  {
   "cell_type": "code",
   "execution_count": 12,
   "metadata": {
    "collapsed": false
   },
   "outputs": [
    {
     "data": {
      "text/plain": [
       "<matplotlib.text.Text at 0x7f01177de6d0>"
      ]
     },
     "execution_count": 12,
     "metadata": {},
     "output_type": "execute_result"
    },
    {
     "data": {
      "image/png": "[encoded data removed]",
      "text/plain": [
       "<matplotlib.figure.Figure at 0x7f011789fa10>"
      ]
     },
     "metadata": {},
     "output_type": "display_data"
    }
   ],
   "source": [
    "plt.figure(2)\n",
    "plt.plot(lengths, times2)\n",
    "plt.xlabel(\"len(s)\")\n",
    "plt.ylabel(\"runtime (sec)\")\n",
    "plt.title(\"The $O(n^2)$ algorithm\")     "
   ]
  },
  {
   "cell_type": "markdown",
   "metadata": {
    "collapsed": true
   },
   "source": [
    "We *could* try to plot both curves on the same Figure, but it won't look good, because the scales are so different:"
   ]
  },
  {
   "cell_type": "code",
   "execution_count": 13,
   "metadata": {
    "collapsed": false
   },
   "outputs": [
    {
     "data": {
      "text/plain": [
       "<matplotlib.text.Text at 0x7f0117661050>"
      ]
     },
     "execution_count": 13,
     "metadata": {},
     "output_type": "execute_result"
    },
    {
     "data": {
      "image/png": "[encoded data removed]",
      "text/plain": [
       "<matplotlib.figure.Figure at 0x7f013c11f090>"
      ]
     },
     "metadata": {},
     "output_type": "display_data"
    }
   ],
   "source": [
    "plt.figure(3)\n",
    "plt.plot(lengths, times1)\n",
    "plt.plot(lengths, times2)\n",
    "plt.xlabel(\"len(s)\")\n",
    "plt.ylabel(\"runtime (sec)\")\n",
    "plt.title(\"The $O(n)$ algorithm and the $O(n^2)$ algorithm\")     "
   ]
  },
  {
   "cell_type": "markdown",
   "metadata": {},
   "source": [
    "We'd have to plot the lines on a log-scale to make things make more sense:"
   ]
  },
  {
   "cell_type": "code",
   "execution_count": 15,
   "metadata": {
    "collapsed": false
   },
   "outputs": [
    {
     "data": {
      "text/plain": [
       "<matplotlib.text.Text at 0x7f0117625a90>"
      ]
     },
     "execution_count": 15,
     "metadata": {},
     "output_type": "execute_result"
    },
    {
     "data": {
      "image/png": "[encoded data removed]",
      "text/plain": [
       "<matplotlib.figure.Figure at 0x7f013c11f990>"
      ]
     },
     "metadata": {},
     "output_type": "display_data"
    }
   ],
   "source": [
    "plt.figure(4)\n",
    "plt.plot(lengths, times1)\n",
    "plt.plot(lengths, times2)\n",
    "plt.xlabel(\"len(s)\")\n",
    "plt.ylabel(\"runtime (sec)\")\n",
    "plt.yscale(\"log\")\n",
    "plt.title(\"The $O(n)$ algorithm and $O(n^2)$ algorithm\")     "
   ]
  }
 ],
 "metadata": {
  "kernelspec": {
   "display_name": "Python 3",
   "language": "python",
   "name": "python3"
  },
  "language_info": {
   "codemirror_mode": {
    "name": "ipython",
    "version": 2
   },
   "file_extension": ".py",
   "mimetype": "text/x-python",
   "name": "python",
   "nbconvert_exporter": "python",
   "pygments_lexer": "ipython2",
   "version": "2.7.6"
  }
 },
 "nbformat": 4,
 "nbformat_minor": 0
}
