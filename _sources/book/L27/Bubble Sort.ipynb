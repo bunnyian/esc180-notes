{
 "cells": [
  {
   "cell_type": "markdown",
   "metadata": {},
   "source": [
    "# Bubble Sort"
   ]
  },
  {
   "cell_type": "markdown",
   "metadata": {},
   "source": [
    "Here is the simplified version of Bubble Sort, a very famous (but inefficient) sorting algorithm:"
   ]
  },
  {
   "cell_type": "code",
   "execution_count": 1,
   "metadata": {
    "collapsed": true
   },
   "outputs": [],
   "source": [
    "def bubble_sort(L):\n",
    "    for i in range(len(L)):\n",
    "        for j in range(len(L)-1):\n",
    "            if L[j] > L[j+1]:\n",
    "                L[j], L[j+1] = L[j+1], L[j]"
   ]
  },
  {
   "cell_type": "markdown",
   "metadata": {},
   "source": [
    "Let's try running this algorithm (adding output along the way)"
   ]
  },
  {
   "cell_type": "code",
   "execution_count": 2,
   "metadata": {
    "collapsed": false
   },
   "outputs": [
    {
     "name": "stdout",
     "output_type": "stream",
     "text": [
      "Swapped 3 and 5\n",
      "[3, 5, 2, 4, 1]\n",
      "Swapped 2 and 5\n",
      "[3, 2, 5, 4, 1]\n",
      "Swapped 4 and 5\n",
      "[3, 2, 4, 5, 1]\n",
      "Swapped 1 and 5\n",
      "[3, 2, 4, 1, 5]\n",
      "====================================\n",
      "Swapped 2 and 3\n",
      "[2, 3, 4, 1, 5]\n",
      "No need to swap 3 and 4\n",
      "[2, 3, 4, 1, 5]\n",
      "Swapped 1 and 4\n",
      "[2, 3, 1, 4, 5]\n",
      "No need to swap 4 and 5\n",
      "[2, 3, 1, 4, 5]\n",
      "====================================\n",
      "No need to swap 2 and 3\n",
      "[2, 3, 1, 4, 5]\n",
      "Swapped 1 and 3\n",
      "[2, 1, 3, 4, 5]\n",
      "No need to swap 3 and 4\n",
      "[2, 1, 3, 4, 5]\n",
      "No need to swap 4 and 5\n",
      "[2, 1, 3, 4, 5]\n",
      "====================================\n",
      "Swapped 1 and 2\n",
      "[1, 2, 3, 4, 5]\n",
      "No need to swap 2 and 3\n",
      "[1, 2, 3, 4, 5]\n",
      "No need to swap 3 and 4\n",
      "[1, 2, 3, 4, 5]\n",
      "No need to swap 4 and 5\n",
      "[1, 2, 3, 4, 5]\n",
      "====================================\n",
      "No need to swap 1 and 2\n",
      "[1, 2, 3, 4, 5]\n",
      "No need to swap 2 and 3\n",
      "[1, 2, 3, 4, 5]\n",
      "No need to swap 3 and 4\n",
      "[1, 2, 3, 4, 5]\n",
      "No need to swap 4 and 5\n",
      "[1, 2, 3, 4, 5]\n",
      "====================================\n"
     ]
    }
   ],
   "source": [
    "def bubble_sort(L):\n",
    "    for i in range(len(L)):\n",
    "        for j in range(len(L)-1):\n",
    "            if L[j] > L[j+1]:\n",
    "                L[j], L[j+1] = L[j+1], L[j]\n",
    "                print(\"Swapped\", L[j], \"and\", L[j+1])\n",
    "                print(L)\n",
    "            else:\n",
    "                print(\"No need to swap\", L[j], \"and\", L[j+1])\n",
    "                print(L)\n",
    "\n",
    "        print(\"====================================\")\n",
    "if __name__ == '__main__':\n",
    "    L = [5, 3, 2, 4, 1]\n",
    "    bubble_sort(L)"
   ]
  },
  {
   "cell_type": "markdown",
   "metadata": {},
   "source": [
    "What happens here in general? We go through the list in \"sweeps,\" and swap elements that are out of order. We repeat the \"sweeps.'\n",
    "\n",
    "The name Bubble Sort is due to the fact that numbers \"bubble up\" to the top of the list. In particular, notice how `5` will always end up at the end of the list after the first \"sweep.\"\n",
    "\n",
    "Once `5` starts being compared to other numbers, it \"bubbles up\" always, since it's the largerst number.\n",
    "\n",
    "Notice that after the second sweep, the second-largest element (here, `4`) will be at `L[-2]`, and after the third sweep, the third-largest element (here, `3`) will always be at `L[-3]`. This suggests that we don't have to run the inner loop for `n-1` times every time.\n",
    "\n",
    "Notice also that we can stop the algorithm once no changes are made during a sweep, since that means that no further changes will ever be made. (Because the list is sorted!)\n",
    "\n",
    "Here is the final version of Bubble Sort."
   ]
  },
  {
   "cell_type": "code",
   "execution_count": 3,
   "metadata": {
    "collapsed": true
   },
   "outputs": [],
   "source": [
    "def bubble_sort(L):\n",
    "    for i in range(len(L)):\n",
    "        #Set swapped to False. If nothing changes during a pass, we break.\n",
    "        #If that happens, the runtime is better than the worst-case runtime\n",
    "        #for a list of size n\n",
    "        swapped = False\n",
    "        \n",
    "        #in the worst case, we need n-1 passes\n",
    "        #The worst case happens when the smallest element is at L[-1], since\n",
    "        #the smallest element only shifts one position to the left with each pass\n",
    "        for j in range(len(L)-1-i):\n",
    "            if L[j] > L[j+1]:\n",
    "                L[j], L[j+1] = L[j+1], L[j]\n",
    "                swapped = True\n",
    "        if not swapped:\n",
    "            break"
   ]
  }
 ],
 "metadata": {
  "kernelspec": {
   "display_name": "Python 3",
   "language": "python",
   "name": "python3"
  },
  "language_info": {
   "codemirror_mode": {
    "name": "ipython",
    "version": 3
   },
   "file_extension": ".py",
   "mimetype": "text/x-python",
   "name": "python",
   "nbconvert_exporter": "python",
   "pygments_lexer": "ipython3",
   "version": "3.4.3"
  }
 },
 "nbformat": 4,
 "nbformat_minor": 0
}
