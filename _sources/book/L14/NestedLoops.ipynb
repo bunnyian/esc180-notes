{
 "cells": [
  {
   "cell_type": "markdown",
   "metadata": {},
   "source": [
    "### Nested loops\n",
    "\n",
    "Nested loops are loops within loops. We already saw them in the context of the Missing Number problem. Here is a simpler example."
   ]
  },
  {
   "cell_type": "code",
   "execution_count": 1,
   "metadata": {
    "collapsed": false
   },
   "outputs": [
    {
     "name": "stdout",
     "output_type": "stream",
     "text": [
      "0: i = 0, j = 0\n",
      "1: i = 0, j = 1\n",
      "2: i = 0, j = 2\n",
      "3: i = 1, j = 0\n",
      "4: i = 1, j = 1\n",
      "5: i = 1, j = 2\n",
      "6: i = 2, j = 0\n",
      "7: i = 2, j = 1\n",
      "8: i = 2, j = 2\n",
      "9: i = 3, j = 0\n",
      "10: i = 3, j = 1\n",
      "11: i = 3, j = 2\n",
      "12: i = 4, j = 0\n",
      "13: i = 4, j = 1\n",
      "14: i = 4, j = 2\n"
     ]
    }
   ],
   "source": [
    "counter = 0 #the number of times we printed output so far\n",
    "for i in range(5):      \n",
    "    for j in range(3):  \n",
    "        print(counter, ': i = ',  i, ', j = ', j, sep = \"\")\n",
    "        counter += 1"
   ]
  },
  {
   "cell_type": "markdown",
   "metadata": {},
   "source": [
    "`(sep=\"\")` removes the spaces between the different things that are printed."
   ]
  },
  {
   "cell_type": "markdown",
   "metadata": {},
   "source": [
    "Here is one way to understand what's going on here. The outer loop set `i` to 0, 1, 2, 3, 4. Then, for each of those `i`'s, the inner loop is run:\n",
    "    #i is fixed\n",
    "    for j in range(3):  \n",
    "        print(counter, ': i = ',  i, ', j = ', j, sep = \"\")\n",
    "        counter += 1\n",
    "            \n",
    "For example, for `i=2`, the loop that is running is, in effect,\n",
    "    for j in range(3):  \n",
    "        print(counter, ': i = ',  2, ', j = ', j, sep = \"\")\n",
    "        counter += 1\n",
    "\n",
    "So that the output (ignoring the couter) would be \n",
    "    i = 2, j = 0\n",
    "    i = 2, j = 1\n",
    "    i = 2, j = 2\n",
    "    \n",
    "This process is repeated for every `i`.\n",
    "\n",
    "In addition, every time we `print`, the variable `counter` is incremented by 1. That means that `counter` will go from 0, to 1, to 2, ... when we print.\n",
    "\n",
    "At the end, the value of counter is"
   ]
  },
  {
   "cell_type": "code",
   "execution_count": 2,
   "metadata": {
    "collapsed": false
   },
   "outputs": [
    {
     "data": {
      "text/plain": [
       "15"
      ]
     },
     "execution_count": 2,
     "metadata": {},
     "output_type": "execute_result"
    }
   ],
   "source": [
    "counter"
   ]
  },
  {
   "cell_type": "markdown",
   "metadata": {},
   "source": [
    "That's because we repeated `print` 3 times inside the inner loop, and we repeated the whole thing 5 times, so we printed output $15 = 5\\times 3$ times in total.\n",
    "\n",
    "### Unrolling the loop\n",
    "\n",
    "Here is another way to understand the loop. Here is some equivalent code:"
   ]
  },
  {
   "cell_type": "markdown",
   "metadata": {},
   "source": [
    "    i = 0        \n",
    "    for j in range(3):\n",
    "        print(counter, \": i = \", i, \", j = \", j, sep = \"\")\n",
    "        counter += 1\n",
    "\n",
    "    i = 1        \n",
    "    for j in range(3):\n",
    "        print(counter, \": i = \", i, \", j = \", j, sep = \"\")\n",
    "        counter += 1\n",
    "\n",
    "    i = 2\n",
    "    for j in range(3):\n",
    "        print(counter, \": i = \", i, \", j = \", j, sep = \"\")\n",
    "        counter += 1\n",
    "    #...."
   ]
  },
  {
   "cell_type": "markdown",
   "metadata": {},
   "source": [
    "### Converting a nested loop to a nested loop calling a helper function\n",
    "\n",
    "Like before, we can convert the nested loop to a simple loop that calls a helper function:"
   ]
  },
  {
   "cell_type": "code",
   "execution_count": 3,
   "metadata": {
    "collapsed": false
   },
   "outputs": [
    {
     "name": "stdout",
     "output_type": "stream",
     "text": [
      "1 : i =  0 , j =  0\n",
      "2 : i =  0 , j =  1\n",
      "3 : i =  0 , j =  2\n",
      "4 : i =  1 , j =  0\n",
      "5 : i =  1 , j =  1\n",
      "6 : i =  1 , j =  2\n",
      "7 : i =  2 , j =  0\n",
      "8 : i =  2 , j =  1\n",
      "9 : i =  2 , j =  2\n",
      "10 : i =  3 , j =  0\n",
      "11 : i =  3 , j =  1\n",
      "12 : i =  3 , j =  2\n",
      "13 : i =  4 , j =  0\n",
      "14 : i =  4 , j =  1\n",
      "15 : i =  4 , j =  2\n"
     ]
    }
   ],
   "source": [
    "def count_i(i, n_times):\n",
    "    global counter\n",
    "    for j in range(n_times):\n",
    "        counter += 1\n",
    "        print(counter,\": i = \", i, \", j = \", j)\n",
    "\n",
    "if __name__ == '__main__':\n",
    "    counter = 0\n",
    "    for i in range(5):\n",
    "        count_i(i, 3)"
   ]
  },
  {
   "cell_type": "markdown",
   "metadata": {},
   "source": [
    "The code is the same. The difference is that we made a helper function instead of having an inner loop. We used a global `counter` variable here. The alternative would be to pass `counter` as a parameter, and then return what the `counter` is at the end from `count_i`. Neither solution is ideal (global variables are to be avoided generally if possible, and passing counter back and forth is a little bit awkward). Really, a nested loop without a helper function is probably appropriate here."
   ]
  },
  {
   "cell_type": "markdown",
   "metadata": {},
   "source": [
    "### Printing all passwords\n",
    "\n",
    "Let's now print all words of length 2 that contain letters from `alphabet = [\"a\", \"b\", \"c\", \"d\", \"e\", \"f\"]` This is a somewhat similar task to what we did before: above, we are printing all two-digit combinations of the form \n",
    "    [digit between 0 and 4][digits between 0 and 2]\n",
    "\n",
    "Here is how we can print all passwords of length 2"
   ]
  },
  {
   "cell_type": "code",
   "execution_count": 4,
   "metadata": {
    "collapsed": false
   },
   "outputs": [
    {
     "name": "stdout",
     "output_type": "stream",
     "text": [
      "aa\n",
      "ab\n",
      "ac\n",
      "ad\n",
      "ae\n",
      "af\n",
      "ba\n",
      "bb\n",
      "bc\n",
      "bd\n",
      "be\n",
      "bf\n",
      "ca\n",
      "cb\n",
      "cc\n",
      "cd\n",
      "ce\n",
      "cf\n",
      "da\n",
      "db\n",
      "dc\n",
      "dd\n",
      "de\n",
      "df\n",
      "ea\n",
      "eb\n",
      "ec\n",
      "ed\n",
      "ee\n",
      "ef\n",
      "fa\n",
      "fb\n",
      "fc\n",
      "fd\n",
      "fe\n",
      "ff\n"
     ]
    }
   ],
   "source": [
    "alphabet = [\"a\", \"b\", \"c\", \"d\", \"e\", \"f\"]\n",
    "for letter1 in alphabet:\n",
    "    for letter2 in alphabet:\n",
    "        print(letter1 + letter2)"
   ]
  },
  {
   "cell_type": "markdown",
   "metadata": {},
   "source": [
    "The story is the same: we fix `letter1` to be, in turn, `\"a\"`, `\"b\"`, `\"c\"`, ..., and then go over all the possibility for `letter2`. \n",
    "\n",
    "So for example when `letter1` is `\"c\"`, the inner loop prints \n",
    "    ca\n",
    "    cb\n",
    "    cc\n",
    "    cd\n",
    "    ce\n",
    "    cf\n",
    "\n",
    "How about all possible words of length 3?"
   ]
  },
  {
   "cell_type": "code",
   "execution_count": 5,
   "metadata": {
    "collapsed": false
   },
   "outputs": [
    {
     "name": "stdout",
     "output_type": "stream",
     "text": [
      "aaa\n",
      "aab\n",
      "aac\n",
      "aad\n",
      "aba\n",
      "abb\n",
      "abc\n",
      "abd\n",
      "aca\n",
      "acb\n",
      "acc\n",
      "acd\n",
      "ada\n",
      "adb\n",
      "adc\n",
      "add\n",
      "baa\n",
      "bab\n",
      "bac\n",
      "bad\n",
      "bba\n",
      "bbb\n",
      "bbc\n",
      "bbd\n",
      "bca\n",
      "bcb\n",
      "bcc\n",
      "bcd\n",
      "bda\n",
      "bdb\n",
      "bdc\n",
      "bdd\n",
      "caa\n",
      "cab\n",
      "cac\n",
      "cad\n",
      "cba\n",
      "cbb\n",
      "cbc\n",
      "cbd\n",
      "cca\n",
      "ccb\n",
      "ccc\n",
      "ccd\n",
      "cda\n",
      "cdb\n",
      "cdc\n",
      "cdd\n",
      "daa\n",
      "dab\n",
      "dac\n",
      "dad\n",
      "dba\n",
      "dbb\n",
      "dbc\n",
      "dbd\n",
      "dca\n",
      "dcb\n",
      "dcc\n",
      "dcd\n",
      "dda\n",
      "ddb\n",
      "ddc\n",
      "ddd\n"
     ]
    }
   ],
   "source": [
    "alphabet = [\"a\", \"b\", \"c\", \"d\"]\n",
    "for letter1 in alphabet:\n",
    "    for letter2 in alphabet:\n",
    "        for letter3 in alphabet:\n",
    "            print(letter1 + letter2 + letter3)"
   ]
  },
  {
   "cell_type": "markdown",
   "metadata": {},
   "source": [
    "To understand how this works, again think from the bottom up.  In the innermost loop, `letter1+letter2` is fixed, and we go through all the possible `letter3`'s. For example, if `letter1+letter2` is `\"ca\"`, we print out\n",
    "\n",
    "    caa\n",
    "    cab\n",
    "    cac\n",
    "\n",
    "\n",
    "\n",
    "In the second-most inner loop, `letter1` is fixed, and we go through all the possible `letter2`'s, and for each `letter2` we go through all the possible `letter3`'s."
   ]
  }
 ],
 "metadata": {
  "kernelspec": {
   "display_name": "Python 3",
   "language": "python",
   "name": "python3"
  },
  "language_info": {
   "codemirror_mode": {
    "name": "ipython",
    "version": 3
   },
   "file_extension": ".py",
   "mimetype": "text/x-python",
   "name": "python",
   "nbconvert_exporter": "python",
   "pygments_lexer": "ipython3",
   "version": "3.4.3"
  }
 },
 "nbformat": 4,
 "nbformat_minor": 0
}
