{
 "cells": [
  {
   "cell_type": "code",
   "execution_count": 1,
   "metadata": {
    "collapsed": true
   },
   "outputs": [],
   "source": [
    "def is_prime(n):\n",
    "    '''Return True iff n is prime\n",
    "    Arguments:\n",
    "    n -- a  non-negative integer\n",
    "    '''\n",
    "    \n",
    "    #Take care of the special cases first\n",
    "    if n <= 1:\n",
    "        return False\n",
    "    \n",
    "    if n == 2:        #optional\n",
    "        return True\n",
    "    \n",
    "    \n",
    "    #Try to compute the remainder of the division of n by (i+2)\n",
    "    #for i = 0, 1, 2, ..., n-3\n",
    "    #If the remainder is 0, return straight away\n",
    "    for i in range(n-2):\n",
    "        if n % (2+i) == 0:  #n=121, i = 9: n % (9+2) == 0\n",
    "            return False\n",
    "    \n",
    "    #If we are here, that means that we never returned False, so we tried\n",
    "    #all the possible factors and it turned out that \n",
    "    return True\n",
    "\n"
   ]
  }
 ],
 "metadata": {
  "kernelspec": {
   "display_name": "Python 3",
   "language": "python",
   "name": "python3"
  },
  "language_info": {
   "codemirror_mode": {
    "name": "ipython",
    "version": 3
   },
   "file_extension": ".py",
   "mimetype": "text/x-python",
   "name": "python",
   "nbconvert_exporter": "python",
   "pygments_lexer": "ipython3",
   "version": "3.4.3"
  }
 },
 "nbformat": 4,
 "nbformat_minor": 0
}
