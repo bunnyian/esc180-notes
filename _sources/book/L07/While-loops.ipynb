{
 "cells": [
  {
   "cell_type": "markdown",
   "metadata": {},
   "source": [
    "### While loops\n",
    "\n",
    "Here is the syntax for while-loops:\n",
    "\n",
    "    while <cond>:\n",
    "         <block>\n",
    "         \n",
    "This means: repeat `<block>` while the condition `<cond>` is True. Stop repeating `<block>` once the condition `<cond>` becomes False.\n",
    "\n",
    "Let's write the function `my_log10(n)` which computes $log_{10} n$ (reminder: $log_{10} n$ is the number $k$ such that $10^k = n$. For example, $log_{10} 1000 = 3$ because $10^3 = 1000$."
   ]
  },
  {
   "cell_type": "code",
   "execution_count": 1,
   "metadata": {
    "collapsed": true
   },
   "outputs": [],
   "source": [
    "def my_log10(n):\n",
    "    res = 1\n",
    "    i = 0  #a counter for the number of times the while-loop runs\n",
    "    while res < n:\n",
    "       res = res * 10\n",
    "       i = i + 1\n",
    "    \n",
    "    return i"
   ]
  },
  {
   "cell_type": "markdown",
   "metadata": {},
   "source": [
    "Here is the idea: res is multiplied by 10 every time we enter the while loop, and the loop terminates when i is no longer smaller than n. The counter variable `i` is incremented by 1 every iteration, so when the loop has terminated, counter contains the number iterations required to make i larger than 2 if we double i at every iteration.\n",
    "\n",
    "Note: one execution of the block is called an \"iteration.\""
   ]
  }
 ],
 "metadata": {
  "kernelspec": {
   "display_name": "Python 3",
   "language": "python",
   "name": "python3"
  },
  "language_info": {
   "codemirror_mode": {
    "name": "ipython",
    "version": 3
   },
   "file_extension": ".py",
   "mimetype": "text/x-python",
   "name": "python",
   "nbconvert_exporter": "python",
   "pygments_lexer": "ipython3",
   "version": "3.4.3"
  }
 },
 "nbformat": 4,
 "nbformat_minor": 0
}
