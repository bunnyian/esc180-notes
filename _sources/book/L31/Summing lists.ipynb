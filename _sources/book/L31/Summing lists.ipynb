{
 "cells": [
  {
   "cell_type": "markdown",
   "metadata": {},
   "source": [
    "# Recursive Summing Lists"
   ]
  },
  {
   "cell_type": "markdown",
   "metadata": {},
   "source": [
    "Let's now write functions to sum lists recursively. Here is the first option:"
   ]
  },
  {
   "cell_type": "code",
   "execution_count": 1,
   "metadata": {
    "collapsed": true
   },
   "outputs": [],
   "source": [
    "def sum_list(L):\n",
    "    '''Return the sum of the list of ints L'''\n",
    "    if len(L) == 0:\n",
    "        return 0\n",
    "    \n",
    "    return L[0] + sum_list(L[1:])"
   ]
  },
  {
   "cell_type": "markdown",
   "metadata": {},
   "source": [
    "The idea here is very similar to printing the list `L` -- we assume the function works, define a base case, and proceed by computing the sum by adding `L[0]` and the sum of the rest of the list (`L[1:]`).\n",
    "\n",
    "Here's another idea: let's sum up the first half of the list and the second half of the list:"
   ]
  },
  {
   "cell_type": "code",
   "execution_count": 2,
   "metadata": {
    "collapsed": true
   },
   "outputs": [],
   "source": [
    "def sum_list2(L):\n",
    "    '''Return the sum of the list of ints L'''\n",
    "    if len(L) == 0:\n",
    "        return 0\n",
    "    \n",
    "    if len(L) == 1:\n",
    "        return L[0]  #the sum of the list is L[0] if L[0] is the only element\n",
    "    \n",
    "    mid = len(L)//2 #(the index of the approximate midpoint of the list)\n",
    "    return sum_list2(L[:mid]) + sum_list2(L[mid:])"
   ]
  },
  {
   "cell_type": "markdown",
   "metadata": {},
   "source": [
    "In `sum_list2`, we had to have two base cases. That's because of what happens when the length of the list is 1. We' would have computed `mid = 1//2 == 0`, which would mean that the first \"half\" of the list would be `L[:0]` (i.e., `[]`), and the second \"half\" of the list would be `L[0:]`, i.e., just a copy of `L`. That would result in infinite recursion if we didn't return right away when we see that the length of the list is `1`."
   ]
  }
 ],
 "metadata": {
  "kernelspec": {
   "display_name": "Python 3",
   "language": "python",
   "name": "python3"
  },
  "language_info": {
   "codemirror_mode": {
    "name": "ipython",
    "version": 3
   },
   "file_extension": ".py",
   "mimetype": "text/x-python",
   "name": "python",
   "nbconvert_exporter": "python",
   "pygments_lexer": "ipython3",
   "version": "3.4.3"
  }
 },
 "nbformat": 4,
 "nbformat_minor": 0
}
