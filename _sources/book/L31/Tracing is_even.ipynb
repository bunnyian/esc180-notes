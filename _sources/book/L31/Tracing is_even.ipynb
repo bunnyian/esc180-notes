{
 "cells": [
  {
   "cell_type": "markdown",
   "metadata": {},
   "source": [
    "Here is `is_even()` again:"
   ]
  },
  {
   "cell_type": "code",
   "execution_count": 1,
   "metadata": {
    "collapsed": true
   },
   "outputs": [],
   "source": [
    "def is_even(n):\n",
    "    if n == 0:\n",
    "        return True\n",
    "    return not is_even(n-1)"
   ]
  },
  {
   "cell_type": "markdown",
   "metadata": {},
   "source": [
    "Let's trace `is_even(5)`:\n",
    "\n",
    "\n",
    "              0\n",
    "             /|\n",
    "         True |\n",
    "            \\ 1\n",
    "            / |\n",
    "       False\\ |\n",
    "              2\n",
    "             /|\n",
    "         True |\n",
    "            \\ 3\n",
    "             /|\n",
    "        False | \n",
    "            \\ 4\n",
    "        True /|\n",
    "            \\ |\n",
    "              5\n",
    "              |\n",
    "            False  \n",
    "            \n",
    "\n",
    "Consider a call to `is_even(2)`. To evaluate it, we need to call `is_even(1)`, and then return the opposite of what that returns. `is_even(1)` returns `not is_even(0)`, which is `False`. So `is_even(2)` return `not False`, i.e., it returns `True`."
   ]
  }
 ],
 "metadata": {
  "kernelspec": {
   "display_name": "Python 3",
   "language": "python",
   "name": "python3"
  },
  "language_info": {
   "codemirror_mode": {
    "name": "ipython",
    "version": 3
   },
   "file_extension": ".py",
   "mimetype": "text/x-python",
   "name": "python",
   "nbconvert_exporter": "python",
   "pygments_lexer": "ipython3",
   "version": "3.4.3"
  }
 },
 "nbformat": 4,
 "nbformat_minor": 0
}
