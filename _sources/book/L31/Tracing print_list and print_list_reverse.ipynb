{
 "cells": [
  {
   "cell_type": "markdown",
   "metadata": {},
   "source": [
    "Here is `print_list()` again:"
   ]
  },
  {
   "cell_type": "code",
   "execution_count": 1,
   "metadata": {
    "collapsed": true
   },
   "outputs": [],
   "source": [
    "def print_list(L):\n",
    "    '''Print the list L element-by-element, one element per line'''\n",
    "    \n",
    "    #Base case: do nothing for lists of length 0\n",
    "    if len(L) == 0:\n",
    "        return \n",
    "    \n",
    "    print(L[0])\n",
    "    print_list(L[1:])"
   ]
  },
  {
   "cell_type": "markdown",
   "metadata": {},
   "source": [
    "Here is the call tree for `print_list([1, 2, 3, 4])`:\n",
    "\n",
    "        [ ]         (prints nothing -- returns straight away)\n",
    "         |\n",
    "        [4]         (prints 4)\n",
    "         | \n",
    "       [3,4]        (prints 3)\n",
    "         |\n",
    "      [2, 3, 4]     (prints 2)\n",
    "         |\n",
    "    [1, 2, 3, 4]    (prints 1)\n",
    "    \n",
    "    \n",
    "Note the order in which things happen: when the call `print_list([2, 3, 4])` happens, first we print `2`, and then we make the call `print_list([3, 4])`.\n",
    "\n",
    "Let's contrast this with `print_list_reverse()`:"
   ]
  },
  {
   "cell_type": "code",
   "execution_count": 2,
   "metadata": {
    "collapsed": true
   },
   "outputs": [],
   "source": [
    "def print_reverse_list(L):\n",
    "    '''Pritn the list L element-by-element in reverse, one element per line'''\n",
    "    \n",
    "    if len(L) == 0:\n",
    "        return\n",
    "    \n",
    "    print_reverse_list(L[1:])\n",
    "    print(L[0])"
   ]
  },
  {
   "cell_type": "markdown",
   "metadata": {},
   "source": [
    "The call tree looks identical to what's above, except the *order* in which things happen differs. For example, when the call to `print_list_reverse([2, 3, 4])` happens, first a call to `print_list_reverse([3, 4])` happens (resulting in `4` and `3` being printed), and *then* `2` is printed."
   ]
  }
 ],
 "metadata": {
  "kernelspec": {
   "display_name": "Python 3",
   "language": "python",
   "name": "python3"
  },
  "language_info": {
   "codemirror_mode": {
    "name": "ipython",
    "version": 3
   },
   "file_extension": ".py",
   "mimetype": "text/x-python",
   "name": "python",
   "nbconvert_exporter": "python",
   "pygments_lexer": "ipython3",
   "version": "3.4.3"
  }
 },
 "nbformat": 4,
 "nbformat_minor": 0
}
