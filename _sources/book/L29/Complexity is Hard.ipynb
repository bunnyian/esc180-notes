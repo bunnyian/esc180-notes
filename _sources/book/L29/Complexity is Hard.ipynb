{
 "cells": [
  {
   "cell_type": "markdown",
   "metadata": {},
   "source": [
    "Fermat's Last Theorem states that for integers $p > 2$, there are are no natural numbers $a, b, c$ such that\n",
    "\n",
    "$$a^p + b^p = c^p.$$\n",
    "\n",
    "Note that, for example, for $p=2$, there are such $a, b, c$ (e.g., $3^2+4^2=5^2.$\n",
    "\n",
    "Let's write a program that tries to find `a`, `b`, and `c`, such that $a^p + b^p = c^p.$ The strategy is as follows: first, we'll try all possible `a`, `b`, and `c` in the range 1..1. Then we'll try all possible `a`, `b`, and `c` in the range 1..2. Then we'll try all possible `a`, `b`, and `c` in the range 1..3, and so on. If we find a solution at any point, we return."
   ]
  },
  {
   "cell_type": "code",
   "execution_count": 1,
   "metadata": {
    "collapsed": true
   },
   "outputs": [],
   "source": [
    "def fermat(p):\n",
    "    n = 1\n",
    "    while True:\n",
    "        for i in range(1, n):\n",
    "            for j in range(1, n):\n",
    "                for k in range(1, n):\n",
    "                    if i**p + j**p == k**p:\n",
    "                        return i, j, k\n",
    "        n += 1"
   ]
  },
  {
   "cell_type": "markdown",
   "metadata": {},
   "source": [
    "We can call `fermat(2)` to make sure that this works:"
   ]
  },
  {
   "cell_type": "code",
   "execution_count": 2,
   "metadata": {
    "collapsed": false
   },
   "outputs": [
    {
     "data": {
      "text/plain": [
       "(3, 4, 5)"
      ]
     },
     "execution_count": 2,
     "metadata": {},
     "output_type": "execute_result"
    }
   ],
   "source": [
    "fermat(2)"
   ]
  },
  {
   "cell_type": "markdown",
   "metadata": {},
   "source": [
    "According to Fermat's Last Theorem, `fermat(p)` will never return for `p > 2`. (So that we could claim that the complexity is infinity.) However, this is not at all obvious a priori (it took hundreds of years to figure out!)"
   ]
  }
 ],
 "metadata": {
  "kernelspec": {
   "display_name": "Python 3",
   "language": "python",
   "name": "python3"
  },
  "language_info": {
   "codemirror_mode": {
    "name": "ipython",
    "version": 3
   },
   "file_extension": ".py",
   "mimetype": "text/x-python",
   "name": "python",
   "nbconvert_exporter": "python",
   "pygments_lexer": "ipython3",
   "version": "3.4.3"
  }
 },
 "nbformat": 4,
 "nbformat_minor": 0
}
