{
 "cells": [
  {
   "cell_type": "markdown",
   "metadata": {},
   "source": [
    "Suppose that we want to print a list element-by-element, one element per line. How to do that without loops?\n",
    "\n",
    "Here's an idea. To print the list `L`, we need to first print `L[0]`, and then print the rest of the list `L[1:]`. Let's implement this:"
   ]
  },
  {
   "cell_type": "code",
   "execution_count": 1,
   "metadata": {
    "collapsed": true
   },
   "outputs": [],
   "source": [
    "def print_list(L):\n",
    "    '''Print the list L element-by-element, one element per line'''\n",
    "    \n",
    "    #Base case: do nothing for lists of length 0\n",
    "    if len(L) == 0:\n",
    "        return \n",
    "    \n",
    "    print(L[0])\n",
    "    print_list(L[1:])"
   ]
  },
  {
   "cell_type": "markdown",
   "metadata": {},
   "source": [
    "Here is another way to think about this function: if we *assume* that `print_list` works as advertized in its docstring, then we can use it recursively. We print `L[0]`, and then take a *leap of faith* by calling `print_list(L[1:])` on the shorter list. If the base case is set up correctly, this will work."
   ]
  },
  {
   "cell_type": "markdown",
   "metadata": {},
   "source": [
    "#### Printing the list in reverse\n",
    "\n",
    "Here is an idea for how to print a list in reverse: first, print `L[1:]` in reverse, and then print the first element of `L`, `L[0]`. This works: let's look at an example.\n",
    "\n",
    "Suppose  `L = [1, 2, 3, 4]`.\n",
    "\n",
    "Then the reversed version of `L[1:]` is `[4, 3, 2]`, so that the reversed `L[1:]` with `1` at the end will in fact be the reversed `L`. This suggests that we can write `print_reversed_list()` with very minimal modifications to `print_list`:"
   ]
  },
  {
   "cell_type": "code",
   "execution_count": 2,
   "metadata": {
    "collapsed": true
   },
   "outputs": [],
   "source": [
    "def print_reverse_list(L):\n",
    "    '''Pritn the list L element-by-element in reverse, one element per line'''\n",
    "    \n",
    "    if len(L) == 0:\n",
    "        return\n",
    "    \n",
    "    print_reverse_list(L[1:])\n",
    "    print(L[0])"
   ]
  },
  {
   "cell_type": "markdown",
   "metadata": {},
   "source": [
    "Let's try both functions:"
   ]
  },
  {
   "cell_type": "code",
   "execution_count": 3,
   "metadata": {
    "collapsed": false
   },
   "outputs": [
    {
     "name": "stdout",
     "output_type": "stream",
     "text": [
      "1\n",
      "2\n",
      "3\n",
      "4\n"
     ]
    }
   ],
   "source": [
    "print_list([1, 2, 3, 4])"
   ]
  },
  {
   "cell_type": "code",
   "execution_count": 4,
   "metadata": {
    "collapsed": false
   },
   "outputs": [
    {
     "name": "stdout",
     "output_type": "stream",
     "text": [
      "4\n",
      "3\n",
      "2\n",
      "1\n"
     ]
    }
   ],
   "source": [
    "print_reverse_list([1, 2, 3, 4])"
   ]
  }
 ],
 "metadata": {
  "kernelspec": {
   "display_name": "Python 3",
   "language": "python",
   "name": "python3"
  },
  "language_info": {
   "codemirror_mode": {
    "name": "ipython",
    "version": 3
   },
   "file_extension": ".py",
   "mimetype": "text/x-python",
   "name": "python",
   "nbconvert_exporter": "python",
   "pygments_lexer": "ipython3",
   "version": "3.4.3"
  }
 },
 "nbformat": 4,
 "nbformat_minor": 0
}
