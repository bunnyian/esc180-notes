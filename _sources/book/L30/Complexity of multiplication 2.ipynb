{
 "cells": [
  {
   "cell_type": "markdown",
   "metadata": {},
   "source": [
    "### Complexity of long multiplication\n",
    "\n",
    "Again, let's take a look at long multiplication. Suppose we are multiplying two numbers, each of which has $n$ digits.\n",
    "\n",
    "\n",
    "         123\n",
    "         521\n",
    "        ====\n",
    "         123\n",
    "        246        \n",
    "       615\n",
    "       ======\n",
    "       64083 \n",
    "\n",
    "As you can see, we multiply each digit with each other digit, for a total of $n^2$ multiplications of two digits together (multiplying two digits together is a constant-time operation.)\n",
    "\n",
    "Each product is then added onto a sum once (when computing the sum $64,083$). That means that in total, we perform approximately $n^2$ additions.\n",
    "\n",
    "So in total, we perform $\\mathcal{O}(n^2)$ operations. "
   ]
  }
 ],
 "metadata": {
  "kernelspec": {
   "display_name": "Python 3",
   "language": "python",
   "name": "python3"
  },
  "language_info": {
   "codemirror_mode": {
    "name": "ipython",
    "version": 3
   },
   "file_extension": ".py",
   "mimetype": "text/x-python",
   "name": "python",
   "nbconvert_exporter": "python",
   "pygments_lexer": "ipython3",
   "version": "3.4.3"
  }
 },
 "nbformat": 4,
 "nbformat_minor": 0
}
