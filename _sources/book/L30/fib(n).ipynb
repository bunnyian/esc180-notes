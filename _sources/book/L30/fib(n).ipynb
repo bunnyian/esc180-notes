{
 "cells": [
  {
   "cell_type": "markdown",
   "metadata": {},
   "source": [
    "# Fibonacci Sequence `fib(n)`"
   ]
  },
  {
   "cell_type": "markdown",
   "metadata": {},
   "source": [
    "Now, let's write a function to compute the n-th Fibonacci number. Fibonacci numbers are defined as follows:\n",
    "\n",
    "    fib(1) =                   1\n",
    "    fib(2) =                   1\n",
    "    fib(3) = fib(2) + fib(1) = 2\n",
    "    fib(4) = fib(3) + fib(2) = 3\n",
    "    fib(5) = fib(4) + fib(3) = 5\n",
    "    fib(6) = fib(5) + fib(4) = 8\n",
    "    ...\n",
    "    ...\n",
    "    fib(n) = fib(n-1)+fib(n-2)\n",
    "    "
   ]
  },
  {
   "cell_type": "code",
   "execution_count": 1,
   "metadata": {
    "collapsed": true
   },
   "outputs": [],
   "source": [
    "def fib(n):\n",
    "    if n <= 2:\n",
    "        return 1\n",
    "    return fib(n-1) + fib(n-2)"
   ]
  },
  {
   "cell_type": "markdown",
   "metadata": {},
   "source": [
    "Note that the base case here is different from the on in `fact(n)`. If the base case had been\n",
    "\n",
    "    if n == 1:\n",
    "      return 1\n",
    "      \n",
    "we'd have a problem computing `fib(2)`, since we'd be trying to compute `fib(0)`, and then `fib(-1)` and `fib(-2)`, and so on.\n",
    "\n",
    "Here is the call tree for `fib(n)`:"
   ]
  },
  {
   "cell_type": "markdown",
   "metadata": {},
   "source": [
    "\n",
    "    Calls:    \n",
    "     1                                                       levels\n",
    "       \\                           \n",
    "      ...       ...             1                              7\n",
    "        ...    ...            ...                              6\n",
    "         n-2  n-3    n-3    n-4                                5\n",
    "            \\/        \\/                                       4\n",
    "            n-1   _  n-2                                       3\n",
    "              \\ /                                              2\n",
    "               n                                               1\n",
    "    "
   ]
  }
 ],
 "metadata": {
  "kernelspec": {
   "display_name": "Python 3",
   "language": "python",
   "name": "python3"
  },
  "language_info": {
   "codemirror_mode": {
    "name": "ipython",
    "version": 3
   },
   "file_extension": ".py",
   "mimetype": "text/x-python",
   "name": "python",
   "nbconvert_exporter": "python",
   "pygments_lexer": "ipython3",
   "version": "3.4.3"
  }
 },
 "nbformat": 4,
 "nbformat_minor": 0
}
