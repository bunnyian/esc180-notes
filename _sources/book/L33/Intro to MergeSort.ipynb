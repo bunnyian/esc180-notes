{
 "cells": [
  {
   "cell_type": "code",
   "execution_count": 1,
   "metadata": {
    "collapsed": true
   },
   "outputs": [],
   "source": [
    "def merge(L1, L2):\n",
    "    '''Return a list that contains the elements of lis1 and lis2 and is sorted\n",
    "    Precondition: lis1 and lis2 are sorted\n",
    "    \n",
    "    '''\n",
    "    i, j = 0, 0\n",
    "    #L1[:i] was already processed\n",
    "    #L2[:j] was already processed\n",
    "    merged = []\n",
    "    \n",
    "    while i < len(L1) and j < len(L2):\n",
    "        if L1[i] < L2[j]:\n",
    "            merged.append(L1[i])\n",
    "            i += 1\n",
    "        else:\n",
    "            merged.append(L2[j])\n",
    "            j += 1\n",
    "    \n",
    "    #Only one of L1[i:] and L2[j:] is non-empty, so we can just append\n",
    "    #them both in arbitrary order\n",
    "    merged.extend(lis1[i:])\n",
    "    merged.extend(lis2[j:])\n",
    "    \n",
    "    return merged\n",
    "    \n",
    "\n",
    "def merge_sort(L):\n",
    "    '''Return a sorted version of lis\n",
    "    \n",
    "    '''\n",
    "    #base case\n",
    "    if len(L) <= 1:  \n",
    "        return L[:] #return a copy of L\n",
    "                      #need to return a copy in case the user wants to modify\n",
    "                      #the original lis and also modify the copy; so they \n",
    "                      #need to be kept separated\n",
    "    \n",
    "    #Sort the first half, sort the second half, and then merge the two halves!\n",
    "    mid = len(lis)//2\n",
    "    return merge(merge_sort(lis[:mid]), merge_sort(lis[mid:]))"
   ]
  }
 ],
 "metadata": {
  "kernelspec": {
   "display_name": "Python 3",
   "language": "python",
   "name": "python3"
  },
  "language_info": {
   "codemirror_mode": {
    "name": "ipython",
    "version": 3
   },
   "file_extension": ".py",
   "mimetype": "text/x-python",
   "name": "python",
   "nbconvert_exporter": "python",
   "pygments_lexer": "ipython3",
   "version": "3.4.3"
  }
 },
 "nbformat": 4,
 "nbformat_minor": 0
}
